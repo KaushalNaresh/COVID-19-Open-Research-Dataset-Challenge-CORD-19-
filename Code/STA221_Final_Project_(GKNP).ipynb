{
  "cells": [
    {
      "cell_type": "markdown",
      "source": [
        "## STA 221 FINAL PROJECT\n",
        "#### Team Members : Guneet Mummaneni, Kriti Kriti, Naresh Kumar Kaushal, Piyush Kulkarni"
      ],
      "metadata": {
        "id": "B4hdYHS5__F9"
      }
    },
    {
      "cell_type": "code",
      "source": [
        "from google.colab import drive\n",
        "drive.mount('/content/drive', force_remount=True)"
      ],
      "metadata": {
        "id": "P0i_Us1W1c9H",
        "colab": {
          "base_uri": "https://localhost:8080/"
        },
        "outputId": "4817162e-0bf9-4e1f-931d-48dccc7ce121"
      },
      "execution_count": null,
      "outputs": [
        {
          "output_type": "stream",
          "name": "stdout",
          "text": [
            "Mounted at /content/drive\n"
          ]
        }
      ]
    },
    {
      "cell_type": "markdown",
      "source": [
        "## Loading important Libraries"
      ],
      "metadata": {
        "id": "o35ySEAb0upN"
      }
    },
    {
      "cell_type": "code",
      "execution_count": null,
      "metadata": {
        "collapsed": true,
        "id": "V5LrBl8ms2hs",
        "colab": {
          "base_uri": "https://localhost:8080/"
        },
        "outputId": "c4bcf711-6f8d-48e5-c1b9-c9dc81899143"
      },
      "outputs": [
        {
          "output_type": "stream",
          "name": "stderr",
          "text": [
            "/usr/local/lib/python3.10/dist-packages/_distutils_hack/__init__.py:33: UserWarning: Setuptools is replacing distutils.\n",
            "  warnings.warn(\"Setuptools is replacing distutils.\")\n"
          ]
        },
        {
          "output_type": "stream",
          "name": "stdout",
          "text": [
            "Looking in indexes: https://pypi.org/simple, https://us-python.pkg.dev/colab-wheels/public/simple/\n",
            "Collecting langdetect\n",
            "  Downloading langdetect-1.0.9.tar.gz (981 kB)\n",
            "\u001b[2K     \u001b[90m━━━━━━━━━━━━━━━━━━━━━━━━━━━━━━━━━━━━━━\u001b[0m \u001b[32m981.5/981.5 kB\u001b[0m \u001b[31m57.4 MB/s\u001b[0m eta \u001b[36m0:00:00\u001b[0m\n",
            "\u001b[?25h  Preparing metadata (setup.py) ... \u001b[?25l\u001b[?25hdone\n",
            "Requirement already satisfied: six in /usr/local/lib/python3.10/dist-packages (from langdetect) (1.16.0)\n",
            "Building wheels for collected packages: langdetect\n",
            "  Building wheel for langdetect (setup.py) ... \u001b[?25l\u001b[?25hdone\n",
            "  Created wheel for langdetect: filename=langdetect-1.0.9-py3-none-any.whl size=993224 sha256=1f5b9445bb3652fa5337eb9fdfb043561cc365f16376a7586afa7c9731f00fc5\n",
            "  Stored in directory: /root/.cache/pip/wheels/95/03/7d/59ea870c70ce4e5a370638b5462a7711ab78fba2f655d05106\n",
            "Successfully built langdetect\n",
            "Installing collected packages: langdetect\n",
            "Successfully installed langdetect-1.0.9\n"
          ]
        },
        {
          "output_type": "stream",
          "name": "stderr",
          "text": [
            "[nltk_data] Downloading package stopwords to /root/nltk_data...\n",
            "[nltk_data]   Unzipping corpora/stopwords.zip.\n",
            "[nltk_data] Downloading package punkt to /root/nltk_data...\n",
            "[nltk_data]   Unzipping tokenizers/punkt.zip.\n",
            "[nltk_data] Downloading package wordnet to /root/nltk_data...\n"
          ]
        },
        {
          "output_type": "error",
          "ename": "NotImplementedError",
          "evalue": "ignored",
          "traceback": [
            "\u001b[0;31m---------------------------------------------------------------------------\u001b[0m",
            "\u001b[0;31mNotImplementedError\u001b[0m                       Traceback (most recent call last)",
            "\u001b[0;32m<ipython-input-2-4398b0c92749>\u001b[0m in \u001b[0;36m<cell line: 28>\u001b[0;34m()\u001b[0m\n\u001b[1;32m     26\u001b[0m \u001b[0;32mfrom\u001b[0m \u001b[0mgensim\u001b[0m\u001b[0;34m.\u001b[0m\u001b[0mmodels\u001b[0m\u001b[0;34m.\u001b[0m\u001b[0mldamulticore\u001b[0m \u001b[0;32mimport\u001b[0m \u001b[0mLdaMulticore\u001b[0m\u001b[0;34m\u001b[0m\u001b[0;34m\u001b[0m\u001b[0m\n\u001b[1;32m     27\u001b[0m \u001b[0;32mfrom\u001b[0m \u001b[0mscipy\u001b[0m\u001b[0;34m.\u001b[0m\u001b[0mspatial\u001b[0m \u001b[0;32mimport\u001b[0m \u001b[0mdistance\u001b[0m\u001b[0;34m\u001b[0m\u001b[0;34m\u001b[0m\u001b[0m\n\u001b[0;32m---> 28\u001b[0;31m \u001b[0mget_ipython\u001b[0m\u001b[0;34m(\u001b[0m\u001b[0;34m)\u001b[0m\u001b[0;34m.\u001b[0m\u001b[0msystem\u001b[0m\u001b[0;34m(\u001b[0m\u001b[0;34m' pip install pyLDAvis'\u001b[0m\u001b[0;34m)\u001b[0m\u001b[0;34m\u001b[0m\u001b[0;34m\u001b[0m\u001b[0m\n\u001b[0m\u001b[1;32m     29\u001b[0m \u001b[0;32mimport\u001b[0m \u001b[0mpyLDAvis\u001b[0m\u001b[0;34m\u001b[0m\u001b[0;34m\u001b[0m\u001b[0m\n\u001b[1;32m     30\u001b[0m \u001b[0;32mimport\u001b[0m \u001b[0mpyLDAvis\u001b[0m\u001b[0;34m.\u001b[0m\u001b[0mgensim_models\u001b[0m\u001b[0;34m\u001b[0m\u001b[0;34m\u001b[0m\u001b[0m\n",
            "\u001b[0;32m/usr/local/lib/python3.10/dist-packages/google/colab/_shell.py\u001b[0m in \u001b[0;36msystem\u001b[0;34m(self, *args, **kwargs)\u001b[0m\n\u001b[1;32m     97\u001b[0m       \u001b[0mkwargs\u001b[0m\u001b[0;34m.\u001b[0m\u001b[0mupdate\u001b[0m\u001b[0;34m(\u001b[0m\u001b[0;34m{\u001b[0m\u001b[0;34m'also_return_output'\u001b[0m\u001b[0;34m:\u001b[0m \u001b[0;32mTrue\u001b[0m\u001b[0;34m}\u001b[0m\u001b[0;34m)\u001b[0m\u001b[0;34m\u001b[0m\u001b[0;34m\u001b[0m\u001b[0m\n\u001b[1;32m     98\u001b[0m \u001b[0;34m\u001b[0m\u001b[0m\n\u001b[0;32m---> 99\u001b[0;31m     \u001b[0moutput\u001b[0m \u001b[0;34m=\u001b[0m \u001b[0m_system_commands\u001b[0m\u001b[0;34m.\u001b[0m\u001b[0m_system_compat\u001b[0m\u001b[0;34m(\u001b[0m\u001b[0mself\u001b[0m\u001b[0;34m,\u001b[0m \u001b[0;34m*\u001b[0m\u001b[0margs\u001b[0m\u001b[0;34m,\u001b[0m \u001b[0;34m**\u001b[0m\u001b[0mkwargs\u001b[0m\u001b[0;34m)\u001b[0m  \u001b[0;31m# pylint:disable=protected-access\u001b[0m\u001b[0;34m\u001b[0m\u001b[0;34m\u001b[0m\u001b[0m\n\u001b[0m\u001b[1;32m    100\u001b[0m \u001b[0;34m\u001b[0m\u001b[0m\n\u001b[1;32m    101\u001b[0m     \u001b[0;32mif\u001b[0m \u001b[0mpip_warn\u001b[0m\u001b[0;34m:\u001b[0m\u001b[0;34m\u001b[0m\u001b[0;34m\u001b[0m\u001b[0m\n",
            "\u001b[0;32m/usr/local/lib/python3.10/dist-packages/google/colab/_system_commands.py\u001b[0m in \u001b[0;36m_system_compat\u001b[0;34m(shell, cmd, also_return_output)\u001b[0m\n\u001b[1;32m    451\u001b[0m   \u001b[0;31m# is expected to call this function, thus adding one level of nesting to the\u001b[0m\u001b[0;34m\u001b[0m\u001b[0;34m\u001b[0m\u001b[0m\n\u001b[1;32m    452\u001b[0m   \u001b[0;31m# stack.\u001b[0m\u001b[0;34m\u001b[0m\u001b[0;34m\u001b[0m\u001b[0m\n\u001b[0;32m--> 453\u001b[0;31m   result = _run_command(\n\u001b[0m\u001b[1;32m    454\u001b[0m       \u001b[0mshell\u001b[0m\u001b[0;34m.\u001b[0m\u001b[0mvar_expand\u001b[0m\u001b[0;34m(\u001b[0m\u001b[0mcmd\u001b[0m\u001b[0;34m,\u001b[0m \u001b[0mdepth\u001b[0m\u001b[0;34m=\u001b[0m\u001b[0;36m2\u001b[0m\u001b[0;34m)\u001b[0m\u001b[0;34m,\u001b[0m \u001b[0mclear_streamed_output\u001b[0m\u001b[0;34m=\u001b[0m\u001b[0;32mFalse\u001b[0m\u001b[0;34m\u001b[0m\u001b[0;34m\u001b[0m\u001b[0m\n\u001b[1;32m    455\u001b[0m   )\n",
            "\u001b[0;32m/usr/local/lib/python3.10/dist-packages/google/colab/_system_commands.py\u001b[0m in \u001b[0;36m_run_command\u001b[0;34m(cmd, clear_streamed_output)\u001b[0m\n\u001b[1;32m    165\u001b[0m   \u001b[0mlocale_encoding\u001b[0m \u001b[0;34m=\u001b[0m \u001b[0mlocale\u001b[0m\u001b[0;34m.\u001b[0m\u001b[0mgetpreferredencoding\u001b[0m\u001b[0;34m(\u001b[0m\u001b[0;34m)\u001b[0m\u001b[0;34m\u001b[0m\u001b[0;34m\u001b[0m\u001b[0m\n\u001b[1;32m    166\u001b[0m   \u001b[0;32mif\u001b[0m \u001b[0mlocale_encoding\u001b[0m \u001b[0;34m!=\u001b[0m \u001b[0m_ENCODING\u001b[0m\u001b[0;34m:\u001b[0m\u001b[0;34m\u001b[0m\u001b[0;34m\u001b[0m\u001b[0m\n\u001b[0;32m--> 167\u001b[0;31m     raise NotImplementedError(\n\u001b[0m\u001b[1;32m    168\u001b[0m         \u001b[0;34m'A UTF-8 locale is required. Got {}'\u001b[0m\u001b[0;34m.\u001b[0m\u001b[0mformat\u001b[0m\u001b[0;34m(\u001b[0m\u001b[0mlocale_encoding\u001b[0m\u001b[0;34m)\u001b[0m\u001b[0;34m\u001b[0m\u001b[0;34m\u001b[0m\u001b[0m\n\u001b[1;32m    169\u001b[0m     )\n",
            "\u001b[0;31mNotImplementedError\u001b[0m: A UTF-8 locale is required. Got ANSI_X3.4-1968"
          ]
        }
      ],
      "source": [
        "import warnings\n",
        "warnings.filterwarnings(\"ignore\", category=DeprecationWarning)\n",
        "import pip\n",
        "import glob\n",
        "from tqdm import tqdm\n",
        "import json\n",
        "import pandas as pd\n",
        "import re\n",
        "import string\n",
        "!pip install langdetect\n",
        "from langdetect import detect\n",
        "from spacy.lang.en.stop_words import STOP_WORDS\n",
        "from sklearn.feature_extraction.text import TfidfVectorizer\n",
        "from sklearn.neighbors import NearestNeighbors\n",
        "from nltk.corpus import stopwords\n",
        "import nltk\n",
        "nltk.download('stopwords')\n",
        "nltk.download('punkt')\n",
        "nltk.download('wordnet')\n",
        "from nltk import word_tokenize\n",
        "from nltk.stem import WordNetLemmatizer\n",
        "from nltk.stem import PorterStemmer\n",
        "from gensim.corpora import Dictionary\n",
        "from gensim.models import TfidfModel\n",
        "from gensim.models import LdaModel\n",
        "from gensim.models.ldamulticore import LdaMulticore\n",
        "from scipy.spatial import distance\n",
        "! pip install pyLDAvis\n",
        "import pyLDAvis\n",
        "import pyLDAvis.gensim_models\n",
        "from gensim import  models\n",
        "from gensim.test.utils import datapath\n",
        "from gensim.matutils import cossim\n",
        "from scipy.spatial import distance\n",
        "import numpy as np\n",
        "import pandas as pd\n",
        "from sklearn.cluster import KMeans\n",
        "from sklearn.metrics.pairwise import cosine_distances\n",
        "from gensim.models import KeyedVectors\n",
        "from gensim.scripts.glove2word2vec import glove2word2vec\n",
        "from gensim.models import KeyedVectors\n",
        "from sklearn.svm import SVC"
      ]
    },
    {
      "cell_type": "markdown",
      "source": [
        "## Pre-processing data"
      ],
      "metadata": {
        "id": "ZyExq2ty005f"
      }
    },
    {
      "cell_type": "code",
      "source": [
        "# df = pd.read_csv('/content/drive/MyDrive/covid_dataset.csv')\n",
        "import pandas as pd\n",
        "df = pd.read_json('/content/drive/MyDrive/STA221/covid_dataset.json', orient='records', lines=True)"
      ],
      "metadata": {
        "id": "9DAaUQ6e7RXD"
      },
      "execution_count": null,
      "outputs": []
    },
    {
      "cell_type": "code",
      "source": [
        "df.head()"
      ],
      "metadata": {
        "id": "gkvMtTUN7Tuc"
      },
      "execution_count": null,
      "outputs": []
    },
    {
      "cell_type": "code",
      "execution_count": null,
      "metadata": {
        "id": "PhnNPRNTtXkV"
      },
      "outputs": [],
      "source": [
        "def clean_dataset(df_data):\n",
        "\n",
        "    df_data['clean_body_text'] = df_data['body_text'].copy()\n",
        "\n",
        "    ## remove content in square brackets\n",
        "    df_data['clean_body_text'] = df_data['clean_body_text'].apply(lambda x : re.sub('\\[.*?\\]', '', x))\n",
        "    print(\"removed all the contents between []\")\n",
        "\n",
        "    ## remove content in rond brackets\n",
        "    df_data['clean_body_text'] = df_data['clean_body_text'].apply(lambda x : re.sub('\\(.*?\\)', '', x))\n",
        "    print(\"removed all the cotents between ()\")\n",
        "\n",
        "    ## remove all whitespaces\n",
        "    df_data['clean_body_text'] = df_data['clean_body_text'].apply(lambda x : re.sub('\\s+', ' ', x))\n",
        "    print(\"removed all whitespaces\")\n",
        "\n",
        "    ## remove all puntuations\n",
        "    df_data['clean_body_text'] = df_data['clean_body_text'].apply(lambda x : re.sub(f\"[{string.punctuation}]\", \"\", x))\n",
        "    print(\"removed all punctuations\")\n",
        "\n",
        "    ## remove all numbers\n",
        "    df_data['clean_body_text'] = df_data['clean_body_text'].apply(lambda x : re.sub(\"\\d+\", \"\", x))\n",
        "    print(\"removed all numbers\")\n",
        "\n",
        "    ## convert to lower case\n",
        "    df_data['clean_body_text'] = df_data['clean_body_text'].apply(lambda x : x.lower())\n",
        "    print(\"converted to lower case\")\n",
        "\n",
        "    df_data.drop_duplicates(['abstract', 'clean_body_text'], inplace=True)\n",
        "    df_data.dropna(inplace=True)\n",
        "    print(\"duplicates and rows with NA values removed\")\n",
        "\n",
        "    return df_data"
      ]
    },
    {
      "cell_type": "code",
      "source": [
        "df_dataset = df.copy()\n",
        "df_dataset_clean = clean_dataset(df_dataset)"
      ],
      "metadata": {
        "id": "G3BEHH9q07Ce"
      },
      "execution_count": null,
      "outputs": []
    },
    {
      "cell_type": "code",
      "source": [
        "def filter_english_documents(df_data, show_non_english=False):\n",
        "\n",
        "    non_english_docs_idxs = []\n",
        "\n",
        "    for i in tqdm(range(df_data.shape[0])):\n",
        "\n",
        "        if not detect(df_data.iloc[i]['clean_body_text']) == 'en':\n",
        "            non_english_docs_idxs.append(i)\n",
        "\n",
        "    if show_non_english:\n",
        "        print(\"NON ENGLISH DOCUMENTS................. \\n\\n\")\n",
        "        for i in non_english_docs_idxs[:5]:\n",
        "            print (df_data.iloc[i]['clean_body_text'][:250]+\"......\")\n",
        "            print(\"=\"*100)\n",
        "\n",
        "\n",
        "    df_data.drop(df_data.index[non_english_docs_idxs], inplace = True)\n",
        "    return df_data"
      ],
      "metadata": {
        "id": "lTt-95Yy07jb"
      },
      "execution_count": null,
      "outputs": []
    },
    {
      "cell_type": "code",
      "source": [
        "def remove_small_papers(df_data, show_small_papers=False):\n",
        "\n",
        "    small_paper_idxs = []\n",
        "    for i in tqdm(range(df_data.shape[0])):\n",
        "      if len(df_data.iloc[i]['clean_body_text']) < 500:\n",
        "        small_paper_idxs.append(i)\n",
        "\n",
        "    if show_small_papers:\n",
        "      print(\"SMALL PAPERS..................\\n\\n\")\n",
        "      count = 0\n",
        "\n",
        "      for i in small_paper_idxs:\n",
        "\n",
        "        count += 1\n",
        "        print (df_data.iloc[i]['clean_body_text'][:250]+\"......\")\n",
        "        print(\"=\"*100)\n",
        "\n",
        "        if count == 5:\n",
        "            break\n",
        "\n",
        "    df_data.drop(df_data.index[small_paper_idxs], inplace=True)\n",
        "    return df_data"
      ],
      "metadata": {
        "id": "OCYWXN6o09Wj"
      },
      "execution_count": null,
      "outputs": []
    },
    {
      "cell_type": "code",
      "execution_count": null,
      "metadata": {
        "id": "Xr-nC21fkQer"
      },
      "outputs": [],
      "source": [
        "def tokenize_text(text):\n",
        "    tokens = nltk.word_tokenize(text)\n",
        "    #remove stop words\n",
        "    tokens = list(filter(lambda x: x not in stop_words, tokens))\n",
        "    #lemmatize the words so that other forms of same word becomes a single word\n",
        "    tokens = list(map(lambda x: nltk.WordNetLemmatizer().lemmatize(x), tokens))\n",
        "    # remove tokens with length < 2\n",
        "    tokens = list(filter(lambda x: len(x) > 2, tokens))\n",
        "    return ' '.join(list(tokens))"
      ]
    },
    {
      "cell_type": "code",
      "source": [
        "df_dataset_without_small_papers = remove_small_papers(df_dataset_clean, True)\n",
        "df_dataset_eng = filter_english_documents(df_dataset_without_small_papers, True)\n",
        "df_data_final = df_dataset_eng.copy()\n",
        "df_data_final.head()"
      ],
      "metadata": {
        "id": "ttfowX2g0_Ym"
      },
      "execution_count": null,
      "outputs": []
    },
    {
      "cell_type": "code",
      "execution_count": null,
      "metadata": {
        "id": "GLTMJz1afXR7"
      },
      "outputs": [],
      "source": [
        "customize_stop_words = [\n",
        "    'doi', 'preprint', 'copyright', 'peer', 'reviewed', 'org', 'https', 'et', 'al', 'author', 'figure',\n",
        "    'rights', 'reserved', 'permission', 'biorxiv', 'medrxiv', 'license', 'fig', 'fig.', 'al.', 'elsevier', 'pmc', 'czi',\n",
        "    '-pron-'\n",
        "]\n",
        "stop_words = set(stopwords.words('english')).union(STOP_WORDS).union(set(customize_stop_words))"
      ]
    },
    {
      "cell_type": "code",
      "source": [
        "df_data_final[\"tokenized_text\"] = df_data_final[\"clean_body_text\"].apply(tokenize_text)\n",
        "df_data_final[\"tokens\"] = df_data_final[\"tokenized_text\"].apply(lambda x: x.split())"
      ],
      "metadata": {
        "id": "EtiNCEq81L_F"
      },
      "execution_count": null,
      "outputs": []
    },
    {
      "cell_type": "code",
      "source": [
        "# Save DataFrame as JSON\n",
        "df_data_final.to_json('clean_data.json', orient='records', lines=True)"
      ],
      "metadata": {
        "id": "rqDJIXl61U8b"
      },
      "execution_count": null,
      "outputs": []
    },
    {
      "cell_type": "code",
      "execution_count": null,
      "metadata": {
        "id": "W5TMcVtlXD4d"
      },
      "outputs": [],
      "source": [
        "df_data_final = pd.read_json('/content/drive/MyDrive/STA221/clean_data.json', orient='records', lines=True)"
      ]
    },
    {
      "cell_type": "code",
      "source": [
        "df_data_final.head()"
      ],
      "metadata": {
        "colab": {
          "base_uri": "https://localhost:8080/",
          "height": 688
        },
        "id": "LNEWNVvmxnqF",
        "outputId": "3ee14299-1e35-4331-c287-74b9daa09fe4"
      },
      "execution_count": null,
      "outputs": [
        {
          "output_type": "stream",
          "name": "stderr",
          "text": [
            "/usr/local/lib/python3.10/dist-packages/ipykernel/ipkernel.py:283: DeprecationWarning: `should_run_async` will not call `transform_cell` automatically in the future. Please pass the result to `transformed_cell` argument and any exception that happen during thetransform in `preprocessing_exc_tuple` in IPython 7.17 and above.\n",
            "  and should_run_async(code)\n"
          ]
        },
        {
          "output_type": "execute_result",
          "data": {
            "text/plain": [
              "                                   paper_id  \\\n",
              "0  8f97e16f3842e4bbd2d5d1c0c95ac1e31993ec68   \n",
              "1  8187ea360c53a56ca2c579d758a5d6aa67716836   \n",
              "2  a0d063dca746b135afe0451ce0b3bb1e06cf15ae   \n",
              "3  e0777fb5df224525ee1b06008582b084c1b6b13b   \n",
              "4  ee5af71875f2e77135974c75980ce22fff03e4f8   \n",
              "\n",
              "                                               title  \\\n",
              "0  An update on excess mortality in the second ye...   \n",
              "1                                                      \n",
              "2  Ethnic and regional variations in hospital mor...   \n",
              "3  Association between central blood pressure, ar...   \n",
              "4  What Is Critical About the Crisis of Expertise...   \n",
              "\n",
              "                                            abstract  \\\n",
              "0  In this short note, we apply the method of De ...   \n",
              "1                                                      \n",
              "2  Background Brazil ranks second worldwide in to...   \n",
              "3  The burden of hypertension in South Africa, as...   \n",
              "4                                                      \n",
              "\n",
              "                                           body_text  \\\n",
              "0  Expected deaths by year, represented by blue s...   \n",
              "1  Research Letter to the Editor:\\nWe are writing...   \n",
              "2  The COVID-19 pandemic has created an unprecede...   \n",
              "3  Raised blood pressure (BP) and hypertension ar...   \n",
              "4  Particularly in these pandemic times, appeals ...   \n",
              "\n",
              "                                             authors  \\\n",
              "0  Asta Wirtsch ,Sozialstat Arch ,Giacomo De Nico...   \n",
              "1                                                      \n",
              "2  Núcleo De Astrofísica E Cosmologia ,P Baqui ,V...   \n",
              "3  Feziwe Mpondo ,Ashleigh Craig ,Andrea Kolkenbe...   \n",
              "4                                    Riccardo Chesta   \n",
              "\n",
              "                                     clean_body_text  \\\n",
              "0  expected deaths by year represented by blue sq...   \n",
              "1  research letter to the editor we are writing t...   \n",
              "2  the covid pandemic has created an unprecedente...   \n",
              "3  raised blood pressure and hypertension are wel...   \n",
              "4  particularly in these pandemic times appeals t...   \n",
              "\n",
              "                                      tokenized_text  \\\n",
              "0  expected death year represented blue square pl...   \n",
              "1  research letter editor writing attention profo...   \n",
              "2  covid pandemic created unprecedented worldwide...   \n",
              "3  raised blood pressure hypertension wellknown m...   \n",
              "4  particularly pandemic time appeal state crisis...   \n",
              "\n",
              "                                              tokens  \n",
              "0  [expected, death, year, represented, blue, squ...  \n",
              "1  [research, letter, editor, writing, attention,...  \n",
              "2  [covid, pandemic, created, unprecedented, worl...  \n",
              "3  [raised, blood, pressure, hypertension, wellkn...  \n",
              "4  [particularly, pandemic, time, appeal, state, ...  "
            ],
            "text/html": [
              "\n",
              "  <div id=\"df-afc085bc-e980-4481-afe1-08b177a8d269\">\n",
              "    <div class=\"colab-df-container\">\n",
              "      <div>\n",
              "<style scoped>\n",
              "    .dataframe tbody tr th:only-of-type {\n",
              "        vertical-align: middle;\n",
              "    }\n",
              "\n",
              "    .dataframe tbody tr th {\n",
              "        vertical-align: top;\n",
              "    }\n",
              "\n",
              "    .dataframe thead th {\n",
              "        text-align: right;\n",
              "    }\n",
              "</style>\n",
              "<table border=\"1\" class=\"dataframe\">\n",
              "  <thead>\n",
              "    <tr style=\"text-align: right;\">\n",
              "      <th></th>\n",
              "      <th>paper_id</th>\n",
              "      <th>title</th>\n",
              "      <th>abstract</th>\n",
              "      <th>body_text</th>\n",
              "      <th>authors</th>\n",
              "      <th>clean_body_text</th>\n",
              "      <th>tokenized_text</th>\n",
              "      <th>tokens</th>\n",
              "    </tr>\n",
              "  </thead>\n",
              "  <tbody>\n",
              "    <tr>\n",
              "      <th>0</th>\n",
              "      <td>8f97e16f3842e4bbd2d5d1c0c95ac1e31993ec68</td>\n",
              "      <td>An update on excess mortality in the second ye...</td>\n",
              "      <td>In this short note, we apply the method of De ...</td>\n",
              "      <td>Expected deaths by year, represented by blue s...</td>\n",
              "      <td>Asta Wirtsch ,Sozialstat Arch ,Giacomo De Nico...</td>\n",
              "      <td>expected deaths by year represented by blue sq...</td>\n",
              "      <td>expected death year represented blue square pl...</td>\n",
              "      <td>[expected, death, year, represented, blue, squ...</td>\n",
              "    </tr>\n",
              "    <tr>\n",
              "      <th>1</th>\n",
              "      <td>8187ea360c53a56ca2c579d758a5d6aa67716836</td>\n",
              "      <td></td>\n",
              "      <td></td>\n",
              "      <td>Research Letter to the Editor:\\nWe are writing...</td>\n",
              "      <td></td>\n",
              "      <td>research letter to the editor we are writing t...</td>\n",
              "      <td>research letter editor writing attention profo...</td>\n",
              "      <td>[research, letter, editor, writing, attention,...</td>\n",
              "    </tr>\n",
              "    <tr>\n",
              "      <th>2</th>\n",
              "      <td>a0d063dca746b135afe0451ce0b3bb1e06cf15ae</td>\n",
              "      <td>Ethnic and regional variations in hospital mor...</td>\n",
              "      <td>Background Brazil ranks second worldwide in to...</td>\n",
              "      <td>The COVID-19 pandemic has created an unprecede...</td>\n",
              "      <td>Núcleo De Astrofísica E Cosmologia ,P Baqui ,V...</td>\n",
              "      <td>the covid pandemic has created an unprecedente...</td>\n",
              "      <td>covid pandemic created unprecedented worldwide...</td>\n",
              "      <td>[covid, pandemic, created, unprecedented, worl...</td>\n",
              "    </tr>\n",
              "    <tr>\n",
              "      <th>3</th>\n",
              "      <td>e0777fb5df224525ee1b06008582b084c1b6b13b</td>\n",
              "      <td>Association between central blood pressure, ar...</td>\n",
              "      <td>The burden of hypertension in South Africa, as...</td>\n",
              "      <td>Raised blood pressure (BP) and hypertension ar...</td>\n",
              "      <td>Feziwe Mpondo ,Ashleigh Craig ,Andrea Kolkenbe...</td>\n",
              "      <td>raised blood pressure and hypertension are wel...</td>\n",
              "      <td>raised blood pressure hypertension wellknown m...</td>\n",
              "      <td>[raised, blood, pressure, hypertension, wellkn...</td>\n",
              "    </tr>\n",
              "    <tr>\n",
              "      <th>4</th>\n",
              "      <td>ee5af71875f2e77135974c75980ce22fff03e4f8</td>\n",
              "      <td>What Is Critical About the Crisis of Expertise...</td>\n",
              "      <td></td>\n",
              "      <td>Particularly in these pandemic times, appeals ...</td>\n",
              "      <td>Riccardo Chesta</td>\n",
              "      <td>particularly in these pandemic times appeals t...</td>\n",
              "      <td>particularly pandemic time appeal state crisis...</td>\n",
              "      <td>[particularly, pandemic, time, appeal, state, ...</td>\n",
              "    </tr>\n",
              "  </tbody>\n",
              "</table>\n",
              "</div>\n",
              "      <button class=\"colab-df-convert\" onclick=\"convertToInteractive('df-afc085bc-e980-4481-afe1-08b177a8d269')\"\n",
              "              title=\"Convert this dataframe to an interactive table.\"\n",
              "              style=\"display:none;\">\n",
              "        \n",
              "  <svg xmlns=\"http://www.w3.org/2000/svg\" height=\"24px\"viewBox=\"0 0 24 24\"\n",
              "       width=\"24px\">\n",
              "    <path d=\"M0 0h24v24H0V0z\" fill=\"none\"/>\n",
              "    <path d=\"M18.56 5.44l.94 2.06.94-2.06 2.06-.94-2.06-.94-.94-2.06-.94 2.06-2.06.94zm-11 1L8.5 8.5l.94-2.06 2.06-.94-2.06-.94L8.5 2.5l-.94 2.06-2.06.94zm10 10l.94 2.06.94-2.06 2.06-.94-2.06-.94-.94-2.06-.94 2.06-2.06.94z\"/><path d=\"M17.41 7.96l-1.37-1.37c-.4-.4-.92-.59-1.43-.59-.52 0-1.04.2-1.43.59L10.3 9.45l-7.72 7.72c-.78.78-.78 2.05 0 2.83L4 21.41c.39.39.9.59 1.41.59.51 0 1.02-.2 1.41-.59l7.78-7.78 2.81-2.81c.8-.78.8-2.07 0-2.86zM5.41 20L4 18.59l7.72-7.72 1.47 1.35L5.41 20z\"/>\n",
              "  </svg>\n",
              "      </button>\n",
              "      \n",
              "  <style>\n",
              "    .colab-df-container {\n",
              "      display:flex;\n",
              "      flex-wrap:wrap;\n",
              "      gap: 12px;\n",
              "    }\n",
              "\n",
              "    .colab-df-convert {\n",
              "      background-color: #E8F0FE;\n",
              "      border: none;\n",
              "      border-radius: 50%;\n",
              "      cursor: pointer;\n",
              "      display: none;\n",
              "      fill: #1967D2;\n",
              "      height: 32px;\n",
              "      padding: 0 0 0 0;\n",
              "      width: 32px;\n",
              "    }\n",
              "\n",
              "    .colab-df-convert:hover {\n",
              "      background-color: #E2EBFA;\n",
              "      box-shadow: 0px 1px 2px rgba(60, 64, 67, 0.3), 0px 1px 3px 1px rgba(60, 64, 67, 0.15);\n",
              "      fill: #174EA6;\n",
              "    }\n",
              "\n",
              "    [theme=dark] .colab-df-convert {\n",
              "      background-color: #3B4455;\n",
              "      fill: #D2E3FC;\n",
              "    }\n",
              "\n",
              "    [theme=dark] .colab-df-convert:hover {\n",
              "      background-color: #434B5C;\n",
              "      box-shadow: 0px 1px 3px 1px rgba(0, 0, 0, 0.15);\n",
              "      filter: drop-shadow(0px 1px 2px rgba(0, 0, 0, 0.3));\n",
              "      fill: #FFFFFF;\n",
              "    }\n",
              "  </style>\n",
              "\n",
              "      <script>\n",
              "        const buttonEl =\n",
              "          document.querySelector('#df-afc085bc-e980-4481-afe1-08b177a8d269 button.colab-df-convert');\n",
              "        buttonEl.style.display =\n",
              "          google.colab.kernel.accessAllowed ? 'block' : 'none';\n",
              "\n",
              "        async function convertToInteractive(key) {\n",
              "          const element = document.querySelector('#df-afc085bc-e980-4481-afe1-08b177a8d269');\n",
              "          const dataTable =\n",
              "            await google.colab.kernel.invokeFunction('convertToInteractive',\n",
              "                                                     [key], {});\n",
              "          if (!dataTable) return;\n",
              "\n",
              "          const docLinkHtml = 'Like what you see? Visit the ' +\n",
              "            '<a target=\"_blank\" href=https://colab.research.google.com/notebooks/data_table.ipynb>data table notebook</a>'\n",
              "            + ' to learn more about interactive tables.';\n",
              "          element.innerHTML = '';\n",
              "          dataTable['output_type'] = 'display_data';\n",
              "          await google.colab.output.renderOutput(dataTable, element);\n",
              "          const docLink = document.createElement('div');\n",
              "          docLink.innerHTML = docLinkHtml;\n",
              "          element.appendChild(docLink);\n",
              "        }\n",
              "      </script>\n",
              "    </div>\n",
              "  </div>\n",
              "  "
            ]
          },
          "metadata": {},
          "execution_count": 3
        }
      ]
    },
    {
      "cell_type": "code",
      "source": [
        "# Convert GloVe format to Word2Vec format\n",
        "glove_file = '/content/drive/MyDrive/STA221/glove.6B.100d.txt'\n",
        "word2vec_file = '/content/drive/MyDrive/STA221/glove.6B.100d.word2vec'\n",
        "glove2word2vec(glove_file, word2vec_file)\n",
        "\n",
        "# Load GloVe word embeddings\n",
        "# This takes 2 minutes to run\n",
        "word_vectors = KeyedVectors.load_word2vec_format(word2vec_file)"
      ],
      "metadata": {
        "id": "UXZSPEeSJtx2"
      },
      "execution_count": null,
      "outputs": []
    },
    {
      "cell_type": "code",
      "source": [
        "def tokens_to_vectors(tokens):\n",
        "    vectors = []\n",
        "    for token in tokens:\n",
        "        if token in word_vectors.key_to_index:\n",
        "            vectors.append(word_vectors.get_vector(token))\n",
        "    if vectors:\n",
        "        return np.mean(vectors, axis=0)\n",
        "    else:\n",
        "        return np.zeros(word_vectors.vector_size)"
      ],
      "metadata": {
        "id": "4XOsfZl-JceV"
      },
      "execution_count": null,
      "outputs": []
    },
    {
      "cell_type": "markdown",
      "metadata": {
        "id": "hSnfv5BSp7xx"
      },
      "source": [
        "## Query Pre-processing"
      ]
    },
    {
      "cell_type": "code",
      "execution_count": null,
      "metadata": {
        "id": "qy_-wTXuqCxb"
      },
      "outputs": [],
      "source": [
        "def clean_query(query):\n",
        "\n",
        "    query = re.sub('\\[.*?\\]', '', query)\n",
        "    query = re.sub('\\(.*?\\)', '', query)\n",
        "    query = re.sub('\\s+', ' ', query)\n",
        "    query = re.sub(f\"[{string.punctuation}]\", \"\", query)\n",
        "    query = query.lower()\n",
        "\n",
        "    return query"
      ]
    },
    {
      "cell_type": "code",
      "source": [
        "Queries = {\n",
        "'query_prompt' : ['What is known about transmission, incubation, and environmental stability?',\n",
        "'What do we know about COVID-19 risk factors?',\n",
        "'What do we know about virus genetics, origin, and evolution?',\n",
        "'What do we know about non-pharmaceutical interventions?',\n",
        "'What do we know about vaccines and therapeutics?',\n",
        "'What has been published about ethical and social science considerations?',\n",
        "'What do we know about diagnostics and surveillance?',\n",
        "'What has been published about medical care?',\n",
        "'What has been published about information sharing and inter-sectoral collaboration?'],\n",
        "\n",
        "'query_description' : [\"Range of incubation periods for the disease in humans (and how this varies across age and health status) and how long individuals are contagious, even after recovery.\"+\n",
        "\"Prevalence of asymptomatic shedding and transmission (e.g., particularly children).\"+\n",
        "\"Seasonality of transmission.\"+\n",
        "\"Physical science of the coronavirus (e.g., charge distribution, adhesion to hydrophilic/phobic surfaces, environmental survival to inform decontamination efforts for affected areas and provide information about viral shedding).\"+\n",
        "\"Persistence and stability on a multitude of substrates and sources (e.g., nasal discharge, sputum, urine, fecal matter, blood).\"+\n",
        "\"Persistence of virus on surfaces of different materials (e,g., copper, stainless steel, plastic).\"+\n",
        "\"Natural history of the virus and shedding of it from an infected person\"+\n",
        "\"Implementation of diagnostics and products to improve clinical processes\"+\n",
        "\"Disease models, including animal models for infection, disease and transmission\"+\n",
        "\"Tools and studies to monitor phenotypic change and potential adaptation of the virus\"+\n",
        "\"Immune response and immunity\"+\n",
        "\"Effectiveness of movement control strategies to prevent secondary transmission in health care and community settings\"+\n",
        " \"Effectiveness of personal protective equipment (PPE) and its usefulness to reduce risk of transmission in health care and community settings\"+\n",
        "\"Role of the environment in transmission\",\n",
        "\n",
        "'Data on potential risks factors'+\n",
        "'Smoking, pre-existing pulmonary disease'+\n",
        "'Co-infections (determine whether co-existing respiratory/viral infections make the virus more transmissible or virulent) and other co-morbidities'+\n",
        "'Neonates and pregnant women'+\n",
        "'Socio-economic and behavioral factors to understand the economic impact of the virus and whether there were differences.'+\n",
        "'Transmission dynamics of the virus, including the basic reproductive number, incubation period, serial interval, modes of transmission and environmental factors'+\n",
        "'Severity of disease, including risk of fatality among symptomatic hospitalized patients, and high-risk patient groups'+\n",
        "'Susceptibility of populations'+\n",
        "'Public health mitigation measures that could be effective for control',\n",
        "\n",
        "'Real-time tracking of whole genomes and a mechanism for coordinating the rapid dissemination of that information to inform the development of diagnostics and therapeutics and to track variations of the virus over time.'+\n",
        "'Access to geographic and temporal diverse sample sets to understand geographic distribution and genomic differences, and determine whether there is more than one strain in circulation. Multi-lateral agreements such as the Nagoya Protocol could be leveraged.'+\n",
        "'Evidence that livestock could be infected (e.g., field surveillance, genetic sequencing, receptor binding) and serve as a reservoir after the epidemic appears to be over.'+\n",
        "'Evidence of whether farmers are infected, and whether farmers could have played a role in the origin.'+\n",
        "'Surveillance of mixed wildlife- livestock farms for SARS-CoV-2 and other coronaviruses in Southeast Asia.'+\n",
        "'Experimental infections to test host range for this pathogen.'+\n",
        "'Animal host(s) and any evidence of continued spill-over to humans'+\n",
        "'Socioeconomic and behavioral risk factors for this spill-over'+\n",
        "'Sustainable risk reduction strategies',\n",
        "\n",
        "\"Guidance on ways to scale up NPIs in a more coordinated way (e.g., establish funding, infrastructure and authorities to support real time, authoritative (qualified participants) collaboration with all states to gain consensus on consistent guidance and to mobilize resources to geographic areas where critical shortfalls are identified) to give us time to enhance our health care delivery system capacity to respond to an increase in cases.\"+\n",
        "\"Rapid design and execution of experiments to examine and compare NPIs currently being implemented. DHS Centers for Excellence could potentially be leveraged to conduct these experiments.\"+\n",
        "\"Rapid assessment of the likely efficacy of school closures, travel bans, bans on mass gatherings of various sizes, and other social distancing approaches.\"+\n",
        "\"Methods to control the spread in communities, barriers to compliance and how these vary among different populations..\"+\n",
        "\"Models of potential interventions to predict costs and benefits that take account of such factors as race, income, disability, age, geographic location, immigration status, housing status, employment status, and health insurance status.\"+\n",
        "\"Policy changes necessary to enable the compliance of individuals with limited resources and the underserved with NPIs.\"+\n",
        "\"Research on why people fail to comply with public health advice, even if they want to do so (e.g., social or financial costs may be too high).\"+\n",
        "\"Research on the economic impact of this or any pandemic. This would include identifying policy and programmatic alternatives that lessen/mitigate risks to critical government services, food distribution and supplies, access to critical household supplies, and access to health diagnoses, treatment, and needed care, regardless of ability to pay.\",\n",
        "\n",
        "\"Effectiveness of drugs being developed and tried to treat COVID-19 patients. Clinical and bench trials to investigate less common viral inhibitors against COVID-19 such as naproxen, clarithromycin, and minocyclinethat that may exert effects on viral replication.\"+\n",
        "\"Methods evaluating potential complication of Antibody-Dependent Enhancement (ADE) in vaccine recipients.\"+\n",
        "\"Exploration of use of best animal models and their predictive value for a human vaccine.\"+\n",
        "\"Capabilities to discover a therapeutic (not vaccine) for the disease, and clinical effectiveness studies to discover therapeutics, to include antiviral agents.\"+\n",
        "\"Alternative models to aid decision makers in determining how to prioritize and distribute scarce, newly proven therapeutics as production ramps up. This could include identifying approaches for expanding production capacity to ensure equitable and timely distribution to populations in need.\"+\n",
        "\"Efforts targeted at a universal coronavirus vaccine.\"+\n",
        "\"Efforts to develop animal models and standardize challenge studies\"+\n",
        "\"Efforts to develop prophylaxis clinical studies and prioritize in healthcare workers\"+\n",
        "\"Approaches to evaluate risk for enhanced disease after vaccination\"+\n",
        "\"Assays to evaluate vaccine immune response and process development for vaccines, alongside suitable animal models [in conjunction with therapeutics]\",\n",
        "\n",
        "\"Efforts to articulate and translate existing ethical principles and standards to salient issues in COVID-2019\"+\n",
        "\"Efforts to embed ethics across all thematic areas, engage with novel ethical issues that arise and coordinate to minimize duplication of oversight\"+\n",
        "\"Efforts to support sustained education, access, and capacity building in the area of ethics\"+\n",
        "\"Efforts to establish a team at WHO that will be integrated within multidisciplinary research and operational platforms and that will connect with existing and expanded global networks of social sciences.\"+\n",
        "\"Efforts to develop qualitative assessment frameworks to systematically collect information related to local barriers and enablers for the uptake and adherence to public health measures for prevention and control. This includes the rapid identification of the secondary impacts of these measures. (e.g. use of surgical masks, modification of health seeking behaviors for SRH, school closures)\"+\n",
        "\"Efforts to identify how the burden of responding to the outbreak and implementing public health measures affects the physical and psychological health of those providing care for Covid-19 patients and identify the immediate needs that must be addressed.\"+\n",
        "\"Efforts to identify the underlying drivers of fear, anxiety and stigma that fuel misinformation and rumor, particularly through social media.\",\n",
        "\n",
        "\"How widespread current exposure is to be able to make immediate policy recommendations on mitigation measures. Denominators for testing and a mechanism for rapidly sharing that information, including demographics, to the extent possible. Sampling methods to determine asymptomatic disease (e.g., use of serosurveys (such as convalescent samples) and early detection of disease (e.g., use of screening of neutralizing antibodies such as ELISAs).\"+\n",
        "\"Efforts to increase capacity on existing diagnostic platforms and tap into existing surveillance platforms.\"+\n",
        "\"Recruitment, support, and coordination of local expertise and capacity (public, private—commercial, and non-profit, including academic), including legal, ethical, communications, and operational issues.\"+\n",
        "\"National guidance and guidelines about best practices to states (e.g., how states might leverage universities and private laboratories for testing purposes, communications to public health officials and the public).\"+\n",
        "\"Development of a point-of-care test (like a rapid influenza test) and rapid bed-side tests, recognizing the tradeoffs between speed, accessibility, and accuracy.\"+\n",
        "\"Rapid design and execution of targeted surveillance experiments calling for all potential testers using PCR in a defined area to start testing and report to a specific entity. These experiments could aid in collecting longitudinal samples, which are critical to understanding the impact of ad hoc local interventions (which also need to be recorded).\"+\n",
        "\"Separation of assay development issues from instruments, and the role of the private sector to help quickly migrate assays onto those devices.\"+\n",
        "\"Efforts to track the evolution of the virus (i.e., genetic drift or mutations) and avoid locking into specific reagents and surveillance/detection schemes.\"+\n",
        "\"Latency issues and when there is sufficient viral load to detect the pathogen, and understanding of what is needed in terms of biological and environmental sampling.\"+\n",
        "\"Use of diagnostics such as host response markers (e.g., cytokines) to detect early disease or predict severe disease progression, which would be important to understanding best clinical practice and efficacy of therapeutic interventions.\"+\n",
        "\"Policies and protocols for screening and testing.\"+\n",
        "\"Policies to mitigate the effects on supplies associated with mass testing, including swabs and reagents.\"+\n",
        "\"Technology roadmap for diagnostics.\"+\n",
        "\"Barriers to developing and scaling up new diagnostic tests (e.g., market forces), how future coalition and accelerator models (e.g., Coalition for Epidemic Preparedness Innovations) could provide critical funding for diagnostics, and opportunities for a streamlined regulatory environment.\"+\n",
        "\"New platforms and technology (e.g., CRISPR) to improve response times and employ more holistic approaches to COVID-19 and future diseases.\"+\n",
        "\"Coupling genomics and diagnostic testing on a large scale.\"+\n",
        "\"Enhance capabilities for rapid sequencing and bioinformatics to target regions of the genome that will allow specificity for a particular variant.\"+\n",
        "\"Enhance capacity (people, technology, data) for sequencing with advanced analytics for unknown pathogens, and explore capabilities for distinguishing naturally-occurring pathogens from intentional.\"+\n",
        "\"One Health surveillance of humans and potential sources of future spillover or ongoing exposure for this organism and future pathogens, including both evolutionary hosts (e.g., bats) and transmission hosts (e.g., heavily trafficked and farmed wildlife and domestic food and companion species), inclusive of environmental, demographic, and occupational risk factors.\",\n",
        "\n",
        "\n",
        "\"Resources to support skilled nursing facilities and long term care facilities.\"+\n",
        "\"Mobilization of surge medical staff to address shortages in overwhelmed communities\"+\n",
        "\"Age-adjusted mortality data for Acute Respiratory Distress Syndrome (ARDS) with/without other organ failure - particularly for viral etiologies\"+\n",
        "\"Extracorporeal membrane oxygenation (ECMO) outcomes data of COVID-19 patients\"+\n",
        "\"Outcomes data for COVID-19 after mechanical ventilation adjusted for age.\"+\n",
        "\"Knowledge of the frequency, manifestations, and course of extrapulmonary manifestations of COVID-19, including, but not limited to, possible cardiomyopathy and cardiac arrest.\"+\n",
        "\"Application of regulatory standards (e.g., EUA, CLIA) and ability to adapt care to crisis standards of care level.\"+\n",
        "\"Approaches for encouraging and facilitating the production of elastomeric respirators, which can save thousands of N95 masks.\"+\n",
        "\"Best telemedicine practices, barriers and faciitators, and specific actions to remove/expand them within and across state boundaries.\"+\n",
        "\"Guidance on the simple things people can do at home to take care of sick people and manage disease.\"+\n",
        "\"Oral medications that might potentially work.\"+\n",
        "\"Use of AI in real-time health care delivery to evaluate interventions, risk factors, and outcomes in a way that could not be done manually.\"+\n",
        "\"Best practices and critical challenges and innovative solutions and technologies in hospital flow and organization, workforce protection, workforce allocation, community-based support resources, payment, and supply chain management to enhance capacity, efficiency, and outcomes.\"+\n",
        "\"Efforts to define the natural history of disease to inform clinical care, public health interventions, infection prevention control, transmission, and clinical trials\"+\n",
        "\"Efforts to develop a core clinical outcome set to maximize usability of data across a range of trials\"+\n",
        "\"Efforts to determine adjunctive and supportive interventions that can improve the clinical outcomes of infected patients (e.g. steroids, high flow oxygen)\",\n",
        "\n",
        "\"Methods for coordinating data-gathering with standardized nomenclature.\"+\n",
        "\"Sharing response information among planners, providers, and others.\"+\n",
        "\"Understanding and mitigating barriers to information-sharing.\"+\n",
        "\"How to recruit, support, and coordinate local (non-Federal) expertise and capacity relevant to public health emergency response (public, private, commercial and non-profit, including academic).\"+\n",
        "\"Integration of federal/state/local public health surveillance systems.\"+\n",
        "\"Value of investments in baseline public health response infrastructure preparedness\"+\n",
        "\"Modes of communicating with target high-risk populations (elderly, health care workers).\"+\n",
        "\"Risk communication and guidelines that are easy to understand and follow (include targeting at risk populations' families too).\"+\n",
        "\"Communication that indicates potential risk of disease to all population groups.\"+\n",
        "\"Misunderstanding around containment and mitigation.\"+\n",
        "\"Action plan to mitigate gaps and problems of inequity in the Nation's public health capability, capacity, and funding to ensure all citizens in need are supported and can access information, surveillance, and treatment.\"+\n",
        "\"Measures to reach marginalized and disadvantaged populations.\"+\n",
        "\"Data systems and research priorities and agendas incorporate attention to the needs and circumstances of disadvantaged populations and underrepresented minorities.\"+\n",
        "\"Mitigating threats to incarcerated people from COVID-19, assuring access to information, prevention, diagnosis, and treatment.\"+\n",
        "\"Understanding coverage policies (barriers and opportunities) related to testing, treatment, and care\"]\n",
        "\n",
        "}"
      ],
      "metadata": {
        "id": "daYMCI96Iois"
      },
      "execution_count": null,
      "outputs": []
    },
    {
      "cell_type": "code",
      "source": [
        "query_db = pd.DataFrame(Queries)\n",
        "query_db['clean_queries'] = query_db['query_description'].copy()\n",
        "query_db['clean_queries'] = query_db['clean_queries'].apply(clean_query)\n",
        "query_db['tokenized_query'] = query_db['clean_queries'].apply(tokenize_text)\n",
        "query_db['query_tokens'] = query_db['tokenized_query'].apply(lambda x: x.split())\n",
        "# query_db['vectors'] = query_db['tokenized_query'].apply(lambda x: tokens_to_vectors(x.split()))"
      ],
      "metadata": {
        "id": "ae888I5jN7IG"
      },
      "execution_count": null,
      "outputs": []
    },
    {
      "cell_type": "code",
      "source": [
        "query_db.head()"
      ],
      "metadata": {
        "colab": {
          "base_uri": "https://localhost:8080/",
          "height": 424
        },
        "id": "u5OrS2N-Okb_",
        "outputId": "c08b92bc-101a-4224-8efe-7bfb8726b931"
      },
      "execution_count": null,
      "outputs": [
        {
          "output_type": "execute_result",
          "data": {
            "text/plain": [
              "                                        query_prompt  \\\n",
              "0  What is known about transmission, incubation, ...   \n",
              "1       What do we know about COVID-19 risk factors?   \n",
              "2  What do we know about virus genetics, origin, ...   \n",
              "3  What do we know about non-pharmaceutical inter...   \n",
              "4   What do we know about vaccines and therapeutics?   \n",
              "\n",
              "                                   query_description  \\\n",
              "0  Range of incubation periods for the disease in...   \n",
              "1  Data on potential risks factorsSmoking, pre-ex...   \n",
              "2  Real-time tracking of whole genomes and a mech...   \n",
              "3  Guidance on ways to scale up NPIs in a more co...   \n",
              "4  Effectiveness of drugs being developed and tri...   \n",
              "\n",
              "                                       clean_queries  \\\n",
              "0  range of incubation periods for the disease in...   \n",
              "1  data on potential risks factorssmoking preexis...   \n",
              "2  realtime tracking of whole genomes and a mecha...   \n",
              "3  guidance on ways to scale up npis in a more co...   \n",
              "4  effectiveness of drugs being developed and tri...   \n",
              "\n",
              "                                     tokenized_query  \\\n",
              "0  range incubation period disease human long ind...   \n",
              "1  data potential risk factorssmoking preexisting...   \n",
              "2  realtime tracking genome mechanism coordinatin...   \n",
              "3  guidance way scale npis coordinated way collab...   \n",
              "4  effectiveness drug developed tried treat covid...   \n",
              "\n",
              "                                        query_tokens  \n",
              "0  [range, incubation, period, disease, human, lo...  \n",
              "1  [data, potential, risk, factorssmoking, preexi...  \n",
              "2  [realtime, tracking, genome, mechanism, coordi...  \n",
              "3  [guidance, way, scale, npis, coordinated, way,...  \n",
              "4  [effectiveness, drug, developed, tried, treat,...  "
            ],
            "text/html": [
              "\n",
              "  <div id=\"df-47af4e4c-a77b-479b-98a4-d2a940b6aedc\">\n",
              "    <div class=\"colab-df-container\">\n",
              "      <div>\n",
              "<style scoped>\n",
              "    .dataframe tbody tr th:only-of-type {\n",
              "        vertical-align: middle;\n",
              "    }\n",
              "\n",
              "    .dataframe tbody tr th {\n",
              "        vertical-align: top;\n",
              "    }\n",
              "\n",
              "    .dataframe thead th {\n",
              "        text-align: right;\n",
              "    }\n",
              "</style>\n",
              "<table border=\"1\" class=\"dataframe\">\n",
              "  <thead>\n",
              "    <tr style=\"text-align: right;\">\n",
              "      <th></th>\n",
              "      <th>query_prompt</th>\n",
              "      <th>query_description</th>\n",
              "      <th>clean_queries</th>\n",
              "      <th>tokenized_query</th>\n",
              "      <th>query_tokens</th>\n",
              "    </tr>\n",
              "  </thead>\n",
              "  <tbody>\n",
              "    <tr>\n",
              "      <th>0</th>\n",
              "      <td>What is known about transmission, incubation, ...</td>\n",
              "      <td>Range of incubation periods for the disease in...</td>\n",
              "      <td>range of incubation periods for the disease in...</td>\n",
              "      <td>range incubation period disease human long ind...</td>\n",
              "      <td>[range, incubation, period, disease, human, lo...</td>\n",
              "    </tr>\n",
              "    <tr>\n",
              "      <th>1</th>\n",
              "      <td>What do we know about COVID-19 risk factors?</td>\n",
              "      <td>Data on potential risks factorsSmoking, pre-ex...</td>\n",
              "      <td>data on potential risks factorssmoking preexis...</td>\n",
              "      <td>data potential risk factorssmoking preexisting...</td>\n",
              "      <td>[data, potential, risk, factorssmoking, preexi...</td>\n",
              "    </tr>\n",
              "    <tr>\n",
              "      <th>2</th>\n",
              "      <td>What do we know about virus genetics, origin, ...</td>\n",
              "      <td>Real-time tracking of whole genomes and a mech...</td>\n",
              "      <td>realtime tracking of whole genomes and a mecha...</td>\n",
              "      <td>realtime tracking genome mechanism coordinatin...</td>\n",
              "      <td>[realtime, tracking, genome, mechanism, coordi...</td>\n",
              "    </tr>\n",
              "    <tr>\n",
              "      <th>3</th>\n",
              "      <td>What do we know about non-pharmaceutical inter...</td>\n",
              "      <td>Guidance on ways to scale up NPIs in a more co...</td>\n",
              "      <td>guidance on ways to scale up npis in a more co...</td>\n",
              "      <td>guidance way scale npis coordinated way collab...</td>\n",
              "      <td>[guidance, way, scale, npis, coordinated, way,...</td>\n",
              "    </tr>\n",
              "    <tr>\n",
              "      <th>4</th>\n",
              "      <td>What do we know about vaccines and therapeutics?</td>\n",
              "      <td>Effectiveness of drugs being developed and tri...</td>\n",
              "      <td>effectiveness of drugs being developed and tri...</td>\n",
              "      <td>effectiveness drug developed tried treat covid...</td>\n",
              "      <td>[effectiveness, drug, developed, tried, treat,...</td>\n",
              "    </tr>\n",
              "  </tbody>\n",
              "</table>\n",
              "</div>\n",
              "      <button class=\"colab-df-convert\" onclick=\"convertToInteractive('df-47af4e4c-a77b-479b-98a4-d2a940b6aedc')\"\n",
              "              title=\"Convert this dataframe to an interactive table.\"\n",
              "              style=\"display:none;\">\n",
              "        \n",
              "  <svg xmlns=\"http://www.w3.org/2000/svg\" height=\"24px\"viewBox=\"0 0 24 24\"\n",
              "       width=\"24px\">\n",
              "    <path d=\"M0 0h24v24H0V0z\" fill=\"none\"/>\n",
              "    <path d=\"M18.56 5.44l.94 2.06.94-2.06 2.06-.94-2.06-.94-.94-2.06-.94 2.06-2.06.94zm-11 1L8.5 8.5l.94-2.06 2.06-.94-2.06-.94L8.5 2.5l-.94 2.06-2.06.94zm10 10l.94 2.06.94-2.06 2.06-.94-2.06-.94-.94-2.06-.94 2.06-2.06.94z\"/><path d=\"M17.41 7.96l-1.37-1.37c-.4-.4-.92-.59-1.43-.59-.52 0-1.04.2-1.43.59L10.3 9.45l-7.72 7.72c-.78.78-.78 2.05 0 2.83L4 21.41c.39.39.9.59 1.41.59.51 0 1.02-.2 1.41-.59l7.78-7.78 2.81-2.81c.8-.78.8-2.07 0-2.86zM5.41 20L4 18.59l7.72-7.72 1.47 1.35L5.41 20z\"/>\n",
              "  </svg>\n",
              "      </button>\n",
              "      \n",
              "  <style>\n",
              "    .colab-df-container {\n",
              "      display:flex;\n",
              "      flex-wrap:wrap;\n",
              "      gap: 12px;\n",
              "    }\n",
              "\n",
              "    .colab-df-convert {\n",
              "      background-color: #E8F0FE;\n",
              "      border: none;\n",
              "      border-radius: 50%;\n",
              "      cursor: pointer;\n",
              "      display: none;\n",
              "      fill: #1967D2;\n",
              "      height: 32px;\n",
              "      padding: 0 0 0 0;\n",
              "      width: 32px;\n",
              "    }\n",
              "\n",
              "    .colab-df-convert:hover {\n",
              "      background-color: #E2EBFA;\n",
              "      box-shadow: 0px 1px 2px rgba(60, 64, 67, 0.3), 0px 1px 3px 1px rgba(60, 64, 67, 0.15);\n",
              "      fill: #174EA6;\n",
              "    }\n",
              "\n",
              "    [theme=dark] .colab-df-convert {\n",
              "      background-color: #3B4455;\n",
              "      fill: #D2E3FC;\n",
              "    }\n",
              "\n",
              "    [theme=dark] .colab-df-convert:hover {\n",
              "      background-color: #434B5C;\n",
              "      box-shadow: 0px 1px 3px 1px rgba(0, 0, 0, 0.15);\n",
              "      filter: drop-shadow(0px 1px 2px rgba(0, 0, 0, 0.3));\n",
              "      fill: #FFFFFF;\n",
              "    }\n",
              "  </style>\n",
              "\n",
              "      <script>\n",
              "        const buttonEl =\n",
              "          document.querySelector('#df-47af4e4c-a77b-479b-98a4-d2a940b6aedc button.colab-df-convert');\n",
              "        buttonEl.style.display =\n",
              "          google.colab.kernel.accessAllowed ? 'block' : 'none';\n",
              "\n",
              "        async function convertToInteractive(key) {\n",
              "          const element = document.querySelector('#df-47af4e4c-a77b-479b-98a4-d2a940b6aedc');\n",
              "          const dataTable =\n",
              "            await google.colab.kernel.invokeFunction('convertToInteractive',\n",
              "                                                     [key], {});\n",
              "          if (!dataTable) return;\n",
              "\n",
              "          const docLinkHtml = 'Like what you see? Visit the ' +\n",
              "            '<a target=\"_blank\" href=https://colab.research.google.com/notebooks/data_table.ipynb>data table notebook</a>'\n",
              "            + ' to learn more about interactive tables.';\n",
              "          element.innerHTML = '';\n",
              "          dataTable['output_type'] = 'display_data';\n",
              "          await google.colab.output.renderOutput(dataTable, element);\n",
              "          const docLink = document.createElement('div');\n",
              "          docLink.innerHTML = docLinkHtml;\n",
              "          element.appendChild(docLink);\n",
              "        }\n",
              "      </script>\n",
              "    </div>\n",
              "  </div>\n",
              "  "
            ]
          },
          "metadata": {},
          "execution_count": 13
        }
      ]
    },
    {
      "cell_type": "code",
      "source": [
        "query_db.to_json('query_db.json', orient='records', lines=True)"
      ],
      "metadata": {
        "id": "Q4Dsc6OiQI3l"
      },
      "execution_count": null,
      "outputs": []
    },
    {
      "cell_type": "code",
      "source": [
        "query_db = pd.read_json('/content/drive/MyDrive/STA221/query_db.json', orient='records', lines=True)"
      ],
      "metadata": {
        "id": "2ub9pkRLSpZx"
      },
      "execution_count": null,
      "outputs": []
    },
    {
      "cell_type": "markdown",
      "metadata": {
        "id": "DdgVqq4jtybF"
      },
      "source": [
        "# MODELS"
      ]
    },
    {
      "cell_type": "markdown",
      "metadata": {
        "id": "fIDg9ECppSIb"
      },
      "source": [
        "## K-Nearest Neighbours (KNN)\n",
        "#### By Guneet Mummaneni"
      ]
    },
    {
      "cell_type": "code",
      "source": [
        "# Vectorize the text data\n",
        "vectorizer = TfidfVectorizer()\n",
        "X_data = vectorizer.fit_transform(df_data_final['tokenized_text'])"
      ],
      "metadata": {
        "id": "D2cL5si2uCGX"
      },
      "execution_count": null,
      "outputs": []
    },
    {
      "cell_type": "code",
      "source": [
        "# Train k-NN model on the data\n",
        "knn  = NearestNeighbors(n_neighbors=5, metric='cosine')\n",
        "knn.fit(X_data)"
      ],
      "metadata": {
        "id": "AT-e2c_8uaKh"
      },
      "execution_count": null,
      "outputs": []
    },
    {
      "cell_type": "code",
      "source": [
        "# Initialize an empty list to store average cosine scores\n",
        "avg_cosine_scores = []\n"
      ],
      "metadata": {
        "id": "EyMOlZgNudh2"
      },
      "execution_count": null,
      "outputs": []
    },
    {
      "cell_type": "code",
      "source": [
        "# Process each query\n",
        "for i, query in enumerate(query_db['tokenized_query']):\n",
        "    print(f\"Processing Query {i+1}...\\n\")\n",
        "\n",
        "    # Transform the query data\n",
        "    X_query = vectorizer.transform(pd.Series([query]))\n",
        "\n",
        "    # Find the 5 documents closest to the query\n",
        "    distances, indices = knn.kneighbors(X_query)\n",
        "\n",
        "    # Compute average cosine score for this query\n",
        "    avg_cosine_scores.append(np.mean(1 - distances)) # As we're using cosine metric in NearestNeighbors, distances are cosine distances. So, to convert it to similarity we subtract it from 1\n",
        "\n",
        "    # Print the top 5 closest documents for each query\n",
        "    for index, distance in zip(indices[0], distances[0]):\n",
        "        print(\"TITLE: \" + df_data_final[\"title\"].iloc[index])\n",
        "        print(\"BODY: \" + df_data_final[\"body_text\"].iloc[index][:500])\n",
        "        print(\"Similarity Score: \", 1 - distance) # Convert cosine distance to similarity\n",
        "        print(\"\\n\")\n"
      ],
      "metadata": {
        "colab": {
          "base_uri": "https://localhost:8080/"
        },
        "id": "jGlm7hCuvRiV",
        "outputId": "a8c44560-f0f7-47b2-85d6-a029ed203855"
      },
      "execution_count": null,
      "outputs": [
        {
          "output_type": "stream",
          "name": "stderr",
          "text": [
            "/usr/local/lib/python3.10/dist-packages/ipykernel/ipkernel.py:283: DeprecationWarning: `should_run_async` will not call `transform_cell` automatically in the future. Please pass the result to `transformed_cell` argument and any exception that happen during thetransform in `preprocessing_exc_tuple` in IPython 7.17 and above.\n",
            "  and should_run_async(code)\n"
          ]
        },
        {
          "output_type": "stream",
          "name": "stdout",
          "text": [
            "Processing Query 1...\n",
            "\n",
            "TITLE: The sudden appearance of SARS-CoV-2 1\n",
            "BODY: Numerous viral infections have risen in the last decades, causing severe diseases associated with lethality. Diseases have varied in epidemiology and morbidity although people with risk factors such as age, cardiovascular diseases, diabetes, and other chronic diseases have most commonly suffered more serious consequences. The world population is aging and so is the prevalence of noncommunicable diseases. Thus, the potential group of people, who are the most at risk of suffering major consequence\n",
            "Similarity Score:  0.2461321822326864\n",
            "\n",
            "\n",
            "TITLE: Understanding COVID-19 transmission, health impacts and mitigation: timely social distancing is the key Change point\n",
            "BODY: COVID-19 is caused by novel strain of virus SARS-CoV-2 emerged from China and now declared as pandemic due to its presence across the continents in more than 213 countries. Based on genetic analysis SARS-CoV-2 is grouped in a family Coronaviridae, genus Betacoronavirus and subgenus Sarbecovirus (Benvenuto et al. 2020; Lau et al. 2020; Lu et al. 2020) . Coronaviruses are known to infect series of animals, birds, rodents, reptiles and humans (Ji et al. 2020) . Similarly, SARS-CoV-2 is also zoonoti\n",
            "Similarity Score:  0.22466739287822113\n",
            "\n",
            "\n",
            "TITLE: Evolution of severe acute respiratory syndrome coronavirus 2 (SARS-CoV- 2) as coronavirus disease 2019 (COVID-19) pandemic: A Global Health Emergency\n",
            "BODY: The most recent outbreak of corona virus disease 2019 (currently known as , which can cause severe respiratory disease in humans, has been a potential threat to human health attracting worldwide attention after the 2003 severe acute respiratory syndrome (SARS) pandemic (WHO, 2004) , followed by the 2012 middle east respiratory syndrome (MERS) (WHO, 2013) .\n",
            "It was originated from the Wuhan city, the capital of China's Hubei province on December 29, 2019 (Huang et al., 2020a; Zhou et al., 2020b; .\n",
            "Similarity Score:  0.21942150502492042\n",
            "\n",
            "\n",
            "TITLE: To appear in: Public Health\n",
            "BODY: Symptomatic COVID-19 viral infections are a significant risk factor for transmission of disease within the general public. The major signs of COVID-19 infection include fever, dyspnoea, a dry cough and diarrhoea; these symptoms are reported to last up to 14 days, with a median incubation period of 9-12 days. Aerosol transmissions occur through sneezing or coughing and are reported to be the primary route of person-to-person infection 1 . However, simulation studies have also observed asymptomati\n",
            "Similarity Score:  0.21842798919406603\n",
            "\n",
            "\n",
            "TITLE: Exit strategies: optimising feasible surveillance for detection, elimination, and ongoing prevention of COVID-19 community transmission\n",
            "BODY: Currently, there is uncertainty on how best to identify all cases once weekly cumulative incidence is very low and to detect and manage any reintroduction of community transmission on an ongoing and sustainable basis. The World Health Organization (WHO), although recommending surveillance of influenza-like illness and severe respiratory illness, identifies these areas as a knowledge gap in the monitoring of COVID-19 community transmission [2] . This lack of evidence hampers effective disease man\n",
            "Similarity Score:  0.20176858103651085\n",
            "\n",
            "\n",
            "Processing Query 2...\n",
            "\n",
            "TITLE: Prediction of the incubation period for COVID-19 and future virus disease outbreaks\n",
            "BODY: The recent outbreak of the novel SARS-CoV-2 coronavirus and the resulting COVID-19 disease has led to an unprecedented worldwide emergency [1] . Per the World Health Organization (WHO) recommendations, numerous countries have taken severe preventive measures to combat and stem the spread of the virus. A key effective measure recommended by the WHO in viral outbreaks is enforcing a period of quarantine on individuals that are suspected to have come in contact with the causative agent until they a\n",
            "Similarity Score:  0.2683124709067348\n",
            "\n",
            "\n",
            "TITLE: Turkish Journal of Medical Sciences Pregnancy and COVID-19: prevention, vaccination, therapy, and beyond\n",
            "BODY: Coronavirus disease 2019 (COVID-19) caused by severe acute respiratory syndrome coronavirus 2 (SARS-CoV-2) has alarmed the world since its first emergence [1] . It significantly changed people's daily routines, forcing countries to make comprehensive regulations. Social isolation, strict hygiene control, remote working, lockdown, and comprehensive immunization programs are the main strategies to control the pandemic in this extraordinary period [2] . However, it has been more than a year since t\n",
            "Similarity Score:  0.21954293041352302\n",
            "\n",
            "\n",
            "TITLE: Articles Investigation of a COVID-19 outbreak in Germany resulting from a single travel-associated primary case: a case series\n",
            "BODY: On Dec 31, 2019, Chinese officials reported a cluster of cases of pneumonia in Wuhan, China. The newly discovered severe acute respiratory syndrome corona virus 2 (SARSCoV2) was identified to be respon sible for the ensuing outbreak. 1 As of May 13, 2020, more than 4·1 million confirmed cases of COVID19 have been reported with more than 280 000 attributable deaths worldwide. 2 As of March 1, 2020, WHO adhered to the strategic objective to \"interrupt humantohuman transmission including reducing s\n",
            "Similarity Score:  0.21190360448094137\n",
            "\n",
            "\n",
            "TITLE: Tropical Medicine and Infectious Disease Impact of the COVID-19 Pandemic on Tuberculosis Control: An Overview\n",
            "BODY: Tuberculosis (TB) is one of the oldest endemic diseases affecting humanity, but it remains a significant global public health problem today [1, 2] . It is estimated that a quarter of the world's population has latent TB infection (a dormant form of TB) [3] . According to the World Health Organization (WHO) report, an estimated 10 million people develop active TB and more than one million people die due to TB each year [4] .\n",
            "The burden of TB has varied across human history. Major disruptions such\n",
            "Similarity Score:  0.20489141600990335\n",
            "\n",
            "\n",
            "TITLE: Maximum incubation period for COVID-19 infection: Do we need to rethink the 14-day quarantine policy?\n",
            "BODY: Information about the incubation period is crucial for planning containment measures in epidemics. In the case of COVID-19 infection, a maximum incubation period as 14 days has been widely accepted by WHO, national health ministries and other public health actors, and has been recommended as a duration of self-quarantine after the contact with infected person or after the return from epidemic areas. However, since the early February 2020 data have indicated a substantially longer incubation peri\n",
            "Similarity Score:  0.2029295631609218\n",
            "\n",
            "\n",
            "Processing Query 3...\n",
            "\n",
            "TITLE: viruses Review From Protein to Pandemic: The Transdisciplinary Approach Needed to Prevent Spillover and the Next Pandemic\n",
            "BODY: Recent pandemics have been a consequence of viral spillover, where a pathogen passes from an animal host to a human through a series of processes that span scales from viral protein structure at 10 −9 m to global transmission at 10 6 m. The hierarchical sequence of spillover starts with an infected reservoir host shedding the pathogen, contact with a recipient host, infection of the recipient host, and then onward transmission within the recipient host population [1] [2] [3] [4] . This process h\n",
            "Similarity Score:  0.22356975766978682\n",
            "\n",
            "\n",
            "TITLE: Discussing the Drawbacks of the Implementation of Access and Benefit Sharing of the Nagoya Protocol Following the COVID-19 Pandemic\n",
            "BODY: \"When we think of the major threats to our national security, the first to come to mind are nuclear proliferation, rogue states, and global terrorism. But another kind of threat lurks beyond our shores, one from nature, not humans -an avian flu pandemic\" (1) . In 2005, Barack Obama and Richard Lugar identified and vocalized the need for a permanent framework that would be used in reducing the spread of infectious diseases. In the realm of infectious diseases, a pandemic is always the worst-case \n",
            "Similarity Score:  0.20463977460043492\n",
            "\n",
            "\n",
            "TITLE: -NC-ND license Poultry farming and farmers perception towards the farming condition during COVID-19 pandemic in Bangladesh\n",
            "BODY: Coronavirus disease 2019 (COVID-19) is a highly contagious infectious disease threating global public health and has declared as a pandemic crisis around the world [1, 2] . The COVID-19 is caused by the most recently discovered coronavirus Severe Acute Respiratory Syndrome Coronavirus 2 (SARS-CoV-2) [3] which is under the family of Coronaviridae a large family of enveloped, positive-sense RNA viruses that are important pathogens of humans and other mammals [4] . In 2003 and 2012, two deadly huma\n",
            "Similarity Score:  0.20313601110957547\n",
            "\n",
            "\n",
            "TITLE: viruses Setting the Terms for Zoonotic Diseases: Effective Communication for Research, Conservation, and Public Policy\n",
            "BODY: Effectively communicating complex scientific findings to diverse professional audiences, as well as policy makers and the public, can be very challenging. Yet, failure to do so results in misperceptions and misunderstandings that can hamper the progress of science and have significant consequences for the development of public policy. Zoonoses are diseases that originate in animals, either wild or domestic. Zoonotic diseases, especially those from wildlife, garner great attention from policy mak\n",
            "Similarity Score:  0.18565478976834682\n",
            "\n",
            "\n",
            "TITLE: Predicting mammalian hosts in which novel coronaviruses can be generated\n",
            "BODY: T he generation and emergence of three novel respiratory coronaviruses from mammalian reservoirs into human populations in the last 20 years, including one which has achieved pandemic status, suggests that one of the most pressing current research questions is: in which reservoirs could the next novel coronaviruses be generated and emerge from in future? Armed with this knowledge, we may be able to reduce the chance of emergence into human populations, such as by the strict monitoring and enforc\n",
            "Similarity Score:  0.17648786268347805\n",
            "\n",
            "\n",
            "Processing Query 4...\n",
            "\n",
            "TITLE: Harnessing Artificial Intelligence to assess the impact of nonpharmaceutical interventions on the second wave of the Coronavirus Disease 2019 pandemic across the world\n",
            "BODY: www.nature.com/scientificreports/ have been licensed and approved only recently, which due to the lack of effective drugs, has resulted in the implementation of non-pharmaceutical interventions (NPIs). According to the definition of the US \"Centers for Disease Control and Prevention\" (CDC), NPIs can be conceived as \"actions, apart from getting vaccinated and taking medicine, that people and communities can take to help slow the spread of illnesses like pandemic flu\". NPIs include actions impleme\n",
            "Similarity Score:  0.2668013689489367\n",
            "\n",
            "\n",
            "TITLE: The effectiveness of non-pharmaceutical interventions in containing epidemics: a rapid review of the literature and quantitative assessment\n",
            "BODY: school closures, travel restrictions, contact tracing and quarantine, public information campaigns, and environmental and personal hygiene measures. Findings from the study are designed to assist policy-makers adjust, if necessary, their strategy to fighting the outbreak, by outlining the effectiveness of NPIs, in isolation or as part of a comprehensive policy package, on key outcome measures. Once the number of new cases falls and the impact of the disease lessens, the findings can also be used\n",
            "Similarity Score:  0.2467931305458837\n",
            "\n",
            "\n",
            "TITLE: Estimating and explaining cross-country variation in the effectiveness of non-pharmaceutical interventions during COVID-19\n",
            "BODY: www.nature.com/scientificreports/ size). Such characteristics have been used previously to explore variation in the severity of the COVID-19 pandemic across countries [14] [15] [16] [17] , but not for comparing the effectiveness of NPIs across countries. Analyzing the latter is motivated by findings that the individual socioeconomic status can determine the risk of infection and can also influence the effectiveness of NPIs 18 .\n",
            "In this study, we hypothesize that there is variation in the effecti\n",
            "Similarity Score:  0.245716879984464\n",
            "\n",
            "\n",
            "TITLE: Non-Pharmaceutical Interventions and COVID-19 Burden in the United States\n",
            "BODY: Non-pharmaceutical interventions (NPIs) are mitigation strategies that have been used to control the spread of transmissible diseases, epidemics, and pandemics for more than one hundred years. 1, 2 During the Coronavirus disease 2019 (COVID- 19) pandemic, a variety of NPIs were adopted and discontinued by state governments. Strategies in the U.S. included travel bans, declarations of emergency situations, social distancing campaigns, self-quarantine upon infection or known exposure, and universa\n",
            "Similarity Score:  0.24532050075609213\n",
            "\n",
            "\n",
            "TITLE: The economic reaction to non-pharmaceutical interventions during Covid-19 The economic reaction to non-pharmaceutical interventions during Covid-19\n",
            "BODY: In order to reduce the spread of COVID-19 globally, governments have deployed a wide range of responses. These include efforts to prevent the spread of the virus by travel and work restrictions, quarantines, curfews, cancellations, the postponement of events, and facility closures (Cowling et al., 2020; Gössling et al., 2020) . All such measures have been categorized as non-pharmaceutical interventions (NPIs) and, despite being considered as secondary in the fight against the Covid-19 pandemic (\n",
            "Similarity Score:  0.2290326999804696\n",
            "\n",
            "\n",
            "Processing Query 5...\n",
            "\n",
            "TITLE: Perspective SARS-CoV-2 Vaccines: Status Report\n",
            "BODY: SARS-CoV-2, the causal agent of COVID-19, first emerged in late 2019 in China. It has since infected more than 870,000 individuals and caused more than 43,000 deaths globally. Here, we discuss therapeutic and prophylactic interventions for SARS-CoV-2 with a focus on vaccine development and its challenges. Vaccines are being rapidly developed but will likely come too late to affect the first wave of a potential pandemic. Nevertheless, critical lessons can be learned for the development of vaccine\n",
            "Similarity Score:  0.2725193022956187\n",
            "\n",
            "\n",
            "TITLE: \n",
            "BODY: Coronavirus disease 2019 (COVID-19) has developed as a pandemic in no time and has challenged and also burdened the world's entire health care system. The mortality rate of COVID-19 has been predicted to be around 3%-4% (1) . It has been observed that the risk of COVID-19 mortality is higher in the aged population and those having comorbidities (2) (3) (4) . The current burden for the disease is estimated to be more than 1 trillion US$ in the world economy and is continually rising with each pas\n",
            "Similarity Score:  0.2508741109340149\n",
            "\n",
            "\n",
            "TITLE: Viral Emerging Diseases: Challenges in Developing Vaccination Strategies\n",
            "BODY: Since the start of this century, a certain number of new or neglected pathogens have emerged from wildlife reservoirs and spilt over into human populations, causing severe diseases (1-3). Factors such as urbanization, globalization, travels, international commerce, aging, and climate changes have contributed to favor emergence, spread, and transmission of pathogens. Contacts among humans and potential zoonotic reservoirs are increasing, the number of travelers and their movements is growing, the\n",
            "Similarity Score:  0.2392616987835786\n",
            "\n",
            "\n",
            "TITLE: A review of COVID-19 vaccines in development: 6 months into the pandemic A review of COVID-19 vaccines in development: 6 months into the pandemic\n",
            "BODY: Coronavirus is spreading around the world. As of July 12 th , 2020, more than 12,552,736 cases of COVID-19 have been reported in over 216 countries and territories, resulting in 561,617 deaths [1, 2] . The virus spreads easily and most of the world's population is still vulnerable to it. It is therefore, of paramount importance to get a vaccine that can stop the spread of the virus. Researchers are working hard to control the pandemic. We are only over 6 months after the current outbreak was fir\n",
            "Similarity Score:  0.23242756460685765\n",
            "\n",
            "\n",
            "TITLE: Journal Pre-proofs Overview of the current promising approaches for the development of an ef- fective severe acute respiratory syndrome coronavirus 2 (SARS-CoV-2) vac- cine\n",
            "BODY: Corona virus disease 2019 , also known as 2019-nCoV acute respiratory disease, is caused by SARS-CoV-2 that has led the current ongoing pandemic worldwide [1] . The first SARS-CoV-2 infection was discovered in Wuhan, Hubei, China, and rapidly spread around the world by July 30, including more than 16,523,815 confirmed cases 655,112 confirmed deaths in 216 countries and territories [2, 3] . Most human coronaviruses are originated from bats [4] , and importantly, a genetic similarity between the b\n",
            "Similarity Score:  0.2309619163334733\n",
            "\n",
            "\n",
            "Processing Query 6...\n",
            "\n",
            "TITLE: Ethical Considerations for Restrictive and Physical Distancing Measures in Brazil During COVID-19: Facilitators and Barriers\n",
            "BODY: Only a few months after the emergence of SARS-CoV-2, the pandemic was already exerting great pressure on countries' health systems. To slow down transmission and allow health systems some time to prepare for a surge in cases that would quickly overwhelm them, countries adopted prevention strategies. In March 2020, Brazilian states started implementing physical isolation measures, which, in general, included school closures and suspension of commercial activities except for those related to food \n",
            "Similarity Score:  0.21696830988723959\n",
            "\n",
            "\n",
            "TITLE: Characteristics of Misinformation Spreading on Social Media During the COVID-19 Outbreak in China: A Descriptive Analysis\n",
            "BODY: Social media technologies are becoming a reliable platform for health communication to target audiences in a timely manner, which also establishes a hotbed of production, growth, and dissemination of misinformation. 1, 2 For instance, health misinformation emerges in WeChat, a common social networking app in China, such as \"chives can kill 99% of cancer cells\" and \"rice is the king of junk food\". 3 Emergency or risk always plays the role of an opening sluice for misinformation flow. 4, 5 Substan\n",
            "Similarity Score:  0.20928217318784625\n",
            "\n",
            "\n",
            "TITLE: \n",
            "BODY: The meaning of the term \"stigmatization\" has evolved over the years. The origin of the term dates back to ancient times. The Greek word \"stigma\" previously referred to marks that were placed on the bodies of individuals considered by a given society to be inferior such as slaves or criminals [1, 2] . Currently, \"stigmatization\" regards the physical and psychological realm of a person. We define it as disapproval, social disgrace and negative perception of a particular group within society due to\n",
            "Similarity Score:  0.2002334502927703\n",
            "\n",
            "\n",
            "TITLE: Role of mental health professionals in dealing with the stigma attached to COVID-19\n",
            "BODY: The stigma associated with the disease may be as subtle as avoidance, or dramatic as physical aggression. COVID-19 has begun to cause social disruption by growing disease-related stigma and xenophobia against some cultural, national, racial or religious groups worldwide. 1 People of East Asian origin and those with facial features like them, or those with a travel history to areas affected by the outbreak, are especially being subjected to xenophobia in personal contact and online threats. COVID\n",
            "Similarity Score:  0.1958268420301179\n",
            "\n",
            "\n",
            "TITLE: Synergistic Disparities and Public Health Mitigation of COVID-19 in the Rural United States\n",
            "BODY: As of September 2020, confirmed COVID-19 cases and deaths in the United States were approaching 7 million and 200,000 respectively (Johns Hopkins University and Medicine 2020). Initially concentrated in urban centres, rural areas in the United States began to experience faster case and mortality growth as the epidemic progressed (Fehr et al. 2020 ; Johns Hopkins University and Medicine 2020). While rural areas are not homogenous, many rural counties in the United States are poorer than their urb\n",
            "Similarity Score:  0.19297995208164376\n",
            "\n",
            "\n",
            "Processing Query 7...\n",
            "\n",
            "TITLE: Collaboration between Clinical and Academic Laboratories for Sequencing SARS-CoV-2 Genomes\n",
            "BODY: B eginning in the fall of 2020, severe acute respiratory syndrome coronavirus 2 (SARS-CoV-2) lineages emerged globally showing evidence for greater transmissibility and disease severity and decreased treatment efficacy (1) . Since then, SARS-CoV-2 variants of concern (VOC) have swept the globe, displacing parent SARS-CoV-2 strains and, in the case of the Delta variant (B.1.617.2/AY.*), risen to dominance in many countries. In the United States, Delta now accounts for .99% of all SARS-CoV-2 (2). \n",
            "Similarity Score:  0.2301312853304187\n",
            "\n",
            "\n",
            "TITLE: \n",
            "BODY: The majority of emerging infectious diseases (EIDs) have a zoonotic origin; their incidence has either increased over past decades or threatens to increase in the near future (Woolhouse and Gowtage-Sequeria, 2005; Jones et al., 2008) . Increases have been observed both in the frequency of epidemic events and the proportion of zoonotic EIDs, 72% of which are caused by pathogens originating in wildlife (Jones et al., 2008; Smith et al., 2014; . Zoonosis refers to a disease or infection shared betw\n",
            "Similarity Score:  0.22650467957351306\n",
            "\n",
            "\n",
            "TITLE: Diagnosing COVID-19: The Disease and Tools for Detection\n",
            "BODY: C oronavirus disease 2019 (COVID-19) was discovered in Hubei Province, China in December 2019. 1 A cluster of patients were admitted with fever, cough, shortness of breath, and other symptoms. 2 Patients were scanned using computed tomography (CT), which revealed varied opacities (denser, more profuse, and confluent) in comparison to images of healthy lungs. 3 This finding led to the initial diagnosis of pneumonia. Additional nucleic acid analysis using multiplex real-time polymerase chain react\n",
            "Similarity Score:  0.21264171651583896\n",
            "\n",
            "\n",
            "TITLE: Journal Pre-proof Testing for SARS-CoV-2 (COVID-19): a systematic review and clinical guide to molecular and serological in-vitro diagnostic assays Testing for SARS-CoV-2 (COVID-19): a systematic review and clinical guide to molecular and serological in-vitro diagnostic assays\n",
            "BODY: In December 2019, an outbreak of an unexplained pneumonia originated from the city of Wuhan, Hubei Province, China (Huang et al., 2020; Guan et al., 2020) . After the initial outbreak, a novel coronavirus (SARS-CoV-2) was quickly identified as the etiological agent, and the associated disease defined as COVID-19 (named as an acronym from CO-rona VI-rus D-isease, where 19 stands for the year the virus was firstly detected). The exponential growth of affected individuals led the World Health Organ\n",
            "Similarity Score:  0.209181079046027\n",
            "\n",
            "\n",
            "TITLE: viruses Review From Protein to Pandemic: The Transdisciplinary Approach Needed to Prevent Spillover and the Next Pandemic\n",
            "BODY: Recent pandemics have been a consequence of viral spillover, where a pathogen passes from an animal host to a human through a series of processes that span scales from viral protein structure at 10 −9 m to global transmission at 10 6 m. The hierarchical sequence of spillover starts with an infected reservoir host shedding the pathogen, contact with a recipient host, infection of the recipient host, and then onward transmission within the recipient host population [1] [2] [3] [4] . This process h\n",
            "Similarity Score:  0.2026582860644821\n",
            "\n",
            "\n",
            "Processing Query 8...\n",
            "\n",
            "TITLE: Health Workforce for Health Equity\n",
            "BODY: In examining the health workforce's role in advancing health equity, it is important to operationalize these domains with measurement. It is also critical that we better understand the impact of different policies and programs on health equity through each of these 6 interconnected domains. The goals of each domain are to advance: (1) a diverse composition of the health workforce; (2) the social mission of health professions' education; (3) provider distribution according to population need; (4)\n",
            "Similarity Score:  0.24672753462988706\n",
            "\n",
            "\n",
            "TITLE: Resilience in Cancer Care and Control in Canada-Colorectal Cancer Canada\n",
            "BODY: The unprecedented nature of the COVID-19 pandemic and its consequential disruption to primary cancer care and control services has necessitated a logistical transformation in health care provision across hospitals, clinics, and centers worldwide. The pandemic continues to interrupt regular patient flow to health care facilities and cancer-related screening and treatment procedures have been delayed, postponed, or completely halted nationwide. A recent study by Canadian and UK researchers suggest\n",
            "Similarity Score:  0.2416684691718498\n",
            "\n",
            "\n",
            "TITLE: Primary Care Practice Transformation in the Era of COVID-19 and Beyond: Key Principles for General Internal Medicine Practitioners\n",
            "BODY: The Society of General Internal Medicine (SGIM) consists of more than 3300 leading academic general internists dedicated to improving access to care for all populations, eliminating healthcare disparities, and enhancing medical education. SGIM envisions a just system of care in which all people can achieve optimal health. Our core values uphold delivery of high-value, evidence-based, person-centered, community-oriented healthcare. We aim to achieve these values through our commitment to populati\n",
            "Similarity Score:  0.2394246892733981\n",
            "\n",
            "\n",
            "TITLE: Mayo Clinic Strategies for COVID-19 The Silver Lining for Health Care During and After the Pandemic\n",
            "BODY: pandemic has handed health care systems around the world challenges of a magnitude never seen before. At the outset of the pandemic, many hospitals were overwhelmed by the numbers of COVID-19 patients-at times exceeding their capacities to provide safe care. For this reason, many institutions including Mayo Clinic initially halted nonurgent elective medical and surgical care during the pandemic. This disrupted care for patients without COVID-19 and caused major fiscal challenges for many health \n",
            "Similarity Score:  0.23526711443775417\n",
            "\n",
            "\n",
            "TITLE: The Ongoing National Medical Staffing Crisis: Impacts on Care Delivery for Interventional Cardiologists\n",
            "BODY: We are currently facing an international health care staffing crisis. It extends to all aspects and members of the care delivery team, including both the hospital and ambulatory settings. The COVID-19 pandemic exacerbated this crisis by creating an increased demand for care, an increased burden of care for those on the front lines, and a realignment of values for many workers. The intersection of these factors (among others) resulted in high rates of burnout and a \"great exodus\" of health care w\n",
            "Similarity Score:  0.22526075451143546\n",
            "\n",
            "\n",
            "Processing Query 9...\n",
            "\n",
            "TITLE: Preparing Students for a More Public Health-Aware Market in Response to COVID-19 PEER REVIEWED\n",
            "BODY: With the onslaught of coronavirus disease 2019 (COVID-19), the public is now more aware of the field of public health and the role of public health professionals in addressing the pandemic. Public health officials are in the news daily, and news coverage has made the terms \"contact tracing,\" \"disease transmission,\" and \"flattening the curve\" part of our everyday vocabulary. News coverage has also highlighted the relationship between preexisting chronic diseases and the morbidity and mortality of\n",
            "Similarity Score:  0.2323966645455917\n",
            "\n",
            "\n",
            "TITLE: Synergistic Disparities and Public Health Mitigation of COVID-19 in the Rural United States\n",
            "BODY: As of September 2020, confirmed COVID-19 cases and deaths in the United States were approaching 7 million and 200,000 respectively (Johns Hopkins University and Medicine 2020). Initially concentrated in urban centres, rural areas in the United States began to experience faster case and mortality growth as the epidemic progressed (Fehr et al. 2020 ; Johns Hopkins University and Medicine 2020). While rural areas are not homogenous, many rural counties in the United States are poorer than their urb\n",
            "Similarity Score:  0.2323704661311703\n",
            "\n",
            "\n",
            "TITLE: Introduction Scrutiny of COVID-19 response strategies among severely affected European nations\n",
            "BODY: as severe acute respiratory syndrome coronavirus 2 (SARS-CoV-2) and the disease as coronavirus disease 2019 . Owing to the virulence and the contagious nature of the virus, the WHO declared the novel coronavirus outbreak a public health emergency of international concern on January 30, 2020 [1, 2] . With the steep rise in infections outside China, the WHO declared the outbreak to be a pandemic on March 11, 2020 [3] .\n",
            "On January 24, 2020, France was the initial country in the European Union (EU) \n",
            "Similarity Score:  0.22918982997563364\n",
            "\n",
            "\n",
            "TITLE: Environmental Research and Public Health Strengths, Weaknesses, Opportunities and Threats (SWOT) Analysis of China's Prevention and Control Strategy for the COVID-19 Epidemic\n",
            "BODY: In December 2019, a new outbreak of pneumonia caused by a novel coronavirus began in Wuhan (Hubei Province, China). It subsequently spread to many countries around the world. The World Health Organization (WHO) announced that COVID-19 is a public health emergency of international concern (PHEIC) on January 30, 2020.\n",
            "On December 31, 2019, the Wuhan Municipal Health and Health Committee of Hubei Province, China issued the \"Notice of Pneumonia in Wuhan\", after 27 cases of pneumonia had been reporte\n",
            "Similarity Score:  0.22444335804638382\n",
            "\n",
            "\n",
            "TITLE: COVID-19 surveillance systems in African countries\n",
            "BODY: The COVID-19 outbreak is a threat to public health worldwide, including African countries. 1-3 On 30 January 2020, the outbreak was classified by the World Health Organization (WHO) as a global health emergency and it was later announced as a global pandemic on 11 March 2020. 4 In Africa, the first COVID-19 case was confirmed in Egypt in mid-February 2020. 1 The virus has rapidly spread making it a major health concern on the continent. 5 As of 29 May 2021, 4 854 497 cases and 130 214 deaths hav\n",
            "Similarity Score:  0.20760647374290953\n",
            "\n",
            "\n"
          ]
        }
      ]
    },
    {
      "cell_type": "code",
      "source": [
        "# Print the average cosine scores\n",
        "for i, score in enumerate(avg_cosine_scores):\n",
        "    print(f'Average cosine score for query {i+1}: {score}')\n"
      ],
      "metadata": {
        "colab": {
          "base_uri": "https://localhost:8080/"
        },
        "id": "DjQQhcFduo1L",
        "outputId": "a714a869-98d2-4fab-e6f9-c9ae917d1edd"
      },
      "execution_count": null,
      "outputs": [
        {
          "output_type": "stream",
          "name": "stdout",
          "text": [
            "Average cosine score for query 1: 0.22208353007328094\n",
            "Average cosine score for query 2: 0.22151599699440486\n",
            "Average cosine score for query 3: 0.1986976391663244\n",
            "Average cosine score for query 4: 0.24673291604316921\n",
            "Average cosine score for query 5: 0.24520891859070862\n",
            "Average cosine score for query 6: 0.20305814549592355\n",
            "Average cosine score for query 7: 0.216223409306056\n",
            "Average cosine score for query 8: 0.23766971240486492\n",
            "Average cosine score for query 9: 0.2252013584883378\n"
          ]
        },
        {
          "output_type": "stream",
          "name": "stderr",
          "text": [
            "/usr/local/lib/python3.10/dist-packages/ipykernel/ipkernel.py:283: DeprecationWarning: `should_run_async` will not call `transform_cell` automatically in the future. Please pass the result to `transformed_cell` argument and any exception that happen during thetransform in `preprocessing_exc_tuple` in IPython 7.17 and above.\n",
            "  and should_run_async(code)\n"
          ]
        }
      ]
    },
    {
      "cell_type": "markdown",
      "metadata": {
        "id": "MaYSoN18puNT"
      },
      "source": [
        "## K-Means & SVM\n",
        "#### By Piyush Santosh Kulkarni"
      ]
    },
    {
      "cell_type": "code",
      "source": [
        "#install yellowbrick to vizualize the Elbow curve\n",
        "!pip install yellowbrick\n",
        "\n",
        "from sklearn import datasets\n",
        "from sklearn.cluster import KMeans\n",
        "from yellowbrick.cluster import KElbowVisualizer\n",
        "\n",
        "\n",
        "# Instantiate the clustering model and visualizer\n",
        "kmeans = KMeans(random_state=42)\n",
        "X = np.stack(df_data_final['vectors'].values)\n",
        "visualizer = KElbowVisualizer(kmeans, k=(2,30))\n",
        "\n",
        "visualizer.fit(X)        # Fit the data to the visualizer\n",
        "visualizer.show()        # Finalize and render the figure"
      ],
      "metadata": {
        "colab": {
          "base_uri": "https://localhost:8080/",
          "height": 1000
        },
        "id": "Uk09bduJOr5W",
        "outputId": "285f8e2a-0792-4516-b0f0-673e43e9550f"
      },
      "execution_count": null,
      "outputs": [
        {
          "output_type": "stream",
          "name": "stderr",
          "text": [
            "/usr/local/lib/python3.10/dist-packages/ipykernel/ipkernel.py:283: DeprecationWarning: `should_run_async` will not call `transform_cell` automatically in the future. Please pass the result to `transformed_cell` argument and any exception that happen during thetransform in `preprocessing_exc_tuple` in IPython 7.17 and above.\n",
            "  and should_run_async(code)\n"
          ]
        },
        {
          "output_type": "stream",
          "name": "stdout",
          "text": [
            "Looking in indexes: https://pypi.org/simple, https://us-python.pkg.dev/colab-wheels/public/simple/\n",
            "Requirement already satisfied: yellowbrick in /usr/local/lib/python3.10/dist-packages (1.5)\n",
            "Requirement already satisfied: matplotlib!=3.0.0,>=2.0.2 in /usr/local/lib/python3.10/dist-packages (from yellowbrick) (3.7.1)\n",
            "Requirement already satisfied: scipy>=1.0.0 in /usr/local/lib/python3.10/dist-packages (from yellowbrick) (1.10.1)\n",
            "Requirement already satisfied: scikit-learn>=1.0.0 in /usr/local/lib/python3.10/dist-packages (from yellowbrick) (1.2.2)\n",
            "Requirement already satisfied: numpy>=1.16.0 in /usr/local/lib/python3.10/dist-packages (from yellowbrick) (1.24.3)\n",
            "Requirement already satisfied: cycler>=0.10.0 in /usr/local/lib/python3.10/dist-packages (from yellowbrick) (0.11.0)\n",
            "Requirement already satisfied: contourpy>=1.0.1 in /usr/local/lib/python3.10/dist-packages (from matplotlib!=3.0.0,>=2.0.2->yellowbrick) (1.0.7)\n",
            "Requirement already satisfied: fonttools>=4.22.0 in /usr/local/lib/python3.10/dist-packages (from matplotlib!=3.0.0,>=2.0.2->yellowbrick) (4.39.3)\n",
            "Requirement already satisfied: kiwisolver>=1.0.1 in /usr/local/lib/python3.10/dist-packages (from matplotlib!=3.0.0,>=2.0.2->yellowbrick) (1.4.4)\n",
            "Requirement already satisfied: packaging>=20.0 in /usr/local/lib/python3.10/dist-packages (from matplotlib!=3.0.0,>=2.0.2->yellowbrick) (23.1)\n",
            "Requirement already satisfied: pillow>=6.2.0 in /usr/local/lib/python3.10/dist-packages (from matplotlib!=3.0.0,>=2.0.2->yellowbrick) (8.4.0)\n",
            "Requirement already satisfied: pyparsing>=2.3.1 in /usr/local/lib/python3.10/dist-packages (from matplotlib!=3.0.0,>=2.0.2->yellowbrick) (3.0.9)\n",
            "Requirement already satisfied: python-dateutil>=2.7 in /usr/local/lib/python3.10/dist-packages (from matplotlib!=3.0.0,>=2.0.2->yellowbrick) (2.8.2)\n",
            "Requirement already satisfied: joblib>=1.1.1 in /usr/local/lib/python3.10/dist-packages (from scikit-learn>=1.0.0->yellowbrick) (1.2.0)\n",
            "Requirement already satisfied: threadpoolctl>=2.0.0 in /usr/local/lib/python3.10/dist-packages (from scikit-learn>=1.0.0->yellowbrick) (3.1.0)\n",
            "Requirement already satisfied: six>=1.5 in /usr/local/lib/python3.10/dist-packages (from python-dateutil>=2.7->matplotlib!=3.0.0,>=2.0.2->yellowbrick) (1.16.0)\n"
          ]
        },
        {
          "output_type": "stream",
          "name": "stderr",
          "text": [
            "/usr/local/lib/python3.10/dist-packages/sklearn/cluster/_kmeans.py:870: FutureWarning: The default value of `n_init` will change from 10 to 'auto' in 1.4. Set the value of `n_init` explicitly to suppress the warning\n",
            "  warnings.warn(\n",
            "/usr/local/lib/python3.10/dist-packages/sklearn/cluster/_kmeans.py:870: FutureWarning: The default value of `n_init` will change from 10 to 'auto' in 1.4. Set the value of `n_init` explicitly to suppress the warning\n",
            "  warnings.warn(\n",
            "/usr/local/lib/python3.10/dist-packages/sklearn/cluster/_kmeans.py:870: FutureWarning: The default value of `n_init` will change from 10 to 'auto' in 1.4. Set the value of `n_init` explicitly to suppress the warning\n",
            "  warnings.warn(\n",
            "/usr/local/lib/python3.10/dist-packages/sklearn/cluster/_kmeans.py:870: FutureWarning: The default value of `n_init` will change from 10 to 'auto' in 1.4. Set the value of `n_init` explicitly to suppress the warning\n",
            "  warnings.warn(\n",
            "/usr/local/lib/python3.10/dist-packages/sklearn/cluster/_kmeans.py:870: FutureWarning: The default value of `n_init` will change from 10 to 'auto' in 1.4. Set the value of `n_init` explicitly to suppress the warning\n",
            "  warnings.warn(\n",
            "/usr/local/lib/python3.10/dist-packages/sklearn/cluster/_kmeans.py:870: FutureWarning: The default value of `n_init` will change from 10 to 'auto' in 1.4. Set the value of `n_init` explicitly to suppress the warning\n",
            "  warnings.warn(\n",
            "/usr/local/lib/python3.10/dist-packages/sklearn/cluster/_kmeans.py:870: FutureWarning: The default value of `n_init` will change from 10 to 'auto' in 1.4. Set the value of `n_init` explicitly to suppress the warning\n",
            "  warnings.warn(\n",
            "/usr/local/lib/python3.10/dist-packages/sklearn/cluster/_kmeans.py:870: FutureWarning: The default value of `n_init` will change from 10 to 'auto' in 1.4. Set the value of `n_init` explicitly to suppress the warning\n",
            "  warnings.warn(\n",
            "/usr/local/lib/python3.10/dist-packages/sklearn/cluster/_kmeans.py:870: FutureWarning: The default value of `n_init` will change from 10 to 'auto' in 1.4. Set the value of `n_init` explicitly to suppress the warning\n",
            "  warnings.warn(\n",
            "/usr/local/lib/python3.10/dist-packages/sklearn/cluster/_kmeans.py:870: FutureWarning: The default value of `n_init` will change from 10 to 'auto' in 1.4. Set the value of `n_init` explicitly to suppress the warning\n",
            "  warnings.warn(\n",
            "/usr/local/lib/python3.10/dist-packages/sklearn/cluster/_kmeans.py:870: FutureWarning: The default value of `n_init` will change from 10 to 'auto' in 1.4. Set the value of `n_init` explicitly to suppress the warning\n",
            "  warnings.warn(\n",
            "/usr/local/lib/python3.10/dist-packages/sklearn/cluster/_kmeans.py:870: FutureWarning: The default value of `n_init` will change from 10 to 'auto' in 1.4. Set the value of `n_init` explicitly to suppress the warning\n",
            "  warnings.warn(\n",
            "/usr/local/lib/python3.10/dist-packages/sklearn/cluster/_kmeans.py:870: FutureWarning: The default value of `n_init` will change from 10 to 'auto' in 1.4. Set the value of `n_init` explicitly to suppress the warning\n",
            "  warnings.warn(\n",
            "/usr/local/lib/python3.10/dist-packages/sklearn/cluster/_kmeans.py:870: FutureWarning: The default value of `n_init` will change from 10 to 'auto' in 1.4. Set the value of `n_init` explicitly to suppress the warning\n",
            "  warnings.warn(\n",
            "/usr/local/lib/python3.10/dist-packages/sklearn/cluster/_kmeans.py:870: FutureWarning: The default value of `n_init` will change from 10 to 'auto' in 1.4. Set the value of `n_init` explicitly to suppress the warning\n",
            "  warnings.warn(\n",
            "/usr/local/lib/python3.10/dist-packages/sklearn/cluster/_kmeans.py:870: FutureWarning: The default value of `n_init` will change from 10 to 'auto' in 1.4. Set the value of `n_init` explicitly to suppress the warning\n",
            "  warnings.warn(\n",
            "/usr/local/lib/python3.10/dist-packages/sklearn/cluster/_kmeans.py:870: FutureWarning: The default value of `n_init` will change from 10 to 'auto' in 1.4. Set the value of `n_init` explicitly to suppress the warning\n",
            "  warnings.warn(\n",
            "/usr/local/lib/python3.10/dist-packages/sklearn/cluster/_kmeans.py:870: FutureWarning: The default value of `n_init` will change from 10 to 'auto' in 1.4. Set the value of `n_init` explicitly to suppress the warning\n",
            "  warnings.warn(\n",
            "/usr/local/lib/python3.10/dist-packages/sklearn/cluster/_kmeans.py:870: FutureWarning: The default value of `n_init` will change from 10 to 'auto' in 1.4. Set the value of `n_init` explicitly to suppress the warning\n",
            "  warnings.warn(\n",
            "/usr/local/lib/python3.10/dist-packages/sklearn/cluster/_kmeans.py:870: FutureWarning: The default value of `n_init` will change from 10 to 'auto' in 1.4. Set the value of `n_init` explicitly to suppress the warning\n",
            "  warnings.warn(\n",
            "/usr/local/lib/python3.10/dist-packages/sklearn/cluster/_kmeans.py:870: FutureWarning: The default value of `n_init` will change from 10 to 'auto' in 1.4. Set the value of `n_init` explicitly to suppress the warning\n",
            "  warnings.warn(\n",
            "/usr/local/lib/python3.10/dist-packages/sklearn/cluster/_kmeans.py:870: FutureWarning: The default value of `n_init` will change from 10 to 'auto' in 1.4. Set the value of `n_init` explicitly to suppress the warning\n",
            "  warnings.warn(\n",
            "/usr/local/lib/python3.10/dist-packages/sklearn/cluster/_kmeans.py:870: FutureWarning: The default value of `n_init` will change from 10 to 'auto' in 1.4. Set the value of `n_init` explicitly to suppress the warning\n",
            "  warnings.warn(\n",
            "/usr/local/lib/python3.10/dist-packages/sklearn/cluster/_kmeans.py:870: FutureWarning: The default value of `n_init` will change from 10 to 'auto' in 1.4. Set the value of `n_init` explicitly to suppress the warning\n",
            "  warnings.warn(\n",
            "/usr/local/lib/python3.10/dist-packages/sklearn/cluster/_kmeans.py:870: FutureWarning: The default value of `n_init` will change from 10 to 'auto' in 1.4. Set the value of `n_init` explicitly to suppress the warning\n",
            "  warnings.warn(\n",
            "/usr/local/lib/python3.10/dist-packages/sklearn/cluster/_kmeans.py:870: FutureWarning: The default value of `n_init` will change from 10 to 'auto' in 1.4. Set the value of `n_init` explicitly to suppress the warning\n",
            "  warnings.warn(\n",
            "/usr/local/lib/python3.10/dist-packages/sklearn/cluster/_kmeans.py:870: FutureWarning: The default value of `n_init` will change from 10 to 'auto' in 1.4. Set the value of `n_init` explicitly to suppress the warning\n",
            "  warnings.warn(\n",
            "/usr/local/lib/python3.10/dist-packages/sklearn/cluster/_kmeans.py:870: FutureWarning: The default value of `n_init` will change from 10 to 'auto' in 1.4. Set the value of `n_init` explicitly to suppress the warning\n",
            "  warnings.warn(\n"
          ]
        },
        {
          "output_type": "display_data",
          "data": {
            "text/plain": [
              "<Figure size 800x550 with 2 Axes>"
            ],
            "image/png": "[encoded data removed]"
          },
          "metadata": {}
        },
        {
          "output_type": "execute_result",
          "data": {
            "text/plain": [
              "<Axes: title={'center': 'Distortion Score Elbow for KMeans Clustering'}, xlabel='k', ylabel='distortion score'>"
            ]
          },
          "metadata": {},
          "execution_count": 13
        }
      ]
    },
    {
      "cell_type": "markdown",
      "source": [
        "====We can see that using k=8 gives us the best results hence for kmeans clustering we will consider k=8===="
      ],
      "metadata": {
        "id": "zhdoryA86LoI"
      }
    },
    {
      "cell_type": "code",
      "execution_count": null,
      "metadata": {
        "id": "nYn5vi3awg9F"
      },
      "outputs": [],
      "source": [
        "df_data_final['vectors'] = df_data_final['tokenized_text'].apply(lambda x: tokens_to_vectors(x.split()))\n",
        "\n",
        "# # Apply K-means clustering\n",
        "k = 8  # WE use k=8 after our elbow analysis on the data\n",
        "kmeans = KMeans(n_clusters=k, random_state=42)\n",
        "df_data_final['cluster_label'] = kmeans.fit_predict(np.stack(df_data_final['vectors'].values))"
      ]
    },
    {
      "cell_type": "code",
      "source": [
        "df_data_final.to_json('/content/drive/MyDrive/STA221/data_with_Kmean_labels1.json', orient='records', lines=True)"
      ],
      "metadata": {
        "id": "2V2bRa6WPvrM"
      },
      "execution_count": null,
      "outputs": []
    },
    {
      "cell_type": "code",
      "source": [
        "df_data_final = pd.read_json('/content/drive/MyDrive/STA221/data_with_Kmean_labels.json', orient='records', lines=True)"
      ],
      "metadata": {
        "id": "V1QEY9eaLX6P"
      },
      "execution_count": null,
      "outputs": []
    },
    {
      "cell_type": "code",
      "source": [
        "df_data_final.head()"
      ],
      "metadata": {
        "colab": {
          "base_uri": "https://localhost:8080/",
          "height": 652
        },
        "id": "0id80WJkMXpB",
        "outputId": "c9b7956b-4410-4d34-fd0e-75e6ec827e49"
      },
      "execution_count": null,
      "outputs": [
        {
          "output_type": "execute_result",
          "data": {
            "text/plain": [
              "                                   paper_id  \\\n",
              "0  8f97e16f3842e4bbd2d5d1c0c95ac1e31993ec68   \n",
              "1  8187ea360c53a56ca2c579d758a5d6aa67716836   \n",
              "2  a0d063dca746b135afe0451ce0b3bb1e06cf15ae   \n",
              "3  e0777fb5df224525ee1b06008582b084c1b6b13b   \n",
              "4  ee5af71875f2e77135974c75980ce22fff03e4f8   \n",
              "\n",
              "                                               title  \\\n",
              "0  An update on excess mortality in the second ye...   \n",
              "1                                                      \n",
              "2  Ethnic and regional variations in hospital mor...   \n",
              "3  Association between central blood pressure, ar...   \n",
              "4  What Is Critical About the Crisis of Expertise...   \n",
              "\n",
              "                                            abstract  \\\n",
              "0  In this short note, we apply the method of De ...   \n",
              "1                                                      \n",
              "2  Background Brazil ranks second worldwide in to...   \n",
              "3  The burden of hypertension in South Africa, as...   \n",
              "4                                                      \n",
              "\n",
              "                                           body_text  \\\n",
              "0  Expected deaths by year, represented by blue s...   \n",
              "1  Research Letter to the Editor:\\nWe are writing...   \n",
              "2  The COVID-19 pandemic has created an unprecede...   \n",
              "3  Raised blood pressure (BP) and hypertension ar...   \n",
              "4  Particularly in these pandemic times, appeals ...   \n",
              "\n",
              "                                             authors  \\\n",
              "0  Asta Wirtsch ,Sozialstat Arch ,Giacomo De Nico...   \n",
              "1                                                      \n",
              "2  Núcleo De Astrofísica E Cosmologia ,P Baqui ,V...   \n",
              "3  Feziwe Mpondo ,Ashleigh Craig ,Andrea Kolkenbe...   \n",
              "4                                    Riccardo Chesta   \n",
              "\n",
              "                                     clean_body_text  \\\n",
              "0  expected deaths by year represented by blue sq...   \n",
              "1  research letter to the editor we are writing t...   \n",
              "2  the covid pandemic has created an unprecedente...   \n",
              "3  raised blood pressure and hypertension are wel...   \n",
              "4  particularly in these pandemic times appeals t...   \n",
              "\n",
              "                                      tokenized_text  \\\n",
              "0  expected death year represented blue square pl...   \n",
              "1  research letter editor writing attention profo...   \n",
              "2  covid pandemic created unprecedented worldwide...   \n",
              "3  raised blood pressure hypertension wellknown m...   \n",
              "4  particularly pandemic time appeal state crisis...   \n",
              "\n",
              "                                              tokens  \\\n",
              "0  [expected, death, year, represented, blue, squ...   \n",
              "1  [research, letter, editor, writing, attention,...   \n",
              "2  [covid, pandemic, created, unprecedented, worl...   \n",
              "3  [raised, blood, pressure, hypertension, wellkn...   \n",
              "4  [particularly, pandemic, time, appeal, state, ...   \n",
              "\n",
              "                                             vectors  cluster_label  \n",
              "0  [-0.07715285, 0.2339434, 0.17645541, 0.1018100...              2  \n",
              "1  [-0.04930564, 0.17999654, 0.023094004, 0.22998...              0  \n",
              "2  [-0.053038947, 0.21664743, 0.26520357, 0.14516...              2  \n",
              "3  [-0.059758972, 0.20353447, 0.13864446, 0.18294...              5  \n",
              "4  [-0.05847094, 0.15457007, 0.175447, 0.17115949...              7  "
            ],
            "text/html": [
              "\n",
              "  <div id=\"df-b9e05795-7b27-466c-89d0-4f1f9f7259f4\">\n",
              "    <div class=\"colab-df-container\">\n",
              "      <div>\n",
              "<style scoped>\n",
              "    .dataframe tbody tr th:only-of-type {\n",
              "        vertical-align: middle;\n",
              "    }\n",
              "\n",
              "    .dataframe tbody tr th {\n",
              "        vertical-align: top;\n",
              "    }\n",
              "\n",
              "    .dataframe thead th {\n",
              "        text-align: right;\n",
              "    }\n",
              "</style>\n",
              "<table border=\"1\" class=\"dataframe\">\n",
              "  <thead>\n",
              "    <tr style=\"text-align: right;\">\n",
              "      <th></th>\n",
              "      <th>paper_id</th>\n",
              "      <th>title</th>\n",
              "      <th>abstract</th>\n",
              "      <th>body_text</th>\n",
              "      <th>authors</th>\n",
              "      <th>clean_body_text</th>\n",
              "      <th>tokenized_text</th>\n",
              "      <th>tokens</th>\n",
              "      <th>vectors</th>\n",
              "      <th>cluster_label</th>\n",
              "    </tr>\n",
              "  </thead>\n",
              "  <tbody>\n",
              "    <tr>\n",
              "      <th>0</th>\n",
              "      <td>8f97e16f3842e4bbd2d5d1c0c95ac1e31993ec68</td>\n",
              "      <td>An update on excess mortality in the second ye...</td>\n",
              "      <td>In this short note, we apply the method of De ...</td>\n",
              "      <td>Expected deaths by year, represented by blue s...</td>\n",
              "      <td>Asta Wirtsch ,Sozialstat Arch ,Giacomo De Nico...</td>\n",
              "      <td>expected deaths by year represented by blue sq...</td>\n",
              "      <td>expected death year represented blue square pl...</td>\n",
              "      <td>[expected, death, year, represented, blue, squ...</td>\n",
              "      <td>[-0.07715285, 0.2339434, 0.17645541, 0.1018100...</td>\n",
              "      <td>2</td>\n",
              "    </tr>\n",
              "    <tr>\n",
              "      <th>1</th>\n",
              "      <td>8187ea360c53a56ca2c579d758a5d6aa67716836</td>\n",
              "      <td></td>\n",
              "      <td></td>\n",
              "      <td>Research Letter to the Editor:\\nWe are writing...</td>\n",
              "      <td></td>\n",
              "      <td>research letter to the editor we are writing t...</td>\n",
              "      <td>research letter editor writing attention profo...</td>\n",
              "      <td>[research, letter, editor, writing, attention,...</td>\n",
              "      <td>[-0.04930564, 0.17999654, 0.023094004, 0.22998...</td>\n",
              "      <td>0</td>\n",
              "    </tr>\n",
              "    <tr>\n",
              "      <th>2</th>\n",
              "      <td>a0d063dca746b135afe0451ce0b3bb1e06cf15ae</td>\n",
              "      <td>Ethnic and regional variations in hospital mor...</td>\n",
              "      <td>Background Brazil ranks second worldwide in to...</td>\n",
              "      <td>The COVID-19 pandemic has created an unprecede...</td>\n",
              "      <td>Núcleo De Astrofísica E Cosmologia ,P Baqui ,V...</td>\n",
              "      <td>the covid pandemic has created an unprecedente...</td>\n",
              "      <td>covid pandemic created unprecedented worldwide...</td>\n",
              "      <td>[covid, pandemic, created, unprecedented, worl...</td>\n",
              "      <td>[-0.053038947, 0.21664743, 0.26520357, 0.14516...</td>\n",
              "      <td>2</td>\n",
              "    </tr>\n",
              "    <tr>\n",
              "      <th>3</th>\n",
              "      <td>e0777fb5df224525ee1b06008582b084c1b6b13b</td>\n",
              "      <td>Association between central blood pressure, ar...</td>\n",
              "      <td>The burden of hypertension in South Africa, as...</td>\n",
              "      <td>Raised blood pressure (BP) and hypertension ar...</td>\n",
              "      <td>Feziwe Mpondo ,Ashleigh Craig ,Andrea Kolkenbe...</td>\n",
              "      <td>raised blood pressure and hypertension are wel...</td>\n",
              "      <td>raised blood pressure hypertension wellknown m...</td>\n",
              "      <td>[raised, blood, pressure, hypertension, wellkn...</td>\n",
              "      <td>[-0.059758972, 0.20353447, 0.13864446, 0.18294...</td>\n",
              "      <td>5</td>\n",
              "    </tr>\n",
              "    <tr>\n",
              "      <th>4</th>\n",
              "      <td>ee5af71875f2e77135974c75980ce22fff03e4f8</td>\n",
              "      <td>What Is Critical About the Crisis of Expertise...</td>\n",
              "      <td></td>\n",
              "      <td>Particularly in these pandemic times, appeals ...</td>\n",
              "      <td>Riccardo Chesta</td>\n",
              "      <td>particularly in these pandemic times appeals t...</td>\n",
              "      <td>particularly pandemic time appeal state crisis...</td>\n",
              "      <td>[particularly, pandemic, time, appeal, state, ...</td>\n",
              "      <td>[-0.05847094, 0.15457007, 0.175447, 0.17115949...</td>\n",
              "      <td>7</td>\n",
              "    </tr>\n",
              "  </tbody>\n",
              "</table>\n",
              "</div>\n",
              "      <button class=\"colab-df-convert\" onclick=\"convertToInteractive('df-b9e05795-7b27-466c-89d0-4f1f9f7259f4')\"\n",
              "              title=\"Convert this dataframe to an interactive table.\"\n",
              "              style=\"display:none;\">\n",
              "        \n",
              "  <svg xmlns=\"http://www.w3.org/2000/svg\" height=\"24px\"viewBox=\"0 0 24 24\"\n",
              "       width=\"24px\">\n",
              "    <path d=\"M0 0h24v24H0V0z\" fill=\"none\"/>\n",
              "    <path d=\"M18.56 5.44l.94 2.06.94-2.06 2.06-.94-2.06-.94-.94-2.06-.94 2.06-2.06.94zm-11 1L8.5 8.5l.94-2.06 2.06-.94-2.06-.94L8.5 2.5l-.94 2.06-2.06.94zm10 10l.94 2.06.94-2.06 2.06-.94-2.06-.94-.94-2.06-.94 2.06-2.06.94z\"/><path d=\"M17.41 7.96l-1.37-1.37c-.4-.4-.92-.59-1.43-.59-.52 0-1.04.2-1.43.59L10.3 9.45l-7.72 7.72c-.78.78-.78 2.05 0 2.83L4 21.41c.39.39.9.59 1.41.59.51 0 1.02-.2 1.41-.59l7.78-7.78 2.81-2.81c.8-.78.8-2.07 0-2.86zM5.41 20L4 18.59l7.72-7.72 1.47 1.35L5.41 20z\"/>\n",
              "  </svg>\n",
              "      </button>\n",
              "      \n",
              "  <style>\n",
              "    .colab-df-container {\n",
              "      display:flex;\n",
              "      flex-wrap:wrap;\n",
              "      gap: 12px;\n",
              "    }\n",
              "\n",
              "    .colab-df-convert {\n",
              "      background-color: #E8F0FE;\n",
              "      border: none;\n",
              "      border-radius: 50%;\n",
              "      cursor: pointer;\n",
              "      display: none;\n",
              "      fill: #1967D2;\n",
              "      height: 32px;\n",
              "      padding: 0 0 0 0;\n",
              "      width: 32px;\n",
              "    }\n",
              "\n",
              "    .colab-df-convert:hover {\n",
              "      background-color: #E2EBFA;\n",
              "      box-shadow: 0px 1px 2px rgba(60, 64, 67, 0.3), 0px 1px 3px 1px rgba(60, 64, 67, 0.15);\n",
              "      fill: #174EA6;\n",
              "    }\n",
              "\n",
              "    [theme=dark] .colab-df-convert {\n",
              "      background-color: #3B4455;\n",
              "      fill: #D2E3FC;\n",
              "    }\n",
              "\n",
              "    [theme=dark] .colab-df-convert:hover {\n",
              "      background-color: #434B5C;\n",
              "      box-shadow: 0px 1px 3px 1px rgba(0, 0, 0, 0.15);\n",
              "      filter: drop-shadow(0px 1px 2px rgba(0, 0, 0, 0.3));\n",
              "      fill: #FFFFFF;\n",
              "    }\n",
              "  </style>\n",
              "\n",
              "      <script>\n",
              "        const buttonEl =\n",
              "          document.querySelector('#df-b9e05795-7b27-466c-89d0-4f1f9f7259f4 button.colab-df-convert');\n",
              "        buttonEl.style.display =\n",
              "          google.colab.kernel.accessAllowed ? 'block' : 'none';\n",
              "\n",
              "        async function convertToInteractive(key) {\n",
              "          const element = document.querySelector('#df-b9e05795-7b27-466c-89d0-4f1f9f7259f4');\n",
              "          const dataTable =\n",
              "            await google.colab.kernel.invokeFunction('convertToInteractive',\n",
              "                                                     [key], {});\n",
              "          if (!dataTable) return;\n",
              "\n",
              "          const docLinkHtml = 'Like what you see? Visit the ' +\n",
              "            '<a target=\"_blank\" href=https://colab.research.google.com/notebooks/data_table.ipynb>data table notebook</a>'\n",
              "            + ' to learn more about interactive tables.';\n",
              "          element.innerHTML = '';\n",
              "          dataTable['output_type'] = 'display_data';\n",
              "          await google.colab.output.renderOutput(dataTable, element);\n",
              "          const docLink = document.createElement('div');\n",
              "          docLink.innerHTML = docLinkHtml;\n",
              "          element.appendChild(docLink);\n",
              "        }\n",
              "      </script>\n",
              "    </div>\n",
              "  </div>\n",
              "  "
            ]
          },
          "metadata": {},
          "execution_count": 17
        }
      ]
    },
    {
      "cell_type": "markdown",
      "source": [
        "Creating and Training SVM"
      ],
      "metadata": {
        "id": "dln8Q7ccH-yQ"
      }
    },
    {
      "cell_type": "code",
      "source": [
        "X_train = np.stack(df_data_final['vectors'].values)\n",
        "y_train = df_data_final['cluster_label'].values\n",
        "\n",
        "svm = SVC()\n",
        "svm.fit(X_train, y_train)"
      ],
      "metadata": {
        "id": "7cD52U_cH5Xb"
      },
      "execution_count": null,
      "outputs": []
    },
    {
      "cell_type": "markdown",
      "source": [
        "Finding top 5 Similar papers"
      ],
      "metadata": {
        "id": "uZNC_qTfICHe"
      }
    },
    {
      "cell_type": "code",
      "source": [
        "# Process each query\n",
        "\n",
        "cosine_averages=[]\n",
        "\n",
        "for i, query in enumerate(query_db['tokenized_query']):\n",
        "    print('========================================================================')\n",
        "    print(f\"Processing Query {i+1}...\\n\")\n",
        "    print('==========================================================================')\n",
        "\n",
        "    # Transform the query data\n",
        "\n",
        "    vector_query = tokens_to_vectors(query.split()).reshape(1, -1)\n",
        "\n",
        "    # Predict cluster label for query\n",
        "    y_test = svm.predict(vector_query)\n",
        "    print(\"Predicted cluster label:\", y_test)\n",
        "\n",
        "\n",
        "    # Create the updated dataframe using the prvious predicted cluster\n",
        "    df_updated = df_data_final[df_data_final['cluster_label'] == y_test[0]].copy()\n",
        "\n",
        "    # Reset the index of the new DataFrame\n",
        "    df_updated.reset_index(drop=True, inplace=True)\n",
        "    from sklearn.metrics.pairwise import cosine_distances\n",
        "\n",
        "    # Compute cosine distances between vector_query and all vectors in df_data_final\n",
        "    distances = cosine_distances(vector_query, np.stack(df_updated['vectors'].values))\n",
        "\n",
        "    # Find the indices of the 5 most similar rows\n",
        "    # top_indices = np.argsort(distances)[0][:5]\n",
        "    top_indices = np.argsort(distances)[0][::-1][:5]\n",
        "    # Retrieve the corresponding rows from df_data_final\n",
        "    most_similar_rows = df_updated.iloc[top_indices]\n",
        "\n",
        "    # Print the most similar rows\n",
        "\n",
        "    print('5 Most Similar Papers')\n",
        "    # most_similar_rows = most_similar_rows[['title','body_text']]\n",
        "\n",
        "    print(most_similar_rows[['title','body_text']])\n",
        "\n",
        "    print('Average Cosine Similarity of query with 5 papers')\n",
        "    average = np.mean(1-distances[0][top_indices])\n",
        "    cosine_averages.append(average)\n",
        "    print(average)"
      ],
      "metadata": {
        "id": "tXzRxBmiAjni"
      },
      "execution_count": null,
      "outputs": []
    },
    {
      "cell_type": "code",
      "source": [
        "cosine_averages"
      ],
      "metadata": {
        "id": "ihG0a9Fq-l7l"
      },
      "execution_count": null,
      "outputs": []
    },
    {
      "cell_type": "markdown",
      "source": [
        "##RANDOM FOREST\n",
        "\n",
        "####KRITI KRITI"
      ],
      "metadata": {
        "id": "XSIcYSlT81w_"
      }
    },
    {
      "cell_type": "markdown",
      "source": [
        "Creating and Traning the Model"
      ],
      "metadata": {
        "id": "6qQzurmZD_j8"
      }
    },
    {
      "cell_type": "code",
      "source": [
        "from sklearn.ensemble import RandomForestClassifier\n",
        "\n",
        "\n",
        "# Prepare the training data\n",
        "X_train = np.stack(df_data_final['vectors'].values)\n",
        "y_train = df_data_final['cluster_label'].values\n",
        "\n",
        "# Train the Random Forest classifier\n",
        "rf = RandomForestClassifier()\n",
        "rf.fit(X_train, y_train)"
      ],
      "metadata": {
        "colab": {
          "base_uri": "https://localhost:8080/",
          "height": 75
        },
        "id": "tkAfarW6dzhM",
        "outputId": "340009be-2f9e-45ad-d7c9-15319cf6ccad"
      },
      "execution_count": null,
      "outputs": [
        {
          "output_type": "execute_result",
          "data": {
            "text/plain": [
              "RandomForestClassifier()"
            ],
            "text/html": [
              "<style>#sk-container-id-1 {color: black;background-color: white;}#sk-container-id-1 pre{padding: 0;}#sk-container-id-1 div.sk-toggleable {background-color: white;}#sk-container-id-1 label.sk-toggleable__label {cursor: pointer;display: block;width: 100%;margin-bottom: 0;padding: 0.3em;box-sizing: border-box;text-align: center;}#sk-container-id-1 label.sk-toggleable__label-arrow:before {content: \"▸\";float: left;margin-right: 0.25em;color: #696969;}#sk-container-id-1 label.sk-toggleable__label-arrow:hover:before {color: black;}#sk-container-id-1 div.sk-estimator:hover label.sk-toggleable__label-arrow:before {color: black;}#sk-container-id-1 div.sk-toggleable__content {max-height: 0;max-width: 0;overflow: hidden;text-align: left;background-color: #f0f8ff;}#sk-container-id-1 div.sk-toggleable__content pre {margin: 0.2em;color: black;border-radius: 0.25em;background-color: #f0f8ff;}#sk-container-id-1 input.sk-toggleable__control:checked~div.sk-toggleable__content {max-height: 200px;max-width: 100%;overflow: auto;}#sk-container-id-1 input.sk-toggleable__control:checked~label.sk-toggleable__label-arrow:before {content: \"▾\";}#sk-container-id-1 div.sk-estimator input.sk-toggleable__control:checked~label.sk-toggleable__label {background-color: #d4ebff;}#sk-container-id-1 div.sk-label input.sk-toggleable__control:checked~label.sk-toggleable__label {background-color: #d4ebff;}#sk-container-id-1 input.sk-hidden--visually {border: 0;clip: rect(1px 1px 1px 1px);clip: rect(1px, 1px, 1px, 1px);height: 1px;margin: -1px;overflow: hidden;padding: 0;position: absolute;width: 1px;}#sk-container-id-1 div.sk-estimator {font-family: monospace;background-color: #f0f8ff;border: 1px dotted black;border-radius: 0.25em;box-sizing: border-box;margin-bottom: 0.5em;}#sk-container-id-1 div.sk-estimator:hover {background-color: #d4ebff;}#sk-container-id-1 div.sk-parallel-item::after {content: \"\";width: 100%;border-bottom: 1px solid gray;flex-grow: 1;}#sk-container-id-1 div.sk-label:hover label.sk-toggleable__label {background-color: #d4ebff;}#sk-container-id-1 div.sk-serial::before {content: \"\";position: absolute;border-left: 1px solid gray;box-sizing: border-box;top: 0;bottom: 0;left: 50%;z-index: 0;}#sk-container-id-1 div.sk-serial {display: flex;flex-direction: column;align-items: center;background-color: white;padding-right: 0.2em;padding-left: 0.2em;position: relative;}#sk-container-id-1 div.sk-item {position: relative;z-index: 1;}#sk-container-id-1 div.sk-parallel {display: flex;align-items: stretch;justify-content: center;background-color: white;position: relative;}#sk-container-id-1 div.sk-item::before, #sk-container-id-1 div.sk-parallel-item::before {content: \"\";position: absolute;border-left: 1px solid gray;box-sizing: border-box;top: 0;bottom: 0;left: 50%;z-index: -1;}#sk-container-id-1 div.sk-parallel-item {display: flex;flex-direction: column;z-index: 1;position: relative;background-color: white;}#sk-container-id-1 div.sk-parallel-item:first-child::after {align-self: flex-end;width: 50%;}#sk-container-id-1 div.sk-parallel-item:last-child::after {align-self: flex-start;width: 50%;}#sk-container-id-1 div.sk-parallel-item:only-child::after {width: 0;}#sk-container-id-1 div.sk-dashed-wrapped {border: 1px dashed gray;margin: 0 0.4em 0.5em 0.4em;box-sizing: border-box;padding-bottom: 0.4em;background-color: white;}#sk-container-id-1 div.sk-label label {font-family: monospace;font-weight: bold;display: inline-block;line-height: 1.2em;}#sk-container-id-1 div.sk-label-container {text-align: center;}#sk-container-id-1 div.sk-container {/* jupyter's `normalize.less` sets `[hidden] { display: none; }` but bootstrap.min.css set `[hidden] { display: none !important; }` so we also need the `!important` here to be able to override the default hidden behavior on the sphinx rendered scikit-learn.org. See: https://github.com/scikit-learn/scikit-learn/issues/21755 */display: inline-block !important;position: relative;}#sk-container-id-1 div.sk-text-repr-fallback {display: none;}</style><div id=\"sk-container-id-1\" class=\"sk-top-container\"><div class=\"sk-text-repr-fallback\"><pre>RandomForestClassifier()</pre><b>In a Jupyter environment, please rerun this cell to show the HTML representation or trust the notebook. <br />On GitHub, the HTML representation is unable to render, please try loading this page with nbviewer.org.</b></div><div class=\"sk-container\" hidden><div class=\"sk-item\"><div class=\"sk-estimator sk-toggleable\"><input class=\"sk-toggleable__control sk-hidden--visually\" id=\"sk-estimator-id-1\" type=\"checkbox\" checked><label for=\"sk-estimator-id-1\" class=\"sk-toggleable__label sk-toggleable__label-arrow\">RandomForestClassifier</label><div class=\"sk-toggleable__content\"><pre>RandomForestClassifier()</pre></div></div></div></div></div>"
            ]
          },
          "metadata": {},
          "execution_count": 35
        }
      ]
    },
    {
      "cell_type": "markdown",
      "source": [
        "RUNNING FOR ALL 10 QUERIES"
      ],
      "metadata": {
        "id": "W9y52zL2D6f0"
      }
    },
    {
      "cell_type": "code",
      "source": [
        "cosine_averages_random_forest=[]\n",
        "\n",
        "for i, query in enumerate(query_db['tokenized_query']):\n",
        "    print('========================================================================')\n",
        "    print(f\"Processing Query {i+1}...\\n\")\n",
        "    print('==========================================================================')\n",
        "\n",
        "    # Transform the query data\n",
        "\n",
        "    vector_query = tokens_to_vectors(query.split()).reshape(1, -1)\n",
        "\n",
        "    # Predict cluster label for query\n",
        "    y_test = rf.predict(vector_query)\n",
        "    print(\"Predicted cluster label:\", y_test)\n",
        "\n",
        "\n",
        "    # Create the updated dataframe using the prvious predicted cluster\n",
        "    df_updated = df_data_final[df_data_final['cluster_label'] == y_test[0]].copy()\n",
        "\n",
        "    # Reset the index of the new DataFrame\n",
        "    df_updated.reset_index(drop=True, inplace=True)\n",
        "    from sklearn.metrics.pairwise import cosine_distances\n",
        "\n",
        "    # Compute cosine distances between vector_query and all vectors in df_data_final\n",
        "    distances = cosine_distances(vector_query, np.stack(df_updated['vectors'].values))\n",
        "\n",
        "    # Find the indices of the 5 most similar rows\n",
        "    # top_indices = np.argsort(distances)[0][:5]\n",
        "    top_indices = np.argsort(distances)[0][::-1][:5]\n",
        "    # Retrieve the corresponding rows from df_data_final\n",
        "    most_similar_rows = df_updated.iloc[top_indices]\n",
        "\n",
        "    # Print the most similar rows\n",
        "\n",
        "    print('5 Most Similar Papers')\n",
        "    # most_similar_rows = most_similar_rows[['title','body_text']]\n",
        "\n",
        "    print(most_similar_rows[['title','body_text']])\n",
        "\n",
        "    print('Average Cosine Similarity of query with 5 papers')\n",
        "    average = np.mean(1-distances[0][top_indices])\n",
        "    cosine_averages_random_forest.append(average)\n",
        "    print(average)"
      ],
      "metadata": {
        "id": "yzsvSXbH-VsS"
      },
      "execution_count": null,
      "outputs": []
    },
    {
      "cell_type": "markdown",
      "source": [
        "##CNN"
      ],
      "metadata": {
        "id": "vVti7007Ahxo"
      }
    },
    {
      "cell_type": "markdown",
      "source": [
        "Creating and Training the CNN Model"
      ],
      "metadata": {
        "id": "zf0HwfpUEp3d"
      }
    },
    {
      "cell_type": "code",
      "source": [
        "import numpy as np\n",
        "from tensorflow.keras.models import Sequential\n",
        "from tensorflow.keras.layers import Embedding, Conv1D, GlobalMaxPooling1D, Dense\n",
        "from tensorflow.keras.preprocessing.sequence import pad_sequences\n",
        "from sklearn.model_selection import train_test_split\n",
        "\n",
        "# Prepare the training data\n",
        "num_classes=8\n",
        "X_train = np.stack(df_data_final['vectors'].values)\n",
        "y_train = df_data_final['cluster_label'].values\n",
        "\n",
        "# Split the data into training and validation sets\n",
        "X_train, X_val, y_train, y_val = train_test_split(X_train, y_train, test_size=0.2, random_state=42)\n",
        "\n",
        "# Reshape the input data for 1D convolutional layer\n",
        "X_train = np.expand_dims(X_train, axis=2)\n",
        "X_val = np.expand_dims(X_val, axis=2)\n",
        "\n",
        "# Define the model\n",
        "model = Sequential()\n",
        "model.add(Conv1D(filters=32, kernel_size=3, activation='relu', input_shape=((X_train.shape[1], 1))))\n",
        "model.add(GlobalMaxPooling1D())\n",
        "model.add(Dense(num_classes, activation='softmax'))\n",
        "\n",
        "# Compile the model\n",
        "model.compile(loss='sparse_categorical_crossentropy', optimizer='adam', metrics=['accuracy'])\n"
      ],
      "metadata": {
        "id": "WrvTuEjudW_p"
      },
      "execution_count": null,
      "outputs": []
    },
    {
      "cell_type": "code",
      "source": [
        "model.fit(X_train, y_train, batch_size=32, epochs=10, validation_data=(X_val, y_val))"
      ],
      "metadata": {
        "colab": {
          "base_uri": "https://localhost:8080/"
        },
        "id": "eTfSTNs9Bu2L",
        "outputId": "bc4d45b4-db51-41fb-f565-8d669fa110dd"
      },
      "execution_count": null,
      "outputs": [
        {
          "output_type": "stream",
          "name": "stdout",
          "text": [
            "Epoch 1/10\n",
            "368/368 [==============================] - 12s 6ms/step - loss: 2.0180 - accuracy: 0.1931 - val_loss: 1.9825 - val_accuracy: 0.2004\n",
            "Epoch 2/10\n",
            "368/368 [==============================] - 1s 4ms/step - loss: 1.9398 - accuracy: 0.2524 - val_loss: 1.8860 - val_accuracy: 0.2579\n",
            "Epoch 3/10\n",
            "368/368 [==============================] - 1s 4ms/step - loss: 1.8108 - accuracy: 0.3167 - val_loss: 1.7282 - val_accuracy: 0.3869\n",
            "Epoch 4/10\n",
            "368/368 [==============================] - 1s 4ms/step - loss: 1.6438 - accuracy: 0.4414 - val_loss: 1.5639 - val_accuracy: 0.4951\n",
            "Epoch 5/10\n",
            "368/368 [==============================] - 2s 5ms/step - loss: 1.4945 - accuracy: 0.5163 - val_loss: 1.4294 - val_accuracy: 0.5083\n",
            "Epoch 6/10\n",
            "368/368 [==============================] - 2s 7ms/step - loss: 1.3758 - accuracy: 0.5692 - val_loss: 1.3243 - val_accuracy: 0.6281\n",
            "Epoch 7/10\n",
            "368/368 [==============================] - 2s 4ms/step - loss: 1.2805 - accuracy: 0.6055 - val_loss: 1.2418 - val_accuracy: 0.5982\n",
            "Epoch 8/10\n",
            "368/368 [==============================] - 2s 5ms/step - loss: 1.2035 - accuracy: 0.6379 - val_loss: 1.1687 - val_accuracy: 0.6580\n",
            "Epoch 9/10\n",
            "368/368 [==============================] - 2s 4ms/step - loss: 1.1394 - accuracy: 0.6566 - val_loss: 1.1174 - val_accuracy: 0.6335\n",
            "Epoch 10/10\n",
            "368/368 [==============================] - 1s 4ms/step - loss: 1.0857 - accuracy: 0.6678 - val_loss: 1.0592 - val_accuracy: 0.6754\n"
          ]
        },
        {
          "output_type": "execute_result",
          "data": {
            "text/plain": [
              "<keras.callbacks.History at 0x7fc2075f0e50>"
            ]
          },
          "metadata": {},
          "execution_count": 30
        }
      ]
    },
    {
      "cell_type": "markdown",
      "source": [
        "RUNNING FOR ALL 10 QUERIES"
      ],
      "metadata": {
        "id": "w8ygRE1kCH8I"
      }
    },
    {
      "cell_type": "code",
      "source": [
        "cosine_averages_cnn=[]\n",
        "\n",
        "for i, query in enumerate(query_db['tokenized_query']):\n",
        "    print('========================================================================')\n",
        "    print(f\"Processing Query {i+1}...\\n\")\n",
        "    print('==========================================================================')\n",
        "\n",
        "    # Transform the query data\n",
        "\n",
        "    vector_query = tokens_to_vectors(query.split()).reshape(1, -1)\n",
        "\n",
        "    # Predict cluster label for query\n",
        "    # y_test = rf.predict(vector_query)\n",
        "    model.predict(vector_query)\n",
        "    print(\"Predicted cluster label:\", y_test)\n",
        "\n",
        "\n",
        "    # Create the updated dataframe using the prvious predicted cluster\n",
        "    df_updated = df_data_final[df_data_final['cluster_label'] == y_test[0]].copy()\n",
        "\n",
        "    # Reset the index of the new DataFrame\n",
        "    df_updated.reset_index(drop=True, inplace=True)\n",
        "    from sklearn.metrics.pairwise import cosine_distances\n",
        "\n",
        "    # Compute cosine distances between vector_query and all vectors in df_data_final\n",
        "    distances = cosine_distances(vector_query, np.stack(df_updated['vectors'].values))\n",
        "\n",
        "    # Find the indices of the 5 most similar rows\n",
        "    # top_indices = np.argsort(distances)[0][:5]\n",
        "    top_indices = np.argsort(distances)[0][::-1][:5]\n",
        "    # Retrieve the corresponding rows from df_data_final\n",
        "    most_similar_rows = df_updated.iloc[top_indices]\n",
        "\n",
        "    # Print the most similar rows\n",
        "\n",
        "    print('5 Most Similar Papers')\n",
        "    # most_similar_rows = most_similar_rows[['title','body_text']]\n",
        "\n",
        "    print(most_similar_rows[['title','body_text']])\n",
        "\n",
        "    print('Average Cosine Similarity of query with 5 papers')\n",
        "    average = np.mean(1-distances[0][top_indices])\n",
        "    cosine_averages_cnn.append(average)\n",
        "    print(average)"
      ],
      "metadata": {
        "colab": {
          "base_uri": "https://localhost:8080/"
        },
        "id": "XQ3ee1eVBzf5",
        "outputId": "6f1dee26-2206-44b2-de6f-25750cbddaac"
      },
      "execution_count": null,
      "outputs": [
        {
          "output_type": "stream",
          "name": "stdout",
          "text": [
            "========================================================================\n",
            "Processing Query 1...\n",
            "\n",
            "==========================================================================\n",
            "1/1 [==============================] - 0s 32ms/step\n",
            "Predicted cluster label: [0]\n",
            "5 Most Similar Papers\n",
            "                                                  title  \\\n",
            "2353  Correction to: At the US Epicenter of the COVI...   \n",
            "1408  Music Therapy for the Treatment of Patients Wi...   \n",
            "1289                                                      \n",
            "1242  To cite: Saad NJ. The Al Hol camp in Northeast...   \n",
            "1372  Changes in the pattern of Heart Failure and Di...   \n",
            "\n",
            "                                              body_text  \n",
            "2353  The published article listed co-authors in a c...  \n",
            "1408  Nurses, doctors, and counselors/psychologists ...  \n",
            "1289  In 1969 man landed on the moon, how can we als...  \n",
            "1242  With the world in the grip of COVID-19 pandemi...  \n",
            "1372  . The data were collected from Jan 11 th to Ju...  \n",
            "Average Cosine Similarity of query with 5 papers\n",
            "0.8163182\n",
            "========================================================================\n",
            "Processing Query 2...\n",
            "\n",
            "==========================================================================\n",
            "1/1 [==============================] - 0s 39ms/step\n",
            "Predicted cluster label: [0]\n",
            "5 Most Similar Papers\n",
            "                                                  title  \\\n",
            "2353  Correction to: At the US Epicenter of the COVI...   \n",
            "1408  Music Therapy for the Treatment of Patients Wi...   \n",
            "1289                                                      \n",
            "1242  To cite: Saad NJ. The Al Hol camp in Northeast...   \n",
            "519            Against COVID-19: Inspired by Greek Myth   \n",
            "\n",
            "                                              body_text  \n",
            "2353  The published article listed co-authors in a c...  \n",
            "1408  Nurses, doctors, and counselors/psychologists ...  \n",
            "1289  In 1969 man landed on the moon, how can we als...  \n",
            "1242  With the world in the grip of COVID-19 pandemi...  \n",
            "519   Dear Sirs, We read the article 'Physician deat...  \n",
            "Average Cosine Similarity of query with 5 papers\n",
            "0.79062927\n",
            "========================================================================\n",
            "Processing Query 3...\n",
            "\n",
            "==========================================================================\n",
            "1/1 [==============================] - 0s 36ms/step\n",
            "Predicted cluster label: [0]\n",
            "5 Most Similar Papers\n",
            "                                                  title  \\\n",
            "1408  Music Therapy for the Treatment of Patients Wi...   \n",
            "2353  Correction to: At the US Epicenter of the COVI...   \n",
            "519            Against COVID-19: Inspired by Greek Myth   \n",
            "1471                                                      \n",
            "1289                                                      \n",
            "\n",
            "                                              body_text  \n",
            "1408  Nurses, doctors, and counselors/psychologists ...  \n",
            "2353  The published article listed co-authors in a c...  \n",
            "519   Dear Sirs, We read the article 'Physician deat...  \n",
            "1471  #.$.)-.)%-0 >ovRhhy{R{cy{cURhRlRhyZy (Uol[cvi{...  \n",
            "1289  In 1969 man landed on the moon, how can we als...  \n",
            "Average Cosine Similarity of query with 5 papers\n",
            "0.780982\n",
            "========================================================================\n",
            "Processing Query 4...\n",
            "\n",
            "==========================================================================\n",
            "1/1 [==============================] - 0s 30ms/step\n",
            "Predicted cluster label: [0]\n",
            "5 Most Similar Papers\n",
            "                                                  title  \\\n",
            "1408  Music Therapy for the Treatment of Patients Wi...   \n",
            "519            Against COVID-19: Inspired by Greek Myth   \n",
            "2353  Correction to: At the US Epicenter of the COVI...   \n",
            "1471                                                      \n",
            "1289                                                      \n",
            "\n",
            "                                              body_text  \n",
            "1408  Nurses, doctors, and counselors/psychologists ...  \n",
            "519   Dear Sirs, We read the article 'Physician deat...  \n",
            "2353  The published article listed co-authors in a c...  \n",
            "1471  #.$.)-.)%-0 >ovRhhy{R{cy{cURhRlRhyZy (Uol[cvi{...  \n",
            "1289  In 1969 man landed on the moon, how can we als...  \n",
            "Average Cosine Similarity of query with 5 papers\n",
            "0.83354366\n",
            "========================================================================\n",
            "Processing Query 5...\n",
            "\n",
            "==========================================================================\n",
            "1/1 [==============================] - 0s 43ms/step\n",
            "Predicted cluster label: [0]\n",
            "5 Most Similar Papers\n",
            "                                                  title  \\\n",
            "2353  Correction to: At the US Epicenter of the COVI...   \n",
            "1408  Music Therapy for the Treatment of Patients Wi...   \n",
            "519            Against COVID-19: Inspired by Greek Myth   \n",
            "1289                                                      \n",
            "1242  To cite: Saad NJ. The Al Hol camp in Northeast...   \n",
            "\n",
            "                                              body_text  \n",
            "2353  The published article listed co-authors in a c...  \n",
            "1408  Nurses, doctors, and counselors/psychologists ...  \n",
            "519   Dear Sirs, We read the article 'Physician deat...  \n",
            "1289  In 1969 man landed on the moon, how can we als...  \n",
            "1242  With the world in the grip of COVID-19 pandemi...  \n",
            "Average Cosine Similarity of query with 5 papers\n",
            "0.7746641\n",
            "========================================================================\n",
            "Processing Query 6...\n",
            "\n",
            "==========================================================================\n",
            "1/1 [==============================] - 0s 33ms/step\n",
            "Predicted cluster label: [0]\n",
            "5 Most Similar Papers\n",
            "                                                  title  \\\n",
            "1408  Music Therapy for the Treatment of Patients Wi...   \n",
            "2353  Correction to: At the US Epicenter of the COVI...   \n",
            "519            Against COVID-19: Inspired by Greek Myth   \n",
            "244   Investigation of a family outbreak of COVID-19...   \n",
            "1471                                                      \n",
            "\n",
            "                                              body_text  \n",
            "1408  Nurses, doctors, and counselors/psychologists ...  \n",
            "2353  The published article listed co-authors in a c...  \n",
            "519   Dear Sirs, We read the article 'Physician deat...  \n",
            "244   We read with interest the letter by Jiang and ...  \n",
            "1471  #.$.)-.)%-0 >ovRhhy{R{cy{cURhRlRhyZy (Uol[cvi{...  \n",
            "Average Cosine Similarity of query with 5 papers\n",
            "0.8126706\n",
            "========================================================================\n",
            "Processing Query 7...\n",
            "\n",
            "==========================================================================\n",
            "1/1 [==============================] - 0s 46ms/step\n",
            "Predicted cluster label: [0]\n",
            "5 Most Similar Papers\n",
            "                                                  title  \\\n",
            "1408  Music Therapy for the Treatment of Patients Wi...   \n",
            "519            Against COVID-19: Inspired by Greek Myth   \n",
            "2353  Correction to: At the US Epicenter of the COVI...   \n",
            "710   Correction to: Incidence, clinical features, a...   \n",
            "1289                                                      \n",
            "\n",
            "                                              body_text  \n",
            "1408  Nurses, doctors, and counselors/psychologists ...  \n",
            "519   Dear Sirs, We read the article 'Physician deat...  \n",
            "2353  The published article listed co-authors in a c...  \n",
            "710   Age, sex, and occupation disaggregated COVID-1...  \n",
            "1289  In 1969 man landed on the moon, how can we als...  \n",
            "Average Cosine Similarity of query with 5 papers\n",
            "0.8075408\n",
            "========================================================================\n",
            "Processing Query 8...\n",
            "\n",
            "==========================================================================\n",
            "1/1 [==============================] - 0s 26ms/step\n",
            "Predicted cluster label: [0]\n",
            "5 Most Similar Papers\n",
            "                                                  title  \\\n",
            "2353  Correction to: At the US Epicenter of the COVI...   \n",
            "1408  Music Therapy for the Treatment of Patients Wi...   \n",
            "519            Against COVID-19: Inspired by Greek Myth   \n",
            "1289                                                      \n",
            "710   Correction to: Incidence, clinical features, a...   \n",
            "\n",
            "                                              body_text  \n",
            "2353  The published article listed co-authors in a c...  \n",
            "1408  Nurses, doctors, and counselors/psychologists ...  \n",
            "519   Dear Sirs, We read the article 'Physician deat...  \n",
            "1289  In 1969 man landed on the moon, how can we als...  \n",
            "710   Age, sex, and occupation disaggregated COVID-1...  \n",
            "Average Cosine Similarity of query with 5 papers\n",
            "0.8355192\n",
            "========================================================================\n",
            "Processing Query 9...\n",
            "\n",
            "==========================================================================\n",
            "1/1 [==============================] - 0s 26ms/step\n",
            "Predicted cluster label: [0]\n",
            "5 Most Similar Papers\n",
            "                                                  title  \\\n",
            "1408  Music Therapy for the Treatment of Patients Wi...   \n",
            "519            Against COVID-19: Inspired by Greek Myth   \n",
            "2353  Correction to: At the US Epicenter of the COVI...   \n",
            "1289                                                      \n",
            "1471                                                      \n",
            "\n",
            "                                              body_text  \n",
            "1408  Nurses, doctors, and counselors/psychologists ...  \n",
            "519   Dear Sirs, We read the article 'Physician deat...  \n",
            "2353  The published article listed co-authors in a c...  \n",
            "1289  In 1969 man landed on the moon, how can we als...  \n",
            "1471  #.$.)-.)%-0 >ovRhhy{R{cy{cURhRlRhyZy (Uol[cvi{...  \n",
            "Average Cosine Similarity of query with 5 papers\n",
            "0.8041363\n"
          ]
        }
      ]
    },
    {
      "cell_type": "markdown",
      "source": [
        "Comparing the 3 models"
      ],
      "metadata": {
        "id": "0zx0nl_KFIR7"
      }
    },
    {
      "cell_type": "code",
      "source": [
        "cosine_averages ## For SVM"
      ],
      "metadata": {
        "colab": {
          "base_uri": "https://localhost:8080/"
        },
        "id": "e9q3ATkr_x6a",
        "outputId": "2c157be9-d4af-4274-ccd7-5125cc43e184"
      },
      "execution_count": null,
      "outputs": [
        {
          "output_type": "execute_result",
          "data": {
            "text/plain": [
              "[0.8477316,\n",
              " 0.8312985,\n",
              " 0.8146551,\n",
              " 0.83354366,\n",
              " 0.803642,\n",
              " 0.8097035,\n",
              " 0.81958944,\n",
              " 0.8355192,\n",
              " 0.8041363]"
            ]
          },
          "metadata": {},
          "execution_count": 25
        }
      ]
    },
    {
      "cell_type": "code",
      "source": [
        "cosine_averages_random_forest"
      ],
      "metadata": {
        "colab": {
          "base_uri": "https://localhost:8080/"
        },
        "id": "DW16Ulml_vRo",
        "outputId": "1455ded1-be5e-48ce-9105-3ff1022e55d3"
      },
      "execution_count": null,
      "outputs": [
        {
          "output_type": "execute_result",
          "data": {
            "text/plain": [
              "[0.8477316,\n",
              " 0.8312985,\n",
              " 0.65994734,\n",
              " 0.8311782,\n",
              " 0.803642,\n",
              " 0.8097035,\n",
              " 0.8075408,\n",
              " 0.8355192,\n",
              " 0.8041363]"
            ]
          },
          "metadata": {},
          "execution_count": 24
        }
      ]
    },
    {
      "cell_type": "code",
      "source": [
        "cosine_averages_cnn"
      ],
      "metadata": {
        "colab": {
          "base_uri": "https://localhost:8080/"
        },
        "id": "lkMPSRm9Dfso",
        "outputId": "c3e575b3-4a03-49af-a36c-ff8c139d44cb"
      },
      "execution_count": null,
      "outputs": [
        {
          "output_type": "execute_result",
          "data": {
            "text/plain": [
              "[0.8163182,\n",
              " 0.79062927,\n",
              " 0.780982,\n",
              " 0.83354366,\n",
              " 0.7746641,\n",
              " 0.8126706,\n",
              " 0.8075408,\n",
              " 0.8355192,\n",
              " 0.8041363]"
            ]
          },
          "metadata": {},
          "execution_count": 34
        }
      ]
    },
    {
      "cell_type": "markdown",
      "metadata": {
        "id": "qg2F5KlCpgSA"
      },
      "source": [
        "## Latent Dirichlet Allocation (LDA)\n",
        "#### By Naresh Kumar Kaushal"
      ]
    },
    {
      "cell_type": "code",
      "execution_count": null,
      "metadata": {
        "id": "04wv8Nc9YP_0"
      },
      "outputs": [],
      "source": [
        "dictionary = Dictionary(df_data_final[\"tokens\"])\n",
        "# Filter out words that occur less than 20 documents, or more than 50% of the documents.\n",
        "dictionary.filter_extremes(no_below=20, no_above=0.5)"
      ]
    },
    {
      "cell_type": "code",
      "execution_count": null,
      "metadata": {
        "id": "Pb-t-NnYZX5L"
      },
      "outputs": [],
      "source": [
        "query_bows = [dictionary.doc2bow(x) for x in query_db['query_tokens'].values]"
      ]
    },
    {
      "cell_type": "code",
      "execution_count": null,
      "metadata": {
        "id": "PRl7KN5cYf2N",
        "colab": {
          "base_uri": "https://localhost:8080/"
        },
        "outputId": "3ceb8f62-5ec7-4c12-ca31-6a4acf85e1d6"
      },
      "outputs": [
        {
          "output_type": "stream",
          "name": "stderr",
          "text": [
            "/usr/local/lib/python3.10/dist-packages/ipykernel/ipkernel.py:283: DeprecationWarning: `should_run_async` will not call `transform_cell` automatically in the future. Please pass the result to `transformed_cell` argument and any exception that happen during thetransform in `preprocessing_exc_tuple` in IPython 7.17 and above.\n",
            "  and should_run_async(code)\n"
          ]
        },
        {
          "output_type": "execute_result",
          "data": {
            "text/plain": [
              "0        [(0, 2), (1, 1), (2, 1), (3, 6), (4, 1), (5, 1...\n",
              "1        [(0, 1), (31, 2), (34, 1), (77, 1), (118, 1), ...\n",
              "2        [(0, 11), (3, 12), (12, 17), (15, 2), (18, 2),...\n",
              "3        [(3, 9), (5, 1), (8, 1), (12, 3), (15, 1), (19...\n",
              "4        [(0, 2), (1, 1), (2, 1), (6, 1), (7, 2), (9, 4...\n",
              "                               ...                        \n",
              "14687    [(3, 2), (18, 2), (19, 1), (27, 2), (35, 1), (...\n",
              "14688    [(3, 47), (4, 1), (5, 2), (8, 2), (15, 4), (16...\n",
              "14689    [(0, 1), (1, 1), (2, 2), (3, 7), (7, 1), (18, ...\n",
              "14690    [(0, 2), (2, 1), (3, 1), (7, 2), (9, 6), (18, ...\n",
              "14691    [(0, 7), (1, 1), (3, 4), (7, 1), (8, 1), (12, ...\n",
              "Name: tokens, Length: 14692, dtype: object"
            ]
          },
          "metadata": {},
          "execution_count": 21
        }
      ],
      "source": [
        "corpus = df_data_final[\"tokens\"].apply(lambda x: dictionary.doc2bow(x))\n",
        "corpus"
      ]
    },
    {
      "cell_type": "code",
      "execution_count": null,
      "metadata": {
        "id": "9kcS-wJkZBoL"
      },
      "outputs": [],
      "source": [
        "lda = LdaMulticore(corpus, id2word=dictionary, num_topics=10, workers = 4, chunksize=200, passes=10, random_state = 100)"
      ]
    },
    {
      "cell_type": "code",
      "execution_count": null,
      "metadata": {
        "id": "Qiij5u0idmYw"
      },
      "outputs": [],
      "source": [
        "lda.save(\"lda_model\")"
      ]
    },
    {
      "cell_type": "code",
      "execution_count": null,
      "metadata": {
        "id": "v_B9DWO_duTZ"
      },
      "outputs": [],
      "source": [
        "lda = models.LdaModel.load(\"/content/drive/MyDrive/STA221/lda_model/model3/lda_model\")"
      ]
    },
    {
      "cell_type": "code",
      "execution_count": null,
      "metadata": {
        "id": "VV6ETxiAZOu_",
        "colab": {
          "base_uri": "https://localhost:8080/"
        },
        "outputId": "e12ed78b-9247-4532-f762-86615854dcd8"
      },
      "outputs": [
        {
          "output_type": "stream",
          "name": "stderr",
          "text": [
            "/usr/local/lib/python3.10/dist-packages/ipykernel/ipkernel.py:283: DeprecationWarning: `should_run_async` will not call `transform_cell` automatically in the future. Please pass the result to `transformed_cell` argument and any exception that happen during thetransform in `preprocessing_exc_tuple` in IPython 7.17 and above.\n",
            "  and should_run_async(code)\n"
          ]
        },
        {
          "output_type": "execute_result",
          "data": {
            "text/plain": [
              "[(0,\n",
              "  '0.017*\"participant\" + 0.009*\"social\" + 0.009*\"child\" + 0.008*\"mental\" + 0.008*\"student\" + 0.007*\"survey\" + 0.007*\"anxiety\" + 0.006*\"score\" + 0.006*\"people\" + 0.006*\"age\"'),\n",
              " (1,\n",
              "  '0.008*\"hospital\" + 0.007*\"trial\" + 0.007*\"sarscov\" + 0.006*\"symptom\" + 0.006*\"testing\" + 0.006*\"participant\" + 0.005*\"cancer\" + 0.005*\"review\" + 0.005*\"month\" + 0.004*\"woman\"'),\n",
              " (2,\n",
              "  '0.006*\"service\" + 0.006*\"social\" + 0.005*\"community\" + 0.005*\"public\" + 0.004*\"people\" + 0.004*\"experience\" + 0.004*\"practice\" + 0.004*\"student\" + 0.003*\"technology\" + 0.003*\"medical\"'),\n",
              " (3,\n",
              "  '0.017*\"sarscov\" + 0.014*\"protein\" + 0.007*\"cell\" + 0.007*\"viral\" + 0.007*\"antibody\" + 0.006*\"rna\" + 0.006*\"assay\" + 0.006*\"binding\" + 0.006*\"sequence\" + 0.005*\"structure\"'),\n",
              " (4,\n",
              "  '0.008*\"learning\" + 0.008*\"image\" + 0.007*\"network\" + 0.007*\"feature\" + 0.006*\"performance\" + 0.006*\"set\" + 0.005*\"algorithm\" + 0.005*\"proposed\" + 0.004*\"training\" + 0.004*\"dataset\"'),\n",
              " (5,\n",
              "  '0.036*\"cell\" + 0.009*\"immune\" + 0.009*\"expression\" + 0.009*\"sarscov\" + 0.008*\"gene\" + 0.008*\"protein\" + 0.007*\"mouse\" + 0.007*\"viral\" + 0.006*\"human\" + 0.006*\"lung\"'),\n",
              " (6,\n",
              "  '0.010*\"mortality\" + 0.008*\"respiratory\" + 0.007*\"hospital\" + 0.006*\"admission\" + 0.006*\"symptom\" + 0.006*\"acute\" + 0.006*\"icu\" + 0.005*\"lung\" + 0.005*\"age\" + 0.005*\"blood\"'),\n",
              " (7,\n",
              "  '0.011*\"country\" + 0.008*\"economic\" + 0.008*\"policy\" + 0.007*\"market\" + 0.006*\"cost\" + 0.005*\"variable\" + 0.005*\"government\" + 0.005*\"industry\" + 0.004*\"sector\" + 0.004*\"price\"'),\n",
              " (8,\n",
              "  '0.008*\"death\" + 0.008*\"transmission\" + 0.008*\"infected\" + 0.008*\"country\" + 0.007*\"epidemic\" + 0.007*\"contact\" + 0.006*\"display\" + 0.006*\"outbreak\" + 0.006*\"granted\" + 0.006*\"spread\"'),\n",
              " (9,\n",
              "  '0.047*\"vaccine\" + 0.023*\"vaccination\" + 0.016*\"food\" + 0.013*\"mask\" + 0.006*\"water\" + 0.006*\"vaccinated\" + 0.006*\"product\" + 0.005*\"animal\" + 0.004*\"face\" + 0.004*\"protection\"')]"
            ]
          },
          "metadata": {},
          "execution_count": 51
        }
      ],
      "source": [
        "lda.print_topics()[:10]"
      ]
    },
    {
      "cell_type": "code",
      "execution_count": null,
      "metadata": {
        "id": "fPhlmmKRZ7or",
        "colab": {
          "base_uri": "https://localhost:8080/",
          "height": 917
        },
        "outputId": "f392316f-3173-4a44-8e43-547110adde79"
      },
      "outputs": [
        {
          "output_type": "stream",
          "name": "stderr",
          "text": [
            "/usr/local/lib/python3.10/dist-packages/ipykernel/ipkernel.py:283: DeprecationWarning: `should_run_async` will not call `transform_cell` automatically in the future. Please pass the result to `transformed_cell` argument and any exception that happen during thetransform in `preprocessing_exc_tuple` in IPython 7.17 and above.\n",
            "  and should_run_async(code)\n"
          ]
        },
        {
          "output_type": "execute_result",
          "data": {
            "text/plain": [
              "PreparedData(topic_coordinates=              x         y  topics  cluster       Freq\n",
              "topic                                                \n",
              "2     -0.157577 -0.004116       1        1  17.036241\n",
              "0     -0.116544 -0.112766       2        1  11.186576\n",
              "3      0.188284  0.155175       3        1  11.115007\n",
              "1      0.016339 -0.159314       4        1  10.777018\n",
              "4     -0.062085  0.132152       5        1  10.190506\n",
              "5      0.256875  0.014782       6        1  10.105147\n",
              "8     -0.054173  0.036917       7        1   9.668334\n",
              "6      0.108171 -0.183951       8        1   8.996886\n",
              "7     -0.140379  0.092505       9        1   6.258070\n",
              "9     -0.038911  0.028615      10        1   4.666216, topic_info=             Term          Freq         Total Category  logprob  loglift\n",
              "1735         cell  87729.000000  87729.000000  Default  30.0000  30.0000\n",
              "2369      vaccine  46168.000000  46168.000000  Default  29.0000  29.0000\n",
              "1044  participant  57249.000000  57249.000000  Default  28.0000  28.0000\n",
              "2201      protein  46225.000000  46225.000000  Default  27.0000  27.0000\n",
              "738       sarscov  83449.000000  83449.000000  Default  26.0000  26.0000\n",
              "...           ...           ...           ...      ...      ...      ...\n",
              "1353        human   3026.421928  33875.852269  Topic10  -5.7133   0.6495\n",
              "458       country   2835.018416  41944.458559  Topic10  -5.7786   0.3705\n",
              "3011  environment   2395.693772  14816.558789  Topic10  -5.9470   1.2427\n",
              "195     effective   2373.707608  18928.907132  Topic10  -5.9562   0.9886\n",
              "207      exposure   2339.820852  15834.441841  Topic10  -5.9706   1.1527\n",
              "\n",
              "[922 rows x 6 columns], token_table=       Topic      Freq         Term\n",
              "term                               \n",
              "21943      7  0.995275          abm\n",
              "844        2  0.002275  abnormality\n",
              "844        4  0.048145  abnormality\n",
              "844        5  0.019713  abnormality\n",
              "844        6  0.062551  abnormality\n",
              "...      ...       ...          ...\n",
              "17361      9  0.994427          wto\n",
              "19083      4  0.997762        xpert\n",
              "16975      9  0.996227      yangtze\n",
              "6345       1  0.996304        youre\n",
              "20168      7  0.998593          μgm\n",
              "\n",
              "[3607 rows x 3 columns], R=30, lambda_step=0.01, plot_opts={'xlab': 'PC1', 'ylab': 'PC2'}, topic_order=[3, 1, 4, 2, 5, 6, 9, 7, 8, 10])"
            ],
            "text/html": [
              "\n",
              "<link rel=\"stylesheet\" type=\"text/css\" href=\"https://cdn.jsdelivr.net/gh/bmabey/pyLDAvis@3.4.0/pyLDAvis/js/ldavis.v1.0.0.css\">\n",
              "\n",
              "\n",
              "<div id=\"ldavis_el385881406714895155689377551311\" style=\"background-color:white;\"></div>\n",
              "<script type=\"text/javascript\">\n",
              "\n",
              "var ldavis_el385881406714895155689377551311_data = {\"mdsDat\": {\"x\": [-0.157576910142894, -0.11654405205439704, 0.18828377648094885, 0.016339147303354912, -0.06208485791786625, 0.25687507070214727, -0.05417302677892197, 0.10817090380284869, -0.1403789675936607, -0.03891108380155911], \"y\": [-0.004115982454654409, -0.11276556162042378, 0.1551751373327397, -0.15931363447273572, 0.13215166495406955, 0.014782187436855481, 0.03691689703983671, -0.18395085710650147, 0.09250476287293878, 0.028615386017874892], \"topics\": [1, 2, 3, 4, 5, 6, 7, 8, 9, 10], \"cluster\": [1, 1, 1, 1, 1, 1, 1, 1, 1, 1], \"Freq\": [17.03624116025482, 11.18657562171884, 11.11500709145473, 10.777017765419016, 10.19050599821233, 10.105146718865178, 9.668333882580965, 8.996886430384073, 6.258069559595722, 4.666215771514325]}, \"tinfo\": {\"Term\": [\"cell\", \"vaccine\", \"participant\", \"protein\", \"sarscov\", \"vaccination\", \"country\", \"food\", \"social\", \"hospital\", \"mental\", \"student\", \"mask\", \"learning\", \"expression\", \"gene\", \"symptom\", \"immune\", \"mortality\", \"viral\", \"child\", \"antibody\", \"lung\", \"policy\", \"anxiety\", \"image\", \"mouse\", \"service\", \"death\", \"transmission\", \"applicant\", \"participatory\", \"subthemes\", \"cyber\", \"capitalism\", \"coproduction\", \"organisational\", \"servant\", \"theyre\", \"videoconferencing\", \"justice\", \"youre\", \"mentor\", \"ritual\", \"cybersecurity\", \"panelist\", \"dignity\", \"neoliberal\", \"ideological\", \"workfamily\", \"verbatim\", \"webinar\", \"misconduct\", \"transformative\", \"court\", \"rapport\", \"interprofessional\", \"mentoring\", \"nvivo\", \"diplomacy\", \"leadership\", \"workshop\", \"facilitator\", \"discourse\", \"thematic\", \"theme\", \"dialogue\", \"digitalization\", \"agile\", \"curriculum\", \"stakeholder\", \"competency\", \"leader\", \"advocacy\", \"thats\", \"racism\", \"apps\", \"story\", \"pharmacist\", \"interviewee\", \"telehealth\", \"educator\", \"actor\", \"career\", \"client\", \"organizational\", \"moral\", \"communication\", \"thing\", \"trust\", \"organisation\", \"service\", \"digital\", \"interview\", \"community\", \"collaboration\", \"team\", \"virtual\", \"opportunity\", \"privacy\", \"practice\", \"professional\", \"technology\", \"project\", \"provider\", \"experience\", \"challenge\", \"program\", \"resource\", \"skill\", \"discussion\", \"public\", \"access\", \"education\", \"social\", \"issue\", \"way\", \"member\", \"implementation\", \"organization\", \"online\", \"people\", \"healthcare\", \"knowledge\", \"student\", \"medical\", \"example\", \"context\", \"training\", \"question\", \"development\", \"management\", \"state\", \"depressive\", \"loneliness\", \"ptsd\", \"cronbachs\", \"subscale\", \"subscales\", \"suicidal\", \"phq\", \"gad\", \"psychometric\", \"selfcompassion\", \"boredom\", \"osa\", \"cisgender\", \"psychopathology\", \"psqi\", \"neuroticism\", \"rmsea\", \"hopelessness\", \"das\", \"likerttype\", \"maltreatment\", \"bedtime\", \"binge\", \"perfectionism\", \"conscientiousness\", \"depersonalization\", \"selfrated\", \"marital\", \"selfharm\", \"anxiety\", \"depression\", \"parenting\", \"insomnia\", \"sleep\", \"asd\", \"selfesteem\", \"likert\", \"mindfulness\", \"mental\", \"psychological\", \"suicide\", \"coping\", \"qol\", \"sedentary\", \"mood\", \"emotional\", \"stressor\", \"adolescent\", \"questionnaire\", \"parent\", \"sociodemographic\", \"respondent\", \"item\", \"cognitive\", \"perceived\", \"emotion\", \"psychiatric\", \"survey\", \"participant\", \"stress\", \"gender\", \"child\", \"wellbeing\", \"behavior\", \"exercise\", \"physical\", \"satisfaction\", \"attitude\", \"perception\", \"student\", \"scale\", \"school\", \"score\", \"older\", \"social\", \"family\", \"adult\", \"age\", \"variable\", \"people\", \"intervention\", \"woman\", \"activity\", \"symptom\", \"relationship\", \"life\", \"primer\", \"hydrophobic\", \"plasmid\", \"nsp\", \"phage\", \"electrostatic\", \"nabs\", \"codon\", \"rtlamp\", \"biosensor\", \"kcalmol\", \"microfluidic\", \"cryoem\", \"utr\", \"electrochemical\", \"trimer\", \"absorbance\", \"covalent\", \"nanomaterials\", \"pdb\", \"dmem\", \"pseudotyped\", \"rmsd\", \"cys\", \"mpro\", \"physicochemical\", \"dmso\", \"analyte\", \"clpro\", \"eluted\", \"residue\", \"rbd\", \"docking\", \"epitope\", \"fluorescence\", \"rdrp\", \"mabs\", \"conformation\", \"nanoparticles\", \"conformational\", \"pseudovirus\", \"aqueous\", \"dilution\", \"neutralization\", \"polymer\", \"coating\", \"bead\", \"incubated\", \"orf\", \"solvent\", \"plate\", \"crystal\", \"genome\", \"compound\", \"assay\", \"mutation\", \"diluted\", \"binding\", \"amino\", \"spike\", \"vero\", \"rna\", \"peptide\", \"sequence\", \"buffer\", \"protein\", \"neutralizing\", \"affinity\", \"acid\", \"sarscov\", \"mutant\", \"antibody\", \"surface\", \"concentration\", \"structure\", \"min\", \"viral\", \"variant\", \"dna\", \"detection\", \"molecular\", \"site\", \"interaction\", \"cell\", \"complex\", \"target\", \"activity\", \"drug\", \"human\", \"gene\", \"endoscopy\", \"preoperative\", \"hcw\", \"xpert\", \"obstetric\", \"appendicitis\", \"laparoscopic\", \"randomisation\", \"colonoscopy\", \"stillbirth\", \"endoscope\", \"cesarean\", \"selftesting\", \"retesting\", \"dsmb\", \"mdt\", \"anaesthetic\", \"nicu\", \"neoadjuvant\", \"saes\", \"unblinded\", \"endoscopic\", \"appendectomy\", \"gynecologic\", \"ophthalmology\", \"auml\", \"agps\", \"acupuncture\", \"ecrf\", \"consort\", \"surgery\", \"blinding\", \"preterm\", \"dental\", \"aerosolgenerating\", \"surgeon\", \"antenatal\", \"anaesthesia\", \"oncologist\", \"pregnant\", \"postoperative\", \"paediatric\", \"cochrane\", \"breastfeeding\", \"aes\", \"pregnancy\", \"gestational\", \"elective\", \"randomised\", \"infant\", \"dentist\", \"surgical\", \"radiotherapy\", \"visit\", \"rcts\", \"ect\", \"clinic\", \"neonatal\", \"trial\", \"arm\", \"maternal\", \"cancer\", \"referral\", \"outpatient\", \"screening\", \"fracture\", \"breast\", \"placebo\", \"investigator\", \"testing\", \"hospital\", \"procedure\", \"protocol\", \"diagnostic\", \"month\", \"pain\", \"followup\", \"review\", \"woman\", \"symptom\", \"medication\", \"primary\", \"week\", \"diagnosis\", \"guideline\", \"staff\", \"assessment\", \"participant\", \"sarscov\", \"standard\", \"antibody\", \"healthcare\", \"medical\", \"intervention\", \"evidence\", \"cohort\", \"therapy\", \"negative\", \"classifier\", \"cnn\", \"convolutional\", \"pretrained\", \"lstm\", \"resnet\", \"embeddings\", \"encoder\", \"vgg\", \"svm\", \"unet\", \"fscore\", \"densenet\", \"annotator\", \"transformer\", \"imagenet\", \"decoder\", \"ble\", \"pretraining\", \"segmentation\", \"antenna\", \"cnns\", \"optimizer\", \"autoencoder\", \"moocs\", \"rnn\", \"malware\", \"tensor\", \"bert\", \"mlp\", \"tweet\", \"robot\", \"epoch\", \"convolution\", \"semantic\", \"pixel\", \"spam\", \"preprocessing\", \"outperforms\", \"algorithm\", \"iot\", \"image\", \"neural\", \"architecture\", \"dataset\", \"machine\", \"edge\", \"layer\", \"accuracy\", \"datasets\", \"feature\", \"graph\", \"learning\", \"task\", \"classification\", \"network\", \"performance\", \"deep\", \"node\", \"input\", \"computing\", \"proposed\", \"prediction\", \"output\", \"user\", \"set\", \"class\", \"training\", \"device\", \"technique\", \"section\", \"experiment\", \"application\", \"function\", \"problem\", \"step\", \"parameter\", \"example\", \"size\", \"score\", \"tlr\", \"tnf\\u03b1\", \"upregulated\", \"nlrp\", \"il\\u03b2\", \"nf\\u03bab\", \"inflammasome\", \"myeloid\", \"ifn\", \"chemokines\", \"downregulated\", \"cxcl\", \"autophagy\", \"tcells\", \"tnf\", \"mmp\", \"ifns\", \"caspase\", \"chemokine\", \"tgf\\u03b2\", \"degs\", \"microglia\", \"mir\", \"scrnaseq\", \"ttp\", \"macrophage\", \"organoids\", \"lymphoid\", \"ifn\\u03b1\", \"nfkb\", \"apoptosis\", \"exosomes\", \"ifn\\u03b3\", \"upregulation\", \"downregulation\", \"signaling\", \"stat\", \"epithelial\", \"monocyte\", \"epithelium\", \"mitochondrial\", \"microbiota\", \"mouse\", \"innate\", \"proinflammatory\", \"cytokine\", \"expression\", \"cell\", \"interferon\", \"gut\", \"immune\", \"tissue\", \"oxidative\", \"activation\", \"pathway\", \"metabolism\", \"inflammation\", \"gene\", \"endothelial\", \"receptor\", \"vitamin\", \"ace\", \"tumor\", \"neutrophil\", \"inflammatory\", \"cellular\", \"antiinflammatory\", \"lung\", \"viral\", \"protein\", \"mechanism\", \"human\", \"brain\", \"drug\", \"sarscov\", \"host\", \"production\", \"function\", \"therapeutic\", \"activity\", \"blood\", \"infected\", \"cancer\", \"seir\", \"compartmental\", \"dynamical\", \"epiisl\", \"ifr\", \"\\u03bcgm\", \"npis\", \"snvs\", \"ccbync\", \"ccbynd\", \"susceptibles\", \"withinhost\", \"superspreading\", \"cfd\", \"purifier\", \"metapopulation\", \"meanfield\", \"mcmc\", \"abm\", \"attractor\", \"manaus\", \"cfrs\", \"morans\", \"snv\", \"superspreaders\", \"ccbyncnd\", \"rki\", \"wellmixed\", \"nextstrain\", \"virusladen\", \"authorfunder\", \"perpetuity\", \"httpsdoiorg\", \"holder\", \"posted\", \"infectiousness\", \"npi\", \"ihme\", \"granted\", \"ccby\", \"sir\", \"cfr\", \"epidemic\", \"display\", \"ode\", \"nonpharmaceutical\", \"asymptotically\", \"transmission\", \"reproduction\", \"exponential\", \"county\", \"meteorological\", \"tracing\", \"outbreak\", \"spread\", \"infected\", \"susceptible\", \"contact\", \"quarantine\", \"fatality\", \"wave\", \"epidemiological\", \"death\", \"version\", \"estimate\", \"infectious\", \"international\", \"droplet\", \"parameter\", \"peak\", \"country\", \"air\", \"scenario\", \"distribution\", \"march\", \"lockdown\", \"state\", \"daily\", \"testing\", \"region\", \"people\", \"confirmed\", \"public\", \"sarscov\", \"ecmo\", \"ddimer\", \"vte\", \"troponin\", \"hfnc\", \"fio\", \"spo\", \"echocardiography\", \"groundglass\", \"hbac\", \"peep\", \"nonsurvivors\", \"imv\", \"cpap\", \"ild\", \"qtc\", \"vasopressor\", \"stemi\", \"misc\", \"anticoagulation\", \"mmhg\", \"lmwh\", \"ggo\", \"inspiratory\", \"angiography\", \"thromboprophylaxis\", \"echocardiogram\", \"dvt\", \"pneumothorax\", \"hypoxemic\", \"procalcitonin\", \"mgdl\", \"embolism\", \"arrhythmia\", \"hemodynamic\", \"systolic\", \"icu\", \"myocarditis\", \"aki\", \"crp\", \"thromboembolic\", \"inhospital\", \"coronary\", \"effusion\", \"oxygenation\", \"arterial\", \"creatinine\", \"dyspnea\", \"admission\", \"hypertension\", \"myocardial\", \"cardiac\", \"chest\", \"opacity\", \"pneumonia\", \"thrombotic\", \"diabetes\", \"comorbidities\", \"admitted\", \"stroke\", \"mortality\", \"oxygen\", \"ventilation\", \"pulmonary\", \"thrombosis\", \"abnormality\", \"mechanical\", \"hospitalized\", \"complication\", \"cardiovascular\", \"respiratory\", \"acute\", \"hospitalization\", \"heart\", \"failure\", \"severity\", \"injury\", \"syndrome\", \"ill\", \"blood\", \"lung\", \"hospital\", \"diagnosis\", \"cohort\", \"symptom\", \"therapy\", \"age\", \"death\", \"sarscov\", \"score\", \"variable\", \"gdp\", \"investor\", \"bitcoin\", \"smes\", \"tourism\", \"liquidity\", \"cryptocurrency\", \"buyer\", \"macroeconomic\", \"yangtze\", \"sme\", \"longrun\", \"volatility\", \"trader\", \"cointegration\", \"cryptocurrencies\", \"econometric\", \"eurozone\", \"merger\", \"supplyside\", \"remittance\", \"offshore\", \"imf\", \"granger\", \"shortrun\", \"wto\", \"lowcarbon\", \"trading\", \"depreciation\", \"garch\", \"price\", \"renewable\", \"fiscal\", \"firm\", \"electricity\", \"pricing\", \"airline\", \"loan\", \"trade\", \"debt\", \"tourist\", \"csr\", \"market\", \"revenue\", \"currency\", \"economy\", \"customer\", \"cash\", \"wage\", \"emission\", \"industry\", \"economic\", \"bank\", \"capital\", \"asset\", \"business\", \"portfolio\", \"sector\", \"investment\", \"consumer\", \"industrial\", \"cost\", \"demand\", \"pollution\", \"policy\", \"stock\", \"financial\", \"company\", \"country\", \"income\", \"energy\", \"supply\", \"government\", \"urban\", \"environmental\", \"city\", \"crisis\", \"variable\", \"growth\", \"global\", \"product\", \"region\", \"china\", \"development\", \"state\", \"service\", \"meat\", \"vegetable\", \"dairy\", \"farm\", \"ghg\", \"pork\", \"vaccinerelated\", \"cheese\", \"pyrolysis\", \"influencer\", \"mushroom\", \"coronavac\", \"buffalo\", \"incineration\", \"landfill\", \"vitt\", \"microplastics\", \"methane\", \"groundwater\", \"beef\", \"cereal\", \"breathability\", \"legume\", \"fertilizer\", \"oxfordastrazeneca\", \"undernutrition\", \"smallholder\", \"soil\", \"sputnik\", \"antivaccination\", \"farmer\", \"cloth\", \"hesitancy\", \"unvaccinated\", \"booster\", \"adcovs\", \"farming\", \"vaccine\", \"vaccination\", \"waste\", \"vaccinated\", \"food\", \"bntb\", \"disinfectant\", \"livestock\", \"poultry\", \"crop\", \"fish\", \"respirator\", \"pfizerbiontech\", \"decontamination\", \"fruit\", \"chadox\", \"mask\", \"hpv\", \"fabric\", \"dog\", \"dietary\", \"tobacco\", \"nutritional\", \"plastic\", \"cigarette\", \"water\", \"diet\", \"immunization\", \"intake\", \"plant\", \"milk\", \"animal\", \"product\", \"protection\", \"face\", \"dos\", \"dose\", \"air\", \"influenza\", \"temperature\", \"consumption\", \"safety\", \"production\", \"efficacy\", \"material\", \"specie\", \"area\", \"people\", \"human\", \"country\", \"environment\", \"effective\", \"exposure\"], \"Freq\": [87729.0, 46168.0, 57249.0, 46225.0, 83449.0, 23048.0, 41944.0, 16668.0, 47082.0, 35015.0, 19050.0, 34399.0, 14467.0, 23603.0, 20607.0, 21544.0, 40458.0, 22304.0, 24468.0, 35875.0, 29005.0, 26868.0, 22234.0, 21756.0, 14557.0, 17365.0, 14579.0, 29851.0, 29138.0, 19721.0, 720.8270915616615, 470.86614166233016, 433.07397791654824, 409.7783084835996, 398.532778121174, 394.4813933431323, 405.54092824707107, 397.53652518559255, 367.5671273602613, 521.992760284927, 1321.0346552319977, 325.3010168280545, 327.4756468030898, 669.9128374355854, 292.9949034448699, 290.18663741646884, 285.646439335039, 280.6235393339205, 279.53162254752164, 261.69117872910846, 250.6149896958851, 279.43968396246515, 245.7727529101053, 240.11324638226904, 764.739939997238, 234.6029452700117, 228.04102354674436, 218.720408612654, 208.3491226451006, 203.67906374709275, 2613.101838691385, 1810.9865751433244, 1476.9960959240382, 1241.3418222207233, 956.8428377845073, 4588.508301744514, 585.802423587146, 306.23608058880586, 397.0073913586733, 2167.550314415627, 4055.0054441837015, 1161.7187222887924, 3124.32887310465, 645.3715170462044, 623.1924047195903, 923.9141180563867, 2643.776602197089, 1650.1145037339834, 2031.4619248034137, 802.5714016445775, 2718.9735994420744, 1236.0325637188503, 1751.1446850987331, 1527.1825840788913, 2229.486144691907, 2285.88851877267, 1436.8071497535243, 7906.47678128507, 2673.334662507604, 5227.627167170042, 2084.8381169828263, 21668.9381058708, 6537.335943170259, 7109.380156813238, 16660.597709449798, 2823.7613809007316, 9724.750073649533, 5075.609054200832, 6822.552808231953, 2987.0694352437936, 13548.593476371158, 8559.671599910855, 11265.447532339156, 6511.6539123174525, 6194.074275745607, 13717.148068401711, 10292.487977465333, 9999.743056396728, 10776.252450080874, 5004.531567835845, 5742.177430819851, 16343.129100406515, 10677.529109103461, 9289.794860871809, 20433.512590034, 9120.806287554165, 9385.543443224256, 7794.629596861124, 6336.220677929518, 6879.989491394602, 9699.84562506695, 15026.839703309799, 10251.256638629713, 9128.571981429232, 12092.67196364966, 10917.410902045702, 9277.96205331882, 7744.467749026207, 8382.328302461345, 8384.728055359428, 8500.994524990496, 7701.801233295045, 8013.252539860436, 2718.76744525029, 2479.158390723229, 1427.2549545890456, 1059.9629594711998, 892.1985575035948, 860.8305851981971, 750.499480002565, 747.4459345413436, 697.5220522419863, 555.7227630936051, 523.7202662412896, 420.1525199483934, 389.43681866862465, 329.21415915094326, 311.6824927715207, 305.36212434817395, 275.40552469831005, 271.2278437315734, 267.70644673294885, 280.0037812226768, 254.336121769594, 244.39691059289922, 233.24481552931582, 222.6524380091473, 215.04268398663106, 211.08934409131024, 223.62206723514709, 206.6081183995236, 767.9335567368961, 205.5908934373775, 14290.655174959718, 10858.73918351064, 977.3517261194722, 1321.1802543792244, 6145.045236522543, 676.7419169162582, 620.2475527584609, 1559.5877923584635, 1193.8307557343815, 17928.777702779258, 10810.594617525421, 1872.0321046890608, 3488.3340617362387, 893.468949574198, 831.5426920515431, 1528.5338208115184, 5847.953195083118, 1800.8130234980738, 4700.100975662102, 9707.618286540534, 7068.439225792573, 2099.7808837250614, 11366.721041064515, 11293.488134235306, 5955.352454093158, 8117.779366936878, 3329.9994031159567, 2096.51949662128, 16435.813197211486, 36730.98451976215, 12410.591045981733, 6855.319812439283, 18736.782104981387, 6088.3624079584, 11206.491889884479, 5303.561574634253, 11417.07780954187, 3900.1329464355736, 4920.775848405744, 6032.876235645206, 17456.862317678133, 10119.548399255416, 8844.174780163343, 14251.464810643645, 7790.941285419322, 18876.953066775037, 10167.277537760612, 8793.711596764997, 13170.750685774126, 11559.779195370238, 13393.777942203904, 10393.123766376253, 8802.693425384785, 10647.49942602139, 10487.856580127196, 8110.734494523204, 8012.331389218471, 2847.951518853282, 1455.4598694367119, 1710.6745573529506, 4033.584678654192, 873.7678013101852, 770.8545186187542, 876.8215091168228, 887.7484048584852, 679.7135597427155, 674.1752274686606, 657.3278570677189, 654.3083349283995, 622.5428603553465, 623.019172181027, 578.0627321410151, 573.0529433256063, 567.4524668459064, 555.7905157147733, 542.224206870774, 513.6712954357621, 518.6398454071385, 505.78072872748174, 491.9778207528899, 485.3474533886342, 452.6289421403585, 426.9059431211028, 480.30859404757854, 424.1782064545054, 421.06159193663206, 416.31312014138217, 6787.37285709615, 5834.484870463634, 2136.4234935533086, 4297.356966815275, 2082.587930077692, 1331.299304917255, 1136.7631598164394, 1504.4458973552398, 2483.937195711518, 969.930113669759, 796.0443991458195, 777.741024319365, 2411.0627572250482, 2931.618969808107, 1490.92819824265, 996.5042595546752, 1040.249014668873, 3220.862757227768, 1573.0340377476455, 1227.7115224886845, 3757.782848125108, 1426.263657451648, 7594.124105578572, 9473.370475993614, 13198.015085313813, 9858.539500076262, 1725.7714055439574, 12485.244175900938, 3873.853482495373, 9399.874087113632, 1506.332463270989, 13909.718486899656, 6090.270420898805, 12364.096270970484, 3522.825646237986, 30113.01922381682, 3769.6853062279865, 3174.356270406052, 9031.341918346752, 37579.61833604107, 2236.245642122023, 14321.121770000147, 7728.043470816814, 10130.387993285904, 10336.006267558229, 6211.871254150156, 15185.802093222059, 8032.029541327789, 4935.466378805522, 7660.608493046134, 5001.727606303528, 7316.4404112515485, 8346.39636295106, 16129.903982101041, 6740.662781281708, 7132.863631922134, 9646.375877813049, 7130.829775343108, 7663.121203136143, 6282.2800037247125, 939.1113766182757, 824.4026400613816, 1134.1847698003717, 611.4655123478991, 573.3993307432255, 556.7983531206584, 308.960499853353, 990.0535385063217, 282.2961271846778, 300.70104324841566, 259.7762846016165, 253.41957334615003, 245.88187694743934, 321.98224920611784, 216.70314185654365, 216.6718440174687, 212.8383516101421, 277.6295146417388, 208.07975545748084, 194.44079793177718, 188.18631293513968, 588.7435892290782, 176.07238574530686, 175.83988531182433, 245.21206930577958, 170.85140714725674, 160.18383442617127, 158.68888513346647, 154.10604667848452, 159.65026171887078, 7938.08127504756, 358.84398769072084, 898.1257473710709, 3235.123069114149, 285.3284750045808, 1980.2718219372232, 309.2663931033671, 419.70208128269786, 354.6195803445545, 4296.423427438152, 1440.890901091536, 1118.5441059920984, 650.5471486447644, 928.6502587372299, 690.5139346542082, 4636.844354943861, 746.0179414171874, 1703.90438649519, 1098.6847645601665, 3067.671743993446, 1032.2665605685881, 5859.294082949003, 681.7933586072306, 8451.055321882866, 851.562079237708, 566.8076238525392, 5165.673837766605, 1195.8778626305038, 15272.353795315248, 2597.577215328896, 2644.7953040265384, 11334.876658839044, 2341.653799454269, 2758.419274731872, 7371.244386483288, 1167.7058644281994, 2484.506748139801, 1829.4967001507223, 2491.68775390992, 12256.278140894772, 16069.44124632396, 7828.672408590558, 6832.429660797244, 5362.816708142653, 10385.477657872863, 4209.836353779381, 5483.357254843874, 10465.818964338598, 8582.451043509865, 13564.445996254919, 4348.803195186386, 7650.649314173496, 8069.785539151108, 7295.448906313432, 5606.504640456394, 5993.889084472623, 6557.678992861126, 12222.558292666834, 14563.867323011924, 6934.899278808005, 7790.925736028094, 7188.8785320648185, 8028.049008205782, 7017.58373372984, 6221.685600605974, 5724.867646164967, 5919.350446659321, 5636.229701507914, 1868.7050100789297, 1516.1598928241992, 1155.7534653650837, 972.1407050079241, 759.1391161355804, 726.7652011767931, 683.5089450279468, 636.6345823477496, 586.0701075381476, 579.7228373724587, 424.7924525492507, 400.77398329864724, 386.3705334095676, 337.66384380963143, 336.04371785341357, 325.08701165856803, 314.9873235486532, 314.3032994956172, 295.7960548300594, 2107.9468720033237, 284.3367950012221, 271.07850210320225, 266.9224217083961, 265.3203262801699, 252.43496528825327, 249.99067817048868, 242.99149809895425, 353.34384925482846, 238.95866029531592, 232.1301876701392, 4184.8800707217815, 2239.9778745790195, 778.0573053712625, 770.5021937294764, 1127.86422916342, 1191.9503765707204, 613.8417812018879, 814.5936798615768, 459.09208032881327, 10342.484228746442, 836.4148714893587, 15286.917098250877, 3240.586307365207, 2365.4845640986655, 8978.568638130337, 4116.4416626191505, 2732.2144346283208, 6446.1075196728325, 7485.552369843165, 4843.318833666057, 14018.204559653599, 3890.0218072466378, 16153.550377313906, 7281.189297229932, 5472.856553590705, 14397.71926879698, 12716.810334597112, 4016.3548134352154, 5569.438664280356, 5089.509002774849, 1461.6913863414586, 9666.786492940415, 7210.543649564943, 3995.684779264998, 8763.195000766107, 12694.792933540328, 6955.409872516612, 8996.021490142835, 5387.040794491012, 5479.587329300075, 6602.019446825178, 5344.215872847014, 6108.776905653549, 7699.596816491211, 6641.208668337007, 5370.641228249403, 5700.260019414307, 5901.138859981892, 5491.509032848454, 5379.940436650529, 2233.882378213457, 1706.535974590922, 1504.1932056205978, 1295.3544308931048, 1254.1055337779685, 1084.062323314023, 1031.6879302829955, 926.8311162367531, 1901.3951193989071, 925.2257164075723, 885.1150991857135, 774.4626704412799, 827.0431831768959, 757.4581414265735, 648.6339852188047, 644.4419795115537, 635.5329058787204, 660.7309819957011, 570.7591532530229, 546.2364542286277, 532.7359024229521, 525.2718041743326, 770.5948064555665, 502.2885905780713, 499.7546700056583, 5512.10166604772, 1089.129702307045, 447.7634297046431, 444.0500110749325, 441.2260613610153, 1800.0812766201589, 1344.1886255674622, 1156.7802921437312, 1163.8695852792982, 808.8350953265957, 4961.301751599368, 864.4115649006841, 3634.604647510088, 2687.385473363518, 1296.0324075895878, 1451.35088388801, 1312.3270714333344, 13467.336493369665, 3558.9462378273643, 3799.057900828627, 11196.280010497032, 17924.406132748172, 70594.56060518089, 2050.074438418868, 1662.0678435470008, 18316.84141281992, 11016.009380610338, 2119.505814694357, 8636.391590368465, 10098.903324785373, 2329.098359014191, 6892.338363403888, 15198.925948331887, 3645.347828346112, 10136.198051065398, 3895.8893332602793, 10776.501981092819, 4500.896881408216, 3689.4807837941744, 8040.970919242918, 4556.221536018095, 2642.5341029361216, 11385.307492766113, 12905.001269893215, 15066.808763512245, 7833.142177283089, 11542.464986630643, 4166.046178267959, 9057.426672679587, 17468.776214996054, 6017.726703805868, 5950.4813055633485, 7436.635339818012, 4898.867353636595, 7524.348055004736, 5433.075094017369, 5087.33054855298, 4946.077084719856, 821.8135405971224, 549.005320547585, 528.6769017757493, 476.362410556715, 450.65261788003295, 410.65898677711107, 1059.4189794371694, 344.01983890060995, 549.3279973707449, 714.9592045698, 203.4032984675705, 200.2986256628918, 187.42757613825947, 179.21151839960282, 184.01994472841713, 167.71510641015345, 167.02340735166862, 165.00948225124532, 140.7607860375687, 140.2897182241761, 131.92848907818313, 131.65865210479043, 128.87234492214, 125.57763381886082, 121.21920292611301, 4662.607799133772, 119.83400847533849, 114.35191551584954, 113.16570648781885, 107.9779359132779, 11108.080768604797, 9959.971206769585, 6406.133148601259, 9931.114016179574, 9536.963226525388, 667.0636392388799, 422.9753146048543, 164.77717483642158, 11226.028156774666, 1149.3573782037715, 1662.9240174594327, 1013.9267429217064, 13449.760734402953, 11770.837517913176, 252.39786082029602, 659.1382144918952, 275.7907421554865, 14621.227720707637, 2264.5209620782825, 1715.6725581975272, 3255.767581282657, 478.4966762041107, 2877.4592398074146, 11377.854953222042, 11134.862392208974, 14425.727351360634, 3717.978087222122, 12823.439161837809, 4656.4567100115, 2341.8387064346957, 5954.015496141802, 3198.4489462577944, 14944.533315971035, 9660.547454903059, 8536.34007649057, 7002.873690960752, 8887.990824301884, 3796.339805514103, 9395.478006700228, 4715.767341046415, 14320.323568698677, 5832.450236417161, 5566.327528614789, 7416.333797765427, 6142.074953422844, 7108.847878695509, 9784.289981742791, 6248.305602353124, 7579.048256311696, 7497.746519935179, 8356.20438580223, 6339.152116947838, 6163.086200127759, 6191.038701741841, 1437.7786556714718, 2167.943908758396, 974.0975949374553, 950.1325634403348, 783.8690625845478, 756.4650986492794, 747.6042233911102, 562.7506238338683, 866.5135597676566, 518.1906241064275, 481.9677030419284, 492.0546449965855, 478.0000364129969, 455.74958497268165, 437.0066779754274, 392.5917715507298, 388.06132189499357, 497.08132300569514, 1428.3298465091348, 1089.4652351683453, 928.5764613750756, 321.04056001652606, 317.5442794633271, 297.0092310124096, 378.94574899939636, 282.85432751909065, 280.35006648969863, 275.60601439288035, 274.98994648070095, 271.77896637071944, 679.462627321441, 703.2238287020172, 805.041678061628, 995.5973261201173, 532.8214398047386, 751.0257713782383, 10350.613260541744, 1417.3423591316734, 1405.2344490293067, 2254.5991222316898, 635.5574762046086, 2001.146993282705, 1932.1512960484297, 847.7382497995665, 1276.1435848832346, 1945.8899499497243, 922.4895375868989, 1513.3912452835962, 11176.689455704745, 4468.058609757465, 2406.1701388780034, 5475.421506021403, 5458.604467024119, 1576.3026932606206, 8055.401591929737, 1280.4078158452455, 6887.105997845397, 5125.203202299418, 4587.4163415304365, 3203.939304451868, 17213.820884430024, 6237.079772229944, 5768.456281210992, 6499.863956779683, 2406.0792048265143, 2287.377350329892, 3937.0518906194006, 4542.575156022742, 5854.688095865362, 3913.371182333044, 14422.315027837203, 10677.217924983672, 5266.627871544542, 4801.873398109976, 5764.251095662504, 7799.455565758699, 5752.467935334515, 6702.393839827519, 3354.935091215913, 8228.688976763731, 9292.38942685481, 12016.108679925122, 7341.506744865424, 6529.62942865616, 10940.274088755285, 7028.306829425317, 8999.43776785708, 7505.625837684602, 7505.5394297623725, 5749.429256736122, 5190.337082609493, 1673.2829312064596, 963.6139699704928, 861.5463926536416, 738.8457637002809, 2640.2878986078294, 433.01878763697124, 342.15301457594927, 340.6025519803704, 273.9693666011065, 270.1153197130653, 250.49188618718696, 240.61259740367925, 1151.2680986032135, 249.88181503920805, 197.00521976610315, 177.02722766452948, 155.6648275185186, 149.52700732750003, 316.4114645203777, 150.35557177666612, 142.0024089285167, 295.4572691419047, 133.3382001294325, 125.58278357891871, 123.25285916725394, 128.77576949909206, 112.43049573215276, 636.3457970038976, 102.8308504688431, 98.40050502708723, 5244.384169335065, 744.8112774748531, 758.002695379857, 3620.224621319743, 1406.534245432011, 572.991665784904, 717.4603416640063, 801.5420806282389, 2743.789737899316, 659.8633287094262, 1644.4864997402578, 685.4281808380154, 9170.937668969107, 1193.593673917062, 650.3740167943274, 4680.288827382706, 2778.21002183159, 713.5764217715044, 805.4684309198905, 4270.266063923095, 5733.382141022775, 10291.91189362145, 2720.3146365929374, 2825.6914272829454, 1616.157589737876, 4980.964230658846, 996.4782817949877, 5453.587645880034, 2276.4345611749336, 3850.662473404182, 1763.438728490813, 7451.211982689133, 4987.584803968353, 2505.3798363179453, 9846.644852171203, 2019.0095441890542, 4907.163098355409, 3664.826770005853, 13892.96913665407, 3762.942739137461, 4701.149414717861, 3833.01572048423, 6393.046769532472, 3000.407647123964, 3880.947045581208, 4410.610941472681, 4255.830283334086, 6600.158062483611, 4258.389559079098, 4931.366600105877, 4076.6829846422197, 4650.47993360964, 3971.1012687192183, 4397.210662968826, 4187.744733297243, 3905.0827159347223, 1268.8939411752372, 949.6410704930121, 768.0595747679496, 1436.4768498096512, 448.81011858345994, 284.6809477326251, 280.5423630712289, 247.75107401486918, 250.72515489391742, 234.82671992268956, 228.77364238652066, 343.82332962842634, 186.05712865901017, 181.73546823231752, 180.68464321637072, 170.56433868632251, 163.83025558228903, 159.87067863224684, 157.8106294536215, 151.32772533924734, 147.8160211214572, 146.67149748601398, 129.4037688956057, 128.795868257771, 125.31533466969802, 122.39052392594087, 121.00503811828092, 1053.0582041687833, 112.10461625572644, 110.77658337382891, 952.631636993939, 630.5880012798342, 2159.2846196058026, 1023.4549356152046, 1746.453063660104, 257.07596062715385, 590.2873247273999, 42692.19247354743, 21301.822151887834, 3245.9022147668265, 5490.394131516425, 14671.400211415155, 1513.5502798324865, 741.0617813925787, 468.0726340969497, 422.8556409965944, 908.3234071307039, 1487.069462754864, 1550.6406882953327, 495.9795908458941, 677.4484081456889, 1076.395869377929, 731.3529771911717, 11742.218697150602, 907.6678235655098, 951.1137860475056, 1197.4988208863485, 2079.2665053953597, 1390.0395739053488, 1523.4953245959607, 1469.7153847178195, 1338.0056161035864, 5742.002921078191, 2392.9839417332532, 2007.4056262747538, 1942.1353680017678, 2672.4633556539984, 1457.2540685294744, 4969.339643035453, 5219.256548969336, 3710.2295183087476, 3721.258345994044, 2405.4833509119585, 3513.6086539020694, 3353.106133134195, 2794.8453566734825, 3027.8698886859775, 2361.874239460044, 3043.5945043818633, 3104.468383414431, 2764.575194030961, 2959.263025907194, 2336.130206971885, 3253.7248290785956, 3333.9755559472615, 3026.421928240065, 2835.018416373057, 2395.6937724984987, 2373.7076081742407, 2339.82085221162], \"Total\": [87729.0, 46168.0, 57249.0, 46225.0, 83449.0, 23048.0, 41944.0, 16668.0, 47082.0, 35015.0, 19050.0, 34399.0, 14467.0, 23603.0, 20607.0, 21544.0, 40458.0, 22304.0, 24468.0, 35875.0, 29005.0, 26868.0, 22234.0, 21756.0, 14557.0, 17365.0, 14579.0, 29851.0, 29138.0, 19721.0, 721.7881727741386, 471.7746991998508, 433.9883995292785, 410.68385819721766, 399.43728864717804, 395.38629677757604, 406.4812745212838, 398.46407729535065, 368.471587632315, 523.4174063044774, 1324.670921929866, 326.205536476134, 328.39253001965704, 671.8806316181185, 293.90263494918923, 291.09273458136954, 286.55095617717524, 281.5279652002074, 280.43977983412276, 262.59578399227945, 251.519690079415, 280.48770748301706, 246.69645082038497, 241.01782284812032, 767.660931278694, 235.50747021434344, 228.945932713187, 219.62579382903075, 209.2535660211649, 204.58355821518106, 2625.6843135131335, 1824.7066440323022, 1488.994920175687, 1251.7514123123437, 965.5752998370209, 4706.64010279017, 588.9353060233502, 307.59785834073375, 399.89741833317004, 2225.5346977817157, 4242.27611353127, 1190.1994219926169, 3272.5946150000545, 655.4023402133068, 633.5273728282463, 947.2620557402089, 2777.56368165988, 1732.6311953718855, 2167.0674825703777, 828.3132243109914, 2979.997582263194, 1303.2054720513602, 1883.1762863414338, 1633.2727143918498, 2433.419326821309, 2498.727083077919, 1536.8769830795281, 9507.55092684458, 3048.414735806085, 6330.467968993266, 2340.4329244720375, 29851.31637085176, 8174.188022773949, 9047.2120078258, 24193.62393055448, 3317.1311052755154, 13344.490050845445, 6420.02131759752, 9058.812343855994, 3581.1235883814043, 21291.844396778994, 12476.256241747313, 17362.770146100185, 9054.345295775263, 8544.35182799045, 23219.00678772392, 16437.843410560123, 15919.888290176163, 17538.456809900334, 6762.56508607009, 8081.422059233075, 32372.66817201182, 18562.15109127564, 15583.045025010606, 47082.80981881431, 15760.819334778731, 17425.622692080608, 13575.333167823335, 9937.139975079966, 11352.210768615256, 20151.288760484094, 43314.79006804103, 22526.79279169657, 19111.220738370866, 34399.515135714944, 30524.6788451278, 25171.904637270778, 15523.859888968744, 19237.121641493715, 20108.6445808067, 26139.3433339717, 18117.00799473308, 31654.957027734465, 2719.674423448896, 2480.2515676512944, 1428.1615037597503, 1060.8701669261045, 893.1049534107058, 861.7369953345367, 751.4059035824096, 748.3522661759845, 698.4284220025987, 556.6293952997996, 524.6266644754832, 421.0589134433977, 390.3857361922807, 330.1205355883674, 312.5888854765883, 306.26845606882256, 276.3118624549692, 272.1342043700758, 268.6135031554672, 280.9963020556451, 255.24593423268013, 245.30427832627015, 234.15168258701735, 223.56368491465173, 215.94905594716346, 211.9972440089918, 224.58481459816565, 207.51449787419253, 771.3051981864089, 206.49727584737846, 14557.183877400463, 11062.384100948064, 982.5209164616642, 1337.3626802957087, 6322.463677146912, 681.1713453307761, 626.9427411138876, 1591.2816041469803, 1215.1039664380112, 19050.941465245196, 11405.677462595067, 1920.2444665158093, 3646.8600322769043, 908.5762187607432, 844.7955821903961, 1574.8862843795678, 6268.193617800461, 1887.5697346770185, 5109.11204163352, 11014.062163262226, 7937.183632529002, 2239.733960846941, 13568.054293721634, 13601.888592464888, 6949.060146499136, 9897.294398541153, 3759.6351006267582, 2296.35059746465, 22899.144373247356, 57249.169145507236, 17033.19759302293, 8832.145854793198, 29005.60858999653, 7984.361852141435, 16684.23753689614, 6934.494321759432, 17878.366809004412, 4911.067068787989, 6597.662543272261, 8564.11129980607, 34399.515135714944, 16965.730798632412, 14547.86364230626, 28080.17371855175, 12674.864834567077, 47082.80981881431, 19901.1831113566, 16380.408813742313, 35007.85054992466, 30975.366347739113, 43314.79006804103, 27857.815730507446, 19696.361850206085, 42303.52591497066, 40458.524014518436, 19540.148868690718, 18385.146340922576, 2849.590857554023, 1456.3647778850286, 1711.969957379944, 4037.266899058954, 874.6725675602466, 771.75938050611, 877.9499452976256, 888.9246856274573, 680.6183004901326, 675.0918352887647, 658.2325921865339, 655.2131043729834, 623.4476620324715, 623.9261749300277, 578.9676094220545, 573.9577640808716, 568.3623397306978, 556.6952666165254, 543.1290397306414, 514.5760419897773, 519.5728350452647, 506.70012500189193, 492.8825660711668, 486.25220200816517, 453.5337797702972, 427.81101990381666, 481.3305613122531, 425.08366487987627, 421.9663643435587, 417.21787151179274, 6817.4846984217, 5854.641088367673, 2145.927976979231, 4352.3600340508, 2097.8062256093713, 1336.1560287061013, 1140.0938887262655, 1515.3821075582096, 2518.1002751487463, 974.0656476474046, 797.9964864468079, 779.4939928905419, 2450.2051410745944, 3005.611075215301, 1512.680944702687, 1006.9965620269323, 1052.439351516825, 3344.334769390714, 1607.2420100915615, 1247.3760611302237, 3998.0960685041623, 1468.7339823482441, 8441.360843319157, 10660.659530996141, 15186.769102106458, 11172.884415339084, 1792.4331733154524, 14501.999674068482, 4242.105962632543, 10896.509334060764, 1555.4789925792293, 17330.279098441744, 7152.435711480865, 16005.684999315816, 4007.035397962197, 46225.409913149895, 4370.863304937392, 3606.0280654201797, 12568.09931084004, 83449.54547767987, 2475.0773732482853, 26868.35655548434, 12280.175902157072, 17961.29425865795, 19049.41242892128, 9497.637313288957, 35875.237260400114, 14264.758908718473, 7208.460938128831, 15394.672369244705, 7737.097557959066, 16552.793552874784, 21754.784427452512, 87729.46045944822, 15063.78183203981, 19199.967627388145, 42303.52591497066, 24650.11347942396, 33875.852268745715, 21544.744819556217, 940.0194406862926, 825.3520438695006, 1135.6071014723275, 612.370336061326, 574.310146110391, 557.703184730409, 309.8653100671347, 992.9650178655751, 283.2013249260861, 301.7171284949886, 260.68150349635704, 254.32442573412234, 246.78672956388266, 323.25075888994843, 217.60794630910343, 217.57668368687345, 213.74342693785925, 278.8161068149744, 208.98456877946555, 195.3455832814198, 189.09113349373362, 591.7218764834003, 176.9771760493854, 176.74468922355092, 246.48847797779575, 171.7564199426635, 161.08868169991706, 159.59401048844566, 155.01085448518748, 160.59010548778008, 8162.752622872975, 361.06685875674617, 915.0759276257686, 3340.5847194202192, 288.3066136867861, 2041.9341938926866, 313.01851636678543, 427.5657214573801, 360.1902366504735, 4634.269742849144, 1517.212397777062, 1168.9665727883191, 669.2155746734082, 968.0813522892457, 714.2418557347874, 5124.4610106642995, 779.8547230275077, 1843.92232809212, 1171.241002443581, 3472.889500568186, 1104.4749753649983, 6918.259238008101, 717.1291795822685, 10716.066969934482, 912.0609379527705, 591.7276552601658, 6538.485130424228, 1343.2128638181898, 22470.978931441718, 3163.8904655399265, 3246.4349330825744, 17241.611777959133, 2890.7971037229695, 3490.25714199013, 10839.430359987851, 1311.087126836124, 3165.146909504477, 2213.9190281455344, 3202.8155979615813, 24446.037092556853, 35015.4024342959, 14218.2524159281, 12096.383347409275, 8888.144995024213, 21006.042277285727, 6570.311557289271, 9314.06953108963, 24057.635052166803, 19696.361850206085, 40458.524014518436, 7594.791905220656, 17963.779382988192, 19812.71614807541, 17206.67661724832, 11534.726721649435, 13020.142269189791, 16085.180753431372, 57249.169145507236, 83449.54547767987, 20450.71733021294, 26868.35655548434, 22526.79279169657, 30524.6788451278, 27857.815730507446, 22123.45573165552, 14259.283901720803, 18699.24185635038, 25798.701298387492, 1869.6115277223043, 1517.069457425317, 1156.6598392374574, 973.0470600247122, 760.0470104563689, 727.6715534582552, 684.4153168271387, 637.5409363759244, 586.9764586775607, 580.629214971418, 425.6988020295438, 401.6803385209389, 387.2768832982439, 338.57022097617084, 336.9500859986782, 325.9933652578227, 315.8936780253581, 315.2105031665408, 296.7024556326748, 2114.7988526289046, 285.2686825183929, 271.9848625479929, 267.829147556956, 266.22670477395917, 253.3413840772279, 250.89703963229334, 243.91343267317737, 354.7034619126686, 239.8861355902356, 233.03674707935903, 4205.6261245905, 2263.816018801719, 786.8825585797439, 779.4251292299282, 1151.1591075788313, 1223.7932162856803, 622.796555856376, 831.964466671548, 463.7349910004648, 11420.476282477113, 860.1546301013868, 17365.794584304902, 3497.819504896582, 2551.7452051296373, 10391.542651451375, 4685.734629140402, 3045.8263422565165, 7913.392861930347, 9306.450387121653, 5833.102683534406, 19508.785857641393, 4760.964231553967, 23603.066520512413, 9713.193019965933, 7064.07785694309, 21394.523220970426, 18690.885528141655, 5150.954301659951, 7590.916456960281, 6917.523638646009, 1627.0300315285929, 15317.803072533725, 10818.851692504173, 5416.27595338883, 14468.11957087454, 24647.025227468162, 12212.302581871121, 19237.121641493715, 9684.388484582407, 10264.587832595535, 15051.187928169122, 10754.998388682998, 14039.476386225142, 25381.723991129824, 19311.57606147196, 13785.213157671538, 19525.665680602662, 25171.904637270778, 20839.911960570036, 28080.17371855175, 2234.898422932691, 1707.438256995626, 1505.0983340280861, 1296.2602758140124, 1255.0075642973472, 1084.9644074570238, 1032.5931469905024, 927.7333609760246, 1903.2753305988765, 926.1417358883501, 886.0177978684846, 775.3646674247329, 828.0215009993794, 758.3602191646315, 649.5360307132705, 645.3497063388409, 636.4349644471588, 661.6782158967914, 571.661225296472, 547.1384384478223, 533.637903157656, 526.173798291195, 771.9569884678256, 503.1906120829678, 500.6570842370787, 5522.316550002188, 1091.2408087474612, 448.6655113264715, 444.95206672730376, 442.12811208770427, 1806.7272769237757, 1349.2182138194073, 1160.5279953544336, 1170.4039628424875, 811.1742399416619, 5069.883362776198, 868.9677086783232, 3712.3093522652193, 2740.305445225969, 1310.091634566214, 1474.0016097201728, 1330.3822578478919, 14579.377737513149, 3707.52376180046, 3991.2902710613885, 12279.347559655369, 20607.98799013511, 87729.46045944822, 2148.352801881503, 1728.9722409026783, 22304.79716816111, 13017.477663162905, 2239.609565704505, 10321.247294166868, 12594.819577788681, 2526.0201982622075, 8642.996003239734, 21544.744819556217, 4252.971304474193, 13796.5631391768, 4599.850355410596, 15354.405162739915, 5508.173897079902, 4406.0652528023975, 11352.742754329669, 6034.118469872154, 3031.0086629181324, 22234.45756607721, 35875.237260400114, 46225.409913149895, 16946.271708828393, 33875.852268745715, 6453.072863065846, 24650.11347942396, 83449.54547767987, 12555.3589769527, 13992.392907167297, 25381.723991129824, 9355.465270554057, 42303.52591497066, 17988.928462761698, 24240.61387392575, 17241.611777959133, 822.7211062554093, 549.9129389932372, 529.5851952447824, 477.27007580171505, 451.56142499241616, 411.5791124678045, 1061.79657010814, 344.92766619721453, 551.1573801198497, 717.3906234694019, 204.31085970584869, 201.20621667236378, 188.33519780114133, 180.11920518305453, 184.97425986940524, 168.62268088691638, 167.93097291202258, 165.91710135439845, 141.6693940779679, 141.19763172302052, 132.8360984327783, 132.57716039899753, 129.77998119058444, 126.4856160999661, 122.12697216027247, 4697.548774735583, 120.7417495414985, 115.25968634269576, 114.07350380209198, 108.88563922409647, 11205.521940374581, 10050.48180822216, 6474.962485635913, 10313.616198715406, 9946.41514499215, 680.8895497287226, 430.0103028186043, 166.25690472975347, 11829.763894532436, 1191.7071067211036, 1764.380126483108, 1067.19430288681, 15609.493401102647, 14034.581238286135, 258.54082199766304, 712.8501939738941, 284.27496373515805, 19721.25644776746, 2679.913922742803, 1999.44904167377, 4015.573434958482, 511.6715743147589, 3655.2565829173764, 17914.26688521291, 17657.497974771322, 24240.61387392575, 5120.8619073075415, 21463.15075803503, 6752.238317833134, 3043.06355187638, 9321.94376702293, 4505.237722792056, 29138.693056814704, 17511.435643889206, 15395.299598598409, 12312.059514782293, 17648.134143320556, 5816.553012096498, 19525.665680602662, 8228.268542377433, 41944.45855933955, 11400.494420541216, 10908.345826276047, 17705.132993593223, 12966.543368968532, 17259.693311692372, 31654.957027734465, 14179.938591639568, 24446.037092556853, 24184.605007008588, 43314.79006804103, 16946.008356278577, 32372.66817201182, 83449.54547767987, 1438.6844573518379, 2169.425710936024, 975.0040808822579, 951.0389948228807, 784.7747793744882, 757.3709697788892, 748.5893504305869, 563.6621460276601, 867.9876663412011, 519.0998818662312, 482.8734231465225, 492.9837373254691, 478.9058078563359, 456.6553703707996, 437.91260757597263, 393.4975163003151, 388.9683062512948, 498.25155688107037, 1431.7892115123627, 1092.3448158325966, 931.040089899033, 321.95002642963686, 318.45001505325064, 297.9150152416265, 380.1575187195282, 283.76007568626943, 281.26958822477707, 276.51178553252873, 275.8957044648335, 272.68711821634565, 681.9179752963945, 706.8937194908508, 811.2822013350716, 1007.9323803365809, 536.0571105338774, 759.8759972568878, 10886.057834082318, 1446.9228370239928, 1438.2732688875124, 2332.776855727816, 642.1214705453258, 2079.5042702673672, 2009.104349167134, 863.0186531126293, 1317.0444667148251, 2051.477300412321, 946.6976395312392, 1592.555218028017, 13108.180859217038, 5014.413250963655, 2626.3305388840845, 6324.3408136930075, 6476.6169776492425, 1686.2546904514502, 9935.244881743118, 1350.5928302449138, 8416.039123446346, 6244.90119788663, 5536.873144538822, 3721.3100719709037, 24468.226347273194, 7883.325796120312, 7227.871970119729, 8555.508983917307, 2777.000676520146, 2637.8416070072335, 5017.557325491904, 6166.838114618579, 8487.025049534235, 5172.551727264454, 28237.963004896774, 19216.488646811304, 7830.85810216848, 7030.268986711785, 9054.275096059242, 14264.580528918234, 9460.234443434625, 12290.934830572654, 4494.384033438102, 17988.928462761698, 22234.45756607721, 35015.4024342959, 17206.67661724832, 14259.283901720803, 40458.524014518436, 18699.24185635038, 35007.85054992466, 29138.693056814704, 83449.54547767987, 28080.17371855175, 30975.366347739113, 1674.189732897988, 964.5202484915525, 862.4530262527094, 739.8032768598906, 2644.371639320516, 433.92468930468516, 343.0589377304572, 341.5127212533922, 274.8753206939485, 271.0224911793802, 251.43189405981352, 241.51856877343766, 1155.6698758183907, 250.84234750367386, 197.91110356004555, 177.9331400621571, 156.57078918974324, 150.43290346278886, 318.3827203004705, 151.30709652793033, 142.919310442623, 297.42794563812066, 134.24408680041483, 126.48877129532549, 124.15874614221235, 129.7229574552972, 113.33644517242855, 641.692978086308, 103.73673717762286, 99.30639238515667, 5378.318884743312, 751.9481079677488, 766.0114338209424, 3719.035322210614, 1432.0822927627985, 579.8338190671359, 728.2873080242873, 814.7524214281586, 2828.99286134458, 672.1295722416148, 1698.279419101468, 706.2476101069707, 9980.113422629756, 1262.5883831987037, 677.0751971213872, 5323.954033530923, 3091.0268564336093, 755.2938481035147, 860.3211010384355, 5078.256573130833, 7083.72363615451, 13316.31325883555, 3199.162559459097, 3338.2167998960117, 1830.7762821814674, 6376.924711214012, 1084.4619161234832, 7507.672206131891, 2822.048186175145, 5568.7437994081265, 2186.5457015214006, 14116.530220212497, 8442.370284187666, 3577.0300951287672, 21756.01636839925, 2730.249154333466, 8820.860447407493, 6061.948016705986, 41944.45855933955, 6729.948400906735, 9564.153347605192, 7372.7401562613395, 17525.694823050017, 5129.56983077709, 8444.315167605688, 11429.74110883154, 10998.558575866484, 30975.366347739113, 11955.97659062695, 17730.298007120033, 13888.197235817188, 24184.605007008588, 13982.686797700844, 26139.3433339717, 31654.957027734465, 29851.31637085176, 1269.8020056920966, 950.5583897262237, 768.9622703000705, 1438.3259470656374, 449.71303566870387, 285.5836593885482, 281.4452389787089, 248.65384924724648, 251.67098161530728, 235.73091087539083, 229.79515617953487, 345.4356650139118, 186.96358563982636, 182.63814334339637, 181.58737587514014, 171.47286502762975, 164.73375376505288, 160.7816649387193, 158.7155352224918, 152.23115163168094, 148.71884107216422, 147.64068227554773, 130.3064626728378, 129.69861297355996, 126.22703764505835, 123.29355254795975, 121.90777950953249, 1061.208561441495, 113.0077233818532, 111.6793938925265, 965.0012005665326, 637.2641972769035, 2216.394729882929, 1046.0495649154507, 1796.1206520011892, 260.0519178180361, 603.5527762556837, 46168.35261451208, 23048.636681613243, 3406.8948124107656, 5835.140476159085, 16668.410455564663, 1604.8976910115061, 770.7749972659797, 482.0284290687073, 435.52235860939277, 959.9479902476188, 1605.5970691806367, 1678.378091045935, 513.9955686183724, 712.2401792774908, 1162.030686046823, 775.1103356562866, 14467.54686921952, 973.95596761639, 1030.113580998422, 1334.052850073569, 2460.431756570397, 1606.949716072134, 1851.392401464922, 1782.6698943370006, 1604.4580933132634, 9332.279784820077, 3359.8941067803826, 2712.1181617594666, 2659.065110367312, 4189.249611117024, 1896.3454018812076, 11326.124678187207, 13888.197235817188, 9195.5377702149, 10184.530385322478, 4824.201271716904, 11387.82218283487, 11400.494420541216, 8442.401715733122, 10461.575190981155, 6237.061689257873, 12478.383159698895, 13992.392907167297, 10164.905978753515, 12687.464285030328, 6633.825538117269, 26867.195834189683, 43314.79006804103, 33875.852268745715, 41944.45855933955, 14816.558789179007, 18928.90713172439, 15834.441841296582], \"Category\": [\"Default\", \"Default\", \"Default\", \"Default\", \"Default\", \"Default\", \"Default\", \"Default\", \"Default\", \"Default\", \"Default\", \"Default\", \"Default\", \"Default\", \"Default\", \"Default\", \"Default\", \"Default\", \"Default\", \"Default\", \"Default\", \"Default\", \"Default\", \"Default\", \"Default\", \"Default\", \"Default\", \"Default\", \"Default\", \"Default\", \"Topic1\", \"Topic1\", \"Topic1\", \"Topic1\", \"Topic1\", \"Topic1\", \"Topic1\", \"Topic1\", \"Topic1\", \"Topic1\", \"Topic1\", \"Topic1\", \"Topic1\", \"Topic1\", \"Topic1\", \"Topic1\", \"Topic1\", \"Topic1\", \"Topic1\", \"Topic1\", \"Topic1\", \"Topic1\", \"Topic1\", \"Topic1\", \"Topic1\", \"Topic1\", \"Topic1\", \"Topic1\", \"Topic1\", \"Topic1\", \"Topic1\", \"Topic1\", \"Topic1\", \"Topic1\", \"Topic1\", \"Topic1\", \"Topic1\", \"Topic1\", \"Topic1\", \"Topic1\", \"Topic1\", \"Topic1\", \"Topic1\", \"Topic1\", \"Topic1\", \"Topic1\", \"Topic1\", \"Topic1\", \"Topic1\", \"Topic1\", \"Topic1\", \"Topic1\", \"Topic1\", \"Topic1\", \"Topic1\", \"Topic1\", \"Topic1\", \"Topic1\", \"Topic1\", \"Topic1\", \"Topic1\", \"Topic1\", \"Topic1\", \"Topic1\", \"Topic1\", \"Topic1\", \"Topic1\", \"Topic1\", \"Topic1\", \"Topic1\", \"Topic1\", \"Topic1\", \"Topic1\", \"Topic1\", \"Topic1\", \"Topic1\", \"Topic1\", \"Topic1\", \"Topic1\", \"Topic1\", \"Topic1\", \"Topic1\", \"Topic1\", \"Topic1\", \"Topic1\", \"Topic1\", \"Topic1\", \"Topic1\", \"Topic1\", \"Topic1\", \"Topic1\", \"Topic1\", \"Topic1\", \"Topic1\", \"Topic1\", \"Topic1\", \"Topic1\", \"Topic1\", \"Topic1\", \"Topic1\", \"Topic1\", \"Topic1\", \"Topic1\", \"Topic2\", \"Topic2\", \"Topic2\", \"Topic2\", \"Topic2\", \"Topic2\", \"Topic2\", \"Topic2\", \"Topic2\", \"Topic2\", \"Topic2\", \"Topic2\", \"Topic2\", \"Topic2\", \"Topic2\", \"Topic2\", \"Topic2\", \"Topic2\", \"Topic2\", \"Topic2\", \"Topic2\", \"Topic2\", \"Topic2\", \"Topic2\", \"Topic2\", \"Topic2\", \"Topic2\", \"Topic2\", \"Topic2\", \"Topic2\", \"Topic2\", \"Topic2\", \"Topic2\", \"Topic2\", \"Topic2\", \"Topic2\", \"Topic2\", \"Topic2\", \"Topic2\", \"Topic2\", \"Topic2\", \"Topic2\", \"Topic2\", \"Topic2\", \"Topic2\", \"Topic2\", \"Topic2\", \"Topic2\", \"Topic2\", \"Topic2\", \"Topic2\", \"Topic2\", \"Topic2\", \"Topic2\", \"Topic2\", \"Topic2\", \"Topic2\", \"Topic2\", \"Topic2\", \"Topic2\", \"Topic2\", \"Topic2\", \"Topic2\", \"Topic2\", \"Topic2\", \"Topic2\", \"Topic2\", \"Topic2\", \"Topic2\", \"Topic2\", \"Topic2\", \"Topic2\", \"Topic2\", \"Topic2\", \"Topic2\", \"Topic2\", \"Topic2\", \"Topic2\", \"Topic2\", \"Topic2\", \"Topic2\", \"Topic2\", \"Topic2\", \"Topic2\", \"Topic2\", \"Topic2\", \"Topic2\", \"Topic3\", \"Topic3\", \"Topic3\", \"Topic3\", \"Topic3\", \"Topic3\", \"Topic3\", \"Topic3\", \"Topic3\", \"Topic3\", \"Topic3\", \"Topic3\", \"Topic3\", \"Topic3\", \"Topic3\", \"Topic3\", \"Topic3\", \"Topic3\", \"Topic3\", \"Topic3\", \"Topic3\", \"Topic3\", \"Topic3\", \"Topic3\", \"Topic3\", \"Topic3\", \"Topic3\", \"Topic3\", \"Topic3\", \"Topic3\", \"Topic3\", \"Topic3\", \"Topic3\", \"Topic3\", \"Topic3\", \"Topic3\", \"Topic3\", \"Topic3\", \"Topic3\", \"Topic3\", \"Topic3\", \"Topic3\", \"Topic3\", \"Topic3\", \"Topic3\", \"Topic3\", \"Topic3\", \"Topic3\", \"Topic3\", \"Topic3\", \"Topic3\", \"Topic3\", \"Topic3\", \"Topic3\", \"Topic3\", \"Topic3\", \"Topic3\", \"Topic3\", \"Topic3\", \"Topic3\", \"Topic3\", \"Topic3\", \"Topic3\", \"Topic3\", \"Topic3\", \"Topic3\", \"Topic3\", \"Topic3\", \"Topic3\", \"Topic3\", \"Topic3\", \"Topic3\", \"Topic3\", \"Topic3\", \"Topic3\", \"Topic3\", \"Topic3\", \"Topic3\", \"Topic3\", \"Topic3\", \"Topic3\", \"Topic3\", \"Topic3\", \"Topic3\", \"Topic3\", \"Topic3\", \"Topic3\", \"Topic3\", \"Topic3\", \"Topic3\", \"Topic4\", \"Topic4\", \"Topic4\", \"Topic4\", \"Topic4\", \"Topic4\", \"Topic4\", \"Topic4\", \"Topic4\", \"Topic4\", \"Topic4\", \"Topic4\", \"Topic4\", \"Topic4\", \"Topic4\", \"Topic4\", \"Topic4\", \"Topic4\", \"Topic4\", \"Topic4\", \"Topic4\", \"Topic4\", \"Topic4\", \"Topic4\", \"Topic4\", \"Topic4\", \"Topic4\", \"Topic4\", \"Topic4\", \"Topic4\", \"Topic4\", \"Topic4\", \"Topic4\", \"Topic4\", \"Topic4\", \"Topic4\", \"Topic4\", \"Topic4\", \"Topic4\", \"Topic4\", \"Topic4\", \"Topic4\", \"Topic4\", \"Topic4\", \"Topic4\", \"Topic4\", \"Topic4\", \"Topic4\", \"Topic4\", \"Topic4\", \"Topic4\", \"Topic4\", \"Topic4\", \"Topic4\", \"Topic4\", \"Topic4\", \"Topic4\", \"Topic4\", \"Topic4\", \"Topic4\", \"Topic4\", \"Topic4\", \"Topic4\", \"Topic4\", \"Topic4\", \"Topic4\", \"Topic4\", \"Topic4\", \"Topic4\", \"Topic4\", \"Topic4\", \"Topic4\", \"Topic4\", \"Topic4\", \"Topic4\", \"Topic4\", \"Topic4\", \"Topic4\", \"Topic4\", \"Topic4\", \"Topic4\", \"Topic4\", \"Topic4\", \"Topic4\", \"Topic4\", \"Topic4\", \"Topic4\", \"Topic4\", \"Topic4\", \"Topic4\", \"Topic4\", \"Topic4\", \"Topic4\", \"Topic4\", \"Topic4\", \"Topic4\", \"Topic4\", \"Topic4\", \"Topic5\", \"Topic5\", \"Topic5\", \"Topic5\", \"Topic5\", \"Topic5\", \"Topic5\", \"Topic5\", \"Topic5\", \"Topic5\", \"Topic5\", \"Topic5\", \"Topic5\", \"Topic5\", \"Topic5\", \"Topic5\", \"Topic5\", \"Topic5\", \"Topic5\", \"Topic5\", \"Topic5\", \"Topic5\", \"Topic5\", \"Topic5\", \"Topic5\", \"Topic5\", \"Topic5\", \"Topic5\", \"Topic5\", \"Topic5\", \"Topic5\", \"Topic5\", \"Topic5\", \"Topic5\", \"Topic5\", \"Topic5\", \"Topic5\", \"Topic5\", \"Topic5\", \"Topic5\", \"Topic5\", \"Topic5\", \"Topic5\", \"Topic5\", \"Topic5\", \"Topic5\", \"Topic5\", \"Topic5\", \"Topic5\", \"Topic5\", \"Topic5\", \"Topic5\", \"Topic5\", \"Topic5\", \"Topic5\", \"Topic5\", \"Topic5\", \"Topic5\", \"Topic5\", \"Topic5\", \"Topic5\", \"Topic5\", \"Topic5\", \"Topic5\", \"Topic5\", \"Topic5\", \"Topic5\", \"Topic5\", \"Topic5\", \"Topic5\", \"Topic5\", \"Topic5\", \"Topic5\", \"Topic5\", \"Topic5\", \"Topic5\", \"Topic5\", \"Topic5\", \"Topic5\", \"Topic5\", \"Topic6\", \"Topic6\", \"Topic6\", \"Topic6\", \"Topic6\", \"Topic6\", \"Topic6\", \"Topic6\", \"Topic6\", \"Topic6\", \"Topic6\", \"Topic6\", \"Topic6\", \"Topic6\", \"Topic6\", \"Topic6\", \"Topic6\", \"Topic6\", \"Topic6\", \"Topic6\", \"Topic6\", \"Topic6\", \"Topic6\", \"Topic6\", \"Topic6\", \"Topic6\", \"Topic6\", \"Topic6\", \"Topic6\", \"Topic6\", \"Topic6\", \"Topic6\", \"Topic6\", \"Topic6\", \"Topic6\", \"Topic6\", \"Topic6\", \"Topic6\", \"Topic6\", \"Topic6\", \"Topic6\", \"Topic6\", \"Topic6\", \"Topic6\", \"Topic6\", \"Topic6\", \"Topic6\", \"Topic6\", \"Topic6\", \"Topic6\", \"Topic6\", \"Topic6\", \"Topic6\", \"Topic6\", \"Topic6\", \"Topic6\", \"Topic6\", \"Topic6\", \"Topic6\", \"Topic6\", \"Topic6\", \"Topic6\", \"Topic6\", \"Topic6\", \"Topic6\", \"Topic6\", \"Topic6\", \"Topic6\", \"Topic6\", \"Topic6\", \"Topic6\", \"Topic6\", \"Topic6\", \"Topic6\", \"Topic6\", \"Topic6\", \"Topic6\", \"Topic6\", \"Topic6\", \"Topic6\", \"Topic6\", \"Topic6\", \"Topic6\", \"Topic7\", \"Topic7\", \"Topic7\", \"Topic7\", \"Topic7\", \"Topic7\", \"Topic7\", \"Topic7\", \"Topic7\", \"Topic7\", \"Topic7\", \"Topic7\", \"Topic7\", \"Topic7\", \"Topic7\", \"Topic7\", \"Topic7\", \"Topic7\", \"Topic7\", \"Topic7\", \"Topic7\", \"Topic7\", \"Topic7\", \"Topic7\", \"Topic7\", \"Topic7\", \"Topic7\", \"Topic7\", \"Topic7\", \"Topic7\", \"Topic7\", \"Topic7\", \"Topic7\", \"Topic7\", \"Topic7\", \"Topic7\", \"Topic7\", \"Topic7\", \"Topic7\", \"Topic7\", \"Topic7\", \"Topic7\", \"Topic7\", \"Topic7\", \"Topic7\", \"Topic7\", \"Topic7\", \"Topic7\", \"Topic7\", \"Topic7\", \"Topic7\", \"Topic7\", \"Topic7\", \"Topic7\", \"Topic7\", \"Topic7\", \"Topic7\", \"Topic7\", \"Topic7\", \"Topic7\", \"Topic7\", \"Topic7\", \"Topic7\", \"Topic7\", \"Topic7\", \"Topic7\", \"Topic7\", \"Topic7\", \"Topic7\", \"Topic7\", \"Topic7\", \"Topic7\", \"Topic7\", \"Topic7\", \"Topic7\", \"Topic7\", \"Topic7\", \"Topic7\", \"Topic7\", \"Topic7\", \"Topic7\", \"Topic7\", \"Topic7\", \"Topic7\", \"Topic8\", \"Topic8\", \"Topic8\", \"Topic8\", \"Topic8\", \"Topic8\", \"Topic8\", \"Topic8\", \"Topic8\", \"Topic8\", \"Topic8\", \"Topic8\", \"Topic8\", \"Topic8\", \"Topic8\", \"Topic8\", \"Topic8\", \"Topic8\", \"Topic8\", \"Topic8\", \"Topic8\", \"Topic8\", \"Topic8\", \"Topic8\", \"Topic8\", \"Topic8\", \"Topic8\", \"Topic8\", \"Topic8\", \"Topic8\", \"Topic8\", \"Topic8\", \"Topic8\", \"Topic8\", \"Topic8\", \"Topic8\", \"Topic8\", \"Topic8\", \"Topic8\", \"Topic8\", \"Topic8\", \"Topic8\", \"Topic8\", \"Topic8\", \"Topic8\", \"Topic8\", \"Topic8\", \"Topic8\", \"Topic8\", \"Topic8\", \"Topic8\", \"Topic8\", \"Topic8\", \"Topic8\", \"Topic8\", \"Topic8\", \"Topic8\", \"Topic8\", \"Topic8\", \"Topic8\", \"Topic8\", \"Topic8\", \"Topic8\", \"Topic8\", \"Topic8\", \"Topic8\", \"Topic8\", \"Topic8\", \"Topic8\", \"Topic8\", \"Topic8\", \"Topic8\", \"Topic8\", \"Topic8\", \"Topic8\", \"Topic8\", \"Topic8\", \"Topic8\", \"Topic8\", \"Topic8\", \"Topic8\", \"Topic8\", \"Topic8\", \"Topic8\", \"Topic8\", \"Topic8\", \"Topic8\", \"Topic8\", \"Topic8\", \"Topic8\", \"Topic8\", \"Topic9\", \"Topic9\", \"Topic9\", \"Topic9\", \"Topic9\", \"Topic9\", \"Topic9\", \"Topic9\", \"Topic9\", \"Topic9\", \"Topic9\", \"Topic9\", \"Topic9\", \"Topic9\", \"Topic9\", \"Topic9\", \"Topic9\", \"Topic9\", \"Topic9\", \"Topic9\", \"Topic9\", \"Topic9\", \"Topic9\", \"Topic9\", \"Topic9\", \"Topic9\", \"Topic9\", \"Topic9\", \"Topic9\", \"Topic9\", \"Topic9\", \"Topic9\", \"Topic9\", \"Topic9\", \"Topic9\", \"Topic9\", \"Topic9\", \"Topic9\", \"Topic9\", \"Topic9\", \"Topic9\", \"Topic9\", \"Topic9\", \"Topic9\", \"Topic9\", \"Topic9\", \"Topic9\", \"Topic9\", \"Topic9\", \"Topic9\", \"Topic9\", \"Topic9\", \"Topic9\", \"Topic9\", \"Topic9\", \"Topic9\", \"Topic9\", \"Topic9\", \"Topic9\", \"Topic9\", \"Topic9\", \"Topic9\", \"Topic9\", \"Topic9\", \"Topic9\", \"Topic9\", \"Topic9\", \"Topic9\", \"Topic9\", \"Topic9\", \"Topic9\", \"Topic9\", \"Topic9\", \"Topic9\", \"Topic9\", \"Topic9\", \"Topic9\", \"Topic9\", \"Topic9\", \"Topic9\", \"Topic9\", \"Topic9\", \"Topic9\", \"Topic9\", \"Topic9\", \"Topic9\", \"Topic10\", \"Topic10\", \"Topic10\", \"Topic10\", \"Topic10\", \"Topic10\", \"Topic10\", \"Topic10\", \"Topic10\", \"Topic10\", \"Topic10\", \"Topic10\", \"Topic10\", \"Topic10\", \"Topic10\", \"Topic10\", \"Topic10\", \"Topic10\", \"Topic10\", \"Topic10\", \"Topic10\", \"Topic10\", \"Topic10\", \"Topic10\", \"Topic10\", \"Topic10\", \"Topic10\", \"Topic10\", \"Topic10\", \"Topic10\", \"Topic10\", \"Topic10\", \"Topic10\", \"Topic10\", \"Topic10\", \"Topic10\", \"Topic10\", \"Topic10\", \"Topic10\", \"Topic10\", \"Topic10\", \"Topic10\", \"Topic10\", \"Topic10\", \"Topic10\", \"Topic10\", \"Topic10\", \"Topic10\", \"Topic10\", \"Topic10\", \"Topic10\", \"Topic10\", \"Topic10\", \"Topic10\", \"Topic10\", \"Topic10\", \"Topic10\", \"Topic10\", \"Topic10\", \"Topic10\", \"Topic10\", \"Topic10\", \"Topic10\", \"Topic10\", \"Topic10\", \"Topic10\", \"Topic10\", \"Topic10\", \"Topic10\", \"Topic10\", \"Topic10\", \"Topic10\", \"Topic10\", \"Topic10\", \"Topic10\", \"Topic10\", \"Topic10\", \"Topic10\", \"Topic10\", \"Topic10\", \"Topic10\", \"Topic10\", \"Topic10\", \"Topic10\", \"Topic10\", \"Topic10\", \"Topic10\", \"Topic10\", \"Topic10\", \"Topic10\"], \"logprob\": [30.0, 29.0, 28.0, 27.0, 26.0, 25.0, 24.0, 23.0, 22.0, 21.0, 20.0, 19.0, 18.0, 17.0, 16.0, 15.0, 14.0, 13.0, 12.0, 11.0, 10.0, 9.0, 8.0, 7.0, 6.0, 5.0, 4.0, 3.0, 2.0, 1.0, -8.443, -8.8688, -8.9525, -9.0078, -9.0356, -9.0458, -9.0182, -9.0381, -9.1165, -8.7657, -7.8372, -9.2386, -9.232, -8.5162, -9.3432, -9.3529, -9.3686, -9.3864, -9.3903, -9.4562, -9.4995, -9.3906, -9.519, -9.5423, -8.3839, -9.5655, -9.5939, -9.6356, -9.6842, -9.7068, -7.1551, -7.5218, -7.7256, -7.8994, -8.1598, -6.5921, -8.6504, -9.299, -9.0394, -7.342, -6.7157, -7.9657, -6.9764, -8.5536, -8.5885, -8.1948, -7.1434, -7.6148, -7.4069, -8.3356, -7.1154, -7.9037, -7.5554, -7.6922, -7.3139, -7.2889, -7.7532, -6.048, -7.1323, -6.4617, -7.3809, -5.0398, -6.2381, -6.1542, -5.3026, -7.0776, -5.841, -6.4912, -6.1954, -7.0213, -5.5094, -5.9686, -5.6939, -6.242, -6.292, -5.497, -5.7842, -5.8131, -5.7383, -6.5053, -6.3678, -5.3218, -5.7475, -5.8867, -5.0985, -5.9051, -5.8765, -6.0622, -6.2694, -6.187, -5.8435, -5.4058, -5.7882, -5.9042, -5.623, -5.7253, -5.888, -6.0687, -5.9895, -5.9892, -5.9755, -6.0742, -6.0345, -6.6948, -6.7871, -7.3393, -7.6368, -7.8091, -7.8449, -7.982, -7.9861, -8.0552, -8.2825, -8.3418, -8.5621, -8.6381, -8.8061, -8.8608, -8.8813, -8.9845, -8.9998, -9.0129, -8.968, -9.0641, -9.104, -9.1507, -9.1972, -9.2319, -9.2505, -9.1928, -9.2719, -7.9591, -9.2769, -5.0354, -5.31, -7.7179, -7.4165, -5.8794, -8.0855, -8.1726, -7.2506, -7.5178, -4.8086, -5.3145, -7.068, -6.4456, -7.8077, -7.8795, -7.2707, -5.9289, -7.1068, -6.1474, -5.4221, -5.7394, -6.9532, -5.2643, -5.2708, -5.9107, -5.601, -6.492, -6.9547, -4.8955, -4.0914, -5.1765, -5.77, -4.7645, -5.8886, -5.2785, -6.0266, -5.2599, -6.334, -6.1015, -5.8978, -4.8353, -5.3805, -5.5152, -5.0381, -5.642, -4.7571, -5.3758, -5.521, -5.117, -5.2475, -5.1002, -5.3539, -5.5199, -5.3297, -5.3448, -5.6018, -5.614, -6.642, -7.3133, -7.1517, -6.2939, -7.8235, -7.9488, -7.82, -7.8077, -8.0747, -8.0829, -8.1082, -8.1128, -8.1625, -8.1618, -8.2367, -8.2454, -8.2552, -8.276, -8.3007, -8.3548, -8.3451, -8.3702, -8.3979, -8.4115, -8.4813, -8.5398, -8.4219, -8.5462, -8.5536, -8.5649, -5.7735, -5.9248, -6.9295, -6.2306, -6.955, -7.4024, -7.5604, -7.2802, -6.7787, -7.7191, -7.9167, -7.94, -6.8085, -6.613, -7.2892, -7.6921, -7.6491, -6.5189, -7.2356, -7.4834, -6.3648, -7.3335, -5.6612, -5.4401, -5.1085, -5.4003, -7.1429, -5.164, -6.3343, -5.4479, -7.2789, -5.056, -5.8819, -5.1738, -6.4293, -4.2836, -6.3616, -6.5335, -5.4879, -4.0621, -6.8838, -5.0269, -5.6437, -5.373, -5.353, -5.8621, -4.9682, -5.6052, -6.0921, -5.6525, -6.0788, -5.6985, -5.5668, -4.9079, -5.7804, -5.7239, -5.422, -5.7242, -5.6522, -5.8509, -7.7205, -7.8508, -7.5318, -8.1496, -8.2139, -8.2433, -8.8323, -7.6677, -8.9225, -8.8593, -9.0056, -9.0304, -9.0606, -8.791, -9.1869, -9.1871, -9.2049, -8.9392, -9.2275, -9.2953, -9.328, -8.1875, -9.3946, -9.3959, -9.0633, -9.4247, -9.4891, -9.4985, -9.5278, -9.4925, -5.586, -8.6826, -7.7652, -6.4836, -8.9118, -6.9745, -8.8313, -8.5259, -8.6944, -6.1999, -7.2924, -7.5457, -8.0876, -7.7317, -8.028, -6.1237, -7.9507, -7.1248, -7.5636, -6.5368, -7.626, -5.8897, -8.0407, -5.5234, -7.8184, -8.2254, -6.0157, -7.4788, -4.9317, -6.7031, -6.6851, -5.2298, -6.8069, -6.6431, -5.6601, -7.5027, -6.7476, -7.0537, -6.7447, -5.1517, -4.8808, -5.5999, -5.736, -5.9782, -5.3173, -6.2203, -5.956, -5.3096, -5.508, -5.0503, -6.1878, -5.6229, -5.5696, -5.6705, -5.9338, -5.867, -5.7771, -5.1544, -4.9792, -5.7211, -5.6047, -5.6852, -5.5748, -5.7093, -5.8297, -5.9129, -5.8795, -5.9285, -6.9765, -7.1856, -7.457, -7.63, -7.8773, -7.9209, -7.9823, -8.0533, -8.1361, -8.147, -8.4579, -8.5161, -8.5527, -8.6875, -8.6923, -8.7254, -8.757, -8.7591, -8.8198, -6.856, -8.8593, -8.9071, -8.9225, -8.9286, -8.9784, -8.9881, -9.0165, -8.6421, -9.0332, -9.0622, -6.1703, -6.7953, -7.8527, -7.8625, -7.4814, -7.4262, -8.0898, -7.8068, -8.3803, -5.2655, -7.7804, -4.8748, -6.426, -6.7408, -5.4069, -6.1868, -6.5966, -5.7383, -5.5888, -6.0241, -4.9614, -6.2433, -4.8196, -5.6165, -5.9019, -4.9347, -5.0588, -6.2114, -5.8845, -5.9746, -7.2222, -5.3331, -5.6262, -6.2165, -5.4312, -5.0606, -5.6622, -5.405, -5.9178, -5.9007, -5.7144, -5.9257, -5.792, -5.5606, -5.7085, -5.9208, -5.8612, -5.8266, -5.8985, -5.9191, -6.7896, -7.0589, -7.1851, -7.3346, -7.3669, -7.5126, -7.5621, -7.6693, -6.9507, -7.6711, -7.7154, -7.8489, -7.7832, -7.8711, -8.0262, -8.0327, -8.0466, -8.0077, -8.1541, -8.198, -8.2231, -8.2372, -7.8539, -8.2819, -8.287, -5.8864, -7.508, -8.3968, -8.4052, -8.4115, -7.0055, -7.2975, -7.4477, -7.4416, -7.8055, -5.9917, -7.739, -6.3028, -6.6048, -7.334, -7.2208, -7.3215, -4.9931, -6.3239, -6.2586, -5.1778, -4.7072, -3.3364, -6.8755, -7.0853, -4.6855, -5.194, -6.8422, -5.4374, -5.2809, -6.7479, -5.6629, -4.8721, -6.2999, -5.2772, -6.2334, -5.216, -6.0891, -6.2879, -5.5088, -6.0768, -6.6216, -5.161, -5.0357, -4.8808, -5.535, -5.1473, -6.1664, -5.3898, -4.7329, -5.7986, -5.8099, -5.5869, -6.0043, -5.5752, -5.9008, -5.9666, -5.9947, -7.7454, -8.1488, -8.1865, -8.2907, -8.3462, -8.4391, -7.4914, -8.6162, -8.1482, -7.8847, -9.1417, -9.1571, -9.2235, -9.2683, -9.2419, -9.3346, -9.3388, -9.3509, -9.5098, -9.5132, -9.5746, -9.5767, -9.5981, -9.624, -9.6593, -6.0096, -9.6708, -9.7176, -9.7281, -9.775, -5.1415, -5.2506, -5.6919, -5.2535, -5.294, -7.954, -8.4096, -9.3523, -5.1309, -7.4099, -7.0406, -7.5353, -4.9502, -5.0835, -8.9259, -7.966, -8.8373, -4.8667, -6.7318, -7.0093, -6.3687, -8.2863, -6.4922, -5.1175, -5.1391, -4.8801, -6.236, -4.9979, -6.0109, -6.6982, -5.7651, -6.3865, -4.8448, -5.2811, -5.4048, -5.6028, -5.3644, -6.2151, -5.3089, -5.9982, -4.8875, -5.7857, -5.8324, -5.5455, -5.734, -5.5878, -5.2684, -5.7168, -5.5238, -5.5345, -5.4261, -5.7024, -5.7306, -5.726, -7.1141, -6.7034, -7.5034, -7.5283, -7.7207, -7.7563, -7.7681, -8.0521, -7.6204, -8.1346, -8.207, -8.1863, -8.2153, -8.263, -8.305, -8.4122, -8.4238, -8.1762, -7.1207, -7.3915, -7.5513, -8.6134, -8.6243, -8.6912, -8.4475, -8.74, -8.7489, -8.766, -8.7682, -8.7799, -7.8636, -7.8293, -7.694, -7.4816, -8.1067, -7.7635, -5.1401, -7.1284, -7.137, -6.6642, -7.9304, -6.7835, -6.8185, -7.6424, -7.2333, -6.8115, -7.5579, -7.0628, -5.0633, -5.9802, -6.5991, -5.7769, -5.78, -7.0221, -5.3908, -7.23, -5.5475, -5.843, -5.9539, -6.3128, -4.6315, -5.6467, -5.7248, -5.6054, -6.5992, -6.6498, -6.1067, -5.9637, -5.7099, -6.1128, -4.8084, -5.1091, -5.8158, -5.9082, -5.7255, -5.4231, -5.7275, -5.5747, -6.2667, -5.3695, -5.248, -4.9909, -5.4836, -5.6008, -5.0847, -5.5272, -5.28, -5.4615, -5.4615, -5.7281, -5.8304, -6.5994, -7.1512, -7.2632, -7.4168, -6.1433, -7.9511, -8.1867, -8.1912, -8.4089, -8.4231, -8.4985, -8.5387, -6.9733, -8.5009, -8.7387, -8.8456, -8.9742, -9.0144, -8.2649, -9.0089, -9.0661, -8.3334, -9.129, -9.189, -9.2077, -9.1638, -9.2996, -7.5662, -9.3888, -9.4329, -5.457, -7.4088, -7.3912, -5.8276, -6.773, -7.671, -7.4462, -7.3354, -6.1048, -7.5299, -6.6167, -7.4919, -4.8981, -6.9372, -7.5444, -5.5708, -6.0924, -7.4516, -7.3305, -5.6625, -5.3679, -4.7828, -6.1134, -6.0754, -6.6341, -5.5085, -7.1177, -5.4179, -6.2916, -5.7659, -6.5469, -5.1058, -5.5072, -6.1957, -4.827, -6.4116, -5.5235, -5.8154, -4.4828, -5.789, -5.5664, -5.7705, -5.259, -6.0154, -5.7581, -5.6302, -5.6659, -5.2271, -5.6653, -5.5185, -5.7089, -5.5772, -5.7351, -5.6332, -5.682, -5.7519, -6.5825, -6.8723, -7.0845, -6.4584, -7.6218, -8.077, -8.0917, -8.216, -8.204, -8.2695, -8.2957, -7.8883, -8.5023, -8.5258, -8.5316, -8.5893, -8.6296, -8.654, -8.667, -8.7089, -8.7324, -8.7402, -8.8655, -8.8702, -8.8976, -8.9212, -8.9326, -6.7689, -9.009, -9.0209, -6.8692, -7.2817, -6.0509, -6.7975, -6.2631, -8.179, -7.3478, -3.0666, -3.7618, -5.6432, -5.1176, -4.1347, -6.4062, -7.1203, -7.5798, -7.6814, -6.9168, -6.4238, -6.382, -7.5219, -7.2101, -6.747, -7.1335, -4.3575, -6.9175, -6.8708, -6.6404, -6.0886, -6.4913, -6.3996, -6.4356, -6.5295, -5.0728, -5.9481, -6.1238, -6.1569, -5.8376, -6.4441, -5.2174, -5.1683, -5.5095, -5.5066, -5.9429, -5.564, -5.6108, -5.7929, -5.7128, -5.9612, -5.7076, -5.6878, -5.8038, -5.7357, -5.9721, -5.6408, -5.6165, -5.7133, -5.7786, -5.947, -5.9562, -5.9706], \"loglift\": [30.0, 29.0, 28.0, 27.0, 26.0, 25.0, 24.0, 23.0, 22.0, 21.0, 20.0, 19.0, 18.0, 17.0, 16.0, 15.0, 14.0, 13.0, 12.0, 11.0, 10.0, 9.0, 8.0, 7.0, 6.0, 5.0, 4.0, 3.0, 2.0, 1.0, 1.7685, 1.7679, 1.7677, 1.7676, 1.7676, 1.7675, 1.7675, 1.7675, 1.7674, 1.7671, 1.7671, 1.7671, 1.767, 1.7669, 1.7667, 1.7667, 1.7667, 1.7666, 1.7666, 1.7664, 1.7662, 1.7661, 1.7661, 1.7661, 1.766, 1.766, 1.7659, 1.7657, 1.7655, 1.7654, 1.765, 1.7623, 1.7617, 1.7615, 1.7607, 1.7444, 1.7645, 1.7654, 1.7626, 1.7434, 1.7247, 1.7456, 1.7235, 1.7544, 1.7534, 1.7449, 1.7205, 1.721, 1.7052, 1.7383, 1.6782, 1.7169, 1.6971, 1.7027, 1.6823, 1.6808, 1.7025, 1.5854, 1.6385, 1.5784, 1.6542, 1.4495, 1.5464, 1.5288, 1.3968, 1.6088, 1.4534, 1.5349, 1.4863, 1.5884, 1.3178, 1.3931, 1.3372, 1.4402, 1.4481, 1.2435, 1.3017, 1.3048, 1.2828, 1.4688, 1.4281, 1.0863, 1.2168, 1.2526, 0.9351, 1.2229, 1.1511, 1.215, 1.3198, 1.269, 1.0387, 0.7112, 0.9825, 1.031, 0.7244, 0.7417, 0.7717, 1.0744, 0.9391, 0.8951, 0.6466, 0.9144, 0.396, 2.1901, 2.19, 2.1898, 2.1896, 2.1894, 2.1894, 2.1892, 2.1892, 2.1892, 2.1888, 2.1887, 2.1883, 2.188, 2.1877, 2.1876, 2.1875, 2.1872, 2.1871, 2.1871, 2.1869, 2.1869, 2.1867, 2.1866, 2.1864, 2.1862, 2.1862, 2.1862, 2.1861, 2.1861, 2.1861, 2.172, 2.1719, 2.1852, 2.1783, 2.162, 2.1839, 2.1797, 2.1703, 2.1728, 2.1297, 2.1369, 2.165, 2.146, 2.1737, 2.1746, 2.1606, 2.1211, 2.1434, 2.107, 2.0642, 2.0745, 2.1259, 2.0134, 2.0045, 2.0361, 1.9923, 2.0691, 2.0994, 1.8588, 1.7467, 1.8738, 1.9371, 1.7535, 1.9194, 1.7925, 1.9223, 1.742, 1.96, 1.8972, 1.8401, 1.5121, 1.6737, 1.6928, 1.5123, 1.7038, 1.2765, 1.5189, 1.5684, 1.2129, 1.2048, 1.0168, 1.2045, 1.3851, 0.8109, 0.8404, 1.3112, 1.3599, 2.1963, 2.1963, 2.1961, 2.196, 2.1958, 2.1957, 2.1956, 2.1955, 2.1955, 2.1955, 2.1955, 2.1955, 2.1954, 2.1954, 2.1953, 2.1953, 2.1953, 2.1952, 2.1952, 2.1951, 2.1951, 2.1951, 2.195, 2.195, 2.1949, 2.1948, 2.1947, 2.1947, 2.1947, 2.1947, 2.1924, 2.1934, 2.1924, 2.1842, 2.1896, 2.1932, 2.1939, 2.1896, 2.1832, 2.1926, 2.1944, 2.1946, 2.1808, 2.1719, 2.1824, 2.1864, 2.1852, 2.1593, 2.1754, 2.181, 2.1349, 2.1675, 2.0911, 2.0788, 2.0565, 2.0717, 2.159, 2.0471, 2.1061, 2.0491, 2.1648, 1.977, 2.0361, 1.9387, 2.0681, 1.7683, 2.0489, 2.0694, 1.8664, 1.3991, 2.0954, 1.5677, 1.7337, 1.6242, 1.5855, 1.7723, 1.3372, 1.6225, 1.8181, 1.4989, 1.7606, 1.3804, 1.2389, 0.5033, 1.3927, 1.2067, 0.7186, 0.9565, 0.7106, 0.9645, 2.2268, 2.2266, 2.2265, 2.2263, 2.2262, 2.2261, 2.2248, 2.2248, 2.2246, 2.2244, 2.2243, 2.2242, 2.2241, 2.2238, 2.2236, 2.2236, 2.2235, 2.2235, 2.2234, 2.2231, 2.223, 2.2227, 2.2226, 2.2226, 2.2226, 2.2225, 2.2221, 2.2221, 2.2219, 2.2219, 2.1998, 2.2216, 2.2091, 2.1957, 2.2174, 2.1971, 2.2157, 2.2092, 2.2122, 2.1521, 2.1761, 2.1837, 2.1995, 2.1862, 2.194, 2.1278, 2.1834, 2.1488, 2.1638, 2.1037, 2.1601, 2.0616, 2.1772, 1.9903, 2.1591, 2.1847, 1.9921, 2.1116, 1.8416, 2.0305, 2.0228, 1.8083, 2.0171, 1.9924, 1.8422, 2.1119, 1.9856, 2.037, 1.9767, 1.5373, 1.4489, 1.631, 1.6565, 1.7225, 1.5234, 1.7826, 1.6979, 1.3954, 1.397, 1.1349, 1.6702, 1.3742, 1.3296, 1.3697, 1.5063, 1.452, 1.3305, 0.6836, 0.4821, 1.1463, 0.9898, 1.0856, 0.8922, 0.8491, 0.9592, 1.3152, 1.0775, 0.7066, 2.2832, 2.2831, 2.2829, 2.2828, 2.2825, 2.2825, 2.2824, 2.2823, 2.2822, 2.2822, 2.2816, 2.2815, 2.2814, 2.281, 2.281, 2.2809, 2.2808, 2.2808, 2.2807, 2.2805, 2.2804, 2.2804, 2.2803, 2.2803, 2.2801, 2.2801, 2.2799, 2.2799, 2.2798, 2.2798, 2.2788, 2.2731, 2.2724, 2.2722, 2.2633, 2.2573, 2.2692, 2.2626, 2.2737, 2.1846, 2.2557, 2.1562, 2.2073, 2.2079, 2.1376, 2.1542, 2.1751, 2.0786, 2.066, 2.0978, 1.9532, 2.0817, 1.9045, 1.9955, 2.0285, 1.8876, 1.8986, 2.0349, 1.9741, 1.9768, 2.1766, 1.8234, 1.878, 1.9795, 1.7823, 1.6202, 1.7208, 1.5237, 1.6972, 1.656, 1.4596, 1.5844, 1.4516, 1.0909, 1.2163, 1.3411, 1.0525, 0.8331, 0.95, 0.6313, 2.2917, 2.2916, 2.2915, 2.2914, 2.2914, 2.2913, 2.2912, 2.2912, 2.2911, 2.2911, 2.2911, 2.291, 2.2909, 2.2909, 2.2907, 2.2907, 2.2907, 2.2907, 2.2905, 2.2905, 2.2904, 2.2904, 2.2904, 2.2903, 2.2903, 2.2903, 2.2902, 2.2901, 2.2901, 2.2901, 2.2884, 2.2884, 2.2889, 2.2865, 2.2892, 2.2705, 2.2869, 2.271, 2.2726, 2.2813, 2.2766, 2.2785, 2.2128, 2.2512, 2.2428, 2.1998, 2.1526, 2.0748, 2.2453, 2.2527, 2.0951, 2.1252, 2.237, 2.1139, 2.0713, 2.211, 2.0658, 1.9432, 2.138, 1.9838, 2.126, 1.9381, 2.0902, 2.1146, 1.9472, 2.0112, 2.155, 1.6228, 1.2697, 1.1711, 1.5204, 1.2155, 1.8545, 1.2909, 0.7283, 1.5567, 1.4371, 1.0645, 1.6452, 0.5654, 1.0949, 0.7308, 1.0434, 2.3352, 2.3347, 2.3346, 2.3344, 2.3343, 2.3341, 2.3341, 2.3337, 2.333, 2.3329, 2.3319, 2.3318, 2.3315, 2.3313, 2.3311, 2.3309, 2.3309, 2.3308, 2.3299, 2.3299, 2.3295, 2.3294, 2.3293, 2.3291, 2.3289, 2.3288, 2.3288, 2.3284, 2.3283, 2.3279, 2.3276, 2.3273, 2.3256, 2.2985, 2.2943, 2.3158, 2.3198, 2.3274, 2.2839, 2.3001, 2.2771, 2.2851, 2.1874, 2.1604, 2.3123, 2.258, 2.306, 2.0371, 2.1679, 2.1832, 2.1266, 2.2693, 2.0971, 1.8824, 1.8752, 1.8173, 2.0162, 1.8213, 1.9647, 2.0744, 1.888, 1.9937, 1.6686, 1.7415, 1.7466, 1.7721, 1.6504, 1.9096, 1.6048, 1.7797, 1.2616, 1.6661, 1.6635, 1.4661, 1.5891, 1.4493, 1.1622, 1.5168, 1.1652, 1.1652, 0.6908, 1.353, 0.6776, -0.2648, 2.4077, 2.4076, 2.4074, 2.4073, 2.4071, 2.4071, 2.407, 2.4067, 2.4066, 2.4065, 2.4064, 2.4064, 2.4064, 2.4063, 2.4062, 2.406, 2.406, 2.4059, 2.4059, 2.4057, 2.4056, 2.4055, 2.4054, 2.4052, 2.4051, 2.4051, 2.405, 2.405, 2.405, 2.405, 2.4047, 2.4031, 2.4006, 2.396, 2.4022, 2.3966, 2.3579, 2.3876, 2.3851, 2.3742, 2.398, 2.3699, 2.3692, 2.3904, 2.3767, 2.3555, 2.3824, 2.3573, 2.2489, 2.2929, 2.3207, 2.2642, 2.2373, 2.3409, 2.1985, 2.3549, 2.2078, 2.2107, 2.2202, 2.2586, 2.0566, 2.1741, 2.1828, 2.1335, 2.2649, 2.2657, 2.1658, 2.1026, 2.037, 2.1293, 1.7364, 1.8206, 2.0116, 2.0271, 1.9567, 1.8046, 1.9108, 1.8019, 2.1159, 1.6262, 1.5358, 1.3388, 1.5565, 1.6272, 1.1005, 1.4298, 1.0499, 1.0519, -0.0003, 0.8223, 0.6219, 2.7708, 2.7704, 2.7702, 2.77, 2.7698, 2.7692, 2.7687, 2.7686, 2.768, 2.7679, 2.7676, 2.7675, 2.7675, 2.7675, 2.7667, 2.7662, 2.7655, 2.7653, 2.7651, 2.765, 2.7649, 2.7647, 2.7645, 2.7641, 2.764, 2.764, 2.7633, 2.7629, 2.7625, 2.7621, 2.7461, 2.7618, 2.7608, 2.7444, 2.7533, 2.7594, 2.7563, 2.755, 2.7407, 2.7529, 2.7391, 2.7414, 2.6867, 2.7151, 2.7311, 2.6424, 2.6646, 2.7145, 2.7054, 2.598, 2.5598, 2.5137, 2.6092, 2.6046, 2.6466, 2.5242, 2.6867, 2.4516, 2.5564, 2.4024, 2.5562, 2.1323, 2.245, 2.4152, 1.9785, 2.4695, 2.1849, 2.268, 1.6663, 2.1899, 2.0611, 2.1172, 1.7628, 2.235, 1.9939, 1.8191, 1.8218, 1.2252, 1.739, 1.4916, 1.5455, 1.1226, 1.5125, 0.9888, 0.7486, 0.7373, 3.0641, 3.0639, 3.0636, 3.0635, 3.0628, 3.0617, 3.0616, 3.0612, 3.0611, 3.061, 3.0604, 3.0601, 3.06, 3.0599, 3.0598, 3.0595, 3.0593, 3.0591, 3.0591, 3.0589, 3.0587, 3.0582, 3.0579, 3.0578, 3.0576, 3.0575, 3.0574, 3.0571, 3.0568, 3.0567, 3.0519, 3.0543, 3.0387, 3.043, 3.0368, 3.0533, 3.0426, 2.9865, 2.986, 3.0164, 3.0039, 2.9372, 3.0062, 3.0255, 3.0354, 3.0353, 3.0095, 2.9881, 2.9857, 3.0291, 3.0147, 2.9883, 3.0067, 2.8561, 2.9943, 2.985, 2.9568, 2.8965, 2.9198, 2.8699, 2.8718, 2.8832, 2.5792, 2.7255, 2.7639, 2.7506, 2.6153, 2.8014, 2.241, 2.0861, 2.1572, 2.058, 2.3689, 1.8889, 1.8411, 1.9593, 1.825, 2.0938, 1.6539, 1.5592, 1.7628, 1.6091, 2.0211, 0.9537, 0.5005, 0.6495, 0.3705, 1.2427, 0.9886, 1.1527]}, \"token.table\": {\"Topic\": [7, 2, 4, 5, 6, 8, 3, 1, 2, 3, 4, 5, 6, 7, 8, 9, 10, 1, 2, 3, 4, 5, 7, 8, 9, 10, 2, 3, 6, 8, 3, 4, 6, 7, 8, 10, 1, 2, 3, 4, 5, 6, 7, 8, 1, 2, 3, 4, 5, 6, 7, 8, 9, 10, 1, 6, 9, 10, 4, 1, 2, 3, 4, 6, 7, 8, 9, 10, 6, 10, 1, 2, 4, 7, 8, 9, 1, 2, 4, 7, 8, 1, 2, 4, 6, 8, 10, 1, 2, 3, 4, 5, 6, 7, 8, 10, 1, 4, 10, 4, 7, 4, 5, 1, 2, 3, 5, 6, 8, 9, 1, 2, 4, 5, 6, 7, 8, 9, 10, 1, 5, 4, 1, 2, 3, 4, 5, 6, 7, 8, 9, 10, 7, 9, 6, 8, 3, 4, 5, 7, 8, 9, 3, 6, 4, 8, 4, 3, 8, 1, 2, 3, 4, 5, 6, 7, 8, 10, 5, 1, 2, 4, 5, 3, 4, 6, 7, 8, 10, 4, 8, 3, 4, 6, 8, 10, 10, 1, 2, 4, 8, 3, 6, 4, 4, 1, 1, 2, 3, 4, 5, 6, 7, 8, 9, 10, 1, 2, 5, 7, 3, 6, 1, 3, 5, 6, 9, 1, 2, 3, 4, 5, 6, 7, 8, 9, 10, 1, 2, 3, 4, 5, 6, 8, 9, 10, 6, 8, 6, 8, 2, 5, 3, 4, 6, 8, 1, 2, 3, 4, 5, 6, 7, 8, 9, 10, 1, 3, 5, 8, 9, 5, 7, 9, 1, 2, 5, 9, 10, 7, 4, 7, 8, 5, 6, 1, 2, 3, 5, 6, 9, 10, 3, 6, 2, 10, 1, 2, 3, 5, 6, 7, 9, 10, 5, 1, 3, 6, 8, 9, 2, 3, 9, 5, 4, 10, 1, 2, 3, 4, 5, 6, 7, 8, 10, 3, 4, 6, 10, 4, 6, 10, 2, 1, 2, 3, 4, 5, 6, 8, 1, 2, 3, 4, 5, 6, 4, 10, 10, 10, 1, 2, 3, 5, 6, 9, 1, 2, 5, 7, 9, 10, 9, 1, 2, 3, 4, 5, 6, 8, 9, 10, 1, 2, 7, 8, 9, 10, 1, 1, 4, 5, 6, 8, 1, 2, 4, 6, 8, 9, 10, 1, 2, 5, 1, 2, 9, 6, 1, 2, 4, 7, 8, 7, 8, 7, 8, 7, 8, 1, 2, 3, 4, 5, 6, 7, 8, 9, 10, 1, 3, 4, 5, 6, 7, 8, 10, 4, 7, 4, 7, 8, 10, 7, 3, 4, 6, 10, 1, 2, 3, 4, 5, 6, 7, 8, 9, 10, 10, 6, 6, 4, 5, 8, 1, 2, 4, 5, 6, 7, 8, 9, 10, 1, 2, 3, 4, 5, 6, 7, 8, 9, 10, 2, 6, 8, 10, 2, 1, 2, 4, 5, 7, 8, 9, 10, 1, 2, 3, 4, 5, 6, 7, 8, 9, 10, 1, 2, 3, 4, 5, 6, 7, 8, 9, 10, 5, 1, 2, 3, 5, 1, 2, 3, 4, 6, 8, 10, 4, 7, 10, 3, 5, 5, 3, 6, 9, 1, 2, 4, 8, 3, 1, 2, 4, 5, 6, 8, 1, 2, 3, 4, 5, 6, 7, 8, 9, 9, 1, 2, 3, 4, 5, 6, 7, 8, 10, 4, 1, 2, 3, 4, 5, 6, 7, 8, 10, 1, 2, 3, 4, 5, 6, 7, 8, 9, 10, 1, 2, 4, 6, 7, 8, 10, 1, 2, 3, 4, 5, 6, 7, 8, 9, 10, 7, 1, 2, 4, 5, 1, 2, 3, 4, 5, 6, 7, 8, 9, 10, 1, 2, 3, 4, 5, 6, 7, 8, 9, 10, 1, 2, 3, 5, 6, 7, 9, 10, 1, 2, 3, 4, 5, 7, 9, 1, 2, 3, 4, 5, 6, 7, 8, 9, 10, 1, 2, 3, 4, 5, 6, 7, 8, 9, 10, 3, 6, 3, 6, 2, 4, 1, 5, 9, 10, 1, 2, 3, 4, 5, 6, 8, 9, 10, 1, 2, 3, 4, 5, 6, 7, 8, 10, 1, 2, 3, 4, 5, 6, 7, 8, 9, 10, 5, 7, 5, 1, 2, 5, 9, 1, 2, 4, 6, 8, 4, 10, 1, 2, 3, 4, 5, 6, 7, 8, 9, 10, 1, 2, 3, 4, 5, 6, 7, 8, 9, 10, 1, 2, 4, 7, 8, 9, 10, 1, 10, 3, 8, 4, 6, 8, 1, 2, 3, 4, 5, 6, 7, 8, 9, 10, 2, 5, 10, 6, 8, 3, 9, 9, 1, 3, 4, 5, 6, 7, 1, 9, 1, 9, 1, 2, 5, 1, 5, 7, 9, 10, 6, 1, 1, 3, 6, 8, 1, 2, 3, 4, 5, 6, 7, 8, 9, 10, 10, 2, 1, 2, 3, 4, 5, 6, 7, 8, 9, 1, 2, 3, 4, 5, 6, 7, 8, 9, 10, 6, 8, 1, 2, 3, 4, 6, 7, 8, 9, 10, 1, 2, 9, 5, 3, 4, 7, 8, 10, 1, 3, 4, 5, 6, 7, 8, 9, 10, 6, 1, 2, 3, 4, 5, 6, 7, 8, 9, 10, 5, 1, 2, 3, 4, 5, 10, 1, 2, 4, 2, 9, 1, 2, 4, 6, 8, 9, 10, 2, 1, 3, 4, 5, 6, 7, 8, 1, 2, 3, 4, 5, 6, 7, 8, 9, 10, 1, 2, 3, 4, 5, 7, 8, 10, 1, 2, 4, 6, 8, 10, 1, 2, 3, 4, 5, 6, 7, 8, 1, 2, 3, 4, 5, 6, 7, 8, 9, 10, 1, 10, 2, 6, 8, 10, 2, 4, 6, 8, 10, 1, 2, 3, 4, 5, 6, 7, 8, 9, 10, 1, 5, 1, 1, 3, 4, 6, 7, 8, 9, 1, 3, 4, 6, 7, 1, 1, 5, 1, 2, 3, 4, 5, 6, 7, 8, 9, 10, 1, 3, 4, 10, 1, 2, 3, 4, 5, 6, 7, 8, 9, 10, 1, 2, 3, 4, 5, 6, 7, 8, 9, 10, 3, 3, 1, 3, 6, 10, 3, 6, 2, 3, 5, 6, 10, 3, 4, 6, 7, 8, 10, 3, 4, 6, 7, 8, 10, 6, 6, 8, 3, 4, 6, 7, 8, 10, 1, 2, 3, 4, 5, 6, 7, 8, 9, 10, 4, 8, 7, 4, 6, 8, 8, 8, 8, 9, 1, 2, 3, 4, 5, 6, 7, 8, 9, 10, 1, 2, 3, 6, 7, 8, 9, 10, 4, 1, 4, 7, 9, 1, 3, 5, 7, 8, 9, 1, 2, 4, 5, 9, 10, 1, 2, 5, 1, 2, 3, 4, 5, 6, 7, 8, 9, 10, 1, 2, 3, 4, 5, 6, 7, 8, 10, 4, 6, 8, 1, 4, 8, 1, 9, 10, 3, 3, 3, 5, 6, 8, 3, 5, 6, 7, 8, 9, 10, 1, 2, 5, 1, 2, 5, 5, 4, 4, 5, 4, 6, 8, 1, 2, 3, 5, 6, 8, 9, 10, 1, 2, 3, 4, 5, 6, 7, 8, 9, 10, 1, 2, 3, 5, 6, 7, 9, 10, 1, 2, 3, 4, 6, 7, 8, 9, 10, 1, 2, 4, 6, 7, 8, 9, 10, 7, 3, 6, 8, 3, 4, 6, 8, 3, 6, 3, 5, 7, 2, 3, 4, 5, 6, 7, 8, 9, 10, 9, 1, 2, 3, 4, 5, 6, 7, 8, 9, 10, 1, 2, 3, 4, 5, 6, 7, 8, 9, 10, 1, 2, 4, 5, 6, 7, 8, 9, 10, 3, 6, 1, 2, 3, 4, 5, 6, 7, 8, 9, 10, 1, 2, 3, 5, 6, 7, 9, 10, 1, 2, 3, 4, 5, 6, 7, 8, 9, 10, 1, 2, 3, 4, 5, 6, 7, 8, 9, 10, 1, 2, 3, 5, 6, 7, 9, 1, 3, 10, 1, 2, 3, 4, 5, 6, 7, 8, 9, 10, 1, 2, 6, 1, 2, 3, 4, 5, 6, 7, 8, 9, 10, 1, 2, 3, 4, 5, 6, 7, 8, 9, 10, 7, 10, 1, 10, 1, 2, 10, 2, 4, 6, 7, 8, 9, 10, 1, 2, 3, 4, 5, 6, 7, 8, 9, 10, 10, 1, 2, 3, 4, 5, 6, 7, 8, 9, 10, 8, 1, 4, 6, 8, 9, 1, 9, 3, 6, 10, 3, 6, 1, 2, 3, 4, 5, 6, 8, 9, 10, 1, 2, 3, 4, 5, 6, 8, 9, 10, 1, 3, 4, 5, 6, 9, 1, 2, 3, 5, 6, 10, 5, 1, 2, 3, 4, 5, 6, 7, 8, 9, 10, 2, 9, 9, 1, 2, 4, 5, 6, 7, 8, 9, 10, 3, 4, 6, 7, 3, 6, 7, 4, 6, 8, 10, 1, 2, 3, 4, 5, 6, 7, 8, 9, 10, 1, 2, 4, 7, 8, 9, 10, 9, 1, 2, 3, 4, 7, 8, 9, 10, 2, 3, 4, 5, 6, 7, 8, 9, 4, 8, 10, 1, 2, 3, 4, 5, 6, 7, 8, 9, 10, 1, 2, 3, 4, 5, 6, 7, 8, 9, 10, 1, 4, 6, 10, 4, 8, 1, 4, 1, 2, 3, 4, 5, 7, 8, 9, 10, 1, 2, 3, 4, 5, 6, 8, 9, 10, 6, 8, 1, 2, 10, 8, 1, 2, 3, 4, 7, 8, 9, 10, 2, 1, 2, 3, 4, 5, 6, 7, 8, 9, 10, 2, 4, 6, 7, 8, 9, 10, 1, 2, 3, 4, 6, 7, 8, 1, 3, 5, 6, 7, 8, 9, 10, 3, 4, 6, 10, 7, 8, 1, 2, 3, 4, 5, 6, 7, 8, 9, 10, 3, 1, 2, 4, 6, 8, 10, 8, 1, 4, 7, 8, 1, 3, 6, 6, 6, 3, 6, 7, 7, 9, 8, 1, 2, 4, 6, 7, 8, 9, 10, 6, 1, 2, 3, 4, 5, 6, 8, 9, 10, 5, 9, 1, 2, 3, 4, 6, 7, 8, 10, 1, 3, 4, 6, 7, 10, 1, 2, 3, 4, 5, 7, 8, 9, 10, 8, 10, 1, 2, 9, 10, 3, 6, 1, 3, 5, 9, 10, 1, 2, 3, 5, 9, 10, 2, 4, 6, 9, 10, 1, 2, 3, 4, 5, 6, 7, 8, 10, 1, 2, 3, 4, 6, 7, 8, 9, 10, 3, 4, 7, 6, 2, 4, 6, 8, 4, 6, 8, 10, 2, 3, 4, 6, 7, 8, 10, 4, 8, 1, 2, 4, 6, 8, 9, 10, 1, 2, 3, 6, 7, 8, 1, 2, 3, 4, 5, 6, 7, 8, 9, 10, 2, 4, 6, 8, 2, 4, 6, 8, 10, 1, 2, 3, 4, 5, 6, 7, 8, 9, 10, 3, 4, 6, 8, 1, 2, 3, 4, 5, 6, 7, 8, 9, 10, 1, 1, 2, 3, 4, 5, 6, 7, 8, 9, 10, 1, 2, 4, 8, 10, 1, 2, 10, 1, 2, 3, 4, 5, 6, 7, 8, 10, 1, 5, 9, 10, 9, 1, 5, 1, 2, 3, 4, 5, 6, 7, 8, 9, 10, 1, 2, 3, 4, 5, 8, 9, 10, 1, 10, 3, 1, 2, 3, 4, 5, 6, 7, 8, 9, 10, 10, 4, 1, 3, 5, 6, 7, 10, 1, 2, 3, 5, 7, 9, 10, 1, 4, 9, 1, 2, 5, 6, 9, 10, 1, 2, 3, 4, 5, 6, 7, 8, 9, 10, 1, 2, 5, 2, 9, 3, 10, 8, 1, 9, 1, 2, 4, 7, 9, 10, 2, 9, 9, 5, 3, 4, 5, 6, 8, 6, 3, 6, 1, 3, 4, 5, 7, 8, 9, 10, 9, 6, 8, 2, 5, 1, 2, 3, 4, 5, 6, 7, 8, 9, 10, 7, 1, 2, 3, 4, 5, 6, 7, 8, 9, 10, 2, 9, 1, 3, 4, 5, 6, 7, 8, 9, 10, 1, 2, 3, 4, 5, 7, 8, 10, 1, 2, 3, 4, 5, 6, 7, 8, 9, 10, 1, 2, 4, 6, 9, 10, 7, 4, 7, 10, 1, 2, 3, 4, 5, 6, 7, 8, 9, 10, 1, 2, 3, 4, 5, 6, 7, 8, 9, 10, 1, 2, 3, 4, 5, 6, 7, 8, 9, 10, 1, 2, 3, 4, 5, 6, 8, 1, 2, 3, 4, 5, 6, 7, 8, 9, 10, 1, 2, 4, 5, 6, 8, 1, 1, 1, 9, 3, 6, 8, 10, 7, 7, 9, 10, 4, 8, 6, 10, 3, 6, 10, 3, 4, 6, 10, 1, 2, 3, 4, 5, 6, 7, 8, 9, 10, 1, 2, 3, 6, 6, 8, 1, 3, 6, 5, 4, 8, 6, 3, 4, 5, 6, 7, 8, 6, 8, 1, 2, 3, 4, 5, 6, 7, 8, 9, 10, 5, 1, 2, 5, 6, 9, 1, 2, 9, 7, 1, 2, 3, 4, 6, 7, 8, 9, 10, 3, 5, 6, 3, 10, 3, 6, 7, 3, 4, 6, 7, 10, 6, 6, 8, 4, 6, 8, 3, 3, 3, 6, 1, 2, 3, 4, 5, 6, 7, 8, 9, 10, 4, 1, 1, 3, 4, 6, 9, 1, 2, 3, 4, 5, 6, 7, 8, 9, 10, 5, 6, 2, 3, 4, 6, 3, 4, 6, 6, 8, 7, 6, 6, 4, 6, 4, 5, 6, 7, 9, 2, 7, 9, 10, 8, 2, 7, 7, 9, 3, 6, 2, 4, 6, 8, 10, 1, 4, 5, 7, 7, 9, 1, 2, 4, 5, 6, 7, 8, 9, 10, 1, 4, 1, 2, 3, 4, 5, 6, 7, 8, 9, 10, 5, 8, 4, 1, 2, 3, 4, 5, 6, 7, 8, 9, 10, 5, 3, 6, 1, 2, 4, 5, 6, 7, 8, 9, 10, 1, 1, 2, 3, 4, 5, 6, 7, 8, 9, 10, 1, 2, 4, 9, 3, 6, 2, 1, 2, 3, 4, 5, 6, 7, 8, 9, 10, 1, 2, 4, 6, 8, 5, 7, 1, 3, 5, 6, 7, 8, 9, 10, 10, 3, 6, 8, 10, 3, 4, 6, 8, 10, 4, 6, 8, 1, 4, 8, 1, 2, 3, 4, 5, 6, 8, 10, 1, 2, 3, 4, 5, 6, 7, 8, 9, 10, 1, 2, 3, 4, 5, 6, 7, 10, 1, 2, 1, 2, 4, 5, 6, 8, 10, 1, 1, 2, 3, 4, 5, 6, 7, 8, 9, 10, 3, 1, 2, 3, 4, 5, 6, 7, 8, 9, 10, 8, 1, 2, 3, 4, 5, 6, 7, 8, 9, 10, 3, 6, 8, 1, 2, 5, 9, 10, 1, 2, 5, 9, 10, 2, 1, 2, 3, 4, 5, 7, 8, 9, 10, 7, 8, 3, 4, 6, 10, 3, 1, 4, 10, 2, 1, 2, 3, 4, 5, 6, 7, 8, 9, 10, 3, 3, 5, 4, 6, 8, 9, 10, 1, 3, 5, 6, 7, 9, 10, 3, 1, 3, 4, 5, 6, 10, 1, 3, 4, 5, 6, 9, 10, 2, 3, 4, 5, 6, 7, 8, 10, 8, 1, 2, 4, 5, 7, 8, 9, 10, 7, 9, 10, 3, 6, 10, 10, 1, 3, 9, 1, 2, 4, 5, 7, 8, 10, 4, 6, 8, 3, 10, 1, 2, 3, 4, 5, 6, 7, 8, 9, 10, 2, 3, 5, 6, 7, 8, 9, 1, 2, 4, 6, 8, 10, 2, 4, 6, 8, 10, 4, 5, 6, 7, 4, 6, 5, 5, 1, 5, 9, 10, 1, 9, 1, 2, 3, 4, 5, 6, 7, 8, 9, 10, 3, 7, 1, 2, 4, 5, 7, 8, 1, 2, 3, 4, 5, 6, 7, 8, 9, 10, 6, 8, 1, 2, 3, 4, 5, 6, 7, 8, 9, 10, 1, 3, 4, 5, 6, 7, 8, 9, 10, 1, 3, 5, 6, 7, 8, 9, 10, 1, 2, 3, 4, 5, 6, 7, 8, 9, 10, 1, 2, 3, 4, 5, 6, 7, 8, 9, 10, 6, 8, 1, 2, 3, 4, 5, 6, 7, 8, 9, 10, 1, 2, 3, 4, 5, 6, 7, 8, 9, 10, 1, 2, 3, 4, 6, 7, 8, 9, 10, 3, 4, 6, 8, 10, 1, 2, 3, 4, 5, 6, 7, 8, 10, 1, 2, 4, 5, 8, 9, 10, 3, 3, 4, 2, 1, 2, 4, 6, 8, 1, 2, 4, 6, 9, 2, 2, 2, 1, 2, 3, 4, 5, 6, 7, 8, 9, 10, 4, 6, 8, 7, 10, 2, 4, 8, 1, 2, 4, 7, 8, 9, 10, 1, 2, 3, 4, 5, 6, 7, 8, 9, 10, 1, 2, 4, 5, 9, 10, 1, 2, 4, 6, 4, 9, 1, 2, 4, 5, 6, 8, 10, 1, 3, 6, 4, 6, 8, 3, 4, 3, 4, 6, 8, 1, 2, 4, 8, 1, 2, 3, 4, 5, 6, 7, 8, 9, 10, 1, 2, 3, 4, 5, 6, 7, 8, 9, 10, 9, 3, 9, 10, 1, 2, 3, 4, 5, 6, 7, 8, 9, 10, 2, 3, 6, 5, 1, 2, 3, 4, 5, 6, 7, 8, 9, 10, 1, 4, 7, 8, 10, 1, 2, 3, 4, 6, 7, 8, 10, 1, 2, 9, 10, 4, 1, 9, 1, 2, 3, 4, 5, 6, 7, 8, 9, 10, 1, 10, 7, 3, 2, 3, 4, 6, 7, 8, 5, 1, 3, 5, 3, 4, 1, 2, 3, 4, 5, 6, 7, 8, 9, 10, 2, 3, 4, 6, 7, 8, 10, 1, 2, 5, 9, 1, 2, 3, 4, 5, 6, 7, 8, 9, 10, 1, 2, 3, 4, 5, 6, 7, 8, 9, 10, 1, 2, 4, 5, 6, 7, 9, 10, 1, 2, 3, 4, 5, 6, 7, 8, 9, 10, 1, 2, 3, 4, 5, 6, 7, 8, 9, 10, 6, 1, 2, 3, 4, 5, 6, 7, 9, 10, 1, 2, 3, 4, 5, 7, 8, 9, 10, 2, 7, 8, 5, 9, 7, 2, 1, 2, 2, 2, 4, 1, 5, 2, 3, 4, 5, 6, 7, 8, 9, 1, 1, 2, 3, 4, 5, 7, 8, 9, 10, 1, 2, 3, 4, 5, 6, 7, 8, 9, 10, 1, 2, 3, 4, 5, 6, 7, 8, 9, 10, 9, 1, 2, 3, 5, 6, 7, 9, 1, 6, 7, 8, 1, 2, 3, 4, 5, 6, 7, 8, 9, 10, 1, 2, 3, 4, 5, 6, 7, 8, 9, 10, 1, 2, 4, 5, 10, 2, 4, 5, 6, 8, 10, 9, 9, 7, 7, 1, 2, 4, 5, 7, 8, 9, 10, 1, 2, 4, 7, 8, 9, 10, 3, 6, 10, 1, 3, 9, 1, 5, 1, 3, 6, 7, 10, 2, 3, 4, 6, 7, 8, 9, 10, 8, 1, 2, 3, 4, 5, 6, 7, 8, 9, 10, 10, 1, 2, 4, 5, 7, 8, 10, 1, 9, 10, 1, 2, 3, 4, 5, 6, 7, 8, 9, 10, 6, 7, 1, 2, 3, 4, 5, 6, 7, 8, 9, 10, 8, 1, 2, 3, 4, 5, 6, 7, 8, 9, 10, 4, 1, 3, 4, 5, 6, 9, 10, 1, 2, 5, 6, 7, 9, 10, 1, 2, 3, 4, 5, 6, 7, 8, 9, 10, 1, 2, 3, 6, 8, 1, 2, 4, 5, 6, 8, 1, 2, 3, 4, 5, 6, 7, 8, 9, 10, 1, 2, 3, 4, 5, 6, 8, 2, 2, 1, 2, 1, 2, 3, 6, 7, 7, 1, 2, 3, 4, 5, 6, 7, 8, 9, 10, 9, 1, 2, 3, 4, 5, 6, 7, 8, 9, 10, 1, 4, 1, 4, 5, 6, 8, 1, 3, 4, 5, 6, 8, 10, 1, 2, 3, 4, 5, 6, 7, 9, 10, 1, 2, 3, 4, 5, 6, 7, 8, 9, 10, 7, 5, 1, 2, 3, 4, 5, 6, 7, 8, 10, 1, 2, 3, 4, 6, 7, 8, 10, 4, 6, 8, 1, 2, 3, 4, 5, 6, 7, 8, 9, 10, 1, 2, 3, 4, 5, 6, 7, 8, 9, 10, 6, 1, 2, 3, 4, 5, 7, 8, 10, 1, 2, 3, 4, 5, 6, 7, 8, 9, 10, 1, 2, 3, 4, 5, 6, 7, 8, 9, 10, 1, 2, 4, 3, 4, 5, 6, 7, 8, 9, 10, 5, 7, 1, 2, 3, 4, 5, 6, 7, 8, 9, 10, 6, 1, 7, 1, 2, 1, 2, 5, 6, 1, 2, 3, 4, 6, 7, 8, 10, 1, 2, 3, 4, 6, 8, 1, 1, 2, 5, 6, 7, 8, 9, 10, 6, 8, 8, 6, 8, 10, 6, 8, 3, 4, 5, 6, 8, 10, 6, 6, 6, 1, 2, 3, 4, 8, 10, 1, 9, 1, 7, 9, 1, 3, 4, 5, 6, 7, 8, 1, 9, 10, 9, 1, 9, 10, 1, 2, 4, 5, 6, 8, 10, 1, 5, 1, 2, 3, 4, 5, 6, 7, 8, 9, 10, 1, 2, 3, 4, 5, 6, 8, 10, 3, 8, 1, 2, 4, 5, 7, 8, 9, 10, 6, 3, 4, 5, 6, 8, 1, 5, 4, 10, 5, 4, 7, 10, 6, 6, 8, 1, 2, 5, 7, 8, 9, 10, 1, 2, 4, 5, 6, 7, 8, 9, 10, 3, 3, 4, 6, 7, 10, 2, 3, 4, 6, 7, 8, 10, 1, 3, 4, 6, 7, 10, 10, 1, 2, 3, 4, 5, 6, 7, 8, 9, 10, 3, 4, 5, 6, 7, 8, 10, 8, 10, 4, 6, 7, 8, 10, 1, 3, 6, 1, 2, 3, 4, 5, 6, 7, 8, 9, 10, 5, 1, 5, 1, 2, 3, 4, 5, 6, 7, 8, 10, 1, 2, 3, 4, 5, 7, 1, 2, 4, 5, 7, 8, 9, 10, 4, 6, 8, 10, 10, 3, 9, 8, 1, 2, 9, 1, 3, 4, 5, 6, 9, 10, 1, 2, 3, 5, 6, 7, 8, 9, 10, 1, 2, 3, 4, 5, 6, 7, 8, 9, 10, 1, 2, 3, 4, 5, 6, 7, 8, 9, 10, 1, 1, 2, 3, 4, 5, 6, 7, 8, 9, 10, 1, 2, 4, 9, 10, 7, 7, 1, 2, 4, 6, 8, 9, 10, 1, 1, 4, 5, 10, 9, 4, 9, 1, 7], \"Freq\": [0.9952749563000214, 0.0022745869138091684, 0.04814542300896073, 0.019713086586346126, 0.06255114012975213, 0.8669967119802613, 0.9976030436299784, 0.5752566040160478, 0.13926187688532343, 0.009427786636337176, 0.15466957390242306, 0.022249576461755738, 0.009320040503350465, 0.009751025035297308, 0.015030585551646127, 0.037926638811322126, 0.027152025512651067, 0.0066620459381372885, 0.009993068907205933, 0.017407281322229688, 0.09864126082596823, 0.804388320853157, 0.03459965793677753, 0.026540731398708228, 0.00161178530761386, 0.000107452353840924, 0.00045589522523390845, 0.2819386328625128, 0.7018832631922616, 0.015695821325910277, 0.7185652958845355, 0.01177584584109304, 0.1961314864749618, 0.006047055972453183, 0.04105632739191898, 0.02633652009055268, 0.002712850414486669, 0.00290662544409286, 0.02557830390801717, 0.003972388106926909, 0.0935933392997901, 0.8367205778395312, 0.003972388106926909, 0.03051956716297503, 0.15863925889981348, 0.2516811487865168, 0.2280188185587246, 0.03141582105168412, 0.025695257699910184, 0.17785751511878956, 0.040067582153953785, 0.007611658674674407, 0.06829217984824336, 0.010661049882851421, 0.9298120482399335, 0.005841195048908777, 0.06319111007455859, 0.0005310177317189797, 0.9962779900910588, 0.013321892709180222, 0.022897003093903506, 0.03627093444647896, 0.16444211312894336, 0.175422266885338, 0.0290896016579365, 0.5556165955309267, 0.0006244637207428229, 0.0022897003093903506, 0.007690771968847555, 0.9882641979969108, 0.010909217803433749, 0.0009154588366517831, 0.1267147606398843, 0.008544282475416642, 0.8526736181047483, 0.00030515294555059436, 0.020408630837326507, 0.004153969108482387, 0.13690037322737605, 0.009933404389849186, 0.828445926113422, 0.0007829149111243786, 0.9199250205711449, 0.054999772506487604, 0.003523117100059704, 0.00841633529458707, 0.012330909850208963, 0.009645668908302594, 0.536860837845652, 0.00012209707478864042, 0.15628425572945975, 6.104853739432021e-05, 0.07087735191480576, 0.007814212786472987, 0.14596705290981962, 0.07246461388705809, 0.9841283138996402, 0.012206242653018793, 0.001525780331627349, 0.988530912820549, 0.006937059037337185, 0.9674594039145509, 0.03220197726488375, 0.015252238474630761, 0.0002773134268114684, 0.8801928166996007, 0.0008319402804344052, 0.09983283365212862, 0.0016638805608688103, 0.0019411939876802788, 0.00442757831643947, 0.37622989681176944, 0.1466528198490338, 0.0017995963479721716, 0.01988125489188304, 0.1377119681519657, 0.25705662754605674, 0.006455694835582711, 0.049760267272500366, 0.9927545960530406, 0.005001282599763428, 0.993241724443775, 0.0003508619760203442, 8.771549400508605e-05, 0.01043814378660524, 0.004736636676274647, 8.771549400508605e-05, 0.0005262929640305164, 0.5115567610376619, 0.08604889961898941, 0.09201355321133527, 0.29411005139905355, 0.01373084480509238, 0.9845015725251237, 0.022248901298674368, 0.9768658226449214, 0.01908852088196059, 0.02083976132984688, 0.9055664356020018, 0.034149188733782705, 0.019789017061115105, 0.00043781011197157314, 0.9132256558711452, 0.08651363337757106, 0.9823051262585037, 0.016371752104308395, 0.9965218722815958, 0.9974507021337023, 0.9969551602624432, 0.009005728163706346, 0.0033550751982435404, 0.12175391311520638, 0.002913617935316759, 0.01659879308604699, 0.4001368631168349, 0.004591155534438529, 0.0028253264827314026, 0.4387202278966356, 0.9983157970168588, 0.00638939837557872, 0.00319469918778936, 0.9871620490269123, 0.9955526750879459, 0.5330061766311052, 0.28996935424432235, 0.170684053210687, 0.006066615934003921, 0.00022331101597560446, 3.721850266260074e-05, 0.00183092368912428, 0.9969379487281704, 0.03299231744977068, 0.0003299231744977068, 0.8719869501974391, 0.09402810473184645, 0.0006598463489954136, 0.9939165689493237, 0.012502418155378862, 0.981714603618238, 0.005632957630445422, 0.0001373892104986688, 0.003320921799672998, 0.9962765399018993, 0.9944785193706971, 0.9987391416264748, 0.9989080275850055, 0.23426799615027014, 0.000284910910489839, 0.16125957533724888, 0.03440299244164806, 0.43513018804560666, 0.03710964609130153, 0.021297090559115467, 0.012108713695818158, 0.021439546014360385, 0.042665408845853396, 0.9519133683444255, 0.01224094346585116, 0.033842608405588503, 0.001800138744978112, 0.9980833811367784, 0.0012828835233120546, 0.012932325662319992, 0.03213486982758301, 0.9268166724662661, 0.026256539981073922, 0.0015675546257357567, 0.21196852976940986, 0.0639069298707773, 0.03744343124636107, 0.06453967175068598, 0.1215236610530506, 0.013883101247408231, 0.1757533621722833, 0.07187203353551017, 0.11798775054767853, 0.12111423983663909, 0.031290590201612865, 0.0003160665676930593, 0.012642662707722371, 0.821140942866568, 0.06953464489247305, 0.04772605172165195, 0.016435461520039083, 0.0003160665676930593, 0.0006321331353861185, 0.010913430518351586, 0.98816152693438, 0.05118262823522168, 0.9485847099594418, 0.9938762172552186, 0.005872237620414881, 0.8690459380309793, 0.0935024421885127, 0.011654881878427286, 0.025746094996977793, 0.18178222830204985, 0.16126645014210578, 0.011749945673422512, 0.407704464160343, 0.09207232562083989, 0.0022380848901757166, 0.007957635165069215, 0.0942482414862885, 0.014734058860323467, 0.026297497459564667, 0.08684840498946328, 0.0010924327671630602, 0.027310819179076504, 0.0016386491507445903, 0.8826856758677526, 0.01407088386343639, 0.9708909865771108, 0.01407088386343639, 0.2284142285416994, 0.7458702180847397, 0.001364119480341934, 0.001364119480341934, 0.023038462334663775, 0.9915180466668885, 0.9955959728147802, 0.9912969747510645, 0.008656446394567271, 0.9953922549768225, 0.9987663351759024, 0.04126079795779996, 0.0031258180271060577, 0.08033352329662569, 0.01906748996534695, 0.002813236224395452, 0.8502225033728477, 0.0031258180271060577, 0.9881804576207677, 0.010451908686373504, 0.9950814678148241, 0.9919126169743517, 0.041895831227181074, 0.6716519094875409, 0.018280727502561128, 0.07977589608494709, 0.007192417378056837, 0.09661814011189684, 0.07743836043707861, 0.0070725437550892235, 0.9963060158184829, 0.0030340643351880565, 0.860915755109611, 0.13239553462638792, 6.895600761791038e-05, 0.0035857123961313396, 0.9974786382910672, 0.9983826862780858, 0.9994747235630006, 0.9961596991395264, 0.9942756896496595, 0.0027695701661550405, 0.001278564203955314, 0.00044471798398445703, 0.03869046460664776, 0.1902281176493515, 0.001334153951953371, 0.30201910087344436, 0.00011117949599611426, 0.4574480362760121, 0.008449641695704684, 0.0018692780336104875, 0.051093599585353325, 0.0031154633893508126, 0.943362314295426, 0.02561075167681416, 0.001113510942470181, 0.9720950527764679, 0.9974851180925302, 0.005733702498815634, 0.09049952052184677, 0.0006198597296016902, 0.02370963465726465, 0.09328888930505437, 0.6455839083801603, 0.14055319368718325, 0.0012637644047385542, 0.0031594110118463854, 0.009162291934354517, 0.7851136364438268, 0.022747759285293975, 0.17819078106813613, 0.9596300949327976, 0.039252899469802274, 0.9956605302436086, 0.994846132007317, 0.001996488477258886, 0.05415474994564728, 0.8792036131728819, 0.0027451716562309682, 0.001996488477258886, 0.059894654317766576, 0.19272612672355482, 0.004547646602915452, 0.0007840770005026641, 0.019288294212365536, 0.7810975079007539, 0.0015681540010053282, 0.9984986759746153, 0.008525885044454945, 0.00806189130053903, 0.009859867058213201, 0.6574211359108626, 0.007481899120644135, 0.28686413217601464, 0.01803775679473121, 0.00011599843597897884, 0.003595951515348344, 0.08178018875481789, 0.0341499689305833, 0.027260062918272633, 0.009585956191040926, 0.8465597561213017, 0.0005991222619400579, 0.9989052382949547, 0.00015811924585640167, 0.01517944760221456, 0.0007905962292820083, 0.11795695740887564, 0.8657028710637991, 0.0013532972445887954, 0.04117890187105906, 0.013726300623686355, 0.16896882739580105, 0.7564931597251366, 0.0011599690667903962, 0.016819551468460744, 0.9349326579355607, 0.0630635650080961, 0.0012245352428756524, 0.011915892102919035, 0.04236761636593434, 0.9453274401649101, 0.9989750064600931, 0.006713058900866526, 0.014265250164341369, 0.0008391323626083158, 0.9641630846369549, 0.012586985439124737, 0.9960857276021949, 0.0018143638025540892, 0.9926453611463507, 0.007237817344837213, 0.9966676126071449, 0.0027878814338661395, 0.0003875551020368585, 0.0007865088835453893, 0.18386069987807435, 0.0004901432172819093, 0.00548276482587438, 0.8046897773027066, 0.0010828745498088694, 0.0027926764705597158, 0.0003647577430935139, 5.699339735836155e-05, 0.0034802100928000065, 0.21892178726613373, 0.006131798734933344, 0.005137452994133342, 0.7550398658474681, 0.006960420185600013, 0.004308831543466674, 0.9951664424831322, 0.994792376979524, 0.9937863084510222, 0.028111094595284675, 0.950154997320622, 0.009370364865094892, 0.01124443783811387, 0.9956466076263774, 0.016771805770068707, 0.037414028256307116, 0.0012901389053899006, 0.9430915398400174, 0.6261161968113248, 0.04526141181768613, 0.0527441452230294, 0.03315520086107385, 0.0836484425394065, 0.05718511708148516, 0.01837223974320055, 0.012167046187550035, 0.019832285285706557, 0.051466605373336645, 0.9973704438952951, 0.9988433266640936, 0.998767212572215, 0.029027500105191742, 0.12799892333619123, 0.84287831422469, 0.030994005769975384, 0.6459785162536471, 0.16500257131824492, 0.0006895218191318216, 0.009136164103496637, 0.0007929500920015949, 0.107496451602651, 6.895218191318216e-05, 0.03985436114581929, 0.04748729694132752, 0.09425942374799649, 0.018594423501122222, 0.030680798776851665, 0.0002860680538634188, 0.018737457528053933, 0.3293358470102609, 0.14346312901250452, 0.28399406047290904, 0.03325541126162244, 0.12527594259874236, 0.034902750176764044, 0.0056093705641227926, 0.8339264238662552, 0.996605677419097, 0.1005272113392131, 0.05555681392550071, 0.0031496776398709063, 0.00026247313665590886, 0.41155787827646506, 0.033596561491956334, 0.385923001929738, 0.009449032919612719, 0.04110608925995719, 0.1093159943466989, 0.09916229899164973, 0.005486270877324964, 0.5695076709223152, 0.05690982477225149, 0.07582517660302861, 0.014329811993012967, 0.027595123666544968, 0.0006550771196805927, 0.0005662451746718092, 0.026755084503242987, 0.017412039121158133, 0.05719076264185273, 0.774764960244703, 0.0028312258733590463, 0.020101703700849228, 0.07757558893003787, 0.01911077464517356, 0.0038221549290347124, 0.9996729118786247, 0.915995026188793, 0.060819768450399894, 0.008218887628432418, 0.014383053349756732, 0.15187004026046816, 0.011470546847467384, 0.006729387483847532, 0.7900912668535535, 0.01376465621696086, 0.024623440565896652, 0.0015294062463289846, 0.0015692078799862043, 0.007846039399931021, 0.9901701722712949, 0.9977098545637351, 0.9992950504539639, 0.9963789802904228, 0.9900728935888214, 0.007944416397904283, 0.001986104099476071, 0.014942868006143188, 0.0014942868006143188, 0.9727807071999216, 0.01195429440491455, 0.9989597705605345, 0.04561767970301729, 0.856950418395798, 0.003309800104635324, 0.05166166250278614, 0.03626389679861312, 0.006187887152144301, 0.002875319706275863, 0.09264139834122964, 0.0005610379914684611, 0.40149281264461745, 0.006381807152953745, 0.03176877626690161, 0.005119471672149707, 0.45794726053613133, 0.0011220759829369221, 0.9953963999813223, 0.8513380720794402, 0.008139563720306263, 0.0024117225837944484, 0.07205021219085914, 0.01899231534738128, 0.005124910490563203, 0.004823445167588897, 0.009043959689229181, 0.02803627503661046, 0.9957580532986573, 0.8315495820987296, 0.06983922622230666, 0.0010517955756371485, 0.00799364637484233, 0.051117264975965415, 0.026925966736311, 0.0037864640722937346, 0.0019984115937105823, 0.005679696108440602, 0.6886525163747206, 0.06146247475236837, 0.00239732584777227, 0.03736521666182986, 0.008886638918466173, 0.0034306559545706624, 0.1592568360597682, 0.004670652082728733, 0.0007853308811667781, 0.03310789662182049, 0.001281045087263722, 0.021137243939851412, 0.11481366594601108, 0.02466011792982665, 0.011049013877649602, 0.8206695090283219, 0.00640522543631861, 0.2829123567661204, 0.003299269466660296, 0.02062043416662685, 0.006103648513321548, 0.006433575459987578, 0.003464232939993311, 0.0009897808399980889, 0.0006598538933320592, 0.6045911297654992, 0.07109925700652939, 0.9983398481313996, 0.9763069772413385, 0.017644101998337443, 0.0016803906665083278, 0.004200976666270819, 0.16403583293700677, 0.02044639277401784, 0.4474971873040723, 0.007966127054812146, 0.1235413537417117, 0.15314879262876352, 0.03817102547097487, 0.021641311832239662, 0.02263707771409118, 0.0008629970976046492, 0.00883701880956696, 0.008247884222262497, 0.0002356538349217856, 0.2045475287121099, 0.0010604422571480353, 0.0718744196511446, 0.00294567293652232, 0.6898766017335274, 0.0021208845142960705, 0.010133114901636781, 0.008254648762033695, 0.0021574650173497153, 0.888594178667559, 0.0015008452294606716, 0.07738733214406589, 0.0008442254415716278, 0.0019698593636671316, 0.01932338232930615, 0.0006146168052353042, 0.010448485689000172, 0.013521569715176693, 0.002458467220941217, 0.8985697692540148, 0.05408627886070677, 0.019667737767529735, 0.00022270110062207044, 0.006903734119284184, 0.5639905373253934, 0.0020599851807541515, 0.0010578302279548345, 0.1119073030625904, 0.13885413623786091, 0.049049917412011014, 0.03240301014051125, 0.09347878698611407, 0.006550215110620665, 0.06786258898390779, 0.08863444230767784, 0.16009669905507987, 0.006432193216735609, 0.06821665466556297, 0.3740703926686883, 0.19969304445351652, 0.023014269307586124, 0.005488018065655152, 0.9924889521253818, 0.006598995692323017, 0.9958261050913518, 0.003079874551828923, 0.9952959576731597, 0.9963253932364782, 0.10558934315895364, 0.005746358811371627, 0.6915383682060042, 0.19699236300233358, 0.00048099572354189107, 0.12217291377964033, 0.0016033190784729703, 0.0014429871706256733, 0.01507119933764592, 0.023889454269247257, 0.02918040722820806, 0.4274448663208939, 0.37870396633531556, 0.09630459308152554, 0.08679993077449544, 0.06410987909055595, 0.13977444569161906, 0.0010716040836357462, 0.005264837454384318, 0.5974425723678771, 0.003168220769010032, 0.00601030116473962, 0.49884500732339687, 0.14010690740294268, 0.022095020339866364, 0.030147141454978012, 0.1049996593410559, 0.06473905376549766, 0.043030535239156655, 0.035622583813253936, 0.04979431697585044, 0.01069321684086827, 0.9891905855816424, 0.010263974947669442, 0.9994295304331717, 0.03701814679071004, 0.956439229674049, 0.0005484169894920006, 0.005758378389666006, 0.9964938168346388, 0.0019909369076116846, 0.0019909369076116846, 0.03434366165630156, 0.9616225263764437, 0.0028948950594308983, 0.995843900444229, 0.13756921635171954, 0.0009209061856706251, 0.03194836074903477, 0.1034956874819064, 0.10873776884649304, 0.001983490246059808, 0.03704876423890284, 0.004179497304197453, 0.5278209222639868, 0.04625782609560909, 0.15258273011072032, 0.058958920556845526, 7.152315473940015e-05, 0.027560255626248857, 7.152315473940015e-05, 0.0008582778568728018, 0.3414038586227367, 0.01969270860491484, 0.3312237295981621, 0.06758938122873315, 0.06923046097969675, 0.03112880439734566, 0.002490304351787653, 0.8108430969420597, 0.0027393347869664178, 0.08218004360899255, 0.0014941826110725915, 0.996533715381006, 0.0026053169029568784, 0.998751082219989, 0.9985648468991672, 0.024294979769241352, 0.0010563034682278848, 0.9739117977061099, 0.4797901437356549, 0.10110415763389202, 0.003545919197591537, 0.004091445227990235, 0.0014547360810631947, 0.002454867136794141, 0.0026367091469270405, 0.015456570861296443, 0.3869597975628098, 0.0025457881418605908, 0.9991797611496364, 0.053127878299786366, 0.9458845783569808, 0.033007872060688954, 0.966659110348748, 0.999281957316173, 0.9947556702375335, 0.9969132483838995, 0.008170301868289407, 0.9709042053483912, 0.0040851509341447035, 0.0020425754670723517, 0.008170301868289407, 0.006127726401217055, 0.02831867989892487, 0.9699147865381769, 0.038400461441417524, 0.9600115360354382, 0.974147921468462, 0.005841292887034135, 0.01977052977150015, 0.07408541259464096, 0.01908750804840095, 0.0006470341711322356, 0.8987304637026752, 0.007440892968020709, 0.998239966970296, 0.9983348305915416, 0.9969287959961799, 0.9974247890230754, 0.9117748272542768, 0.08811543078681025, 0.049718127863802246, 0.20296279715180549, 0.00021156650154809467, 0.13265219647065535, 0.007404827554183314, 0.014527566439635835, 0.4406225005574985, 0.06875911300313077, 0.050141260866898435, 0.03293385207432007, 0.9987486118146018, 0.9964543944231414, 0.00028869630820222764, 0.014819743821047686, 0.004522908828501567, 0.006447550883183085, 0.8640680504492674, 0.003175659390224504, 0.07948771685834669, 0.008372192937864602, 0.018861492135878875, 0.001885788849740402, 0.01680066429768722, 0.004285883749410004, 0.008743202848796408, 0.830261399935706, 0.047487591943462845, 0.06685978649079607, 0.014229134048041214, 0.00908607354874921, 0.00017143534997640018, 0.0004609514835926501, 0.9993428164288654, 0.0351079575877117, 0.040976443166889316, 0.004907563963873678, 0.05353706142407649, 0.07996240584493476, 0.5128919121684764, 0.2575956301596911, 0.009712172040393364, 0.005319387513289651, 0.014878083650819093, 0.0014878083650819093, 0.9819535209540602, 0.9971709531164269, 0.0014040207630723921, 0.023868352972230666, 0.00702010381536196, 0.015444228393796312, 0.9505220566000094, 0.05571783075371318, 0.023879070323019932, 0.0046593307947355965, 0.7796613529857566, 0.013783853601092808, 0.0003882775662279664, 0.0970693915569916, 0.02232596005810807, 0.0021355266142538154, 0.9988046142264608, 0.22943793446586314, 0.053065665792827406, 0.020018074819169267, 0.020847225847182196, 0.013503316741924832, 0.00473800587435959, 0.008409960426988272, 0.02380847951865694, 0.5908293325326408, 0.035416593910837936, 0.9967029188848833, 0.01347069563552636, 0.006286324629912301, 0.0005986975838011716, 0.9683933417983951, 0.0005986975838011716, 0.010477207716520503, 0.0018108151335335194, 0.06247312210690642, 0.9343806089032961, 0.9973960189640959, 0.9928980108911525, 9.039642728679963e-05, 0.9816148039073572, 9.039642728679963e-05, 0.004700614218913581, 0.009220435583253563, 0.0028022892458907885, 0.001446342836588794, 0.9997520205201471, 6.49575369981753e-05, 0.497639690943021, 0.1170534816707119, 0.274575508891287, 0.0030530042389142393, 0.06956952212504575, 0.03800015914393255, 0.32521857536305326, 0.0596036396207078, 0.0926955191277118, 0.027162120751413697, 0.04705550496371668, 0.17291941661463367, 0.010252744170956155, 0.042311697959244436, 0.168213866118262, 0.05455378055143089, 0.17347507306987614, 0.021168089273407503, 0.07248779838991252, 0.0966503978532167, 0.5562560825163231, 0.00041303588826160985, 0.05100993220030881, 0.02849947629005108, 0.008317451828970965, 0.045864805799754174, 0.02435825178484354, 0.0894720175316448, 0.818318439230329, 0.013664385147595156, 0.005695463579629481, 0.03115069876205512, 0.021328929935959383, 0.4239633348305823, 0.07043777406643807, 0.005462995678420114, 0.015226647529213511, 0.42669483266979236, 0.004387867212093535, 0.018789072421015907, 0.1083465673140019, 0.6033879963707084, 0.04950414290567065, 0.005400451953345889, 0.02205184547616238, 0.1831653287509814, 0.004950414290567065, 0.00011250941569470602, 0.9950159109271777, 0.0033959587403657944, 0.1389924757026056, 0.13690907670920463, 0.011607508677519524, 0.7122248273154929, 0.06299707341448679, 0.0004064327317063664, 0.08941520097540062, 0.0020321636585318324, 0.8449736492175358, 0.7997124585080976, 0.03437650311163767, 0.011621949450553658, 0.010765595280512862, 0.1189108933256648, 0.0018350446500874197, 0.000122336310005828, 0.0023243898901107317, 0.019818482220944133, 0.00036700893001748397, 0.9948053658456758, 0.0032509979276002477, 0.998077283759491, 0.006694810260515138, 0.962936875804094, 0.009484314535729779, 0.007252711115558066, 0.009484314535729779, 0.002789504275214641, 0.0016737025651287845, 0.0012243872766850373, 0.9839992413625416, 0.001632516368913383, 0.00040812909222834575, 0.012243872766850373, 0.9971475800877054, 0.99141090458809, 0.007988806644545448, 0.7105185149239581, 0.00730069529441197, 0.005073364526625267, 0.07313069354233007, 0.11817227129090561, 0.00989924785682979, 0.031553852543644956, 0.016086277767348407, 0.02190208588323591, 0.006434511106939363, 0.0077843728990725355, 0.009081768382251292, 0.020758327730860095, 0.9613700530354582, 0.01140041140404833, 0.015889323394392363, 0.0414689964822258, 0.0002137577138259062, 0.03534127535254983, 0.02479589480380512, 0.8387140164815806, 0.02272957023682136, 0.006341478843501884, 0.003135113136113291, 0.010618389597413905, 0.0451281557890091, 0.05241417843829843, 0.02908760980142639, 0.21457054298178418, 0.01717016190220121, 0.41886158114054, 0.08048513391656817, 0.0918377738584841, 0.039818960990302146, 0.9988974884623928, 0.9972356600241098, 0.004855405377154653, 0.684612158178806, 0.30242239206277555, 0.008046100339284854, 0.9953735740035383, 0.004193989778104796, 0.05547006626905307, 0.022487864703670164, 0.006746359411101049, 0.017990291762936133, 0.8972658016764395, 0.027776618854111413, 0.21288498181471957, 0.1681107305274952, 0.000414576400807633, 0.09203596097929453, 0.49852812197117874, 0.0374083817924484, 0.4075406100909696, 0.14295973135705634, 0.0023709537755777156, 0.1011606944246492, 0.30857524323629976, 0.9988512670163814, 0.9973196388215949, 0.0012327807649216253, 0.18808390428572447, 0.017708082396187954, 0.002406923820841081, 0.6526202017080531, 0.0032665394711414667, 0.135819272747461, 0.04393488901801633, 0.005192673863625199, 0.28928872907430697, 0.18908635061216447, 0.0016227105823828746, 0.36742224361604237, 0.00048681317471486237, 0.09318415519333657, 0.0037322343394806117, 0.006044596919376208, 0.9972062311169471, 0.9981491366397165, 0.9988949931946041, 0.034535694195962516, 0.015070121103692734, 0.950045551245296, 0.995486222905256, 0.9988252785248637, 0.9995242477609735, 0.9963544337184663, 0.07314336791782351, 0.09567212600339543, 0.0031540261319800695, 0.0001501917205704795, 0.0004505751617114385, 0.002703450970268631, 0.028461331048105862, 0.0008260544631376372, 0.7728865940556875, 0.022678949806142403, 0.049399374664693456, 0.005822739979488582, 0.009391516095949326, 0.004507927726055677, 0.03268247601390365, 0.00018783032191898653, 0.8790459065808569, 0.019158692835736624, 0.993478814831744, 0.011829766511288541, 0.9582110874143719, 0.008449833222348959, 0.0202795997336375, 0.005909726286845561, 0.030205267688321758, 0.8969651230923373, 0.06008221724959654, 0.0006566362540939512, 0.0062380444138925364, 0.5961607622316215, 0.3793225258935538, 0.000962584653764728, 0.007315643368611932, 0.013412012842455209, 0.00275940934079222, 0.9484306400696946, 0.03759959657234226, 0.013812096700044095, 0.21237359198950145, 0.07570431774153125, 0.10486606470128368, 0.0843154857749364, 0.06804407623942235, 0.10697923477083096, 0.1604424375303771, 0.03476164764405273, 0.027207064645421206, 0.12541664362763097, 0.02292200247469204, 0.027053865581718073, 0.09404907453135447, 0.28352451129640543, 0.011608567776882664, 0.2150536369514026, 0.04387645108889549, 0.029906818679426527, 0.2720143212125472, 0.01042851155944302, 0.005793617533023899, 0.9825975336008534, 0.07104420723379591, 0.9241170162319713, 0.004880899733619566, 0.013267393987076584, 0.9824854389377239, 0.0041897033643399735, 0.9983287330650149, 0.9990160398107347, 0.997080969932137, 0.9993931801101938, 0.0061630835629967505, 0.9922564536424768, 0.06675519346416178, 0.0021660977230258983, 0.0009845898741026812, 0.014768848111540217, 0.0031506875971285798, 0.8408397524836897, 0.07148122485985466, 0.03989748898104338, 0.885724255379163, 0.07420932950474068, 0.06349516691216378, 0.9329641610611402, 0.0033502475003905513, 0.9991515268352816, 0.9973856852626042, 0.9954000746100916, 0.0033799662974875774, 0.9989155110605497, 0.857047870547681, 0.14272374689230244, 0.012337736097628184, 0.028334970190315573, 0.34012419936936, 0.029589655217193013, 0.022584330483793963, 0.0002091141711462404, 0.491522859279238, 0.0750719874415003, 0.31478294429650316, 0.1273575076945758, 0.0400227885865837, 0.0016198093188499307, 0.16994499436933855, 0.039550344201919135, 0.05433110423642475, 6.749205495208044e-05, 0.09064182980064403, 0.16171096366518473, 0.07401429098686914, 0.0542376724351777, 0.02332930451906115, 0.0013026515213688968, 0.03481632248022324, 0.08550130894803122, 0.4595991413120626, 0.26704356188062384, 0.018001865453247206, 0.060027572703532504, 0.004740704781282183, 0.015631513062606118, 0.008264201578181102, 0.8616551257870995, 0.013261160671965025, 0.015631513062606118, 0.0028187974375191356, 0.009988374147793449, 0.031074941793135174, 0.09677624729862097, 0.022640314734998484, 0.7098404561031878, 0.10632069370651248, 0.00044392773990193106, 0.022640314734998484, 0.9973388740126194, 0.0177786907655547, 0.9791748626180504, 0.0029631151275924497, 0.0007633053853756659, 0.0030532215415026635, 0.9892437794468629, 0.006106443083005327, 0.9872804562081975, 0.012407061818767202, 0.003812513020259014, 0.9887117099205044, 0.006354188367098357, 0.07054101110827812, 0.006430534161804359, 0.12958500659393632, 0.06670867256740481, 6.495489052327635e-05, 0.554454945506687, 0.02364358015047259, 0.1392632852819045, 0.009288549344828518, 0.9971222820751051, 0.14568248464855993, 0.14269922557725834, 0.020114398283775727, 0.2812399688127024, 0.011255022859910462, 0.12995257318169712, 0.04954018094161392, 0.1194659655371219, 0.05898716800073556, 0.041087613572926146, 0.36858553747508366, 0.05808062683644884, 0.06523145640591586, 0.010964605339849437, 0.23442802938569396, 0.06785342724805377, 0.09184843313670979, 0.005045307529568401, 0.07270010062291475, 0.02526626447878349, 0.09791629619904613, 0.7648719220025636, 0.025812985301368566, 0.016439554884670485, 0.005479851628223495, 0.0057682648718142045, 0.06676766589124943, 0.011103909878242344, 0.0057682648718142045, 0.0029646798116345317, 0.9961324167092027, 0.5907660101659599, 0.28924579166542147, 0.0007752269580073833, 0.05043282043481366, 0.016193629789487563, 0.004392952762041839, 0.007106247115067681, 0.03230112325030764, 0.006503292814395272, 0.0022826127096884064, 0.004927941231099534, 0.0024174806039356208, 0.3386332445974435, 0.4968852441319983, 0.10162716538852436, 0.02315202578384498, 0.015155743786211776, 0.017294284320462518, 0.01200330666087355, 0.004501239997827582, 0.03550978220508425, 0.005501515552900378, 0.06851887552248652, 0.0035009644427547856, 0.8582364262524589, 0.0005001377775363979, 0.011003031105800755, 0.0005001377775363979, 0.011620239086680266, 0.20745915978122106, 0.01907234893574696, 0.23777282696386523, 0.0011367625193491565, 0.10477161220001392, 0.2050593277959284, 0.04016560901700353, 0.025071928898978618, 0.14777912751539035, 0.018730600977872044, 0.004755437553967514, 0.05560950445762011, 0.02984279689479613, 0.8697598236460583, 0.019409949199867403, 0.0018439451739874033, 0.054362937284763144, 0.022327634956242005, 0.9231991671037455, 0.2520489313576455, 0.12283335143296241, 0.0033383964418231193, 0.03446403385529161, 0.13461592710998518, 0.0007855050451348515, 0.0457556688791051, 0.009524248672260075, 0.031420201805394066, 0.36535803411834783, 0.9919442840179256, 0.0006715939634515406, 0.007387533597966948, 0.09929011328485902, 0.008172934797641343, 0.009498275575637238, 0.058756774491151284, 0.023745688939093092, 0.1045914763968426, 0.01071317128880014, 0.6366053536973609, 0.040643783858540734, 0.007952044667975361, 0.27812416824814074, 0.5108741496980753, 0.06507150819897782, 0.019446080056374066, 0.015275473739373945, 0.06431778416578503, 0.016230190848084816, 0.023164451953458516, 0.0056780543833857096, 0.0017084411419036648, 0.0006952527012671388, 0.9983828790196112, 0.012435217689838152, 0.9875635382013132, 0.014911703423574875, 0.006627423743811056, 0.9775450022121307, 0.012158799633739318, 0.008215405157931972, 0.04929243094759183, 0.7696191551950671, 0.1445911307796027, 0.014130496871642991, 0.0016430810315863943, 0.021733797433320205, 0.007330030738124503, 0.030857891638817837, 0.00830395090612706, 0.7185480481610439, 0.056333592875516286, 0.02091365413394963, 0.12030477022642104, 0.015633981644251563, 5.125895621066086e-05, 0.9946135663478346, 0.17674012748475124, 0.14216300183827968, 0.006461954629012713, 0.04239949177632903, 0.0017005143760559771, 0.007368895629575901, 0.0017005143760559771, 0.06076504703773358, 0.5562949362204453, 0.004307969752675142, 0.9981898305670609, 0.015326555157889412, 0.006453286382269226, 0.0005377738651891022, 0.0043021909215128174, 0.973370695992275, 0.009138244797578663, 0.9895413652235181, 0.04671159498209209, 0.026781314456399467, 0.9261352231782792, 0.9929420432504101, 0.0066736383127728, 0.0134205568879167, 0.15578582435493704, 0.0035430270184100086, 0.5886793073315781, 0.00418721374903001, 0.0017178312816533375, 0.23137040074768392, 0.0008589156408266688, 0.0002147289102066672, 0.03677615220924399, 0.03581625264097661, 0.007379227931055482, 0.006239347193737969, 0.0002999686150835562, 0.006539315808821525, 0.001499843075417781, 0.025197363667018722, 0.8801679103781707, 0.008389983987215913, 0.03279721013184402, 0.8908637542789261, 0.04500082320415808, 0.014491790523372941, 0.007627258170196285, 0.01893237438921947, 0.009466187194609735, 0.038725311250676187, 0.0034422498889489944, 0.002581687416711746, 0.9259652201272796, 0.9983062688020926, 0.020408385190108676, 0.0405015829641539, 0.042156316898487034, 0.013631855744744407, 0.30336788796107494, 0.29300610165798885, 0.14644395318848252, 0.10247530864763063, 0.03786188835462247, 0.00015759370803172725, 0.9993865913970535, 0.986844830893767, 0.9992893679404373, 0.04574199822354038, 0.7761420738177458, 0.0377031817040568, 0.011888390627405297, 0.005547915626122472, 0.0050950245546022704, 0.11276987680853025, 0.0023776781254810594, 0.002830569197001261, 0.2915792251249044, 0.00032490521742666837, 0.705462057095419, 0.002599241739413347, 0.8996179811469861, 0.06728772890327735, 0.03293307858294208, 0.9565884234231745, 0.042315573690301284, 0.9985868581190822, 0.9984144651985825, 0.2643497587078244, 0.04230047344375257, 0.052396186438994845, 0.029948735198176816, 0.05786704767105351, 0.027749110579101684, 0.11409847703561525, 0.05256538833276986, 0.27811151273485857, 0.08054010143690489, 0.4060324039558732, 0.05089669819120839, 0.0006276498655866505, 0.15114949944900338, 0.0009129452590351281, 0.36477869006322333, 0.02561952633167328, 0.9961358522948704, 0.02087953759704031, 0.004649289748328814, 0.0005071952452722343, 0.0029586389307547, 0.9489623039043503, 0.019527016942981017, 0.0005071952452722343, 0.002028780981088937, 0.0004200829711646888, 0.05272041288116845, 0.0018903733702410998, 0.8170613789153198, 0.002940580798152822, 0.11195211181538958, 0.003570705254899855, 0.009451866851205498, 0.0011520901030947432, 0.9988621193831424, 0.9954917127583714, 0.04106732697895429, 0.02283376836100717, 0.0791236075806329, 0.002676485668689485, 0.00510205080593933, 0.2381235843362176, 0.22725036130716658, 0.0010036821257585569, 0.3561398742899946, 0.026681216509748303, 0.21049480049171052, 0.06762188813160387, 0.006502104628038834, 0.48609734199218324, 0.0029476207647109384, 0.004594820603814109, 0.016558693119405565, 0.1500685748151363, 0.0017338945674770226, 0.05349064740666614, 0.006362161138143557, 0.0005783782852857779, 0.9612647101449628, 0.031810805690717786, 0.9957866387566021, 0.9978811748862725, 0.0008805862509167904, 0.9985848085396403, 0.45505812100240667, 0.11510737564717984, 0.00022195791678977984, 0.31913109276034546, 0.0037732845854262574, 0.03977485868872855, 0.03173998210093852, 0.0017312717509602828, 0.03333807910182493, 0.06486238305559934, 0.037409663911453124, 0.0005689682724175381, 0.030582044642442668, 0.03171998118727774, 0.1440912149897415, 0.6830464110372544, 0.0005689682724175381, 0.007112103405219225, 0.003730945753164494, 0.9942970432183378, 0.020754425815851737, 0.004963014869008024, 0.9741044638353022, 0.9990127366540682, 0.01289557391291772, 0.0036844496894050623, 0.0007756736188221184, 9.69592023527648e-05, 0.9629018385653072, 0.015513472376442369, 0.00242398005881912, 0.0016483064399970017, 0.9977160375474047, 0.12009000918639749, 0.010138395543679218, 8.567658205926099e-05, 0.4589123323700883, 2.855886068642033e-05, 0.00011423544274568132, 0.06471437831542846, 0.3431632700080267, 0.00022847088549136265, 0.0025417386010914093, 0.009832894300393153, 0.14800421420981383, 0.0037032978533948244, 0.15847560814010264, 0.6725955101320875, 0.00012769992597913186, 0.007278895780810517, 0.0001621576537949789, 0.0024323648069246835, 0.004864729613849367, 0.13848263634091199, 0.01783734191744768, 0.09956479943011705, 0.7366822211905891, 0.041177635856452476, 0.39497078571015054, 0.0002389417941380221, 0.4793172390408723, 0.07415160344749952, 0.0016725925589661547, 0.008203668265405426, 0.0002389417941380221, 0.012320885542051954, 0.023615030622266244, 0.03182895431696755, 0.9322803393485978, 0.98934936136095, 0.010501991347571744, 0.14606274583872497, 0.01434650252175027, 0.2262083309139348, 0.003247150776527839, 0.07114212155847356, 0.34071467511531195, 0.0693414288551263, 0.0058448713977501095, 0.033711328970861744, 0.08932616590702945, 0.9990628873303221, 0.002991376906783131, 0.018347111694936535, 0.017349986059342157, 0.0695993693644875, 0.8910314679671352, 0.0005982753813566262, 0.9974801955411752, 0.0025720973034275975, 0.006889546348466779, 0.03968378696716864, 0.950849256706395, 0.9984318207838314, 0.0005254100570332849, 0.9988045184202747, 0.9993165610447933, 0.9978602937293755, 0.002585030272435417, 0.9969600084025925, 0.9987567029393053, 0.9924399847826078, 0.006014787786561259, 0.997916005248115, 0.10835745151654431, 0.03893748257781366, 0.03537748417069927, 0.04761497869515499, 0.021804990243575652, 0.7464871659917991, 0.0002224999004446495, 0.000889999601778598, 0.9991971647613842, 0.018945289166171997, 0.0017851184320709177, 0.037084395814634546, 0.0019002873631722673, 0.8802937248731652, 0.009443852350310662, 0.04888921125252287, 0.0009789359143614709, 0.0006334291210574224, 0.9969528052908775, 0.9907326510234714, 0.0006725010717161638, 0.0014795023577755602, 0.06343926776522478, 0.028155378202516724, 0.8212134753749981, 0.02927621332204366, 0.027751877559487024, 0.02802087798817349, 0.00700559447147166, 0.17550857728529, 0.00700559447147166, 0.053463747282283716, 0.016960912930931386, 0.7400120054865064, 0.637608005511567, 0.01006325766274569, 0.0018113863792942244, 0.0831225082942794, 0.10888444791090839, 0.08936172804518173, 0.0030189772988237075, 0.049712492853963716, 0.016403109990275475, 0.9981085887005829, 0.9965059689519701, 0.0031203805362267924, 0.42511470067356444, 0.5591424741819724, 0.012630111694251302, 0.9631212848308294, 0.03677861472654207, 0.004116081357795445, 0.009604189834856038, 0.04024612883177768, 0.8062946037548188, 0.13948942379195675, 0.08456004649063001, 0.00042350607591300503, 0.012422844893448148, 0.0067760972146080805, 0.8093201110697527, 0.08639523948625302, 0.02361146243973046, 0.8834142288425981, 0.031961857692805865, 0.002015612647294064, 0.058740711435426994, 0.0001237592420556201, 0.027557057897718076, 0.0732654712969271, 0.05070003616211904, 0.006022949780040179, 0.20985442144564648, 0.5951169419647919, 0.03312622379022098, 0.00424906731057629, 0.021117506757324787, 0.00836578152309405, 0.09356679917091597, 0.09299825091206493, 0.09543488630714086, 0.5687919223905595, 0.057098489424612785, 8.122117983586456e-05, 0.062459087293779844, 0.005874667927556921, 0.013218002837003072, 0.9796008769201165, 0.9994255753176058, 0.0011570062043591838, 0.0010413055839232654, 0.7974086760443494, 0.20039347459501064, 0.008544190782708124, 0.7082869905541859, 0.28310339356313313, 0.9968993846726483, 0.0007106982351738248, 0.11039512586366745, 0.031152272641785987, 0.15907795497307445, 0.21593381378698043, 0.151497173797887, 0.33106692788514, 0.037508939565664534, 0.9622485650114708, 0.03985102084458773, 0.02896334140959426, 0.04270507273531417, 0.2761030940213876, 0.6080187583503146, 0.004228225023298432, 0.00010570562558246081, 0.01186775940678869, 0.002157774437597944, 0.013216368430287406, 0.9599399029263852, 0.005124714289295116, 0.007552210531592803, 0.0673651474635527, 0.0001445604022823019, 0.040621473041326836, 0.016913567067029324, 0.7358124476169168, 0.002023845631952227, 0.04654844953490122, 0.001590164425105321, 0.08254398970319439, 0.006360657700421284, 0.9877649641815257, 0.0014954806422127567, 0.010468364495489296, 0.996928603142462, 0.1278644884152663, 0.043624354871090856, 0.04851329119285104, 0.04964150726710339, 0.730331872066021, 0.13859020345866313, 0.159045473952562, 0.383639747285573, 0.0008274041997532127, 0.09230153517246951, 0.12953472416136408, 0.06485929588065462, 0.009928850397038553, 0.021236707793665793, 9.193379997257919e-05, 0.015360605563061604, 0.00558567475020422, 0.9542194364932208, 0.024670063480068637, 0.2286360681096229, 0.01847220773326817, 0.004306404256835524, 0.056889866761353505, 0.00011332642781146116, 0.0016432332032661869, 0.5036226451941334, 0.05796646782556238, 0.11423303923395285, 0.014109140262526914, 0.9958683139640134, 0.2083077889572319, 0.37307303991599366, 7.179313767266307e-05, 0.2519221200933747, 0.0019025181483255714, 0.017625215298638783, 0.1172381938194588, 0.019743112859982346, 0.004128105416178127, 0.005994726995667367, 0.7857669295083111, 0.19221391059431042, 0.020337757072658492, 0.0005526564421918068, 0.0011053128843836137, 0.9694400335911002, 0.02897454645851358, 0.0012072727691047325, 0.11927005733427873, 0.0293491764121, 0.00031222528097978725, 0.7780654002016298, 0.0018733516858787235, 0.022480220230544683, 0.0009366758429393617, 0.03996483596541277, 0.007805632024494681, 0.18107415830223025, 0.0007087051205566742, 0.8065064271934953, 0.011339281928906788, 0.9994606142355579, 0.026739378240966952, 0.9719182699760162, 0.5787135685181719, 0.0829271608434657, 0.010659344316528109, 0.038259432278966964, 0.10684723707757939, 0.018273161685476758, 0.025442839707903404, 0.01897109494429705, 0.06884159871091071, 0.05107602485003052, 0.02359966395974057, 0.8302523523281939, 0.0001470384047335861, 0.034995140326593496, 0.05793313146503293, 0.0005146344165675514, 0.01492439808045899, 0.037494793207064454, 0.997228804626799, 0.002264713409447689, 0.998127421520652, 0.4776774924519134, 0.20213256143517816, 0.01104063434191628, 0.07550538083120945, 0.11647607604315469, 0.027575423214170044, 0.014180151216394843, 0.030976566494855157, 0.006854611842611529, 0.03756955193126014, 0.9967653264864402, 0.9972074638914977, 0.0053074579681305955, 0.07354620327266682, 0.8145684300611862, 0.025147241325190205, 0.0056865621087113525, 0.07556809202243087, 0.9545942493705252, 0.0030556794153986083, 0.034529177394004275, 0.0003055679415398608, 0.0015278397076993041, 0.0036668152984783296, 0.002138975590779026, 0.9951691399275026, 0.003046824768243406, 0.001523412384121703, 0.26971071722683077, 0.045714398977026456, 0.6844025959915526, 0.0001271021287591097, 4.236737625303656e-05, 0.9899739226586333, 0.3311368801263782, 0.4357865774593532, 0.0211583847518333, 0.03116646391465419, 0.008267543656243345, 0.03584415308858135, 0.031057680445493095, 0.02143034342473604, 0.0404130587933474, 0.04383973807192195, 0.011311637081136906, 0.9803418803651984, 0.008169515669709988, 0.9951186911696531, 0.9978690096980495, 0.02696936366412324, 0.9708970919084365, 0.9970491493969655, 0.014728400535423396, 0.984348102450797, 0.009559845416733027, 0.3934021235128318, 0.008459014732381951, 0.4118844913185157, 0.17624878641031436, 0.000463507656568874, 0.9994953868117178, 0.997852882384691, 0.9882081604871645, 0.9986224398728439, 0.004227672283915504, 0.0073759388783206665, 0.058377857707684305, 0.5120430739614682, 0.4179099027887539, 0.9985166871317923, 0.997286286018319, 0.0017542414881588726, 0.020701129636484482, 0.018566992560558247, 0.014725545823891024, 0.8784108204512384, 0.0036280330290746, 0.029237677940189423, 0.0008536548303704942, 0.03371936579963452, 0.9968155719046051, 0.9981318437817217, 0.0016297508334607211, 0.9946830184325796, 0.9962550948376784, 0.4251253850657405, 0.0064580200016478365, 5.519675215083621e-05, 0.20676703355703244, 0.004526133676368569, 0.0070651842753070345, 0.002649444103240138, 0.19103595919404412, 0.10238997523980117, 0.05392722685136698, 0.9937057889937846, 0.054602061617622946, 0.09092631447341448, 0.00339334846211216, 0.16766226265072356, 0.0001542431119141891, 7.712155595709455e-05, 0.47368059668847473, 0.11992401951328203, 0.08707023667555976, 0.002390768234669931, 0.9957147985075421, 0.0038895109316700862, 0.019338457573275212, 0.01022032472784493, 0.0001001992620376954, 0.0003005977861130862, 0.0011021918824146494, 0.009218332107467976, 0.004208369005583207, 0.9189274321477044, 0.036672929905796514, 0.008570907087490875, 0.01686533330119172, 0.0001382404368950141, 0.031726180267405736, 0.03773963927233885, 0.08287514191856095, 0.010506273204021071, 0.8116096050106277, 0.22928143359838007, 0.04642377600187208, 0.2209267302771603, 0.07929086359572718, 0.11042395616064987, 0.00685716215986905, 0.013004962716993026, 0.03223654394697059, 0.028374464109802967, 0.23322233139140827, 0.013553328776628477, 0.10996678121037196, 0.8147398775950527, 0.0572936171012022, 0.0021562113962818033, 0.0021562113962818033, 0.9944725326870343, 0.997349515227912, 0.9944562167664549, 0.9993684009881056, 0.0011958009865710465, 0.0019930016442850774, 0.07473756166069041, 0.01415031167442405, 0.02929712417099064, 0.021923018087135853, 0.0013951011509995544, 0.7846447473550351, 0.009367107728139864, 0.06098585031512337, 0.1082243948115474, 0.048978324805662124, 0.12598641380733572, 0.0009441604781814386, 0.08178790142246711, 0.4622255640997005, 0.034402847423736165, 0.08107978106383104, 0.05299100683793324, 0.003422581733407715, 0.3576450404405325, 0.07577475300347639, 0.0031122358561739114, 0.2630003100354122, 0.07472642092560729, 0.0019656226460045756, 0.019230341553411433, 0.1597723607427386, 0.0011466132101693358, 0.04360406236386817, 0.07399807750014605, 0.02620216623225812, 0.0021067068327443716, 0.5726292509753295, 0.00026333835409304645, 0.02093539915039719, 0.30376079144632906, 0.5742032187081747, 0.1549133250729046, 0.0277709574667071, 0.10143397461977632, 0.0009576192229899, 0.050311840715546285, 0.058414772602383896, 0.003535824823347323, 0.021362274974390076, 0.007218975681000784, 0.0534881702229242, 0.9411083453648753, 5.249084418343886e-05, 5.249084418343886e-05, 0.0008923443511184606, 0.004356740067225425, 0.9957595563468703, 0.9971506360062703, 0.0031408739741159947, 0.9925161758206543, 0.042755002542853505, 0.9220037122435724, 0.028899214681743574, 0.005938194797618542, 0.996307253071525, 0.934192994090296, 0.06254011675918299, 0.9951383452894506, 0.004243919442601341, 0.9944917893829142, 0.9861827247473759, 0.012778282256635206, 0.9981485346295931, 0.9977691814092472, 0.995545820159605, 0.09650140729555956, 0.10388402861871712, 0.030585145481652757, 0.7683199477028977, 0.013477036001459464, 0.09370751594764783, 0.6540574034458295, 0.044221524379788865, 0.08623197254058829, 0.018846792533290968, 0.014529929439073485, 0.060751951350328987, 0.0013687614688982267, 0.012634721251368247, 0.01645949692570632, 0.9826319664646673, 0.0012954089605235553, 0.998760308563661, 0.002095280489529025, 0.9973535130158159, 0.9971768916088216, 0.01492535683470286, 0.9843951257797204, 0.9955511433610684, 0.002148135211037895, 0.9978088055271023, 0.9979085659672832, 0.6464956610059154, 0.055317901421537745, 0.0011632268990510273, 0.27426305330958667, 0.005686887062027244, 0.017060661186081735, 0.9805476264265229, 0.01897598681584637, 0.031609952566743, 0.15486020436689005, 0.0010949230557757365, 0.4943815623578706, 0.0009997123552734986, 0.01447202647634017, 0.11206299449113408, 0.07969135632037318, 0.056697972149082704, 0.05403207253502004, 0.9947052311168435, 0.005079731838004818, 0.9708637475386708, 0.012064363115261443, 0.00825456423675783, 0.0031748323987530113, 0.9350130269506679, 0.042293560718019076, 0.02212278560634844, 0.9939899730033169, 0.004127802259408791, 0.017492072940861015, 0.0004495626223118485, 0.061508340598121096, 0.03858064686021682, 0.14847827335081323, 0.7035246345887419, 0.011402542875000522, 0.01442687324328023, 0.07359710539902817, 0.0026064212536468503, 0.9237019742858456, 0.998823065019396, 0.9965397174041666, 0.9034061012264353, 0.08807805459184387, 0.00808055546714164, 0.8824041879879048, 8.950240267652954e-05, 0.06641078278598492, 0.050031843096180015, 0.0010740288321183546, 0.9992095131997268, 0.08338630524893949, 0.9161070795842393, 0.0006911218583409628, 0.018660290175206, 0.9793196732691444, 0.9989179960626302, 0.9979212311475717, 0.9864579359744791, 0.01310511750690733, 0.010465643090990628, 0.28617719607697706, 0.09826076013207867, 0.21846060911415993, 0.09248527561149496, 0.028024666499208237, 0.0690344827594604, 0.09938484772333323, 0.09298917694550561, 0.004651396929329168, 0.9952887967508045, 0.9981246438525851, 0.0037224181919960925, 0.0007444836383992186, 0.8904024315254654, 0.1042277093758906, 0.0014889672767984371, 0.12348954789562086, 0.012947238746058659, 0.004720834344230774, 0.0028511969801789825, 0.6729759691904424, 0.03140990771607011, 0.11577729376890722, 0.0005608912092155376, 0.03510244151007239, 0.0001402228023038844, 0.926577256334393, 0.07318845344696223, 0.9952522398303367, 0.975508782283141, 0.011312175510786764, 0.012975730732961288, 0.8625298338068254, 0.06085754265056115, 0.07641510994468956, 0.8372549629521894, 0.16250326740953308, 0.990589367676876, 0.9974484497663417, 0.9991111160417842, 0.9970729567086454, 0.9990277602133406, 0.028191589409968888, 0.733640006654751, 0.06942508233202618, 0.1657243900829012, 0.0028982007804640914, 0.028056385716200616, 0.9244579093488103, 0.0182366507155304, 0.028056385716200616, 0.9980045237783987, 0.013953154053918197, 0.9836973608012328, 0.9973661902977751, 0.001883599981676629, 0.9991908141966745, 0.0007430769565171105, 0.0329481745478341, 0.006481608107770644, 0.01620402026942661, 0.12099001801171867, 0.8226240956778909, 0.9940093445239634, 0.9977187481028079, 0.019339305728846158, 0.9747010087338465, 0.003362158851127916, 0.9918368610827352, 0.05009915358373043, 0.6146811111351871, 0.06422159215300248, 0.0002366889145688052, 0.013570164435278163, 0.020355246652917245, 0.18950892426475668, 0.0004733778291376104, 0.046864405084623424, 0.013881553388277904, 0.9855902905677312, 0.48135879125613684, 0.362358958118795, 0.016276874590929163, 0.007791064971877679, 0.11527798681319648, 0.00029774770593163103, 0.00377147094180066, 0.003424098618213757, 0.004565464824285009, 0.004912837147871912, 0.06464029462288293, 0.9346156360152615, 0.9939612675204647, 0.7531892417031466, 0.08952608457002079, 0.020753272378747113, 0.022077949339092674, 0.011701313149719117, 0.015344174790669409, 0.00850001049555068, 0.0011038974669546338, 0.06501956080362792, 0.012805210616673751, 0.9969041922265773, 0.978695174792245, 0.020532066604033113, 0.8908608224567431, 0.013672684085667042, 0.04999075118822012, 0.0017090855107083803, 0.0017090855107083803, 0.004699985154448046, 0.006836342042833521, 0.018799940617792183, 0.011536327197281567, 0.998815998296968, 0.6060493537541343, 0.057257569758748156, 0.024840976418410737, 0.05487917839953861, 0.012860931053503432, 0.017970068047360958, 0.04113736165743906, 0.07117556363856693, 0.07628470063242446, 0.03752573033419494, 0.9148658192731145, 0.058429750487259284, 0.0036018339341461203, 0.02321181868671944, 0.0009163880162691235, 0.9979465497170755, 0.9964503411272224, 0.05431425166514348, 0.11722500359383485, 0.023779929300463642, 0.045327001389616144, 0.0010606071753727915, 0.011052643195990143, 0.6351362337574538, 0.03700960827748215, 0.03695378684719937, 0.03807021545285494, 0.01375256837742064, 0.00085953552358879, 0.7901996580192943, 0.00085953552358879, 0.19396851648987026, 0.9897894463597636, 0.008625616090281164, 0.016801211899675005, 0.023817102583055777, 0.7377762939681464, 0.00443108885266154, 0.04117220058931347, 0.04394163112222694, 0.13145563596229234, 0.0007385148087769234, 0.9902791219064437, 0.03616701823405553, 0.9465935636567618, 0.00491157037746433, 0.012055672744685175, 0.07852015963930271, 0.01230445151052078, 0.09158571124325776, 0.7911635471249289, 0.02625795322348249, 0.0007592758067571961, 0.030371032270287843, 0.9688359294221822, 0.0085545645468263, 0.957255772789863, 0.03336280173262257, 0.016133177106708266, 0.12130322786836309, 0.0007609989201277483, 0.6407610907475642, 0.0007609989201277483, 0.040941741902872864, 0.1792913455820975, 0.00015219978402554967, 0.9962460946236221, 0.0008706489334644438, 0.05925534211872714, 0.008040698973759863, 0.2919234659263135, 0.008962562550369273, 0.4811615723469676, 0.11933011852777375, 0.02478788728216416, 0.005582396102801433, 0.06148276549883853, 0.8904921855446531, 0.021292187232179734, 0.008693259875860365, 0.009827163337929108, 0.0036536889333326173, 0.0003779678206895811, 0.004157646027585392, 0.004071160148330614, 0.9943808662297525, 0.12609789989531278, 0.6415988310091056, 0.21350528195323562, 0.005642003278319162, 0.000227077531325539, 0.001484737704820832, 0.01145868158073489, 0.9983579043107553, 0.053355270065566555, 0.017943885468479227, 0.02691582820271884, 0.07074337147086279, 0.005002056568646864, 0.8018376077264235, 0.008257363224432919, 0.0073045905446906595, 0.006590011034883964, 0.0019849430827963747, 0.9988805503117676, 0.0008507257588821301, 0.020052821459364496, 0.18521515093376661, 0.02734475653549704, 0.036581207631931595, 0.008507257588821301, 0.573146096984018, 0.11059434865467692, 0.03573048187304947, 0.0020660482715708873, 0.9981911964820283, 0.34692537990822164, 0.30922463156256874, 0.0008311248869831622, 0.014221470288378554, 0.008934592535068994, 0.00923472096647958, 0.19291332098975844, 0.021932462295389005, 0.018838830771618343, 0.07697139925560731, 0.8514581948949954, 0.12149707247352233, 0.026844002203586063, 0.16661119025044463, 0.8202241615846632, 0.003435282273205044, 0.004344621698465202, 0.005354998837643157, 0.25758656359941906, 0.7044513772417477, 0.02160177437257141, 0.002335326959196909, 0.014011961755181455, 0.9956051859407263, 0.03809343323664295, 0.03311774603017133, 0.04515569894905428, 0.06730553231979892, 0.6803850989752646, 0.0015515583762115807, 0.007383277790248212, 0.12096805133153049, 0.0059922254529550705, 0.9909972666038618, 0.008954794577745739, 0.027237588910799762, 0.003891084130114252, 0.001945542065057126, 0.9649888642683345, 0.9992310636171857, 0.9372112388447696, 0.06137326182489137, 0.0009229061928555093, 0.9981930085106918, 0.13591845530186428, 0.6385930058359607, 0.014934250026994963, 0.047711293157403384, 0.03132277159219917, 0.008557828667154417, 0.037587325910639006, 0.03870599632464612, 0.007159490649645526, 0.03954499913515146, 0.9981042566318208, 0.02533107684163156, 0.9740207611362846, 0.826136808414372, 0.1373130616500651, 0.02258438513981334, 0.009485441758721604, 0.004065189325166401, 0.00023870623448798493, 0.2644865078126873, 0.0009548249379519397, 0.010503074317471337, 0.0011935311724399246, 0.08474071324323465, 0.6378230585518957, 0.9994334261674612, 0.007292432570548839, 0.06563189313493954, 0.08807014719816675, 0.006731476218968159, 0.007853388922129518, 0.8246058368235994, 0.0030014286286246367, 0.9399473988642821, 0.0005002381047707729, 0.010004762095415455, 0.03376607207202716, 0.003251547681010023, 0.009504523990644683, 0.0010065177173816697, 0.00895800768469686, 0.021036220293276897, 0.05284218016253766, 0.07810577486881758, 0.027075326597566916, 0.810750021350935, 0.00020130354347633396, 0.9967534671604585, 0.3399519413279508, 0.013421574752266312, 0.015719789607106432, 0.0011950717245168634, 0.16096696843300215, 0.0008733216448392464, 0.45261043351221364, 0.01526014663613841, 0.12356619548768116, 0.7003016282729442, 0.1758442012709309, 0.9856672057788444, 0.002644311752592473, 0.011238324948518012, 0.9979562577571915, 0.07192507071047616, 0.008299046620439557, 0.918427825995311, 0.017694817422598028, 0.006836634004185602, 0.002614007119247436, 0.004222626884938166, 0.9588379190870308, 0.00965171859414438, 0.00020107747071134124, 0.949768141963034, 0.0013182069978668065, 0.04877365892107184, 0.02755312043752603, 0.9712474954227925, 0.6363469386451874, 0.07655513395760982, 4.696633985129437e-05, 0.17668737052056943, 0.026676881035535203, 0.0009393267970258874, 0.014841363393009021, 0.022637775808323886, 0.0050253983640884976, 0.04029711959241057, 0.0013864687700999479, 0.04880370070751816, 0.6665217534127149, 0.0011091750160799583, 0.24947194736665063, 0.024032125348399096, 0.008688537625959673, 0.004488276904075506, 0.02185595709810681, 0.9048756523564401, 0.06127473686433517, 0.0011708548445414364, 0.00624455917088766, 0.026325614772047028, 0.9270068939402789, 0.01834161684937703, 0.003884107097515135, 0.02416777749564973, 0.9983618579737662, 0.9796091451604682, 0.0012019744112398382, 0.01923159057983741, 0.9813393324966232, 0.017484887884126915, 0.9989239369114525, 0.9976324576378146, 0.0022311804593886063, 0.006135746263318667, 0.9750258607528209, 0.016547921740465498, 0.010347792423789776, 0.9882141764719236, 0.13549487266053895, 0.10231699915779399, 0.05383054308247377, 0.4259126009555396, 0.01369422295583097, 0.10771675373793872, 0.031118173302071186, 0.08327868919480948, 0.028446129798494414, 0.01825896394110796, 0.9994417242216349, 0.00035092757170703475, 0.8340957596914614, 0.010611194800226159, 0.016475276137193247, 0.132919176971254, 0.004467871494832067, 0.0013962098421350208, 0.20448874744503898, 0.25797997968376407, 0.008285186019550833, 0.009010139796261531, 0.3438870022239817, 0.009631528747727843, 0.03557451747144639, 0.008647662907906181, 0.0986454960452771, 0.023819909806208645, 0.002932904062443439, 0.9957209291995475, 0.08636785760142535, 0.04072230419480886, 0.07040246372884916, 0.5506302582748852, 0.1213932591368568, 0.0026022888690983206, 0.04641920685418626, 0.039596990089252826, 0.021310635873967327, 0.020607314557994808, 0.04889043469579206, 0.15790386345783797, 0.024409215555041986, 0.04514624823897146, 0.04629830561030088, 0.0031681577711558918, 0.004752236656733837, 0.2935586189318766, 0.37578671381051365, 0.014507883058087777, 0.0976244741741276, 0.017295111822942077, 0.42523105515084864, 0.00021440221268110015, 0.004002174636713869, 0.21911906136008436, 0.22183482272071162, 0.6861032535831568, 0.21585000723124315, 8.015224925036879e-05, 0.07253778557158376, 0.006893093435531716, 0.0016831972342577447, 0.00048091349550221274, 0.001202283738755532, 8.015224925036879e-05, 0.01522892735757007, 0.6281451111796302, 0.15829256801726682, 0.038505295315311334, 0.08429707392030639, 0.016206143868434462, 0.01306541831253631, 0.013505119890362051, 0.0028894675114262995, 0.011306612001233346, 0.033919836003700035, 0.9518225290564363, 0.04785419927606721, 0.7192126859838761, 0.021757509081514678, 0.012369751355988041, 0.036446588816750475, 0.08316448902731245, 0.010823532436489536, 0.019106848076660098, 0.00927731351699103, 0.07477072917860628, 0.013032416607201686, 0.053532480873209415, 0.02167412640232381, 0.03988822660186701, 0.018866935332143318, 0.631095722684531, 0.06436954407437132, 0.0642389770478513, 0.041389747406847276, 0.050268305210208836, 0.014688790483502582, 0.18008734686120476, 0.010766091388441588, 0.042955617155903306, 0.12712687710190118, 0.09765606128101562, 0.05470044412511231, 0.0010874839786304635, 0.08210504038659999, 0.40345655607190195, 0.6514382469853156, 2.1633123467781878e-05, 0.32594627128906956, 0.018366521824146814, 0.004218459076217466, 0.09134961816803382, 0.029760961575106038, 0.15318628277408747, 0.5647969152253457, 0.04290538627077787, 0.014136456748175368, 0.0085976111216973, 0.09052292479094753, 0.004794821587100417, 0.7249233323596379, 0.025630967030474766, 0.23079573965340747, 0.0011703637913458797, 0.00924587395163245, 0.005617746198460223, 0.0024577639618263473, 0.9986182655828448, 0.9974981262690797, 0.001253138349584271, 0.9958583522276367, 0.00783852431761657, 0.9131880830023305, 0.030918623697265363, 0.016112522208434062, 0.032225044416868125, 0.04752019349814946, 0.947861276583937, 0.0035070253504169346, 0.0004383781688021168, 0.0006137294363229636, 0.9988692740535906, 0.9981161023185758, 0.9991867139978969, 0.5048394501547308, 0.09986819692530408, 0.003583269670069679, 0.026225827154216876, 0.00997755261579747, 0.00247122046211702, 0.19037664635033993, 0.007259210107468746, 0.0896435222632949, 0.06570357403653627, 0.011805259066393403, 0.22839085362111594, 0.7597443953619517, 0.9947329976068395, 0.9973338935979004, 0.9828564533837475, 0.01540872379325024, 0.9987356558054221, 0.02088196437433334, 0.2656896743798157, 0.019845271107522468, 0.6895491214673478, 0.001332891343042554, 0.0022214855717375896, 0.00029619807623167864, 0.4169848428274134, 0.33955545698575773, 0.0024367629455627022, 0.10423377824284538, 0.07320234807894485, 0.015764364362109724, 0.016758961482747563, 0.0048735258911254044, 0.013128681992419455, 0.013128681992419455, 0.026239183665039516, 0.8814186678899779, 0.08797843934748543, 0.0007263441844993638, 9.079302306242047e-05, 0.0036317209224968187, 0.9754428506882064, 0.02428050385912202, 0.9510141539593585, 0.048805711713456816, 0.9970139755054528, 0.0020141696474857635, 0.005976566723155845, 0.028175243123448983, 0.9383209755354677, 0.0017075904923302414, 0.007684157215486086, 0.008537952461651207, 0.009391747707816327, 0.9978452054455785, 0.9964744058506535, 0.003245288603216047, 0.9341481084722426, 0.014253433579975534, 0.051531644481450006, 0.99614114774373, 0.0029936623523477987, 0.23128948621550668, 0.00014496363911971588, 0.7346757230587201, 0.03384900973445366, 0.15220715401760207, 0.003805178850440052, 0.810157169793691, 0.03390068430392046, 0.02836515212058251, 0.04242368232611903, 0.21794856680406766, 0.03779263708194229, 0.09572205125240307, 0.027868968701563572, 0.3100319396503319, 0.03328563769252029, 0.19227107486983772, 0.014306621915045989, 0.16842246300759697, 0.41509407397587933, 0.023797157489678696, 0.011924167086226099, 0.043090766895289165, 0.03285543034058865, 0.059620835431130496, 0.08505564676956127, 0.15383710841714873, 0.006345908663914318, 0.99356762609772, 0.006649395014123037, 0.9907598571043326, 0.0013298790028246075, 0.06642004375193622, 0.00783607257747562, 0.003731463132131248, 0.015298998841738118, 0.003731463132131248, 0.03694148500809936, 0.8451763994277277, 0.0007462926264262496, 0.003731463132131248, 0.01641843778137749, 0.000586726656082709, 0.9955284537083365, 0.003667041600516931, 0.9990771200893266, 0.6144212182862648, 0.0640877365770009, 0.013513161538033107, 0.06391668389930427, 0.06779387792709436, 0.0013684214215729728, 0.032500008762358104, 0.029078955208425673, 0.10348687000645607, 0.00980702018793964, 0.0011916266130199758, 0.06792271694213861, 0.0053623197585898905, 0.0011916266130199758, 0.9241064383969912, 3.541331929029686e-05, 0.0029038921818043423, 0.06158376224582624, 0.13432272006809598, 0.1576955107996919, 0.11130406252940303, 0.5107308908046613, 0.021389644851339304, 0.14615212742165962, 0.8377767183066085, 0.0011055380289081665, 0.01496161465789052, 0.9961306853718037, 0.05385761575575838, 0.9456763707702279, 0.27625325538394574, 0.05802731635810837, 0.016917706130193486, 0.43503860530369787, 0.03832463157748991, 0.05170915583774127, 0.004780187235804056, 0.07390585135008358, 0.012511620504148007, 0.032505273203467584, 0.997200943843865, 0.0014883596176774106, 0.9938567269041967, 0.9982093785986348, 0.9958321873845252, 0.8026414301227682, 0.017079932661131517, 0.17004919443363034, 0.005366330194206861, 0.004847007917348133, 0.9964246703205107, 0.006625980148307187, 0.0035338560790971665, 0.9894797021472066, 0.9990915605858859, 0.9931117803698621, 0.23672938730880264, 0.03301709802682014, 0.012501619641223158, 0.38931325780168013, 0.0010418016367685966, 0.05449423946174197, 0.00040069293721869097, 0.006811779932717746, 0.02179769578469679, 0.24394186017873906, 0.0004074318176974844, 0.45033199144327835, 0.17452461743959302, 0.20933607127521633, 0.07418854068720959, 0.08994656540109759, 0.001282211896871495, 0.19425513572459505, 0.7941247686854515, 0.010181086778018609, 0.001425352148922605, 0.022221265000290442, 0.5964965565064702, 0.03218252172455857, 0.049098975451570125, 0.11364084594312988, 0.0026524056366394426, 0.07244014505399722, 0.027526076273569327, 0.06913937359506814, 0.014617702175257373, 0.05683721527296491, 0.0007333834228769666, 0.002108477340771279, 0.030527084977253736, 0.17262012315966602, 0.007242161300910046, 0.5102515164666496, 0.014667668457539333, 0.19177976508232678, 0.0132009016117854, 0.24017272129491168, 0.6079243122874066, 0.0005499089211102729, 0.003093237681245285, 0.0006186475362490569, 0.1418765016464504, 0.0021996356844410916, 0.0035744079872167735, 0.00010683694588463275, 0.5075111052673005, 0.04244987983149408, 0.046331622198635736, 0.1915942562864414, 0.004593988673039208, 3.5612315294877586e-05, 0.20473520063025122, 0.0022791881788721655, 0.00035612315294877584, 0.024816802273390084, 0.04935683723518102, 0.15904894839897585, 0.6800172845991015, 0.022694919551129965, 0.004151509673987188, 0.024816802273390084, 0.034688169720426286, 0.00018451154106609728, 0.00018451154106609728, 0.9976338746105791, 0.10477578298311978, 0.033618608870931266, 0.01959978185162989, 0.06291862174065595, 0.43863647384562887, 0.05281975109168054, 0.12842840108203585, 0.14470618600966065, 0.014483906588662086, 0.2240374850977413, 0.01438528441769088, 0.0006659853897079111, 0.008125021754436516, 0.0006659853897079111, 0.00013319707794158222, 0.007059445130903858, 0.7264568630933894, 0.01851439383387993, 0.9848536350566376, 0.005918591556830754, 0.008286028179563056, 0.9967851067157272, 0.0028371492601016904, 0.9991235106891917, 0.9988055039556373, 0.009570251964860164, 0.9889260363688837, 0.9975918527479947, 0.9975206654018726, 0.9968121075015948, 0.01911117225686671, 0.9798819229884386, 0.0008746892120267548, 0.7724755298213426, 0.015744405816481587, 0.1523833562952325, 0.011995737764938352, 0.04279729358845193, 0.001999289627489725, 0.0017493784240535095, 0.9988353346718212, 0.7258976364994958, 0.03979723993545623, 0.000535989763440488, 0.09342971563972005, 0.002847445618277592, 0.0018089654516116468, 0.00408692194623372, 0.1308150016396941, 0.0007704852849457014, 0.0849189701671353, 0.025601466877908444, 0.09335812248188166, 0.05554422845619122, 0.5150723011331976, 0.009128890725086212, 0.14107179133833228, 0.012496437081451348, 0.06045354302390425, 0.00239379801235594, 0.00021031112649391782, 0.12226086820179757, 0.0016824890119513426, 0.09225648082199862, 0.0015422815942887308, 0.14679716629275466, 0.07367899798170255, 0.5467388251753551, 0.011356800830671563, 0.0035752891503966033, 0.9906672209714077, 0.0015779455714380205, 0.0013807023750082679, 0.006509025482181834, 0.006903511875041339, 0.9785234974880024, 0.0007889727857190102, 0.004536593517884309, 0.01133542579617776, 0.03684013383757772, 0.9425406549521808, 0.009068340636942208, 0.14601764906203588, 0.006524578443814594, 0.44197977680507006, 0.19761014897886608, 0.015948969529324564, 0.07183077564532919, 0.051773738206936176, 0.009363978322141316, 0.0006645403970551901, 0.05823790388738211, 0.0007677575620411762, 0.1438585731874654, 0.11837861909722386, 0.118474588792479, 0.2635327831706337, 0.01242807553554154, 0.1963539964920308, 0.049472377904028295, 0.04318636286481616, 0.053503105104744465, 0.7401037825587187, 0.20332521498865896, 0.00014787288362811562, 0.05619169577868393, 0.00029574576725623124, 0.9719312460760557, 0.0009489971483248714, 0.0007908309569373928, 0.0023724928708121784, 0.023883094899509263, 0.9925535555385823, 0.9943050420664895, 0.9989142020790984, 0.9961607009955796, 0.9973105485928632, 0.43400128579060643, 0.40093189154689624, 0.00016991339367352702, 0.006329273914338882, 0.1180473302546829, 0.00038230513576543583, 0.037126076517665654, 0.0030372019119142956, 0.0013394447967675451, 0.9376113577372817, 0.011162039973062877, 0.016073337561210543, 0.012055003170907908, 0.0075901871816827565, 0.014287411165520483, 0.000942321836003328, 0.0056539310160199675, 0.9922648933115042, 0.0008016828534403002, 0.9844665440246886, 0.014430291361925402, 0.012845286193016281, 0.9858757153139995, 0.0009044555009058688, 0.4178584414185114, 0.20953219104319296, 0.01944579326947618, 0.35213467501935164, 0.0003670900356590925, 0.8626615837988674, 0.007984208275585263, 0.085348433290739, 0.03441469084303992, 0.000734180071318185, 0.006882938168607984, 0.0015601326515511432, 0.9992127186550972, 0.07634150670304453, 0.056236733053503865, 0.03092170820464563, 0.04536316533318892, 0.013308793824343815, 0.02950587907439629, 0.630610294613057, 0.028996180587506526, 0.03601869307354326, 0.05266884364527553, 0.9910827034498509, 0.5037579363107949, 0.023655655493783328, 0.46036363321343265, 0.00038402038139258646, 0.006451542407395453, 0.0038402038139258646, 0.0015360815255703458, 0.955854803289694, 0.03677271253099686, 0.007307398002954504, 0.07618314677394142, 0.04938702069427525, 0.12258738701044361, 0.33910790942059293, 0.1336872421565827, 0.006650133479625182, 0.06625684459479501, 0.09632913937398242, 0.07192901726859297, 0.037895981225805266, 0.9942832068111266, 0.004603162994495956, 0.25313570929758067, 0.08873807655271486, 0.03854056724610613, 0.022682071543200167, 0.040783501897313945, 0.045206189941949075, 0.3090827130622151, 0.05714744766246393, 0.13230155379237088, 0.012351935896088113, 0.9974881024177731, 0.16009908405165238, 0.05774303167427064, 0.20848426260283143, 0.02509935798906739, 0.3896203808071704, 0.020529243673138933, 0.07631365492629738, 0.003699616350989702, 0.04171136081998193, 0.01668454432799277, 0.9976231760571045, 0.012086808981378943, 0.21463242615418365, 0.0208772155132909, 0.001098800816488995, 0.0007325338776593299, 0.7394929494970935, 0.010988008164889948, 0.9523088377996393, 0.012120294299268137, 0.015583235527630461, 0.009234509942299532, 0.0028857843569686037, 0.0057715687139372075, 0.0017314706141811622, 0.015616562806090962, 0.7286359435578756, 0.01403142297239, 0.00023483553091866108, 0.0013503043027823013, 0.18775100696946953, 0.005753470507507196, 0.009745674533124435, 0.03446211416231351, 0.0024070641919162763, 0.021721051808989457, 0.9541369343412198, 0.002648908757193836, 0.01960192480323439, 0.0015893452543163018, 0.03493393387967496, 0.0010748902732207678, 0.05374451366103839, 0.005911896502714223, 0.043264333497135904, 0.8609871088498351, 0.09722084641247247, 0.028452321142311058, 0.5425889138873193, 0.00015748517237441546, 0.19402173236527984, 0.026982459533483178, 0.041996045966510784, 0.00241477264307437, 0.06614377239725448, 5.249505745813848e-05, 0.3515456526724287, 0.5074780830813354, 0.0025000352377266906, 2.9070177182868493e-05, 0.13532167478625284, 0.0011046667329490027, 0.0020639825799836633, 0.9987627955634037, 0.9991447560699763, 0.9977225208545883, 0.9981289692086437, 0.01770607888363889, 0.9748758726521178, 0.003124602155936275, 0.004166136207915033, 0.9907721272349772, 0.9929105243378291, 0.14119580752021013, 0.0006781739073977431, 0.004475947788825105, 0.06971627768048799, 0.0008138086888772918, 0.0061035651665796884, 0.009223165140609307, 0.027533860640348372, 0.5198881174111099, 0.22027088512278697, 0.9913613005739685, 0.0034201464486044125, 0.00024429617490031517, 0.629306946543212, 0.013599153736117545, 0.03428289654434423, 0.12768546741456474, 0.0530122699533684, 0.0032572823320042026, 0.00032572823320042025, 0.13477005648667387, 0.029873636565981247, 0.9696688590269322, 0.003675230818086602, 0.9724660744657149, 0.00012250769393622006, 0.006860430860428324, 0.01678355406926215, 0.0008672701894483379, 0.00028909006314944594, 0.846889339996302, 0.00014454503157472297, 0.0039027158525175207, 0.01112996743125367, 0.1365950548381132, 0.16791020386298983, 0.717756075602627, 4.366975393055652e-05, 0.055067559706431776, 0.007423858168194609, 0.0004366975393055652, 0.010873768728708573, 0.015590102153208678, 0.024891759740417217, 0.0021480758901744348, 0.03241641797899601, 0.04120400116607324, 0.007615905428800268, 0.006834786923282292, 0.12693175714667113, 0.7260496508789589, 0.033002256858134495, 0.0023433555165539286, 0.02109019964898536, 0.9935839939798796, 0.9989163222325128, 7.415001098219643e-05, 0.2592284383937587, 0.0006920667691671667, 0.33525691632083743, 0.00037075005491098216, 0.041177972765446415, 0.09276166373872773, 0.270400373381743, 4.9433340654797616e-05, 0.0020340194089886986, 0.029452601042156353, 0.058742480531593616, 0.09527346911703063, 0.20901583446767866, 0.054999884819054407, 0.5452799231616903, 0.00512572891065152, 0.003948012584724141, 0.006580020974540236, 0.9883191503759433, 0.051614670359462995, 0.02843754794779697, 0.371511043061604, 0.07552096066722638, 0.16812528347159086, 0.21557328013906898, 0.014531274500797354, 0.011041685283759995, 0.03760423007016376, 0.02604171057490565, 0.17821122224605718, 0.057962402151663886, 0.00010295275693013123, 0.004735826818786037, 0.7495990232082855, 0.0005147637846506562, 0.0016472441108820997, 0.00010295275693013123, 0.003500393735624462, 0.003500393735624462, 0.9982063679894366, 0.7287652029373628, 0.004870924235571063, 0.0012739340308416626, 0.2176179073861287, 0.02150700393244454, 0.00089924755118235, 0.02188169041210385, 0.0031473664291382254, 0.0823218636521064, 0.03361070172778309, 0.14720513133530505, 0.07657394654503626, 0.5338743346905835, 0.008183475203286317, 0.01305459139571865, 0.03292874546084256, 0.02688856138222647, 0.04549622523731798, 0.6488020002113665, 0.00345566977476094, 0.09146006003867288, 0.0004031614737221097, 0.11461304752957117, 0.014629002046487979, 5.7594496246015666e-05, 0.0024765633385786735, 0.08460631498539702, 0.03950982442476675, 0.9124168476455687, 0.006375844099031191, 0.08087254883507984, 0.3577855085558064, 0.019595519437333772, 0.02991901260431937, 0.002102933793274844, 0.23399917845167353, 0.062992425898551, 0.004110279686855377, 0.28944016027437397, 0.9951975041250428, 0.002819256385623351, 0.018980581525063434, 0.013703652609690194, 0.04160183493747739, 0.5013491533861583, 0.06999089437367141, 0.001595350602322142, 0.3100298003846029, 0.028879936544600828, 0.009122132931226606, 0.00470423895556529, 0.9979192862942478, 0.9833829234856118, 0.015784637616141444, 0.9911189734881699, 0.008285216079315944, 0.9750055028170879, 0.017847126222844928, 0.005099178920812837, 0.002124657883672015, 0.049169120583220066, 0.010475160472077319, 0.17700883409959223, 0.10101047598074557, 0.5236511342112937, 0.00021377878514443506, 0.13852865277359394, 0.00010688939257221753, 0.034546855159296966, 0.017968642931151364, 0.017540818099457286, 0.3165368973496575, 0.2374962596941762, 0.37584411464324935, 0.9987201519787583, 0.8768491926651132, 0.06495179204926764, 0.034772171501123085, 0.0013121574151367201, 0.00951314125974122, 0.0013121574151367201, 0.00951314125974122, 0.0016401967689209, 0.009344026442387078, 0.9904668028930304, 0.9973214142813037, 0.13287717324663859, 0.8664023816569443, 0.0003601007405057956, 0.05108867636109669, 0.9477319672783154, 0.03864035821804393, 0.038870817610994486, 0.012291167624029877, 0.846246890914457, 0.05922806398829397, 0.004686007656661391, 0.9995980027890877, 0.9991747483004416, 0.9997433248354192, 0.0074675640936242805, 0.06534118581921246, 0.0018668910234060701, 0.004978376062416187, 0.05476213668657806, 0.8649928408448125, 0.0011344850154159363, 0.9983468135660238, 0.011776625080095285, 0.01943143138215722, 0.9680385815838325, 0.1967030176103652, 0.001367893029279313, 0.00848093678153174, 0.002735786058558626, 0.0021886288468469005, 0.7870856490473167, 0.0010943144234234503, 0.010604480629810224, 0.9699564949399752, 0.019441547821318746, 0.9966419246508545, 0.00311675531492414, 0.9911281901458764, 0.004675132972386209, 0.43572007061182977, 0.07132044104980081, 0.024016066884116602, 0.46763752746647824, 5.1982828753499134e-05, 0.0008837080888094853, 0.0003118969725209948, 0.9957769809879923, 0.9971803360849062, 0.008315900177778257, 0.006794698925745648, 0.028142223162603244, 0.14066040910461514, 0.0011662542932249992, 0.02160105777886303, 0.7413827835322919, 0.0015719079604336948, 0.0032452293376695634, 0.04700511868780758, 0.009701402002338726, 0.0008900368809485069, 0.01032442781900268, 0.67963216229228, 0.0324863461546205, 0.1685729852516472, 0.044813356955757326, 0.05358022023310012, 0.9983312986759482, 0.9989075160655487, 0.8258473189670698, 0.1442231450300181, 0.0023694930727823347, 0.00363322271159958, 0.00252745927763449, 0.00015796620485215564, 0.0034752565067474243, 0.01785018114829359, 0.9986875562979799, 0.0025416771985760918, 0.1575839863117177, 0.020878062702589326, 0.8171492193422135, 0.0016339353419417733, 0.0047555344691861765, 0.9950955876772075, 0.9942295893330727, 0.9895083520490127, 0.9983584590179436, 0.010515754098983924, 0.010515754098983924, 0.9779651312055049, 0.9992702576281866, 0.9945284166443399, 0.0051264351373419585, 0.13003039670072192, 0.13431925536251485, 0.00019494812099058758, 0.0926003574705291, 0.0017545330889152883, 0.5848443629717628, 0.056145058845289225, 0.36300501763703197, 0.014791141236543192, 0.0007602923065512855, 0.6056764983917196, 6.911748241375323e-05, 0.001451467130688818, 0.002902934261377636, 0.0013132321658613113, 0.01002203494999422, 0.9985155696823721, 0.005484015360168953, 0.005484015360168953, 0.00034275096001055956, 0.04781375892147306, 0.940851385228986, 8.677302816766922e-05, 0.0008243437675928576, 0.02568481633763009, 0.0024296447886947383, 0.0465103430978707, 0.0002603190845030077, 0.9242195230138449, 0.00010829929414523558, 0.03738491633893532, 0.005999780895646052, 0.014815343439068228, 0.01695966946314389, 0.9247026931296796, 0.9984180262550378, 3.228371825448934e-05, 0.37319978302189677, 0.012364664091469418, 0.049749209830168076, 0.06192017161211055, 0.0028732509246495513, 0.11580169737885326, 0.16755249774079967, 0.21307254047962965, 0.00342207413497587, 0.5630659481451821, 0.019348381684271696, 0.022713317629362424, 0.06323275463482995, 0.29429168953106005, 0.00722059171550719, 0.030144217841437785, 0.9975105780195129, 0.9994125666216207, 0.02836242822887249, 0.0013835330843352434, 0.14056696136846072, 0.7980218830445683, 0.031682907631277075, 0.997933799619223, 0.9681905105660185, 0.0308586616913472, 0.013134274349474073, 0.17285847154720876, 0.04562732697925993, 0.07303798649120583, 0.07292377540990605, 0.007252403662535684, 0.5516966282185609, 0.05345078604829449, 0.0011421108129977455, 0.008851358800732527, 0.9983364602393755, 0.9972920153449142, 0.001910521102193322, 0.00013937190055936192, 0.00036236694145434095, 0.423300336378894, 0.07813188745357828, 0.0013379702453698743, 0.3597188753437131, 0.07049430730292526, 0.06597865772480194, 0.0005574876022374477, 0.7906515802504415, 0.046261528631674764, 0.0367600025490749, 0.019781865778527592, 0.10654170230325097, 0.9918663358142782, 0.11832699474140675, 0.045445777948789505, 0.7886288900312527, 0.007465425535735442, 0.010731549207619697, 0.006438929524571819, 0.02248959442640302, 0.0004665890959834651, 0.0041305691559402925, 0.8469840753443884, 0.026087805195412372, 0.12283008279506658, 0.997242333196255, 0.0034611960419643106, 0.9959591610752303, 0.9989701777644363, 0.037195414550886825, 0.025571847503734695, 0.9356971472957468, 0.030232808956938646, 0.0041093138388071946, 0.0020546569194035973, 0.008512150094672046, 0.0017611345023459406, 0.0005870448341153135, 0.9527737657691538, 0.017894877120126943, 0.0015001693394118395, 0.3272512258974113, 0.0031074936316388105, 0.0027860287731934163, 0.0007500846697059198, 0.005250592687941438, 0.02614580848689206, 0.6152837390644845, 0.02242021677274573, 0.17646534254146756, 0.006114604574385198, 0.05739146398765055, 0.00032182129338869465, 0.00032182129338869465, 0.638707993612096, 0.07434071877278846, 0.02242021677274573, 0.0013945589380176767, 0.538632114665586, 0.07919372663951724, 0.032939999341364413, 0.003959686331975861, 0.15052546737351719, 0.041490626348094896, 0.07001184529000799, 0.007976759422386155, 0.04631111405658725, 0.028980313009388553, 0.9946959975666415, 0.018624402491924073, 0.1996697459567795, 0.00984216391849646, 0.4073141683193151, 0.0069147510606872575, 0.05814447607234832, 0.1766542241781416, 0.06647246092646071, 0.022561268059322657, 0.03376619313576478, 0.22969900838200547, 0.7624904923825786, 0.003632099914437382, 0.0018786723695365768, 0.0021291620188081204, 0.9890708852100256, 0.9940050725454078, 0.07128219976245562, 0.44693533084679254, 0.4357149845878875, 0.01655128000182374, 0.01812517472592354, 0.0013708115338933772, 0.010052617915218099, 0.9977311745709635, 0.9924883026665521, 0.004384266383949429, 0.0016440998939810361, 0.0016440998939810361, 0.9944269120171244, 0.9977622429098382, 0.9962272829279565, 0.9963043653729581, 0.9985929498114416], \"Term\": [\"abm\", \"abnormality\", \"abnormality\", \"abnormality\", \"abnormality\", \"abnormality\", \"absorbance\", \"access\", \"access\", \"access\", \"access\", \"access\", \"access\", \"access\", \"access\", \"access\", \"access\", \"accuracy\", \"accuracy\", \"accuracy\", \"accuracy\", \"accuracy\", \"accuracy\", \"accuracy\", \"accuracy\", \"accuracy\", \"ace\", \"ace\", \"ace\", \"ace\", \"acid\", \"acid\", \"acid\", \"acid\", \"acid\", \"acid\", \"activation\", \"activation\", \"activation\", \"activation\", \"activation\", \"activation\", \"activation\", \"activation\", \"activity\", \"activity\", \"activity\", \"activity\", \"activity\", \"activity\", \"activity\", \"activity\", \"activity\", \"activity\", \"actor\", \"actor\", \"actor\", \"actor\", \"acupuncture\", \"acute\", \"acute\", \"acute\", \"acute\", \"acute\", \"acute\", \"acute\", \"acute\", \"acute\", \"adcovs\", \"adcovs\", \"admission\", \"admission\", \"admission\", \"admission\", \"admission\", \"admission\", \"admitted\", \"admitted\", \"admitted\", \"admitted\", \"admitted\", \"adolescent\", \"adolescent\", \"adolescent\", \"adolescent\", \"adolescent\", \"adolescent\", \"adult\", \"adult\", \"adult\", \"adult\", \"adult\", \"adult\", \"adult\", \"adult\", \"adult\", \"advocacy\", \"advocacy\", \"advocacy\", \"aerosolgenerating\", \"aerosolgenerating\", \"aes\", \"aes\", \"affinity\", \"affinity\", \"affinity\", \"affinity\", \"affinity\", \"affinity\", \"affinity\", \"age\", \"age\", \"age\", \"age\", \"age\", \"age\", \"age\", \"age\", \"age\", \"agile\", \"agile\", \"agps\", \"air\", \"air\", \"air\", \"air\", \"air\", \"air\", \"air\", \"air\", \"air\", \"air\", \"airline\", \"airline\", \"aki\", \"aki\", \"algorithm\", \"algorithm\", \"algorithm\", \"algorithm\", \"algorithm\", \"algorithm\", \"amino\", \"amino\", \"anaesthesia\", \"anaesthesia\", \"anaesthetic\", \"analyte\", \"angiography\", \"animal\", \"animal\", \"animal\", \"animal\", \"animal\", \"animal\", \"animal\", \"animal\", \"animal\", \"annotator\", \"antenatal\", \"antenatal\", \"antenatal\", \"antenna\", \"antibody\", \"antibody\", \"antibody\", \"antibody\", \"antibody\", \"antibody\", \"anticoagulation\", \"anticoagulation\", \"antiinflammatory\", \"antiinflammatory\", \"antiinflammatory\", \"antiinflammatory\", \"antiinflammatory\", \"antivaccination\", \"anxiety\", \"anxiety\", \"anxiety\", \"anxiety\", \"apoptosis\", \"apoptosis\", \"appendectomy\", \"appendicitis\", \"applicant\", \"application\", \"application\", \"application\", \"application\", \"application\", \"application\", \"application\", \"application\", \"application\", \"application\", \"apps\", \"apps\", \"apps\", \"apps\", \"aqueous\", \"aqueous\", \"architecture\", \"architecture\", \"architecture\", \"architecture\", \"architecture\", \"area\", \"area\", \"area\", \"area\", \"area\", \"area\", \"area\", \"area\", \"area\", \"area\", \"arm\", \"arm\", \"arm\", \"arm\", \"arm\", \"arm\", \"arm\", \"arm\", \"arm\", \"arrhythmia\", \"arrhythmia\", \"arterial\", \"arterial\", \"asd\", \"asd\", \"assay\", \"assay\", \"assay\", \"assay\", \"assessment\", \"assessment\", \"assessment\", \"assessment\", \"assessment\", \"assessment\", \"assessment\", \"assessment\", \"assessment\", \"assessment\", \"asset\", \"asset\", \"asset\", \"asset\", \"asset\", \"asymptotically\", \"asymptotically\", \"asymptotically\", \"attitude\", \"attitude\", \"attitude\", \"attitude\", \"attitude\", \"attractor\", \"auml\", \"authorfunder\", \"authorfunder\", \"autoencoder\", \"autophagy\", \"bank\", \"bank\", \"bank\", \"bank\", \"bank\", \"bank\", \"bank\", \"bead\", \"bead\", \"bedtime\", \"beef\", \"behavior\", \"behavior\", \"behavior\", \"behavior\", \"behavior\", \"behavior\", \"behavior\", \"behavior\", \"bert\", \"binding\", \"binding\", \"binding\", \"binding\", \"binding\", \"binge\", \"biosensor\", \"bitcoin\", \"ble\", \"blinding\", \"blinding\", \"blood\", \"blood\", \"blood\", \"blood\", \"blood\", \"blood\", \"blood\", \"blood\", \"blood\", \"bntb\", \"bntb\", \"bntb\", \"bntb\", \"booster\", \"booster\", \"booster\", \"boredom\", \"brain\", \"brain\", \"brain\", \"brain\", \"brain\", \"brain\", \"brain\", \"breast\", \"breast\", \"breast\", \"breast\", \"breast\", \"breast\", \"breastfeeding\", \"breastfeeding\", \"breathability\", \"buffalo\", \"buffer\", \"buffer\", \"buffer\", \"buffer\", \"buffer\", \"buffer\", \"business\", \"business\", \"business\", \"business\", \"business\", \"business\", \"buyer\", \"cancer\", \"cancer\", \"cancer\", \"cancer\", \"cancer\", \"cancer\", \"cancer\", \"cancer\", \"cancer\", \"capital\", \"capital\", \"capital\", \"capital\", \"capital\", \"capital\", \"capitalism\", \"cardiac\", \"cardiac\", \"cardiac\", \"cardiac\", \"cardiac\", \"cardiovascular\", \"cardiovascular\", \"cardiovascular\", \"cardiovascular\", \"cardiovascular\", \"cardiovascular\", \"cardiovascular\", \"career\", \"career\", \"career\", \"cash\", \"cash\", \"cash\", \"caspase\", \"ccby\", \"ccby\", \"ccby\", \"ccby\", \"ccby\", \"ccbync\", \"ccbync\", \"ccbyncnd\", \"ccbyncnd\", \"ccbynd\", \"ccbynd\", \"cell\", \"cell\", \"cell\", \"cell\", \"cell\", \"cell\", \"cell\", \"cell\", \"cell\", \"cell\", \"cellular\", \"cellular\", \"cellular\", \"cellular\", \"cellular\", \"cellular\", \"cellular\", \"cereal\", \"cesarean\", \"cfd\", \"cfr\", \"cfr\", \"cfr\", \"cfr\", \"cfrs\", \"chadox\", \"chadox\", \"chadox\", \"chadox\", \"challenge\", \"challenge\", \"challenge\", \"challenge\", \"challenge\", \"challenge\", \"challenge\", \"challenge\", \"challenge\", \"challenge\", \"cheese\", \"chemokine\", \"chemokines\", \"chest\", \"chest\", \"chest\", \"child\", \"child\", \"child\", \"child\", \"child\", \"child\", \"child\", \"child\", \"child\", \"china\", \"china\", \"china\", \"china\", \"china\", \"china\", \"china\", \"china\", \"china\", \"china\", \"cigarette\", \"cigarette\", \"cigarette\", \"cigarette\", \"cisgender\", \"city\", \"city\", \"city\", \"city\", \"city\", \"city\", \"city\", \"city\", \"class\", \"class\", \"class\", \"class\", \"class\", \"class\", \"class\", \"class\", \"class\", \"class\", \"classification\", \"classification\", \"classification\", \"classification\", \"classification\", \"classification\", \"classification\", \"classification\", \"classification\", \"classification\", \"classifier\", \"client\", \"client\", \"client\", \"client\", \"clinic\", \"clinic\", \"clinic\", \"clinic\", \"clinic\", \"clinic\", \"clinic\", \"cloth\", \"cloth\", \"cloth\", \"clpro\", \"cnn\", \"cnns\", \"coating\", \"coating\", \"coating\", \"cochrane\", \"cochrane\", \"cochrane\", \"cochrane\", \"codon\", \"cognitive\", \"cognitive\", \"cognitive\", \"cognitive\", \"cognitive\", \"cognitive\", \"cohort\", \"cohort\", \"cohort\", \"cohort\", \"cohort\", \"cohort\", \"cohort\", \"cohort\", \"cohort\", \"cointegration\", \"collaboration\", \"collaboration\", \"collaboration\", \"collaboration\", \"collaboration\", \"collaboration\", \"collaboration\", \"collaboration\", \"collaboration\", \"colonoscopy\", \"communication\", \"communication\", \"communication\", \"communication\", \"communication\", \"communication\", \"communication\", \"communication\", \"communication\", \"community\", \"community\", \"community\", \"community\", \"community\", \"community\", \"community\", \"community\", \"community\", \"community\", \"comorbidities\", \"comorbidities\", \"comorbidities\", \"comorbidities\", \"comorbidities\", \"comorbidities\", \"comorbidities\", \"company\", \"company\", \"company\", \"company\", \"company\", \"company\", \"company\", \"company\", \"company\", \"company\", \"compartmental\", \"competency\", \"competency\", \"competency\", \"competency\", \"complex\", \"complex\", \"complex\", \"complex\", \"complex\", \"complex\", \"complex\", \"complex\", \"complex\", \"complex\", \"complication\", \"complication\", \"complication\", \"complication\", \"complication\", \"complication\", \"complication\", \"complication\", \"complication\", \"complication\", \"compound\", \"compound\", \"compound\", \"compound\", \"compound\", \"compound\", \"compound\", \"compound\", \"computing\", \"computing\", \"computing\", \"computing\", \"computing\", \"computing\", \"computing\", \"concentration\", \"concentration\", \"concentration\", \"concentration\", \"concentration\", \"concentration\", \"concentration\", \"concentration\", \"concentration\", \"concentration\", \"confirmed\", \"confirmed\", \"confirmed\", \"confirmed\", \"confirmed\", \"confirmed\", \"confirmed\", \"confirmed\", \"confirmed\", \"confirmed\", \"conformation\", \"conformation\", \"conformational\", \"conformational\", \"conscientiousness\", \"consort\", \"consumer\", \"consumer\", \"consumer\", \"consumer\", \"consumption\", \"consumption\", \"consumption\", \"consumption\", \"consumption\", \"consumption\", \"consumption\", \"consumption\", \"consumption\", \"contact\", \"contact\", \"contact\", \"contact\", \"contact\", \"contact\", \"contact\", \"contact\", \"contact\", \"context\", \"context\", \"context\", \"context\", \"context\", \"context\", \"context\", \"context\", \"context\", \"context\", \"convolution\", \"convolution\", \"convolutional\", \"coping\", \"coping\", \"coping\", \"coping\", \"coproduction\", \"coronary\", \"coronary\", \"coronary\", \"coronary\", \"coronavac\", \"coronavac\", \"cost\", \"cost\", \"cost\", \"cost\", \"cost\", \"cost\", \"cost\", \"cost\", \"cost\", \"cost\", \"country\", \"country\", \"country\", \"country\", \"country\", \"country\", \"country\", \"country\", \"country\", \"country\", \"county\", \"county\", \"county\", \"county\", \"county\", \"county\", \"county\", \"court\", \"court\", \"covalent\", \"cpap\", \"creatinine\", \"creatinine\", \"creatinine\", \"crisis\", \"crisis\", \"crisis\", \"crisis\", \"crisis\", \"crisis\", \"crisis\", \"crisis\", \"crisis\", \"crisis\", \"cronbachs\", \"crop\", \"crop\", \"crp\", \"crp\", \"cryoem\", \"cryptocurrencies\", \"cryptocurrency\", \"crystal\", \"crystal\", \"crystal\", \"crystal\", \"crystal\", \"crystal\", \"csr\", \"csr\", \"currency\", \"currency\", \"curriculum\", \"curriculum\", \"curriculum\", \"customer\", \"customer\", \"customer\", \"customer\", \"customer\", \"cxcl\", \"cyber\", \"cybersecurity\", \"cys\", \"cytokine\", \"cytokine\", \"daily\", \"daily\", \"daily\", \"daily\", \"daily\", \"daily\", \"daily\", \"daily\", \"daily\", \"daily\", \"dairy\", \"das\", \"dataset\", \"dataset\", \"dataset\", \"dataset\", \"dataset\", \"dataset\", \"dataset\", \"dataset\", \"dataset\", \"datasets\", \"datasets\", \"datasets\", \"datasets\", \"datasets\", \"datasets\", \"datasets\", \"datasets\", \"datasets\", \"datasets\", \"ddimer\", \"ddimer\", \"death\", \"death\", \"death\", \"death\", \"death\", \"death\", \"death\", \"death\", \"death\", \"debt\", \"debt\", \"debt\", \"decoder\", \"decontamination\", \"decontamination\", \"decontamination\", \"decontamination\", \"decontamination\", \"deep\", \"deep\", \"deep\", \"deep\", \"deep\", \"deep\", \"deep\", \"deep\", \"deep\", \"degs\", \"demand\", \"demand\", \"demand\", \"demand\", \"demand\", \"demand\", \"demand\", \"demand\", \"demand\", \"demand\", \"densenet\", \"dental\", \"dental\", \"dental\", \"dental\", \"dental\", \"dental\", \"dentist\", \"dentist\", \"dentist\", \"depersonalization\", \"depreciation\", \"depression\", \"depression\", \"depression\", \"depression\", \"depression\", \"depression\", \"depression\", \"depressive\", \"detection\", \"detection\", \"detection\", \"detection\", \"detection\", \"detection\", \"detection\", \"development\", \"development\", \"development\", \"development\", \"development\", \"development\", \"development\", \"development\", \"development\", \"development\", \"device\", \"device\", \"device\", \"device\", \"device\", \"device\", \"device\", \"device\", \"diabetes\", \"diabetes\", \"diabetes\", \"diabetes\", \"diabetes\", \"diabetes\", \"diagnosis\", \"diagnosis\", \"diagnosis\", \"diagnosis\", \"diagnosis\", \"diagnosis\", \"diagnosis\", \"diagnosis\", \"diagnostic\", \"diagnostic\", \"diagnostic\", \"diagnostic\", \"diagnostic\", \"diagnostic\", \"diagnostic\", \"diagnostic\", \"diagnostic\", \"diagnostic\", \"dialogue\", \"dialogue\", \"diet\", \"diet\", \"diet\", \"diet\", \"dietary\", \"dietary\", \"dietary\", \"dietary\", \"dietary\", \"digital\", \"digital\", \"digital\", \"digital\", \"digital\", \"digital\", \"digital\", \"digital\", \"digital\", \"digital\", \"digitalization\", \"digitalization\", \"dignity\", \"diluted\", \"diluted\", \"diluted\", \"diluted\", \"diluted\", \"diluted\", \"diluted\", \"dilution\", \"dilution\", \"dilution\", \"dilution\", \"dilution\", \"diplomacy\", \"discourse\", \"discourse\", \"discussion\", \"discussion\", \"discussion\", \"discussion\", \"discussion\", \"discussion\", \"discussion\", \"discussion\", \"discussion\", \"discussion\", \"disinfectant\", \"disinfectant\", \"disinfectant\", \"disinfectant\", \"display\", \"display\", \"display\", \"display\", \"display\", \"display\", \"display\", \"display\", \"display\", \"display\", \"distribution\", \"distribution\", \"distribution\", \"distribution\", \"distribution\", \"distribution\", \"distribution\", \"distribution\", \"distribution\", \"distribution\", \"dmem\", \"dmso\", \"dna\", \"dna\", \"dna\", \"dna\", \"docking\", \"docking\", \"dog\", \"dog\", \"dog\", \"dog\", \"dog\", \"dos\", \"dos\", \"dos\", \"dos\", \"dos\", \"dos\", \"dose\", \"dose\", \"dose\", \"dose\", \"dose\", \"dose\", \"downregulated\", \"downregulation\", \"downregulation\", \"droplet\", \"droplet\", \"droplet\", \"droplet\", \"droplet\", \"droplet\", \"drug\", \"drug\", \"drug\", \"drug\", \"drug\", \"drug\", \"drug\", \"drug\", \"drug\", \"drug\", \"dsmb\", \"dvt\", \"dynamical\", \"dyspnea\", \"dyspnea\", \"dyspnea\", \"echocardiogram\", \"echocardiography\", \"ecmo\", \"econometric\", \"economic\", \"economic\", \"economic\", \"economic\", \"economic\", \"economic\", \"economic\", \"economic\", \"economic\", \"economic\", \"economy\", \"economy\", \"economy\", \"economy\", \"economy\", \"economy\", \"economy\", \"economy\", \"ecrf\", \"ect\", \"ect\", \"ect\", \"ect\", \"edge\", \"edge\", \"edge\", \"edge\", \"edge\", \"edge\", \"education\", \"education\", \"education\", \"education\", \"education\", \"education\", \"educator\", \"educator\", \"educator\", \"effective\", \"effective\", \"effective\", \"effective\", \"effective\", \"effective\", \"effective\", \"effective\", \"effective\", \"effective\", \"efficacy\", \"efficacy\", \"efficacy\", \"efficacy\", \"efficacy\", \"efficacy\", \"efficacy\", \"efficacy\", \"efficacy\", \"effusion\", \"effusion\", \"effusion\", \"elective\", \"elective\", \"elective\", \"electricity\", \"electricity\", \"electricity\", \"electrochemical\", \"electrostatic\", \"eluted\", \"embeddings\", \"embolism\", \"embolism\", \"emission\", \"emission\", \"emission\", \"emission\", \"emission\", \"emission\", \"emission\", \"emotion\", \"emotion\", \"emotion\", \"emotional\", \"emotional\", \"emotional\", \"encoder\", \"endoscope\", \"endoscopic\", \"endoscopic\", \"endoscopy\", \"endothelial\", \"endothelial\", \"energy\", \"energy\", \"energy\", \"energy\", \"energy\", \"energy\", \"energy\", \"energy\", \"environment\", \"environment\", \"environment\", \"environment\", \"environment\", \"environment\", \"environment\", \"environment\", \"environment\", \"environment\", \"environmental\", \"environmental\", \"environmental\", \"environmental\", \"environmental\", \"environmental\", \"environmental\", \"environmental\", \"epidemic\", \"epidemic\", \"epidemic\", \"epidemic\", \"epidemic\", \"epidemic\", \"epidemic\", \"epidemic\", \"epidemic\", \"epidemiological\", \"epidemiological\", \"epidemiological\", \"epidemiological\", \"epidemiological\", \"epidemiological\", \"epidemiological\", \"epidemiological\", \"epiisl\", \"epithelial\", \"epithelial\", \"epithelial\", \"epithelium\", \"epithelium\", \"epithelium\", \"epithelium\", \"epitope\", \"epitope\", \"epoch\", \"epoch\", \"epoch\", \"estimate\", \"estimate\", \"estimate\", \"estimate\", \"estimate\", \"estimate\", \"estimate\", \"estimate\", \"estimate\", \"eurozone\", \"evidence\", \"evidence\", \"evidence\", \"evidence\", \"evidence\", \"evidence\", \"evidence\", \"evidence\", \"evidence\", \"evidence\", \"example\", \"example\", \"example\", \"example\", \"example\", \"example\", \"example\", \"example\", \"example\", \"example\", \"exercise\", \"exercise\", \"exercise\", \"exercise\", \"exercise\", \"exercise\", \"exercise\", \"exercise\", \"exercise\", \"exosomes\", \"exosomes\", \"experience\", \"experience\", \"experience\", \"experience\", \"experience\", \"experience\", \"experience\", \"experience\", \"experience\", \"experience\", \"experiment\", \"experiment\", \"experiment\", \"experiment\", \"experiment\", \"experiment\", \"experiment\", \"experiment\", \"exponential\", \"exponential\", \"exponential\", \"exponential\", \"exponential\", \"exponential\", \"exponential\", \"exponential\", \"exponential\", \"exponential\", \"exposure\", \"exposure\", \"exposure\", \"exposure\", \"exposure\", \"exposure\", \"exposure\", \"exposure\", \"exposure\", \"exposure\", \"expression\", \"expression\", \"expression\", \"expression\", \"expression\", \"expression\", \"expression\", \"fabric\", \"fabric\", \"fabric\", \"face\", \"face\", \"face\", \"face\", \"face\", \"face\", \"face\", \"face\", \"face\", \"face\", \"facilitator\", \"facilitator\", \"facilitator\", \"failure\", \"failure\", \"failure\", \"failure\", \"failure\", \"failure\", \"failure\", \"failure\", \"failure\", \"failure\", \"family\", \"family\", \"family\", \"family\", \"family\", \"family\", \"family\", \"family\", \"family\", \"family\", \"farm\", \"farm\", \"farmer\", \"farmer\", \"farming\", \"farming\", \"farming\", \"fatality\", \"fatality\", \"fatality\", \"fatality\", \"fatality\", \"fatality\", \"fatality\", \"feature\", \"feature\", \"feature\", \"feature\", \"feature\", \"feature\", \"feature\", \"feature\", \"feature\", \"feature\", \"fertilizer\", \"financial\", \"financial\", \"financial\", \"financial\", \"financial\", \"financial\", \"financial\", \"financial\", \"financial\", \"financial\", \"fio\", \"firm\", \"firm\", \"firm\", \"firm\", \"firm\", \"fiscal\", \"fiscal\", \"fish\", \"fish\", \"fish\", \"fluorescence\", \"fluorescence\", \"followup\", \"followup\", \"followup\", \"followup\", \"followup\", \"followup\", \"followup\", \"followup\", \"followup\", \"food\", \"food\", \"food\", \"food\", \"food\", \"food\", \"food\", \"food\", \"food\", \"fracture\", \"fracture\", \"fracture\", \"fracture\", \"fracture\", \"fracture\", \"fruit\", \"fruit\", \"fruit\", \"fruit\", \"fruit\", \"fruit\", \"fscore\", \"function\", \"function\", \"function\", \"function\", \"function\", \"function\", \"function\", \"function\", \"function\", \"function\", \"gad\", \"garch\", \"gdp\", \"gender\", \"gender\", \"gender\", \"gender\", \"gender\", \"gender\", \"gender\", \"gender\", \"gender\", \"gene\", \"gene\", \"gene\", \"gene\", \"genome\", \"genome\", \"genome\", \"gestational\", \"gestational\", \"ggo\", \"ghg\", \"global\", \"global\", \"global\", \"global\", \"global\", \"global\", \"global\", \"global\", \"global\", \"global\", \"government\", \"government\", \"government\", \"government\", \"government\", \"government\", \"government\", \"granger\", \"granted\", \"granted\", \"granted\", \"granted\", \"granted\", \"granted\", \"granted\", \"granted\", \"graph\", \"graph\", \"graph\", \"graph\", \"graph\", \"graph\", \"graph\", \"graph\", \"groundglass\", \"groundglass\", \"groundwater\", \"growth\", \"growth\", \"growth\", \"growth\", \"growth\", \"growth\", \"growth\", \"growth\", \"growth\", \"growth\", \"guideline\", \"guideline\", \"guideline\", \"guideline\", \"guideline\", \"guideline\", \"guideline\", \"guideline\", \"guideline\", \"guideline\", \"gut\", \"gut\", \"gut\", \"gut\", \"gynecologic\", \"hbac\", \"hcw\", \"hcw\", \"healthcare\", \"healthcare\", \"healthcare\", \"healthcare\", \"healthcare\", \"healthcare\", \"healthcare\", \"healthcare\", \"healthcare\", \"heart\", \"heart\", \"heart\", \"heart\", \"heart\", \"heart\", \"heart\", \"heart\", \"heart\", \"hemodynamic\", \"hemodynamic\", \"hesitancy\", \"hesitancy\", \"hesitancy\", \"hfnc\", \"holder\", \"holder\", \"holder\", \"holder\", \"holder\", \"holder\", \"holder\", \"holder\", \"hopelessness\", \"hospital\", \"hospital\", \"hospital\", \"hospital\", \"hospital\", \"hospital\", \"hospital\", \"hospital\", \"hospital\", \"hospital\", \"hospitalization\", \"hospitalization\", \"hospitalization\", \"hospitalization\", \"hospitalization\", \"hospitalization\", \"hospitalization\", \"hospitalized\", \"hospitalized\", \"hospitalized\", \"hospitalized\", \"hospitalized\", \"hospitalized\", \"hospitalized\", \"host\", \"host\", \"host\", \"host\", \"host\", \"host\", \"host\", \"host\", \"hpv\", \"hpv\", \"hpv\", \"hpv\", \"httpsdoiorg\", \"httpsdoiorg\", \"human\", \"human\", \"human\", \"human\", \"human\", \"human\", \"human\", \"human\", \"human\", \"human\", \"hydrophobic\", \"hypertension\", \"hypertension\", \"hypertension\", \"hypertension\", \"hypertension\", \"hypertension\", \"hypoxemic\", \"icu\", \"icu\", \"icu\", \"icu\", \"ideological\", \"ifn\", \"ifn\", \"ifns\", \"ifn\\u03b1\", \"ifn\\u03b3\", \"ifn\\u03b3\", \"ifr\", \"ihme\", \"ihme\", \"ild\", \"ill\", \"ill\", \"ill\", \"ill\", \"ill\", \"ill\", \"ill\", \"ill\", \"il\\u03b2\", \"image\", \"image\", \"image\", \"image\", \"image\", \"image\", \"image\", \"image\", \"image\", \"imagenet\", \"imf\", \"immune\", \"immune\", \"immune\", \"immune\", \"immune\", \"immune\", \"immune\", \"immune\", \"immunization\", \"immunization\", \"immunization\", \"immunization\", \"immunization\", \"immunization\", \"implementation\", \"implementation\", \"implementation\", \"implementation\", \"implementation\", \"implementation\", \"implementation\", \"implementation\", \"implementation\", \"imv\", \"incineration\", \"income\", \"income\", \"income\", \"income\", \"incubated\", \"incubated\", \"industrial\", \"industrial\", \"industrial\", \"industrial\", \"industrial\", \"industry\", \"industry\", \"industry\", \"industry\", \"industry\", \"industry\", \"infant\", \"infant\", \"infant\", \"infant\", \"infant\", \"infected\", \"infected\", \"infected\", \"infected\", \"infected\", \"infected\", \"infected\", \"infected\", \"infected\", \"infectious\", \"infectious\", \"infectious\", \"infectious\", \"infectious\", \"infectious\", \"infectious\", \"infectious\", \"infectious\", \"infectiousness\", \"infectiousness\", \"infectiousness\", \"inflammasome\", \"inflammation\", \"inflammation\", \"inflammation\", \"inflammation\", \"inflammatory\", \"inflammatory\", \"inflammatory\", \"influencer\", \"influenza\", \"influenza\", \"influenza\", \"influenza\", \"influenza\", \"influenza\", \"influenza\", \"inhospital\", \"inhospital\", \"injury\", \"injury\", \"injury\", \"injury\", \"injury\", \"injury\", \"injury\", \"innate\", \"innate\", \"innate\", \"innate\", \"innate\", \"innate\", \"input\", \"input\", \"input\", \"input\", \"input\", \"input\", \"input\", \"input\", \"input\", \"input\", \"insomnia\", \"insomnia\", \"insomnia\", \"inspiratory\", \"intake\", \"intake\", \"intake\", \"intake\", \"intake\", \"interaction\", \"interaction\", \"interaction\", \"interaction\", \"interaction\", \"interaction\", \"interaction\", \"interaction\", \"interaction\", \"interaction\", \"interferon\", \"interferon\", \"interferon\", \"interferon\", \"international\", \"international\", \"international\", \"international\", \"international\", \"international\", \"international\", \"international\", \"international\", \"international\", \"interprofessional\", \"intervention\", \"intervention\", \"intervention\", \"intervention\", \"intervention\", \"intervention\", \"intervention\", \"intervention\", \"intervention\", \"intervention\", \"interview\", \"interview\", \"interview\", \"interview\", \"interview\", \"interviewee\", \"interviewee\", \"interviewee\", \"investigator\", \"investigator\", \"investigator\", \"investigator\", \"investigator\", \"investigator\", \"investigator\", \"investigator\", \"investigator\", \"investment\", \"investment\", \"investment\", \"investment\", \"investor\", \"iot\", \"iot\", \"issue\", \"issue\", \"issue\", \"issue\", \"issue\", \"issue\", \"issue\", \"issue\", \"issue\", \"issue\", \"item\", \"item\", \"item\", \"item\", \"item\", \"item\", \"item\", \"item\", \"justice\", \"justice\", \"kcalmol\", \"knowledge\", \"knowledge\", \"knowledge\", \"knowledge\", \"knowledge\", \"knowledge\", \"knowledge\", \"knowledge\", \"knowledge\", \"knowledge\", \"landfill\", \"laparoscopic\", \"layer\", \"layer\", \"layer\", \"layer\", \"layer\", \"layer\", \"leader\", \"leader\", \"leader\", \"leader\", \"leader\", \"leader\", \"leader\", \"leadership\", \"leadership\", \"leadership\", \"learning\", \"learning\", \"learning\", \"learning\", \"learning\", \"legume\", \"life\", \"life\", \"life\", \"life\", \"life\", \"life\", \"life\", \"life\", \"life\", \"life\", \"likert\", \"likert\", \"likert\", \"likerttype\", \"liquidity\", \"livestock\", \"livestock\", \"lmwh\", \"loan\", \"loan\", \"lockdown\", \"lockdown\", \"lockdown\", \"lockdown\", \"lockdown\", \"lockdown\", \"loneliness\", \"longrun\", \"lowcarbon\", \"lstm\", \"lung\", \"lung\", \"lung\", \"lung\", \"lung\", \"lymphoid\", \"mabs\", \"mabs\", \"machine\", \"machine\", \"machine\", \"machine\", \"machine\", \"machine\", \"machine\", \"machine\", \"macroeconomic\", \"macrophage\", \"macrophage\", \"maltreatment\", \"malware\", \"management\", \"management\", \"management\", \"management\", \"management\", \"management\", \"management\", \"management\", \"management\", \"management\", \"manaus\", \"march\", \"march\", \"march\", \"march\", \"march\", \"march\", \"march\", \"march\", \"march\", \"march\", \"marital\", \"marital\", \"market\", \"market\", \"market\", \"market\", \"market\", \"market\", \"market\", \"market\", \"market\", \"mask\", \"mask\", \"mask\", \"mask\", \"mask\", \"mask\", \"mask\", \"mask\", \"material\", \"material\", \"material\", \"material\", \"material\", \"material\", \"material\", \"material\", \"material\", \"material\", \"maternal\", \"maternal\", \"maternal\", \"maternal\", \"maternal\", \"maternal\", \"mcmc\", \"mdt\", \"meanfield\", \"meat\", \"mechanical\", \"mechanical\", \"mechanical\", \"mechanical\", \"mechanical\", \"mechanical\", \"mechanical\", \"mechanical\", \"mechanical\", \"mechanical\", \"mechanism\", \"mechanism\", \"mechanism\", \"mechanism\", \"mechanism\", \"mechanism\", \"mechanism\", \"mechanism\", \"mechanism\", \"mechanism\", \"medical\", \"medical\", \"medical\", \"medical\", \"medical\", \"medical\", \"medical\", \"medical\", \"medical\", \"medical\", \"medication\", \"medication\", \"medication\", \"medication\", \"medication\", \"medication\", \"medication\", \"member\", \"member\", \"member\", \"member\", \"member\", \"member\", \"member\", \"member\", \"member\", \"member\", \"mental\", \"mental\", \"mental\", \"mental\", \"mental\", \"mental\", \"mentor\", \"mentoring\", \"merger\", \"merger\", \"metabolism\", \"metabolism\", \"metabolism\", \"metabolism\", \"metapopulation\", \"meteorological\", \"meteorological\", \"methane\", \"mgdl\", \"mgdl\", \"microbiota\", \"microbiota\", \"microfluidic\", \"microglia\", \"microplastics\", \"milk\", \"milk\", \"milk\", \"milk\", \"min\", \"min\", \"min\", \"min\", \"min\", \"min\", \"min\", \"min\", \"min\", \"min\", \"mindfulness\", \"mindfulness\", \"mir\", \"mir\", \"misc\", \"misc\", \"misconduct\", \"mitochondrial\", \"mitochondrial\", \"mlp\", \"mmhg\", \"mmhg\", \"mmp\", \"molecular\", \"molecular\", \"molecular\", \"molecular\", \"molecular\", \"molecular\", \"monocyte\", \"monocyte\", \"month\", \"month\", \"month\", \"month\", \"month\", \"month\", \"month\", \"month\", \"month\", \"month\", \"moocs\", \"mood\", \"mood\", \"mood\", \"mood\", \"mood\", \"moral\", \"moral\", \"moral\", \"morans\", \"mortality\", \"mortality\", \"mortality\", \"mortality\", \"mortality\", \"mortality\", \"mortality\", \"mortality\", \"mortality\", \"mouse\", \"mouse\", \"mouse\", \"mpro\", \"mushroom\", \"mutant\", \"mutant\", \"mutant\", \"mutation\", \"mutation\", \"mutation\", \"mutation\", \"mutation\", \"myeloid\", \"myocardial\", \"myocardial\", \"myocarditis\", \"myocarditis\", \"myocarditis\", \"nabs\", \"nanomaterials\", \"nanoparticles\", \"nanoparticles\", \"negative\", \"negative\", \"negative\", \"negative\", \"negative\", \"negative\", \"negative\", \"negative\", \"negative\", \"negative\", \"neoadjuvant\", \"neoliberal\", \"neonatal\", \"neonatal\", \"neonatal\", \"neonatal\", \"neonatal\", \"network\", \"network\", \"network\", \"network\", \"network\", \"network\", \"network\", \"network\", \"network\", \"network\", \"neural\", \"neural\", \"neuroticism\", \"neutralization\", \"neutralization\", \"neutralization\", \"neutralizing\", \"neutralizing\", \"neutralizing\", \"neutrophil\", \"neutrophil\", \"nextstrain\", \"nfkb\", \"nf\\u03bab\", \"nicu\", \"nlrp\", \"node\", \"node\", \"node\", \"node\", \"node\", \"nonpharmaceutical\", \"nonpharmaceutical\", \"nonpharmaceutical\", \"nonpharmaceutical\", \"nonsurvivors\", \"npi\", \"npi\", \"npis\", \"npis\", \"nsp\", \"nsp\", \"nutritional\", \"nutritional\", \"nutritional\", \"nutritional\", \"nutritional\", \"nvivo\", \"obstetric\", \"ode\", \"ode\", \"offshore\", \"offshore\", \"older\", \"older\", \"older\", \"older\", \"older\", \"older\", \"older\", \"older\", \"older\", \"oncologist\", \"oncologist\", \"online\", \"online\", \"online\", \"online\", \"online\", \"online\", \"online\", \"online\", \"online\", \"online\", \"opacity\", \"opacity\", \"ophthalmology\", \"opportunity\", \"opportunity\", \"opportunity\", \"opportunity\", \"opportunity\", \"opportunity\", \"opportunity\", \"opportunity\", \"opportunity\", \"opportunity\", \"optimizer\", \"orf\", \"orf\", \"organisation\", \"organisation\", \"organisation\", \"organisation\", \"organisation\", \"organisation\", \"organisation\", \"organisation\", \"organisation\", \"organisational\", \"organization\", \"organization\", \"organization\", \"organization\", \"organization\", \"organization\", \"organization\", \"organization\", \"organization\", \"organization\", \"organizational\", \"organizational\", \"organizational\", \"organizational\", \"organoids\", \"organoids\", \"osa\", \"outbreak\", \"outbreak\", \"outbreak\", \"outbreak\", \"outbreak\", \"outbreak\", \"outbreak\", \"outbreak\", \"outbreak\", \"outbreak\", \"outpatient\", \"outpatient\", \"outpatient\", \"outpatient\", \"outpatient\", \"outperforms\", \"outperforms\", \"output\", \"output\", \"output\", \"output\", \"output\", \"output\", \"output\", \"output\", \"oxfordastrazeneca\", \"oxidative\", \"oxidative\", \"oxidative\", \"oxidative\", \"oxygen\", \"oxygen\", \"oxygen\", \"oxygen\", \"oxygen\", \"oxygenation\", \"oxygenation\", \"oxygenation\", \"paediatric\", \"paediatric\", \"paediatric\", \"pain\", \"pain\", \"pain\", \"pain\", \"pain\", \"pain\", \"pain\", \"pain\", \"panelist\", \"parameter\", \"parameter\", \"parameter\", \"parameter\", \"parameter\", \"parameter\", \"parameter\", \"parameter\", \"parameter\", \"parent\", \"parent\", \"parent\", \"parent\", \"parent\", \"parent\", \"parent\", \"parent\", \"parenting\", \"parenting\", \"participant\", \"participant\", \"participant\", \"participant\", \"participant\", \"participant\", \"participant\", \"participatory\", \"pathway\", \"pathway\", \"pathway\", \"pathway\", \"pathway\", \"pathway\", \"pathway\", \"pathway\", \"pathway\", \"pathway\", \"pdb\", \"peak\", \"peak\", \"peak\", \"peak\", \"peak\", \"peak\", \"peak\", \"peak\", \"peak\", \"peak\", \"peep\", \"people\", \"people\", \"people\", \"people\", \"people\", \"people\", \"people\", \"people\", \"people\", \"people\", \"peptide\", \"peptide\", \"peptide\", \"perceived\", \"perceived\", \"perceived\", \"perceived\", \"perceived\", \"perception\", \"perception\", \"perception\", \"perception\", \"perception\", \"perfectionism\", \"performance\", \"performance\", \"performance\", \"performance\", \"performance\", \"performance\", \"performance\", \"performance\", \"performance\", \"perpetuity\", \"perpetuity\", \"pfizerbiontech\", \"pfizerbiontech\", \"pfizerbiontech\", \"pfizerbiontech\", \"phage\", \"pharmacist\", \"pharmacist\", \"pharmacist\", \"phq\", \"physical\", \"physical\", \"physical\", \"physical\", \"physical\", \"physical\", \"physical\", \"physical\", \"physical\", \"physical\", \"physicochemical\", \"pixel\", \"pixel\", \"placebo\", \"placebo\", \"placebo\", \"placebo\", \"placebo\", \"plant\", \"plant\", \"plant\", \"plant\", \"plant\", \"plant\", \"plant\", \"plasmid\", \"plastic\", \"plastic\", \"plastic\", \"plastic\", \"plastic\", \"plastic\", \"plate\", \"plate\", \"plate\", \"plate\", \"plate\", \"plate\", \"plate\", \"pneumonia\", \"pneumonia\", \"pneumonia\", \"pneumonia\", \"pneumonia\", \"pneumonia\", \"pneumonia\", \"pneumonia\", \"pneumothorax\", \"policy\", \"policy\", \"policy\", \"policy\", \"policy\", \"policy\", \"policy\", \"policy\", \"pollution\", \"pollution\", \"pollution\", \"polymer\", \"polymer\", \"polymer\", \"pork\", \"portfolio\", \"portfolio\", \"portfolio\", \"posted\", \"posted\", \"posted\", \"posted\", \"posted\", \"posted\", \"posted\", \"postoperative\", \"postoperative\", \"postoperative\", \"poultry\", \"poultry\", \"practice\", \"practice\", \"practice\", \"practice\", \"practice\", \"practice\", \"practice\", \"practice\", \"practice\", \"practice\", \"prediction\", \"prediction\", \"prediction\", \"prediction\", \"prediction\", \"prediction\", \"prediction\", \"pregnancy\", \"pregnancy\", \"pregnancy\", \"pregnancy\", \"pregnancy\", \"pregnancy\", \"pregnant\", \"pregnant\", \"pregnant\", \"pregnant\", \"pregnant\", \"preoperative\", \"preprocessing\", \"preprocessing\", \"preprocessing\", \"preterm\", \"preterm\", \"pretrained\", \"pretraining\", \"price\", \"price\", \"price\", \"price\", \"pricing\", \"pricing\", \"primary\", \"primary\", \"primary\", \"primary\", \"primary\", \"primary\", \"primary\", \"primary\", \"primary\", \"primary\", \"primer\", \"primer\", \"privacy\", \"privacy\", \"privacy\", \"privacy\", \"privacy\", \"privacy\", \"problem\", \"problem\", \"problem\", \"problem\", \"problem\", \"problem\", \"problem\", \"problem\", \"problem\", \"problem\", \"procalcitonin\", \"procalcitonin\", \"procedure\", \"procedure\", \"procedure\", \"procedure\", \"procedure\", \"procedure\", \"procedure\", \"procedure\", \"procedure\", \"procedure\", \"product\", \"product\", \"product\", \"product\", \"product\", \"product\", \"product\", \"product\", \"product\", \"production\", \"production\", \"production\", \"production\", \"production\", \"production\", \"production\", \"production\", \"professional\", \"professional\", \"professional\", \"professional\", \"professional\", \"professional\", \"professional\", \"professional\", \"professional\", \"professional\", \"program\", \"program\", \"program\", \"program\", \"program\", \"program\", \"program\", \"program\", \"program\", \"program\", \"proinflammatory\", \"proinflammatory\", \"project\", \"project\", \"project\", \"project\", \"project\", \"project\", \"project\", \"project\", \"project\", \"project\", \"proposed\", \"proposed\", \"proposed\", \"proposed\", \"proposed\", \"proposed\", \"proposed\", \"proposed\", \"proposed\", \"proposed\", \"protection\", \"protection\", \"protection\", \"protection\", \"protection\", \"protection\", \"protection\", \"protection\", \"protection\", \"protein\", \"protein\", \"protein\", \"protein\", \"protein\", \"protocol\", \"protocol\", \"protocol\", \"protocol\", \"protocol\", \"protocol\", \"protocol\", \"protocol\", \"protocol\", \"provider\", \"provider\", \"provider\", \"provider\", \"provider\", \"provider\", \"provider\", \"pseudotyped\", \"pseudovirus\", \"pseudovirus\", \"psqi\", \"psychiatric\", \"psychiatric\", \"psychiatric\", \"psychiatric\", \"psychiatric\", \"psychological\", \"psychological\", \"psychological\", \"psychological\", \"psychological\", \"psychometric\", \"psychopathology\", \"ptsd\", \"public\", \"public\", \"public\", \"public\", \"public\", \"public\", \"public\", \"public\", \"public\", \"public\", \"pulmonary\", \"pulmonary\", \"pulmonary\", \"purifier\", \"pyrolysis\", \"qol\", \"qol\", \"qtc\", \"quarantine\", \"quarantine\", \"quarantine\", \"quarantine\", \"quarantine\", \"quarantine\", \"quarantine\", \"question\", \"question\", \"question\", \"question\", \"question\", \"question\", \"question\", \"question\", \"question\", \"question\", \"questionnaire\", \"questionnaire\", \"questionnaire\", \"questionnaire\", \"questionnaire\", \"questionnaire\", \"racism\", \"racism\", \"radiotherapy\", \"radiotherapy\", \"randomisation\", \"randomisation\", \"randomised\", \"randomised\", \"randomised\", \"randomised\", \"randomised\", \"randomised\", \"randomised\", \"rapport\", \"rbd\", \"rbd\", \"rcts\", \"rcts\", \"rcts\", \"rdrp\", \"rdrp\", \"receptor\", \"receptor\", \"receptor\", \"receptor\", \"referral\", \"referral\", \"referral\", \"referral\", \"region\", \"region\", \"region\", \"region\", \"region\", \"region\", \"region\", \"region\", \"region\", \"region\", \"relationship\", \"relationship\", \"relationship\", \"relationship\", \"relationship\", \"relationship\", \"relationship\", \"relationship\", \"relationship\", \"relationship\", \"remittance\", \"renewable\", \"renewable\", \"renewable\", \"reproduction\", \"reproduction\", \"reproduction\", \"reproduction\", \"reproduction\", \"reproduction\", \"reproduction\", \"reproduction\", \"reproduction\", \"reproduction\", \"residue\", \"residue\", \"residue\", \"resnet\", \"resource\", \"resource\", \"resource\", \"resource\", \"resource\", \"resource\", \"resource\", \"resource\", \"resource\", \"resource\", \"respirator\", \"respirator\", \"respirator\", \"respirator\", \"respirator\", \"respiratory\", \"respiratory\", \"respiratory\", \"respiratory\", \"respiratory\", \"respiratory\", \"respiratory\", \"respiratory\", \"respondent\", \"respondent\", \"respondent\", \"respondent\", \"retesting\", \"revenue\", \"revenue\", \"review\", \"review\", \"review\", \"review\", \"review\", \"review\", \"review\", \"review\", \"review\", \"review\", \"ritual\", \"ritual\", \"rki\", \"rmsd\", \"rmsea\", \"rna\", \"rna\", \"rna\", \"rna\", \"rna\", \"rnn\", \"robot\", \"robot\", \"robot\", \"rtlamp\", \"saes\", \"safety\", \"safety\", \"safety\", \"safety\", \"safety\", \"safety\", \"safety\", \"safety\", \"safety\", \"safety\", \"sarscov\", \"sarscov\", \"sarscov\", \"sarscov\", \"sarscov\", \"sarscov\", \"sarscov\", \"satisfaction\", \"satisfaction\", \"satisfaction\", \"satisfaction\", \"scale\", \"scale\", \"scale\", \"scale\", \"scale\", \"scale\", \"scale\", \"scale\", \"scale\", \"scale\", \"scenario\", \"scenario\", \"scenario\", \"scenario\", \"scenario\", \"scenario\", \"scenario\", \"scenario\", \"scenario\", \"scenario\", \"school\", \"school\", \"school\", \"school\", \"school\", \"school\", \"school\", \"school\", \"score\", \"score\", \"score\", \"score\", \"score\", \"score\", \"score\", \"score\", \"score\", \"score\", \"screening\", \"screening\", \"screening\", \"screening\", \"screening\", \"screening\", \"screening\", \"screening\", \"screening\", \"screening\", \"scrnaseq\", \"section\", \"section\", \"section\", \"section\", \"section\", \"section\", \"section\", \"section\", \"section\", \"sector\", \"sector\", \"sector\", \"sector\", \"sector\", \"sector\", \"sector\", \"sector\", \"sector\", \"sedentary\", \"sedentary\", \"sedentary\", \"segmentation\", \"segmentation\", \"seir\", \"selfcompassion\", \"selfesteem\", \"selfesteem\", \"selfharm\", \"selfrated\", \"selftesting\", \"semantic\", \"semantic\", \"sequence\", \"sequence\", \"sequence\", \"sequence\", \"sequence\", \"sequence\", \"sequence\", \"sequence\", \"servant\", \"service\", \"service\", \"service\", \"service\", \"service\", \"service\", \"service\", \"service\", \"service\", \"set\", \"set\", \"set\", \"set\", \"set\", \"set\", \"set\", \"set\", \"set\", \"set\", \"severity\", \"severity\", \"severity\", \"severity\", \"severity\", \"severity\", \"severity\", \"severity\", \"severity\", \"severity\", \"shortrun\", \"signaling\", \"signaling\", \"signaling\", \"signaling\", \"signaling\", \"signaling\", \"signaling\", \"sir\", \"sir\", \"sir\", \"sir\", \"site\", \"site\", \"site\", \"site\", \"site\", \"site\", \"site\", \"site\", \"site\", \"site\", \"size\", \"size\", \"size\", \"size\", \"size\", \"size\", \"size\", \"size\", \"size\", \"size\", \"skill\", \"skill\", \"skill\", \"skill\", \"skill\", \"sleep\", \"sleep\", \"sleep\", \"sleep\", \"sleep\", \"smallholder\", \"sme\", \"smes\", \"snv\", \"snvs\", \"social\", \"social\", \"social\", \"social\", \"social\", \"social\", \"social\", \"social\", \"sociodemographic\", \"sociodemographic\", \"sociodemographic\", \"sociodemographic\", \"sociodemographic\", \"sociodemographic\", \"sociodemographic\", \"soil\", \"soil\", \"soil\", \"solvent\", \"solvent\", \"solvent\", \"spam\", \"spam\", \"specie\", \"specie\", \"specie\", \"specie\", \"specie\", \"spike\", \"spike\", \"spike\", \"spike\", \"spike\", \"spike\", \"spike\", \"spike\", \"spo\", \"spread\", \"spread\", \"spread\", \"spread\", \"spread\", \"spread\", \"spread\", \"spread\", \"spread\", \"spread\", \"sputnik\", \"staff\", \"staff\", \"staff\", \"staff\", \"staff\", \"staff\", \"staff\", \"stakeholder\", \"stakeholder\", \"stakeholder\", \"standard\", \"standard\", \"standard\", \"standard\", \"standard\", \"standard\", \"standard\", \"standard\", \"standard\", \"standard\", \"stat\", \"stat\", \"state\", \"state\", \"state\", \"state\", \"state\", \"state\", \"state\", \"state\", \"state\", \"state\", \"stemi\", \"step\", \"step\", \"step\", \"step\", \"step\", \"step\", \"step\", \"step\", \"step\", \"step\", \"stillbirth\", \"stock\", \"stock\", \"stock\", \"stock\", \"stock\", \"stock\", \"stock\", \"story\", \"story\", \"story\", \"story\", \"story\", \"story\", \"story\", \"stress\", \"stress\", \"stress\", \"stress\", \"stress\", \"stress\", \"stress\", \"stress\", \"stress\", \"stress\", \"stressor\", \"stressor\", \"stressor\", \"stressor\", \"stressor\", \"stroke\", \"stroke\", \"stroke\", \"stroke\", \"stroke\", \"stroke\", \"structure\", \"structure\", \"structure\", \"structure\", \"structure\", \"structure\", \"structure\", \"structure\", \"structure\", \"structure\", \"student\", \"student\", \"student\", \"student\", \"student\", \"student\", \"student\", \"subscale\", \"subscales\", \"subthemes\", \"suicidal\", \"suicide\", \"suicide\", \"suicide\", \"suicide\", \"superspreaders\", \"superspreading\", \"supply\", \"supply\", \"supply\", \"supply\", \"supply\", \"supply\", \"supply\", \"supply\", \"supply\", \"supply\", \"supplyside\", \"surface\", \"surface\", \"surface\", \"surface\", \"surface\", \"surface\", \"surface\", \"surface\", \"surface\", \"surface\", \"surgeon\", \"surgeon\", \"surgery\", \"surgery\", \"surgery\", \"surgery\", \"surgery\", \"surgical\", \"surgical\", \"surgical\", \"surgical\", \"surgical\", \"surgical\", \"surgical\", \"survey\", \"survey\", \"survey\", \"survey\", \"survey\", \"survey\", \"survey\", \"survey\", \"survey\", \"susceptible\", \"susceptible\", \"susceptible\", \"susceptible\", \"susceptible\", \"susceptible\", \"susceptible\", \"susceptible\", \"susceptible\", \"susceptible\", \"susceptibles\", \"svm\", \"symptom\", \"symptom\", \"symptom\", \"symptom\", \"symptom\", \"symptom\", \"symptom\", \"symptom\", \"symptom\", \"syndrome\", \"syndrome\", \"syndrome\", \"syndrome\", \"syndrome\", \"syndrome\", \"syndrome\", \"syndrome\", \"systolic\", \"systolic\", \"systolic\", \"target\", \"target\", \"target\", \"target\", \"target\", \"target\", \"target\", \"target\", \"target\", \"target\", \"task\", \"task\", \"task\", \"task\", \"task\", \"task\", \"task\", \"task\", \"task\", \"task\", \"tcells\", \"team\", \"team\", \"team\", \"team\", \"team\", \"team\", \"team\", \"team\", \"technique\", \"technique\", \"technique\", \"technique\", \"technique\", \"technique\", \"technique\", \"technique\", \"technique\", \"technique\", \"technology\", \"technology\", \"technology\", \"technology\", \"technology\", \"technology\", \"technology\", \"technology\", \"technology\", \"technology\", \"telehealth\", \"telehealth\", \"telehealth\", \"temperature\", \"temperature\", \"temperature\", \"temperature\", \"temperature\", \"temperature\", \"temperature\", \"temperature\", \"tensor\", \"tensor\", \"testing\", \"testing\", \"testing\", \"testing\", \"testing\", \"testing\", \"testing\", \"testing\", \"testing\", \"testing\", \"tgf\\u03b2\", \"thats\", \"thats\", \"thematic\", \"thematic\", \"theme\", \"theme\", \"theme\", \"theme\", \"therapeutic\", \"therapeutic\", \"therapeutic\", \"therapeutic\", \"therapeutic\", \"therapeutic\", \"therapeutic\", \"therapeutic\", \"therapy\", \"therapy\", \"therapy\", \"therapy\", \"therapy\", \"therapy\", \"theyre\", \"thing\", \"thing\", \"thing\", \"thing\", \"thing\", \"thing\", \"thing\", \"thing\", \"thromboembolic\", \"thromboembolic\", \"thromboprophylaxis\", \"thrombosis\", \"thrombosis\", \"thrombosis\", \"thrombotic\", \"thrombotic\", \"tissue\", \"tissue\", \"tissue\", \"tissue\", \"tissue\", \"tissue\", \"tlr\", \"tnf\", \"tnf\\u03b1\", \"tobacco\", \"tobacco\", \"tobacco\", \"tobacco\", \"tobacco\", \"tobacco\", \"tourism\", \"tourism\", \"tourist\", \"tourist\", \"tourist\", \"tracing\", \"tracing\", \"tracing\", \"tracing\", \"tracing\", \"tracing\", \"tracing\", \"trade\", \"trade\", \"trade\", \"trader\", \"trading\", \"trading\", \"trading\", \"training\", \"training\", \"training\", \"training\", \"training\", \"training\", \"training\", \"transformative\", \"transformer\", \"transmission\", \"transmission\", \"transmission\", \"transmission\", \"transmission\", \"transmission\", \"transmission\", \"transmission\", \"transmission\", \"transmission\", \"trial\", \"trial\", \"trial\", \"trial\", \"trial\", \"trial\", \"trial\", \"trial\", \"trimer\", \"troponin\", \"trust\", \"trust\", \"trust\", \"trust\", \"trust\", \"trust\", \"trust\", \"trust\", \"ttp\", \"tumor\", \"tumor\", \"tumor\", \"tumor\", \"tumor\", \"tweet\", \"tweet\", \"unblinded\", \"undernutrition\", \"unet\", \"unvaccinated\", \"unvaccinated\", \"unvaccinated\", \"upregulated\", \"upregulation\", \"upregulation\", \"urban\", \"urban\", \"urban\", \"urban\", \"urban\", \"urban\", \"urban\", \"user\", \"user\", \"user\", \"user\", \"user\", \"user\", \"user\", \"user\", \"user\", \"utr\", \"vaccinated\", \"vaccinated\", \"vaccinated\", \"vaccinated\", \"vaccinated\", \"vaccination\", \"vaccination\", \"vaccination\", \"vaccination\", \"vaccination\", \"vaccination\", \"vaccination\", \"vaccine\", \"vaccine\", \"vaccine\", \"vaccine\", \"vaccine\", \"vaccine\", \"vaccinerelated\", \"variable\", \"variable\", \"variable\", \"variable\", \"variable\", \"variable\", \"variable\", \"variable\", \"variable\", \"variable\", \"variant\", \"variant\", \"variant\", \"variant\", \"variant\", \"variant\", \"variant\", \"vasopressor\", \"vegetable\", \"ventilation\", \"ventilation\", \"ventilation\", \"ventilation\", \"ventilation\", \"verbatim\", \"vero\", \"vero\", \"version\", \"version\", \"version\", \"version\", \"version\", \"version\", \"version\", \"version\", \"version\", \"version\", \"vgg\", \"videoconferencing\", \"videoconferencing\", \"viral\", \"viral\", \"viral\", \"viral\", \"viral\", \"viral\", \"viral\", \"viral\", \"viral\", \"virtual\", \"virtual\", \"virtual\", \"virtual\", \"virtual\", \"virusladen\", \"visit\", \"visit\", \"visit\", \"visit\", \"visit\", \"visit\", \"visit\", \"visit\", \"vitamin\", \"vitamin\", \"vitamin\", \"vitamin\", \"vitt\", \"volatility\", \"volatility\", \"vte\", \"wage\", \"wage\", \"wage\", \"waste\", \"waste\", \"waste\", \"waste\", \"waste\", \"waste\", \"waste\", \"water\", \"water\", \"water\", \"water\", \"water\", \"water\", \"water\", \"water\", \"water\", \"wave\", \"wave\", \"wave\", \"wave\", \"wave\", \"wave\", \"wave\", \"wave\", \"wave\", \"wave\", \"way\", \"way\", \"way\", \"way\", \"way\", \"way\", \"way\", \"way\", \"way\", \"way\", \"webinar\", \"week\", \"week\", \"week\", \"week\", \"week\", \"week\", \"week\", \"week\", \"week\", \"week\", \"wellbeing\", \"wellbeing\", \"wellbeing\", \"wellbeing\", \"wellbeing\", \"wellmixed\", \"withinhost\", \"woman\", \"woman\", \"woman\", \"woman\", \"woman\", \"woman\", \"woman\", \"workfamily\", \"workshop\", \"workshop\", \"workshop\", \"workshop\", \"wto\", \"xpert\", \"yangtze\", \"youre\", \"\\u03bcgm\"]}, \"R\": 30, \"lambda.step\": 0.01, \"plot.opts\": {\"xlab\": \"PC1\", \"ylab\": \"PC2\"}, \"topic.order\": [3, 1, 4, 2, 5, 6, 9, 7, 8, 10]};\n",
              "\n",
              "function LDAvis_load_lib(url, callback){\n",
              "  var s = document.createElement('script');\n",
              "  s.src = url;\n",
              "  s.async = true;\n",
              "  s.onreadystatechange = s.onload = callback;\n",
              "  s.onerror = function(){console.warn(\"failed to load library \" + url);};\n",
              "  document.getElementsByTagName(\"head\")[0].appendChild(s);\n",
              "}\n",
              "\n",
              "if(typeof(LDAvis) !== \"undefined\"){\n",
              "   // already loaded: just create the visualization\n",
              "   !function(LDAvis){\n",
              "       new LDAvis(\"#\" + \"ldavis_el385881406714895155689377551311\", ldavis_el385881406714895155689377551311_data);\n",
              "   }(LDAvis);\n",
              "}else if(typeof define === \"function\" && define.amd){\n",
              "   // require.js is available: use it to load d3/LDAvis\n",
              "   require.config({paths: {d3: \"https://d3js.org/d3.v5\"}});\n",
              "   require([\"d3\"], function(d3){\n",
              "      window.d3 = d3;\n",
              "      LDAvis_load_lib(\"https://cdn.jsdelivr.net/gh/bmabey/pyLDAvis@3.4.0/pyLDAvis/js/ldavis.v3.0.0.js\", function(){\n",
              "        new LDAvis(\"#\" + \"ldavis_el385881406714895155689377551311\", ldavis_el385881406714895155689377551311_data);\n",
              "      });\n",
              "    });\n",
              "}else{\n",
              "    // require.js not available: dynamically load d3 & LDAvis\n",
              "    LDAvis_load_lib(\"https://d3js.org/d3.v5.js\", function(){\n",
              "         LDAvis_load_lib(\"https://cdn.jsdelivr.net/gh/bmabey/pyLDAvis@3.4.0/pyLDAvis/js/ldavis.v3.0.0.js\", function(){\n",
              "                 new LDAvis(\"#\" + \"ldavis_el385881406714895155689377551311\", ldavis_el385881406714895155689377551311_data);\n",
              "            })\n",
              "         });\n",
              "}\n",
              "</script>"
            ]
          },
          "metadata": {},
          "execution_count": 19
        }
      ],
      "source": [
        "pyLDAvis.enable_notebook()\n",
        "vis_0 = pyLDAvis.gensim_models.prepare(lda, corpus, dictionary)\n",
        "vis_0"
      ]
    },
    {
      "cell_type": "code",
      "execution_count": null,
      "metadata": {
        "id": "fOYqYrtUZ1Pl",
        "colab": {
          "base_uri": "https://localhost:8080/"
        },
        "outputId": "546151ab-a26e-4efd-f5be-eef645855e2c"
      },
      "outputs": [
        {
          "output_type": "stream",
          "name": "stdout",
          "text": [
            "\n",
            "Score: 0.3560207784175873\t \n",
            "Topic: 0.036*\"cell\" + 0.009*\"immune\" + 0.009*\"expression\" + 0.009*\"sarscov\" + 0.008*\"gene\" + 0.008*\"protein\" + 0.007*\"mouse\" + 0.007*\"viral\" + 0.006*\"human\" + 0.006*\"lung\"\n",
            "\n",
            "Score: 0.24341458082199097\t \n",
            "Topic: 0.006*\"service\" + 0.006*\"social\" + 0.005*\"community\" + 0.005*\"public\" + 0.004*\"people\" + 0.004*\"experience\" + 0.004*\"practice\" + 0.004*\"student\" + 0.003*\"technology\" + 0.003*\"medical\"\n",
            "\n",
            "Score: 0.23521192371845245\t \n",
            "Topic: 0.047*\"vaccine\" + 0.023*\"vaccination\" + 0.016*\"food\" + 0.013*\"mask\" + 0.006*\"water\" + 0.006*\"vaccinated\" + 0.006*\"product\" + 0.005*\"animal\" + 0.004*\"face\" + 0.004*\"protection\"\n",
            "\n",
            "Score: 0.15687468647956848\t \n",
            "Topic: 0.008*\"hospital\" + 0.007*\"trial\" + 0.007*\"sarscov\" + 0.006*\"symptom\" + 0.006*\"testing\" + 0.006*\"participant\" + 0.005*\"cancer\" + 0.005*\"review\" + 0.005*\"month\" + 0.004*\"woman\"\n"
          ]
        },
        {
          "output_type": "stream",
          "name": "stderr",
          "text": [
            "/usr/local/lib/python3.10/dist-packages/ipykernel/ipkernel.py:283: DeprecationWarning: `should_run_async` will not call `transform_cell` automatically in the future. Please pass the result to `transformed_cell` argument and any exception that happen during thetransform in `preprocessing_exc_tuple` in IPython 7.17 and above.\n",
            "  and should_run_async(code)\n"
          ]
        }
      ],
      "source": [
        "'''\n",
        "Check which topic our query belongs to using the LDA BOW model.\n",
        "'''\n",
        "for index, score in sorted(lda[query_bows[4]], key=lambda tup: -1*tup[1]):\n",
        "    print(\"\\nScore: {}\\t \\nTopic: {}\".format(score, lda.print_topic(index, 10)))"
      ]
    },
    {
      "cell_type": "code",
      "source": [
        "def get_prob_vectors(lda_vec1, lda_vec2):\n",
        "\n",
        "  vec1 = [0 for i in range(10)]\n",
        "  vec2 = [0 for i in range(10)]\n",
        "\n",
        "  for (idx, prob) in lda_vec1:\n",
        "    vec1[idx] = prob\n",
        "\n",
        "  for (idx, prob) in lda_vec2:\n",
        "    vec2[idx] = prob\n",
        "\n",
        "  return vec1, vec2"
      ],
      "metadata": {
        "id": "Gh1-7Mpzowox"
      },
      "execution_count": null,
      "outputs": []
    },
    {
      "cell_type": "code",
      "execution_count": null,
      "metadata": {
        "id": "B2oGbxjGi7-s"
      },
      "outputs": [],
      "source": [
        "def get_similar_doc(q_bow, doc_bow, model_lda):\n",
        "\n",
        "    lda_vec1 = model_lda[q_bow]\n",
        "    jensen_sim = []\n",
        "    i = 0\n",
        "    for doc in doc_bow:\n",
        "        lda_vec2 = model_lda[doc]\n",
        "        q_vec, d_vec = get_prob_vectors(lda_vec1, lda_vec2)\n",
        "        similarity = distance.jensenshannon(q_vec, d_vec)\n",
        "        jensen_sim.append(similarity)\n",
        "        i= i+1\n",
        "\n",
        "    ## Sorting based on cosine values and getting top 5 documents\n",
        "    res = sorted(range(len(jensen_sim)), key = lambda i: jensen_sim[i])[:5]\n",
        "\n",
        "    return res"
      ]
    },
    {
      "cell_type": "code",
      "execution_count": null,
      "metadata": {
        "id": "Gse7dpTHjAg9"
      },
      "outputs": [],
      "source": [
        "most_similar_docs = []\n",
        "for query_bow in query_bows:\n",
        "  sim_docs = get_similar_doc(query_bow, corpus, lda)\n",
        "  most_similar_docs.append(sim_docs)"
      ]
    },
    {
      "cell_type": "code",
      "execution_count": null,
      "metadata": {
        "id": "rOoCHzPjjUbb",
        "colab": {
          "base_uri": "https://localhost:8080/"
        },
        "outputId": "0c230ef6-64b1-4b23-bdf5-762e3ed578f3"
      },
      "outputs": [
        {
          "output_type": "stream",
          "name": "stdout",
          "text": [
            "TITLE: CommenT\n",
            "\n",
            "AUTHORS: \n",
            "\n",
            "BODY: The past decade, and particularly the past few years, has seen a rapid acceleration in novel vaccine develop ment, owing to public health emergencies (such as COVID-19 and Ebola), public health urgencies (cholera, meningococcal disease and others) and public health necessities (pneumococcal disease, influenza, hepatitis B and others), as well as improvements to existing vaccines. These developments have been made possible and informed by advances in basic biology and vaccine science, including n\n",
            "\n",
            "TITLE: Light and health: a century after the therapeutic use of UV light and vitamin D, hormones advanced medical care\n",
            "\n",
            "AUTHORS: Josef Köhrle ,Martina Rauner ,Susan Lanham-New ,Susan Lanham-New\n",
            "\n",
            "BODY: Contemporary medicine focuses its therapeutic approaches on the personalized targeting of key molecular elements with respect to mechanism-based pathways, or molecules involved in pathophysiologically relevant processes that are causally related (or indeed associated with various diseases). Classical chemicals-based pharmaceuticals, recombinant proteins, monoclonal antibodies and biologicals, and (very recently) mRNA-based vaccines, have successfully expanded the therapeutic spectrum, whilst eff\n",
            "\n",
            "TITLE: Article 606378 (2021) Goals in Nutrition Science 2020-2025\n",
            "\n",
            "AUTHORS: Rakesh Bhardwaj ,Hettie Schönfeldt ,Ricardo Jorge ,Bassaganya-Riera J  ,Berry Em ,Blaak Ee ,J Burlingame B, Le Coutre ,Eden  ,El-Sohemy  ,German Jb ,Knorr Lacroix ,C  ,Muscaritoli  ,Nieman Dc ,Rychlik  ,Scholey  ,Serafini  ,Josep Bassaganya-Riera ,Elliot Berry ,Ellen Blaak ,Barbara Burlingame ,Johannes Le Coutre ,Willem Van Eden ,Ahmed El-Sohemy ,J German ,Dietrich Knorr ,Christophe Lacroix ,Maurizio Muscaritoli ,David Nieman ,Michael Rychlik ,Andrew Scholey ,Mauro Serafini\n",
            "\n",
            "BODY: Five years ago, with the editorial board of Frontiers in Nutrition, we took a leap of faith to outline the Goals for Nutrition Science -the way we see it (1) . Now, in 2020, we can put ourselves to the test and take a look back. Without a doubt we got it right with several of the key directions. To name a few, Sustainable Development Goals (SDGs) for Food and Nutrition are part of the global public agenda, and the SDGs contribute to the structuring of international science and research. Nutritio\n",
            "\n",
            "TITLE: Commentary Detoxifying the Fear of Epigenetic Changes Due to COVID Vaccination\n",
            "\n",
            "AUTHORS: Hansen Tang Bs ,Gen Tanaka ,Terry Unterman ,Harold Bursztajn ,Harold Bursztajn\n",
            "\n",
            "BODY: early deaths and 20 million cases of disease, saving $13.5 billion dollars in healthcare costs and $68.8 billion total costs to society. 2 The most recent coronavirus disease 2019 vaccines that induce immunity against Severe Acute Respiratory Syndrome Coronavirus 2 (SARS-CoV2) strain have already prevented 250,000 COVID-19 cases and 10,000 hospitalizations, as well as the deaths of 39,000 seniors in the United States. 1 Among those with COVID-19, those who have been vaccinated show significantly\n",
            "\n",
            "TITLE: Overcoming Obstacles in the Development of Antigen-Specific Immunotherapies for Type 1 Diabetes\n",
            "\n",
            "AUTHORS: Ranjeny Thomas ,José Carballido ,†  ,Johnna Wesley ,Simi Ahmed\n",
            "\n",
            "BODY: Type 1 diabetes (T1D) is an autoimmune disease characterized by T-cell-dependent immune destruction of insulin-producing beta-cells, leading to dysregulated glucose homeostasis. T1D is triggered by complex genetic and environmental factors, progressing from asymptomatic to autoantibody-positive to overt dysglycemia. Since the 1920s, people diagnosed with T1D have had few options beyond exogenous insulin therapy. While the ever-evolving insulin formulations and pump systems can provide automated \n",
            "\n"
          ]
        },
        {
          "output_type": "stream",
          "name": "stderr",
          "text": [
            "/usr/local/lib/python3.10/dist-packages/ipykernel/ipkernel.py:283: DeprecationWarning: `should_run_async` will not call `transform_cell` automatically in the future. Please pass the result to `transformed_cell` argument and any exception that happen during thetransform in `preprocessing_exc_tuple` in IPython 7.17 and above.\n",
            "  and should_run_async(code)\n"
          ]
        }
      ],
      "source": [
        "for idx in reversed(most_similar_docs[4]):\n",
        "    print(\"TITLE: \" + df_data_final[\"title\"].iloc[idx]+'\\n')\n",
        "    print(\"AUTHORS: \" + df_data_final[\"authors\"].iloc[idx]+'\\n')\n",
        "    print(\"BODY: \" + df_data_final[\"body_text\"].iloc[idx][:500]+'\\n')"
      ]
    },
    {
      "cell_type": "code",
      "source": [
        "from tqdm.notebook import tqdm\n",
        "from gensim.models.coherencemodel import CoherenceModel\n",
        "import matplotlib.pyplot as plt\n",
        "import seaborn as sns\n",
        "import gensim\n",
        "\n",
        "#### Fonction to estimate the optimal number of topics (i.e., the one maximizing C_Umass) ####\n",
        "\n",
        "def optimal_topic_number(start, end):\n",
        "\n",
        "    Lda = gensim.models.ldamodel.LdaModel\n",
        "    coherenceList_cv = []\n",
        "    coherenceList_umass = []\n",
        "\n",
        "    num_topics_list = np.arange(start,end)\n",
        "\n",
        "    for num_topics in tqdm(num_topics_list):\n",
        "        lda= Lda(corpus, num_topics=num_topics,id2word = dictionary,\n",
        "                 passes=10,chunksize=200,random_state=43)\n",
        "        cm = CoherenceModel(model=lda, corpus=corpus,\n",
        "                            dictionary=dictionary, coherence='u_mass')\n",
        "        coherenceList_umass.append(cm.get_coherence())\n",
        "\n",
        "\n",
        "    plotData = pd.DataFrame({'Number of topics':num_topics_list,\n",
        "                             'CoherenceScore':coherenceList_umass})\n",
        "    f,ax = plt.subplots(figsize=(10,6))\n",
        "    sns.set_style(\"darkgrid\")\n",
        "    sns.pointplot(x='Number of topics',y= 'CoherenceScore',data=plotData)\n",
        "    plt.title('Topic coherence \\n', fontsize = 24, fontweight = \"bold\")\n",
        "    plt.savefig('Topic_Coherence.png')\n",
        "    plt.show()\n",
        "    index = coherenceList_umass.index(max(coherenceList_umass))\n",
        "    return index"
      ],
      "metadata": {
        "id": "JyCMh2_xXciA"
      },
      "execution_count": null,
      "outputs": []
    },
    {
      "cell_type": "code",
      "source": [
        "import time\n",
        "t = time.time()\n",
        "\n",
        "start = 10\n",
        "end = 25\n",
        "\n",
        "num_optimal_topics = start + optimal_topic_number(start, end)"
      ],
      "metadata": {
        "colab": {
          "base_uri": "https://localhost:8080/",
          "height": 703,
          "referenced_widgets": [
            "d5070c0bbf404841a664a2a42168b2e1",
            "bc5af1f63047403ab6e899d3ee2394aa",
            "a043a21934474ac5a694c7a2e9cc5b79",
            "f70ba4edada544599e42493b093ad147",
            "02fc3d581fa546f9a137de9fec15bd18",
            "bf281344139945c6b73dc4477b8b1d5a",
            "19664407076d4df78c0db0b43274fc2b",
            "79141d49bb574d0c9cc0cbdcfe83874a",
            "ed9bee24f8d84be393f30d4ab81c528a",
            "017d03a170584cd782a954d305a48fd3",
            "0bf6660f196043219020d1a9da227d06"
          ]
        },
        "id": "_O3Ip313Kk9w",
        "outputId": "61c4b93c-3acd-4ce0-c8da-25e221270b6e"
      },
      "execution_count": null,
      "outputs": [
        {
          "output_type": "stream",
          "name": "stderr",
          "text": [
            "/usr/local/lib/python3.10/dist-packages/ipykernel/ipkernel.py:283: DeprecationWarning: `should_run_async` will not call `transform_cell` automatically in the future. Please pass the result to `transformed_cell` argument and any exception that happen during thetransform in `preprocessing_exc_tuple` in IPython 7.17 and above.\n",
            "  and should_run_async(code)\n"
          ]
        },
        {
          "output_type": "display_data",
          "data": {
            "text/plain": [
              "  0%|          | 0/15 [00:00<?, ?it/s]"
            ],
            "application/vnd.jupyter.widget-view+json": {
              "version_major": 2,
              "version_minor": 0,
              "model_id": "d5070c0bbf404841a664a2a42168b2e1"
            }
          },
          "metadata": {}
        },
        {
          "output_type": "display_data",
          "data": {
            "text/plain": [
              "<Figure size 1000x600 with 1 Axes>"
            ],
            "image/png": "[encoded data removed]"
          },
          "metadata": {}
        }
      ]
    },
    {
      "cell_type": "code",
      "source": [
        "print(\"Optimal Number of Topics\", num_optimal_topics)\n",
        "\n",
        "print('Time to process data: {} mins'.format(round((time.time() - t) / 60, 2)))"
      ],
      "metadata": {
        "colab": {
          "base_uri": "https://localhost:8080/"
        },
        "id": "arbsXtX3BKqw",
        "outputId": "0b3c97fc-9f1a-4b20-a68c-201b1dab843a"
      },
      "execution_count": null,
      "outputs": [
        {
          "output_type": "stream",
          "name": "stdout",
          "text": [
            "Optimal Number of Topics 10\n",
            "Time to process data: 143.69 mins\n"
          ]
        },
        {
          "output_type": "stream",
          "name": "stderr",
          "text": [
            "/usr/local/lib/python3.10/dist-packages/ipykernel/ipkernel.py:283: DeprecationWarning: `should_run_async` will not call `transform_cell` automatically in the future. Please pass the result to `transformed_cell` argument and any exception that happen during thetransform in `preprocessing_exc_tuple` in IPython 7.17 and above.\n",
            "  and should_run_async(code)\n"
          ]
        }
      ]
    },
    {
      "cell_type": "markdown",
      "source": [
        "## Evaluation"
      ],
      "metadata": {
        "id": "_UtN-AFf8uUG"
      }
    },
    {
      "cell_type": "code",
      "source": [
        "def get_cosine_sim(doc_vec, query_vec):\n",
        "    # print(doc_vec.shape, query_vec.shape)\n",
        "    norm_doc_vec = np.linalg.norm(doc_vec)\n",
        "    norm_query_vec = np.linalg.norm(query_vec)\n",
        "    # query_vec = query_vec.reshape(query_vec.shape[0], 1)\n",
        "    dot_prod = np.dot(doc_vec, query_vec)\n",
        "    prod_norm = norm_doc_vec * norm_query_vec\n",
        "    # prod_norm = prod_norm.reshape(prod_norm.shape[0], 1)\n",
        "    cosine_sim = dot_prod / prod_norm\n",
        "    return cosine_sim"
      ],
      "metadata": {
        "id": "nY7SY3luUOh4"
      },
      "execution_count": null,
      "outputs": []
    },
    {
      "cell_type": "code",
      "source": [
        "def get_average_cosine_scores(docs):\n",
        "\n",
        "  avg_sims = []\n",
        "  # print(query_db['vectors'].values.shape[0])\n",
        "  for i in range(query_db['vectors'].values.shape[0]):\n",
        "    query_vec = np.array(query_db['vectors'].iloc[i])\n",
        "    sim = 0\n",
        "    for j in docs[i]:\n",
        "      # print(i)\n",
        "      doc_vec = df_data_final[\"vectors\"].iloc[j]\n",
        "      sim = sim + get_cosine_sim(doc_vec, query_vec)\n",
        "    avg_sim = sim/len(docs)\n",
        "    avg_sims.append(avg_sim)\n",
        "\n",
        "  return avg_sims\n"
      ],
      "metadata": {
        "id": "0ClUyx94LmB7"
      },
      "execution_count": null,
      "outputs": []
    },
    {
      "cell_type": "markdown",
      "source": [
        "Evaluation for k-NN"
      ],
      "metadata": {
        "id": "G9IjG9PTjYUp"
      }
    },
    {
      "cell_type": "code",
      "source": [
        "# Print the average cosine scores\n",
        "for i, score in enumerate(avg_cosine_scores):\n",
        "    print(f'Average cosine score for query {i+1}: {score}')\n"
      ],
      "metadata": {
        "colab": {
          "base_uri": "https://localhost:8080/"
        },
        "outputId": "a714a869-98d2-4fab-e6f9-c9ae917d1edd",
        "id": "-rRXIHP1cDvP"
      },
      "execution_count": null,
      "outputs": [
        {
          "output_type": "stream",
          "name": "stdout",
          "text": [
            "Average cosine score for query 1: 0.22208353007328094\n",
            "Average cosine score for query 2: 0.22151599699440486\n",
            "Average cosine score for query 3: 0.1986976391663244\n",
            "Average cosine score for query 4: 0.24673291604316921\n",
            "Average cosine score for query 5: 0.24520891859070862\n",
            "Average cosine score for query 6: 0.20305814549592355\n",
            "Average cosine score for query 7: 0.216223409306056\n",
            "Average cosine score for query 8: 0.23766971240486492\n",
            "Average cosine score for query 9: 0.2252013584883378\n"
          ]
        },
        {
          "output_type": "stream",
          "name": "stderr",
          "text": [
            "/usr/local/lib/python3.10/dist-packages/ipykernel/ipkernel.py:283: DeprecationWarning: `should_run_async` will not call `transform_cell` automatically in the future. Please pass the result to `transformed_cell` argument and any exception that happen during thetransform in `preprocessing_exc_tuple` in IPython 7.17 and above.\n",
            "  and should_run_async(code)\n"
          ]
        }
      ]
    },
    {
      "cell_type": "markdown",
      "source": [
        "Evaluation - SVM"
      ],
      "metadata": {
        "id": "3bzYz11pFqe-"
      }
    },
    {
      "cell_type": "code",
      "source": [
        "# Print the average cosine scores\n",
        "for i, score in enumerate(cosine_averages):\n",
        "    print(f'Average cosine score for query {i+1}: {score}')"
      ],
      "metadata": {
        "colab": {
          "base_uri": "https://localhost:8080/"
        },
        "id": "fB2lNxAFFoie",
        "outputId": "4b30ab7a-a1d3-4fbd-a5d6-df01bdb4d315"
      },
      "execution_count": null,
      "outputs": [
        {
          "output_type": "stream",
          "name": "stdout",
          "text": [
            "Average cosine score for query 1: 0.8477315902709961\n",
            "Average cosine score for query 2: 0.8312984704971313\n",
            "Average cosine score for query 3: 0.8146551251411438\n",
            "Average cosine score for query 4: 0.8335436582565308\n",
            "Average cosine score for query 5: 0.8036419749259949\n",
            "Average cosine score for query 6: 0.809703528881073\n",
            "Average cosine score for query 7: 0.8195894360542297\n",
            "Average cosine score for query 8: 0.8355191946029663\n",
            "Average cosine score for query 9: 0.8041362762451172\n"
          ]
        }
      ]
    },
    {
      "cell_type": "markdown",
      "source": [
        "Evaluation - Random Forest"
      ],
      "metadata": {
        "id": "s1-3F5ZzF0ff"
      }
    },
    {
      "cell_type": "code",
      "source": [
        "# Print the average cosine scores\n",
        "for i, score in enumerate(cosine_averages_random_forest):\n",
        "    print(f'Average cosine score for query {i+1}: {score}')"
      ],
      "metadata": {
        "colab": {
          "base_uri": "https://localhost:8080/"
        },
        "id": "EBtIo4o_FyRp",
        "outputId": "bfb1b24f-2d01-47dd-f591-464a859dac98"
      },
      "execution_count": null,
      "outputs": [
        {
          "output_type": "stream",
          "name": "stdout",
          "text": [
            "Average cosine score for query 1: 0.8163182139396667\n",
            "Average cosine score for query 2: 0.7906292676925659\n",
            "Average cosine score for query 3: 0.7809820175170898\n",
            "Average cosine score for query 4: 0.8335436582565308\n",
            "Average cosine score for query 5: 0.7746641039848328\n",
            "Average cosine score for query 6: 0.8126705884933472\n",
            "Average cosine score for query 7: 0.807540774345398\n",
            "Average cosine score for query 8: 0.8355191946029663\n",
            "Average cosine score for query 9: 0.8041362762451172\n"
          ]
        }
      ]
    },
    {
      "cell_type": "markdown",
      "source": [
        "Evaluation - CNN"
      ],
      "metadata": {
        "id": "GTd1ivLfF9fE"
      }
    },
    {
      "cell_type": "code",
      "source": [
        "# Print the average cosine scores\n",
        "for i, score in enumerate(cosine_averages_cnn):\n",
        "    print(f'Average cosine score for query {i+1}: {score}')"
      ],
      "metadata": {
        "colab": {
          "base_uri": "https://localhost:8080/"
        },
        "id": "C5UayesxF6fF",
        "outputId": "f2045cc7-65d6-48fa-9403-96944c061ff3"
      },
      "execution_count": null,
      "outputs": [
        {
          "output_type": "stream",
          "name": "stdout",
          "text": [
            "Average cosine score for query 1: 0.8163182139396667\n",
            "Average cosine score for query 2: 0.7906292676925659\n",
            "Average cosine score for query 3: 0.7809820175170898\n",
            "Average cosine score for query 4: 0.8335436582565308\n",
            "Average cosine score for query 5: 0.7746641039848328\n",
            "Average cosine score for query 6: 0.8126705884933472\n",
            "Average cosine score for query 7: 0.807540774345398\n",
            "Average cosine score for query 8: 0.8355191946029663\n",
            "Average cosine score for query 9: 0.8041362762451172\n"
          ]
        }
      ]
    },
    {
      "cell_type": "markdown",
      "source": [
        "Evaluation - LDA"
      ],
      "metadata": {
        "id": "c0A3KpqAjflV"
      }
    },
    {
      "cell_type": "code",
      "source": [
        "lda_cos_scores = get_average_cosine_scores(most_similar_docs)\n",
        "lda_cos_scores"
      ],
      "metadata": {
        "colab": {
          "base_uri": "https://localhost:8080/"
        },
        "id": "BkHbaWSHpdul",
        "outputId": "0ef33266-2413-4563-d374-694d2592266d"
      },
      "execution_count": null,
      "outputs": [
        {
          "output_type": "stream",
          "name": "stdout",
          "text": [
            "Average cosine score for query 1: 0.5062258285008124\n",
            "Average cosine score for query 2: 0.5008518017585538\n",
            "Average cosine score for query 3: 0.5015871948229478\n",
            "Average cosine score for query 4: 0.5282284106203874\n",
            "Average cosine score for query 5: 0.5275540783846835\n",
            "Average cosine score for query 6: 0.5251857454567735\n",
            "Average cosine score for query 7: 0.5387825592459803\n",
            "Average cosine score for query 8: 0.5328848052031074\n",
            "Average cosine score for query 9: 0.5238406511863514\n"
          ]
        }
      ]
    },
    {
      "cell_type": "markdown",
      "source": [
        "## THE END"
      ],
      "metadata": {
        "id": "n59tXvTK_5Co"
      }
    },
    {
      "cell_type": "code",
      "source": [],
      "metadata": {
        "id": "hFRuRYgK_6xe"
      },
      "execution_count": null,
      "outputs": []
    }
  ],
  "metadata": {
    "colab": {
      "provenance": [],
      "gpuType": "T4"
    },
    "kernelspec": {
      "display_name": "Python 3",
      "name": "python3"
    },
    "language_info": {
      "name": "python"
    },
    "widgets": {
      "application/vnd.jupyter.widget-state+json": {
        "d5070c0bbf404841a664a2a42168b2e1": {
          "model_module": "@jupyter-widgets/controls",
          "model_name": "HBoxModel",
          "model_module_version": "1.5.0",
          "state": {
            "_dom_classes": [],
            "_model_module": "@jupyter-widgets/controls",
            "_model_module_version": "1.5.0",
            "_model_name": "HBoxModel",
            "_view_count": null,
            "_view_module": "@jupyter-widgets/controls",
            "_view_module_version": "1.5.0",
            "_view_name": "HBoxView",
            "box_style": "",
            "children": [
              "IPY_MODEL_bc5af1f63047403ab6e899d3ee2394aa",
              "IPY_MODEL_a043a21934474ac5a694c7a2e9cc5b79",
              "IPY_MODEL_f70ba4edada544599e42493b093ad147"
            ],
            "layout": "IPY_MODEL_02fc3d581fa546f9a137de9fec15bd18"
          }
        },
        "bc5af1f63047403ab6e899d3ee2394aa": {
          "model_module": "@jupyter-widgets/controls",
          "model_name": "HTMLModel",
          "model_module_version": "1.5.0",
          "state": {
            "_dom_classes": [],
            "_model_module": "@jupyter-widgets/controls",
            "_model_module_version": "1.5.0",
            "_model_name": "HTMLModel",
            "_view_count": null,
            "_view_module": "@jupyter-widgets/controls",
            "_view_module_version": "1.5.0",
            "_view_name": "HTMLView",
            "description": "",
            "description_tooltip": null,
            "layout": "IPY_MODEL_bf281344139945c6b73dc4477b8b1d5a",
            "placeholder": "​",
            "style": "IPY_MODEL_19664407076d4df78c0db0b43274fc2b",
            "value": "100%"
          }
        },
        "a043a21934474ac5a694c7a2e9cc5b79": {
          "model_module": "@jupyter-widgets/controls",
          "model_name": "FloatProgressModel",
          "model_module_version": "1.5.0",
          "state": {
            "_dom_classes": [],
            "_model_module": "@jupyter-widgets/controls",
            "_model_module_version": "1.5.0",
            "_model_name": "FloatProgressModel",
            "_view_count": null,
            "_view_module": "@jupyter-widgets/controls",
            "_view_module_version": "1.5.0",
            "_view_name": "ProgressView",
            "bar_style": "success",
            "description": "",
            "description_tooltip": null,
            "layout": "IPY_MODEL_79141d49bb574d0c9cc0cbdcfe83874a",
            "max": 15,
            "min": 0,
            "orientation": "horizontal",
            "style": "IPY_MODEL_ed9bee24f8d84be393f30d4ab81c528a",
            "value": 15
          }
        },
        "f70ba4edada544599e42493b093ad147": {
          "model_module": "@jupyter-widgets/controls",
          "model_name": "HTMLModel",
          "model_module_version": "1.5.0",
          "state": {
            "_dom_classes": [],
            "_model_module": "@jupyter-widgets/controls",
            "_model_module_version": "1.5.0",
            "_model_name": "HTMLModel",
            "_view_count": null,
            "_view_module": "@jupyter-widgets/controls",
            "_view_module_version": "1.5.0",
            "_view_name": "HTMLView",
            "description": "",
            "description_tooltip": null,
            "layout": "IPY_MODEL_017d03a170584cd782a954d305a48fd3",
            "placeholder": "​",
            "style": "IPY_MODEL_0bf6660f196043219020d1a9da227d06",
            "value": " 15/15 [2:23:40&lt;00:00, 610.00s/it]"
          }
        },
        "02fc3d581fa546f9a137de9fec15bd18": {
          "model_module": "@jupyter-widgets/base",
          "model_name": "LayoutModel",
          "model_module_version": "1.2.0",
          "state": {
            "_model_module": "@jupyter-widgets/base",
            "_model_module_version": "1.2.0",
            "_model_name": "LayoutModel",
            "_view_count": null,
            "_view_module": "@jupyter-widgets/base",
            "_view_module_version": "1.2.0",
            "_view_name": "LayoutView",
            "align_content": null,
            "align_items": null,
            "align_self": null,
            "border": null,
            "bottom": null,
            "display": null,
            "flex": null,
            "flex_flow": null,
            "grid_area": null,
            "grid_auto_columns": null,
            "grid_auto_flow": null,
            "grid_auto_rows": null,
            "grid_column": null,
            "grid_gap": null,
            "grid_row": null,
            "grid_template_areas": null,
            "grid_template_columns": null,
            "grid_template_rows": null,
            "height": null,
            "justify_content": null,
            "justify_items": null,
            "left": null,
            "margin": null,
            "max_height": null,
            "max_width": null,
            "min_height": null,
            "min_width": null,
            "object_fit": null,
            "object_position": null,
            "order": null,
            "overflow": null,
            "overflow_x": null,
            "overflow_y": null,
            "padding": null,
            "right": null,
            "top": null,
            "visibility": null,
            "width": null
          }
        },
        "bf281344139945c6b73dc4477b8b1d5a": {
          "model_module": "@jupyter-widgets/base",
          "model_name": "LayoutModel",
          "model_module_version": "1.2.0",
          "state": {
            "_model_module": "@jupyter-widgets/base",
            "_model_module_version": "1.2.0",
            "_model_name": "LayoutModel",
            "_view_count": null,
            "_view_module": "@jupyter-widgets/base",
            "_view_module_version": "1.2.0",
            "_view_name": "LayoutView",
            "align_content": null,
            "align_items": null,
            "align_self": null,
            "border": null,
            "bottom": null,
            "display": null,
            "flex": null,
            "flex_flow": null,
            "grid_area": null,
            "grid_auto_columns": null,
            "grid_auto_flow": null,
            "grid_auto_rows": null,
            "grid_column": null,
            "grid_gap": null,
            "grid_row": null,
            "grid_template_areas": null,
            "grid_template_columns": null,
            "grid_template_rows": null,
            "height": null,
            "justify_content": null,
            "justify_items": null,
            "left": null,
            "margin": null,
            "max_height": null,
            "max_width": null,
            "min_height": null,
            "min_width": null,
            "object_fit": null,
            "object_position": null,
            "order": null,
            "overflow": null,
            "overflow_x": null,
            "overflow_y": null,
            "padding": null,
            "right": null,
            "top": null,
            "visibility": null,
            "width": null
          }
        },
        "19664407076d4df78c0db0b43274fc2b": {
          "model_module": "@jupyter-widgets/controls",
          "model_name": "DescriptionStyleModel",
          "model_module_version": "1.5.0",
          "state": {
            "_model_module": "@jupyter-widgets/controls",
            "_model_module_version": "1.5.0",
            "_model_name": "DescriptionStyleModel",
            "_view_count": null,
            "_view_module": "@jupyter-widgets/base",
            "_view_module_version": "1.2.0",
            "_view_name": "StyleView",
            "description_width": ""
          }
        },
        "79141d49bb574d0c9cc0cbdcfe83874a": {
          "model_module": "@jupyter-widgets/base",
          "model_name": "LayoutModel",
          "model_module_version": "1.2.0",
          "state": {
            "_model_module": "@jupyter-widgets/base",
            "_model_module_version": "1.2.0",
            "_model_name": "LayoutModel",
            "_view_count": null,
            "_view_module": "@jupyter-widgets/base",
            "_view_module_version": "1.2.0",
            "_view_name": "LayoutView",
            "align_content": null,
            "align_items": null,
            "align_self": null,
            "border": null,
            "bottom": null,
            "display": null,
            "flex": null,
            "flex_flow": null,
            "grid_area": null,
            "grid_auto_columns": null,
            "grid_auto_flow": null,
            "grid_auto_rows": null,
            "grid_column": null,
            "grid_gap": null,
            "grid_row": null,
            "grid_template_areas": null,
            "grid_template_columns": null,
            "grid_template_rows": null,
            "height": null,
            "justify_content": null,
            "justify_items": null,
            "left": null,
            "margin": null,
            "max_height": null,
            "max_width": null,
            "min_height": null,
            "min_width": null,
            "object_fit": null,
            "object_position": null,
            "order": null,
            "overflow": null,
            "overflow_x": null,
            "overflow_y": null,
            "padding": null,
            "right": null,
            "top": null,
            "visibility": null,
            "width": null
          }
        },
        "ed9bee24f8d84be393f30d4ab81c528a": {
          "model_module": "@jupyter-widgets/controls",
          "model_name": "ProgressStyleModel",
          "model_module_version": "1.5.0",
          "state": {
            "_model_module": "@jupyter-widgets/controls",
            "_model_module_version": "1.5.0",
            "_model_name": "ProgressStyleModel",
            "_view_count": null,
            "_view_module": "@jupyter-widgets/base",
            "_view_module_version": "1.2.0",
            "_view_name": "StyleView",
            "bar_color": null,
            "description_width": ""
          }
        },
        "017d03a170584cd782a954d305a48fd3": {
          "model_module": "@jupyter-widgets/base",
          "model_name": "LayoutModel",
          "model_module_version": "1.2.0",
          "state": {
            "_model_module": "@jupyter-widgets/base",
            "_model_module_version": "1.2.0",
            "_model_name": "LayoutModel",
            "_view_count": null,
            "_view_module": "@jupyter-widgets/base",
            "_view_module_version": "1.2.0",
            "_view_name": "LayoutView",
            "align_content": null,
            "align_items": null,
            "align_self": null,
            "border": null,
            "bottom": null,
            "display": null,
            "flex": null,
            "flex_flow": null,
            "grid_area": null,
            "grid_auto_columns": null,
            "grid_auto_flow": null,
            "grid_auto_rows": null,
            "grid_column": null,
            "grid_gap": null,
            "grid_row": null,
            "grid_template_areas": null,
            "grid_template_columns": null,
            "grid_template_rows": null,
            "height": null,
            "justify_content": null,
            "justify_items": null,
            "left": null,
            "margin": null,
            "max_height": null,
            "max_width": null,
            "min_height": null,
            "min_width": null,
            "object_fit": null,
            "object_position": null,
            "order": null,
            "overflow": null,
            "overflow_x": null,
            "overflow_y": null,
            "padding": null,
            "right": null,
            "top": null,
            "visibility": null,
            "width": null
          }
        },
        "0bf6660f196043219020d1a9da227d06": {
          "model_module": "@jupyter-widgets/controls",
          "model_name": "DescriptionStyleModel",
          "model_module_version": "1.5.0",
          "state": {
            "_model_module": "@jupyter-widgets/controls",
            "_model_module_version": "1.5.0",
            "_model_name": "DescriptionStyleModel",
            "_view_count": null,
            "_view_module": "@jupyter-widgets/base",
            "_view_module_version": "1.2.0",
            "_view_name": "StyleView",
            "description_width": ""
          }
        }
      }
    },
    "accelerator": "GPU"
  },
  "nbformat": 4,
  "nbformat_minor": 0
}